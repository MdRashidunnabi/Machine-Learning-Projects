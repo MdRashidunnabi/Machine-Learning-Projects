{
 "cells": [
  {
   "cell_type": "markdown",
   "metadata": {},
   "source": [
    "# Importing Libraries"
   ]
  },
  {
   "cell_type": "code",
   "execution_count": 1351,
   "metadata": {},
   "outputs": [],
   "source": [
    "import pandas as pd\n",
    "import numpy as np\n",
    "import matplotlib.pyplot as plt\n",
    "import seaborn as sns\n",
    "%matplotlib inline"
   ]
  },
  {
   "cell_type": "markdown",
   "metadata": {},
   "source": [
    "# Load the dataset"
   ]
  },
  {
   "cell_type": "code",
   "execution_count": 1352,
   "metadata": {
    "scrolled": false
   },
   "outputs": [
    {
     "data": {
      "text/html": [
       "<div>\n",
       "<style scoped>\n",
       "    .dataframe tbody tr th:only-of-type {\n",
       "        vertical-align: middle;\n",
       "    }\n",
       "\n",
       "    .dataframe tbody tr th {\n",
       "        vertical-align: top;\n",
       "    }\n",
       "\n",
       "    .dataframe thead th {\n",
       "        text-align: right;\n",
       "    }\n",
       "</style>\n",
       "<table border=\"1\" class=\"dataframe\">\n",
       "  <thead>\n",
       "    <tr style=\"text-align: right;\">\n",
       "      <th></th>\n",
       "      <th>Age</th>\n",
       "      <th>Sex</th>\n",
       "      <th>CP</th>\n",
       "      <th>Trestbps</th>\n",
       "      <th>Chol</th>\n",
       "      <th>Fbs</th>\n",
       "      <th>Restecg</th>\n",
       "      <th>Thalach</th>\n",
       "      <th>Exang</th>\n",
       "      <th>Oldpeak</th>\n",
       "      <th>Slope</th>\n",
       "      <th>CA</th>\n",
       "      <th>Thal</th>\n",
       "      <th>Num</th>\n",
       "    </tr>\n",
       "  </thead>\n",
       "  <tbody>\n",
       "    <tr>\n",
       "      <th>0</th>\n",
       "      <td>63</td>\n",
       "      <td>1</td>\n",
       "      <td>4</td>\n",
       "      <td>140</td>\n",
       "      <td>260</td>\n",
       "      <td>0</td>\n",
       "      <td>1</td>\n",
       "      <td>112</td>\n",
       "      <td>1</td>\n",
       "      <td>3</td>\n",
       "      <td>2</td>\n",
       "      <td>?</td>\n",
       "      <td>?</td>\n",
       "      <td>2</td>\n",
       "    </tr>\n",
       "    <tr>\n",
       "      <th>1</th>\n",
       "      <td>44</td>\n",
       "      <td>1</td>\n",
       "      <td>4</td>\n",
       "      <td>130</td>\n",
       "      <td>209</td>\n",
       "      <td>0</td>\n",
       "      <td>1</td>\n",
       "      <td>127</td>\n",
       "      <td>0</td>\n",
       "      <td>0</td>\n",
       "      <td>?</td>\n",
       "      <td>?</td>\n",
       "      <td>?</td>\n",
       "      <td>0</td>\n",
       "    </tr>\n",
       "    <tr>\n",
       "      <th>2</th>\n",
       "      <td>60</td>\n",
       "      <td>1</td>\n",
       "      <td>4</td>\n",
       "      <td>132</td>\n",
       "      <td>218</td>\n",
       "      <td>0</td>\n",
       "      <td>1</td>\n",
       "      <td>140</td>\n",
       "      <td>1</td>\n",
       "      <td>1.5</td>\n",
       "      <td>3</td>\n",
       "      <td>?</td>\n",
       "      <td>?</td>\n",
       "      <td>2</td>\n",
       "    </tr>\n",
       "    <tr>\n",
       "      <th>3</th>\n",
       "      <td>55</td>\n",
       "      <td>1</td>\n",
       "      <td>4</td>\n",
       "      <td>142</td>\n",
       "      <td>228</td>\n",
       "      <td>0</td>\n",
       "      <td>1</td>\n",
       "      <td>149</td>\n",
       "      <td>1</td>\n",
       "      <td>2.5</td>\n",
       "      <td>1</td>\n",
       "      <td>?</td>\n",
       "      <td>?</td>\n",
       "      <td>1</td>\n",
       "    </tr>\n",
       "    <tr>\n",
       "      <th>4</th>\n",
       "      <td>66</td>\n",
       "      <td>1</td>\n",
       "      <td>3</td>\n",
       "      <td>110</td>\n",
       "      <td>213</td>\n",
       "      <td>1</td>\n",
       "      <td>2</td>\n",
       "      <td>99</td>\n",
       "      <td>1</td>\n",
       "      <td>1.3</td>\n",
       "      <td>2</td>\n",
       "      <td>?</td>\n",
       "      <td>?</td>\n",
       "      <td>0</td>\n",
       "    </tr>\n",
       "    <tr>\n",
       "      <th>5</th>\n",
       "      <td>66</td>\n",
       "      <td>1</td>\n",
       "      <td>3</td>\n",
       "      <td>120</td>\n",
       "      <td>0</td>\n",
       "      <td>0</td>\n",
       "      <td>1</td>\n",
       "      <td>120</td>\n",
       "      <td>0</td>\n",
       "      <td>-0.5</td>\n",
       "      <td>1</td>\n",
       "      <td>?</td>\n",
       "      <td>?</td>\n",
       "      <td>0</td>\n",
       "    </tr>\n",
       "    <tr>\n",
       "      <th>6</th>\n",
       "      <td>65</td>\n",
       "      <td>1</td>\n",
       "      <td>4</td>\n",
       "      <td>150</td>\n",
       "      <td>236</td>\n",
       "      <td>1</td>\n",
       "      <td>1</td>\n",
       "      <td>105</td>\n",
       "      <td>1</td>\n",
       "      <td>0</td>\n",
       "      <td>?</td>\n",
       "      <td>?</td>\n",
       "      <td>?</td>\n",
       "      <td>3</td>\n",
       "    </tr>\n",
       "    <tr>\n",
       "      <th>7</th>\n",
       "      <td>60</td>\n",
       "      <td>1</td>\n",
       "      <td>3</td>\n",
       "      <td>180</td>\n",
       "      <td>0</td>\n",
       "      <td>0</td>\n",
       "      <td>1</td>\n",
       "      <td>140</td>\n",
       "      <td>1</td>\n",
       "      <td>1.5</td>\n",
       "      <td>2</td>\n",
       "      <td>?</td>\n",
       "      <td>?</td>\n",
       "      <td>0</td>\n",
       "    </tr>\n",
       "    <tr>\n",
       "      <th>8</th>\n",
       "      <td>60</td>\n",
       "      <td>1</td>\n",
       "      <td>3</td>\n",
       "      <td>120</td>\n",
       "      <td>0</td>\n",
       "      <td>?</td>\n",
       "      <td>0</td>\n",
       "      <td>141</td>\n",
       "      <td>1</td>\n",
       "      <td>2</td>\n",
       "      <td>1</td>\n",
       "      <td>?</td>\n",
       "      <td>?</td>\n",
       "      <td>3</td>\n",
       "    </tr>\n",
       "    <tr>\n",
       "      <th>9</th>\n",
       "      <td>60</td>\n",
       "      <td>1</td>\n",
       "      <td>2</td>\n",
       "      <td>160</td>\n",
       "      <td>267</td>\n",
       "      <td>1</td>\n",
       "      <td>1</td>\n",
       "      <td>157</td>\n",
       "      <td>0</td>\n",
       "      <td>0.5</td>\n",
       "      <td>2</td>\n",
       "      <td>?</td>\n",
       "      <td>?</td>\n",
       "      <td>1</td>\n",
       "    </tr>\n",
       "  </tbody>\n",
       "</table>\n",
       "</div>"
      ],
      "text/plain": [
       "   Age  Sex  CP Trestbps Chol Fbs  Restecg Thalach Exang Oldpeak Slope CA  \\\n",
       "0   63    1   4      140  260   0        1     112     1       3     2  ?   \n",
       "1   44    1   4      130  209   0        1     127     0       0     ?  ?   \n",
       "2   60    1   4      132  218   0        1     140     1     1.5     3  ?   \n",
       "3   55    1   4      142  228   0        1     149     1     2.5     1  ?   \n",
       "4   66    1   3      110  213   1        2      99     1     1.3     2  ?   \n",
       "5   66    1   3      120    0   0        1     120     0    -0.5     1  ?   \n",
       "6   65    1   4      150  236   1        1     105     1       0     ?  ?   \n",
       "7   60    1   3      180    0   0        1     140     1     1.5     2  ?   \n",
       "8   60    1   3      120    0   ?        0     141     1       2     1  ?   \n",
       "9   60    1   2      160  267   1        1     157     0     0.5     2  ?   \n",
       "\n",
       "  Thal  Num  \n",
       "0    ?    2  \n",
       "1    ?    0  \n",
       "2    ?    2  \n",
       "3    ?    1  \n",
       "4    ?    0  \n",
       "5    ?    0  \n",
       "6    ?    3  \n",
       "7    ?    0  \n",
       "8    ?    3  \n",
       "9    ?    1  "
      ]
     },
     "execution_count": 1352,
     "metadata": {},
     "output_type": "execute_result"
    }
   ],
   "source": [
    "#heartdisease_data.csv\n",
    "heartdiseases=pd.read_csv(\"heart.csv\")\n",
    "heartdiseases.head(10)"
   ]
  },
  {
   "cell_type": "code",
   "execution_count": 1353,
   "metadata": {},
   "outputs": [
    {
     "data": {
      "text/plain": [
       "<bound method IndexOpsMixin.value_counts of 0      140\n",
       "1      130\n",
       "2      132\n",
       "3      142\n",
       "4      110\n",
       "      ... \n",
       "195    127\n",
       "196      ?\n",
       "197    122\n",
       "198      ?\n",
       "199    120\n",
       "Name: Trestbps, Length: 200, dtype: object>"
      ]
     },
     "execution_count": 1353,
     "metadata": {},
     "output_type": "execute_result"
    }
   ],
   "source": [
    "heartdiseases['Trestbps'].value_counts"
   ]
  },
  {
   "cell_type": "markdown",
   "metadata": {},
   "source": [
    "cp=Cerebral Palsy\n",
    "\n",
    "Trestbps=resting blood pressure\n",
    "\n",
    "Chol=serum cholesterol\n",
    "\n",
    "Fbs=fasting blood pressure\n",
    "\n",
    "Restecg= resting electrocardiographic results;\n",
    "\n",
    "Thalach=maximum heart rate achieved\n",
    "\n",
    "Exang=exercise induced angina\n",
    "\n",
    "Oldpeak=exercise relative to rest\n",
    "\n",
    "Slope=the slope of the peak\n",
    "\n",
    "CA=colored by flourosopy\n",
    "\n",
    "Thal=thalassemia\n",
    "\n",
    "Num=prediction of heart diseases"
   ]
  },
  {
   "cell_type": "code",
   "execution_count": 1354,
   "metadata": {},
   "outputs": [
    {
     "data": {
      "text/plain": [
       "(200, 14)"
      ]
     },
     "execution_count": 1354,
     "metadata": {},
     "output_type": "execute_result"
    }
   ],
   "source": [
    "heartdiseases.shape"
   ]
  },
  {
   "cell_type": "code",
   "execution_count": 1355,
   "metadata": {},
   "outputs": [
    {
     "data": {
      "text/plain": [
       "Age          39\n",
       "Sex           2\n",
       "CP            4\n",
       "Trestbps     41\n",
       "Chol        100\n",
       "Fbs           3\n",
       "Restecg       3\n",
       "Thalach      60\n",
       "Exang         3\n",
       "Oldpeak      15\n",
       "Slope         4\n",
       "CA            2\n",
       "Thal          4\n",
       "Num           5\n",
       "dtype: int64"
      ]
     },
     "execution_count": 1355,
     "metadata": {},
     "output_type": "execute_result"
    }
   ],
   "source": [
    "heartdiseases.nunique()"
   ]
  },
  {
   "cell_type": "markdown",
   "metadata": {},
   "source": [
    "There are no columns where all the values are unique or constant values. So all the columns might be important"
   ]
  },
  {
   "cell_type": "code",
   "execution_count": 1356,
   "metadata": {},
   "outputs": [
    {
     "data": {
      "text/plain": [
       "{int64: ['Age', 'Sex', 'CP', 'Restecg', 'Num'], object: ['Trestbps', 'Chol', 'Fbs', 'Thalach', 'Exang', 'Oldpeak', 'Slope', 'CA', 'Thal']}"
      ]
     },
     "execution_count": 1356,
     "metadata": {},
     "output_type": "execute_result"
    }
   ],
   "source": [
    "heartdiseases.columns.to_series().groupby(heartdiseases.dtypes).groups"
   ]
  },
  {
   "cell_type": "code",
   "execution_count": 1357,
   "metadata": {},
   "outputs": [
    {
     "data": {
      "text/plain": [
       "Age         0\n",
       "Sex         0\n",
       "CP          0\n",
       "Trestbps    0\n",
       "Chol        0\n",
       "Fbs         0\n",
       "Restecg     0\n",
       "Thalach     0\n",
       "Exang       0\n",
       "Oldpeak     0\n",
       "Slope       0\n",
       "CA          0\n",
       "Thal        0\n",
       "Num         0\n",
       "dtype: int64"
      ]
     },
     "execution_count": 1357,
     "metadata": {},
     "output_type": "execute_result"
    }
   ],
   "source": [
    "heartdiseases.isnull().sum()"
   ]
  },
  {
   "cell_type": "code",
   "execution_count": 1358,
   "metadata": {},
   "outputs": [
    {
     "name": "stdout",
     "output_type": "stream",
     "text": [
      "63    15\n",
      "62    15\n",
      "55    14\n",
      "60    12\n",
      "58    12\n",
      "61    12\n",
      "57    10\n",
      "64     9\n",
      "56     9\n",
      "69     8\n",
      "59     8\n",
      "54     7\n",
      "51     7\n",
      "65     6\n",
      "74     5\n",
      "67     5\n",
      "53     5\n",
      "68     4\n",
      "48     4\n",
      "72     3\n",
      "66     3\n",
      "75     3\n",
      "40     2\n",
      "46     2\n",
      "50     2\n",
      "49     2\n",
      "41     2\n",
      "52     2\n",
      "71     2\n",
      "42     1\n",
      "37     1\n",
      "38     1\n",
      "77     1\n",
      "43     1\n",
      "44     1\n",
      "45     1\n",
      "76     1\n",
      "70     1\n",
      "35     1\n",
      "Name: Age, dtype: int64\n",
      "1    194\n",
      "0      6\n",
      "Name: Sex, dtype: int64\n",
      "4    131\n",
      "3     47\n",
      "2     14\n",
      "1      8\n",
      "Name: CP, dtype: int64\n",
      "?      56\n",
      "120    16\n",
      "130    15\n",
      "140    10\n",
      "150     9\n",
      "110     9\n",
      "160     8\n",
      "122     6\n",
      "142     5\n",
      "124     4\n",
      "128     4\n",
      "126     4\n",
      "144     4\n",
      "136     4\n",
      "170     4\n",
      "134     4\n",
      "132     3\n",
      "158     3\n",
      "152     2\n",
      "104     2\n",
      "154     2\n",
      "125     2\n",
      "138     2\n",
      "180     2\n",
      "116     2\n",
      "112     2\n",
      "155     2\n",
      "96      1\n",
      "146     1\n",
      "114     1\n",
      "0       1\n",
      "156     1\n",
      "135     1\n",
      "100     1\n",
      "172     1\n",
      "102     1\n",
      "106     1\n",
      "178     1\n",
      "190     1\n",
      "118     1\n",
      "127     1\n",
      "Name: Trestbps, dtype: int64\n",
      "0      49\n",
      "?       7\n",
      "220     4\n",
      "203     4\n",
      "258     4\n",
      "       ..\n",
      "277     1\n",
      "237     1\n",
      "339     1\n",
      "226     1\n",
      "139     1\n",
      "Name: Chol, Length: 100, dtype: int64\n",
      "0    125\n",
      "1     68\n",
      "?      7\n",
      "Name: Fbs, dtype: int64\n",
      "1    93\n",
      "0    80\n",
      "2    27\n",
      "Name: Restecg, dtype: int64\n",
      "?      53\n",
      "120    12\n",
      "140    12\n",
      "110     8\n",
      "112     6\n",
      "130     6\n",
      "105     4\n",
      "118     4\n",
      "150     4\n",
      "160     4\n",
      "128     4\n",
      "100     4\n",
      "135     3\n",
      "86      3\n",
      "117     3\n",
      "108     3\n",
      "148     3\n",
      "102     3\n",
      "84      3\n",
      "122     3\n",
      "125     3\n",
      "106     3\n",
      "98      2\n",
      "119     2\n",
      "180     2\n",
      "80      2\n",
      "154     2\n",
      "138     2\n",
      "127     2\n",
      "96      2\n",
      "165     2\n",
      "111     2\n",
      "129     2\n",
      "94      1\n",
      "115     1\n",
      "151     1\n",
      "97      1\n",
      "113     1\n",
      "99      1\n",
      "141     1\n",
      "145     1\n",
      "162     1\n",
      "161     1\n",
      "149     1\n",
      "159     1\n",
      "93      1\n",
      "107     1\n",
      "73      1\n",
      "121     1\n",
      "144     1\n",
      "131     1\n",
      "123     1\n",
      "157     1\n",
      "124     1\n",
      "133     1\n",
      "132     1\n",
      "88      1\n",
      "155     1\n",
      "126     1\n",
      "69      1\n",
      "Name: Thalach, dtype: int64\n",
      "1    95\n",
      "?    53\n",
      "0    52\n",
      "Name: Exang, dtype: int64\n",
      "?       56\n",
      "0       40\n",
      "2       25\n",
      "1.5     21\n",
      "1       18\n",
      "3       13\n",
      "2.5      9\n",
      "0.5      7\n",
      "4        4\n",
      "1.3      2\n",
      "-0.5     1\n",
      "0.8      1\n",
      "1.7      1\n",
      "1.6      1\n",
      "3.5      1\n",
      "Name: Oldpeak, dtype: int64\n",
      "?    102\n",
      "2     53\n",
      "3     29\n",
      "1     16\n",
      "Name: Slope, dtype: int64\n",
      "?    198\n",
      "0      2\n",
      "Name: CA, dtype: int64\n",
      "?    166\n",
      "7     22\n",
      "6      8\n",
      "3      4\n",
      "Name: Thal, dtype: int64\n",
      "1    56\n",
      "0    51\n",
      "3    42\n",
      "2    41\n",
      "4    10\n",
      "Name: Num, dtype: int64\n"
     ]
    }
   ],
   "source": [
    "                        \n",
    "for col in heartdiseases:\n",
    "    print(heartdiseases[col].value_counts())                        "
   ]
  },
  {
   "cell_type": "markdown",
   "metadata": {},
   "source": [
    "Count the number of '?' values in each column:\n",
    "    \n",
    "\n",
    "    Trestbps : 56\n",
    "           \n",
    "    Chol : 7\n",
    "        \n",
    "    Fbs : 7\n",
    "        \n",
    "    Thalach : 53\n",
    "        \n",
    "    Exang : 53\n",
    "        \n",
    "    Oldpeak : 56\n",
    "        \n",
    "    Slope : 102\n",
    "        \n",
    "    CA : 198 ( This column has a lot of '?' values. so, this column will be deleted)\n",
    "        \n",
    "    Thal : 166\n",
    "    \n",
    "    \n",
    " Count the number of 0 values in each column:   \n",
    " \n",
    "    Sex : 6 (Can be 0)\n",
    "    \n",
    "    Trestbps : 1 (Need to replace 0. Because Trestbps can not be 0)\n",
    "           \n",
    "    Chol : 49 (Need to replace 0. Because Chol can not be 0)\n",
    "        \n",
    "    Fbs : 125 ( Can be 0)\n",
    "    \n",
    "    Restecg : 80 (Can be 0)\n",
    "        \n",
    "    Thalach :  No \n",
    "        \n",
    "    Exang : 52 (Can be 0)\n",
    "        \n",
    "    Oldpeak : 40 (Can be 0)\n",
    "        \n",
    "    Slope : No\n",
    "        \n",
    "    CA : 2 ( Here a lot of values are missing. So, it's better to delete the column)\n",
    "        \n",
    "    Thal : No\n",
    "    \n",
    "    Num : 51 ( Can be 0)\n",
    "    \n",
    "    Here, 0 values of these \"Trestbps\" and \"chol\" two columns need to be changed."
   ]
  },
  {
   "cell_type": "markdown",
   "metadata": {},
   "source": [
    "There are 200 rows in the dataset. There are 198 '?' values present in the 'CA' column which is large. So, let me delete this column. "
   ]
  },
  {
   "cell_type": "markdown",
   "metadata": {},
   "source": [
    "# Dropping unexpected column"
   ]
  },
  {
   "cell_type": "code",
   "execution_count": 1359,
   "metadata": {},
   "outputs": [],
   "source": [
    "heartdiseases.drop(['CA','Thal'],axis=1,inplace=True)"
   ]
  },
  {
   "cell_type": "code",
   "execution_count": 1360,
   "metadata": {},
   "outputs": [
    {
     "data": {
      "text/html": [
       "<div>\n",
       "<style scoped>\n",
       "    .dataframe tbody tr th:only-of-type {\n",
       "        vertical-align: middle;\n",
       "    }\n",
       "\n",
       "    .dataframe tbody tr th {\n",
       "        vertical-align: top;\n",
       "    }\n",
       "\n",
       "    .dataframe thead th {\n",
       "        text-align: right;\n",
       "    }\n",
       "</style>\n",
       "<table border=\"1\" class=\"dataframe\">\n",
       "  <thead>\n",
       "    <tr style=\"text-align: right;\">\n",
       "      <th></th>\n",
       "      <th>Age</th>\n",
       "      <th>Sex</th>\n",
       "      <th>CP</th>\n",
       "      <th>Restecg</th>\n",
       "      <th>Num</th>\n",
       "    </tr>\n",
       "  </thead>\n",
       "  <tbody>\n",
       "    <tr>\n",
       "      <th>count</th>\n",
       "      <td>200.000000</td>\n",
       "      <td>200.000000</td>\n",
       "      <td>200.000000</td>\n",
       "      <td>200.000000</td>\n",
       "      <td>200.000000</td>\n",
       "    </tr>\n",
       "    <tr>\n",
       "      <th>mean</th>\n",
       "      <td>59.350000</td>\n",
       "      <td>0.970000</td>\n",
       "      <td>3.505000</td>\n",
       "      <td>0.735000</td>\n",
       "      <td>1.520000</td>\n",
       "    </tr>\n",
       "    <tr>\n",
       "      <th>std</th>\n",
       "      <td>7.811697</td>\n",
       "      <td>0.171015</td>\n",
       "      <td>0.795701</td>\n",
       "      <td>0.683455</td>\n",
       "      <td>1.219441</td>\n",
       "    </tr>\n",
       "    <tr>\n",
       "      <th>min</th>\n",
       "      <td>35.000000</td>\n",
       "      <td>0.000000</td>\n",
       "      <td>1.000000</td>\n",
       "      <td>0.000000</td>\n",
       "      <td>0.000000</td>\n",
       "    </tr>\n",
       "    <tr>\n",
       "      <th>25%</th>\n",
       "      <td>55.000000</td>\n",
       "      <td>1.000000</td>\n",
       "      <td>3.000000</td>\n",
       "      <td>0.000000</td>\n",
       "      <td>0.000000</td>\n",
       "    </tr>\n",
       "    <tr>\n",
       "      <th>50%</th>\n",
       "      <td>60.000000</td>\n",
       "      <td>1.000000</td>\n",
       "      <td>4.000000</td>\n",
       "      <td>1.000000</td>\n",
       "      <td>1.000000</td>\n",
       "    </tr>\n",
       "    <tr>\n",
       "      <th>75%</th>\n",
       "      <td>64.000000</td>\n",
       "      <td>1.000000</td>\n",
       "      <td>4.000000</td>\n",
       "      <td>1.000000</td>\n",
       "      <td>3.000000</td>\n",
       "    </tr>\n",
       "    <tr>\n",
       "      <th>max</th>\n",
       "      <td>77.000000</td>\n",
       "      <td>1.000000</td>\n",
       "      <td>4.000000</td>\n",
       "      <td>2.000000</td>\n",
       "      <td>4.000000</td>\n",
       "    </tr>\n",
       "  </tbody>\n",
       "</table>\n",
       "</div>"
      ],
      "text/plain": [
       "              Age         Sex          CP     Restecg         Num\n",
       "count  200.000000  200.000000  200.000000  200.000000  200.000000\n",
       "mean    59.350000    0.970000    3.505000    0.735000    1.520000\n",
       "std      7.811697    0.171015    0.795701    0.683455    1.219441\n",
       "min     35.000000    0.000000    1.000000    0.000000    0.000000\n",
       "25%     55.000000    1.000000    3.000000    0.000000    0.000000\n",
       "50%     60.000000    1.000000    4.000000    1.000000    1.000000\n",
       "75%     64.000000    1.000000    4.000000    1.000000    3.000000\n",
       "max     77.000000    1.000000    4.000000    2.000000    4.000000"
      ]
     },
     "execution_count": 1360,
     "metadata": {},
     "output_type": "execute_result"
    }
   ],
   "source": [
    "heartdiseases.describe()"
   ]
  },
  {
   "cell_type": "code",
   "execution_count": 1361,
   "metadata": {},
   "outputs": [
    {
     "data": {
      "text/plain": [
       "<AxesSubplot:>"
      ]
     },
     "execution_count": 1361,
     "metadata": {},
     "output_type": "execute_result"
    },
    {
     "data": {
      "image/png": "[encoded data removed]",
      "text/plain": [
       "<Figure size 720x576 with 2 Axes>"
      ]
     },
     "metadata": {
      "needs_background": "light"
     },
     "output_type": "display_data"
    }
   ],
   "source": [
    "plt.figure(figsize=(10,8))\n",
    "sns.heatmap(heartdiseases.describe(),annot=True)"
   ]
  },
  {
   "cell_type": "markdown",
   "metadata": {},
   "source": [
    "In the numeric variables we can observe that there are no huge differences between the 75 percentile and max. mean and 50 percentile don't have huge difference as well. So, it looks normal. Most probably there are no outliers."
   ]
  },
  {
   "cell_type": "markdown",
   "metadata": {},
   "source": [
    "# Fill the '?' values"
   ]
  },
  {
   "cell_type": "code",
   "execution_count": 1362,
   "metadata": {},
   "outputs": [
    {
     "data": {
      "text/html": [
       "<div>\n",
       "<style scoped>\n",
       "    .dataframe tbody tr th:only-of-type {\n",
       "        vertical-align: middle;\n",
       "    }\n",
       "\n",
       "    .dataframe tbody tr th {\n",
       "        vertical-align: top;\n",
       "    }\n",
       "\n",
       "    .dataframe thead th {\n",
       "        text-align: right;\n",
       "    }\n",
       "</style>\n",
       "<table border=\"1\" class=\"dataframe\">\n",
       "  <thead>\n",
       "    <tr style=\"text-align: right;\">\n",
       "      <th></th>\n",
       "      <th>Age</th>\n",
       "      <th>Sex</th>\n",
       "      <th>CP</th>\n",
       "      <th>Trestbps</th>\n",
       "      <th>Chol</th>\n",
       "      <th>Fbs</th>\n",
       "      <th>Restecg</th>\n",
       "      <th>Thalach</th>\n",
       "      <th>Exang</th>\n",
       "      <th>Oldpeak</th>\n",
       "      <th>Slope</th>\n",
       "      <th>Num</th>\n",
       "    </tr>\n",
       "  </thead>\n",
       "  <tbody>\n",
       "    <tr>\n",
       "      <th>0</th>\n",
       "      <td>63</td>\n",
       "      <td>1</td>\n",
       "      <td>4</td>\n",
       "      <td>140</td>\n",
       "      <td>260</td>\n",
       "      <td>0</td>\n",
       "      <td>1</td>\n",
       "      <td>112</td>\n",
       "      <td>1</td>\n",
       "      <td>3</td>\n",
       "      <td>2</td>\n",
       "      <td>2</td>\n",
       "    </tr>\n",
       "    <tr>\n",
       "      <th>1</th>\n",
       "      <td>44</td>\n",
       "      <td>1</td>\n",
       "      <td>4</td>\n",
       "      <td>130</td>\n",
       "      <td>209</td>\n",
       "      <td>0</td>\n",
       "      <td>1</td>\n",
       "      <td>127</td>\n",
       "      <td>0</td>\n",
       "      <td>0</td>\n",
       "      <td>?</td>\n",
       "      <td>0</td>\n",
       "    </tr>\n",
       "    <tr>\n",
       "      <th>2</th>\n",
       "      <td>60</td>\n",
       "      <td>1</td>\n",
       "      <td>4</td>\n",
       "      <td>132</td>\n",
       "      <td>218</td>\n",
       "      <td>0</td>\n",
       "      <td>1</td>\n",
       "      <td>140</td>\n",
       "      <td>1</td>\n",
       "      <td>1.5</td>\n",
       "      <td>3</td>\n",
       "      <td>2</td>\n",
       "    </tr>\n",
       "    <tr>\n",
       "      <th>3</th>\n",
       "      <td>55</td>\n",
       "      <td>1</td>\n",
       "      <td>4</td>\n",
       "      <td>142</td>\n",
       "      <td>228</td>\n",
       "      <td>0</td>\n",
       "      <td>1</td>\n",
       "      <td>149</td>\n",
       "      <td>1</td>\n",
       "      <td>2.5</td>\n",
       "      <td>1</td>\n",
       "      <td>1</td>\n",
       "    </tr>\n",
       "    <tr>\n",
       "      <th>4</th>\n",
       "      <td>66</td>\n",
       "      <td>1</td>\n",
       "      <td>3</td>\n",
       "      <td>110</td>\n",
       "      <td>213</td>\n",
       "      <td>1</td>\n",
       "      <td>2</td>\n",
       "      <td>99</td>\n",
       "      <td>1</td>\n",
       "      <td>1.3</td>\n",
       "      <td>2</td>\n",
       "      <td>0</td>\n",
       "    </tr>\n",
       "  </tbody>\n",
       "</table>\n",
       "</div>"
      ],
      "text/plain": [
       "   Age  Sex  CP Trestbps Chol Fbs  Restecg Thalach Exang Oldpeak Slope  Num\n",
       "0   63    1   4      140  260   0        1     112     1       3     2    2\n",
       "1   44    1   4      130  209   0        1     127     0       0     ?    0\n",
       "2   60    1   4      132  218   0        1     140     1     1.5     3    2\n",
       "3   55    1   4      142  228   0        1     149     1     2.5     1    1\n",
       "4   66    1   3      110  213   1        2      99     1     1.3     2    0"
      ]
     },
     "execution_count": 1362,
     "metadata": {},
     "output_type": "execute_result"
    }
   ],
   "source": [
    "heartdiseases.head()"
   ]
  },
  {
   "cell_type": "code",
   "execution_count": 1363,
   "metadata": {},
   "outputs": [
    {
     "data": {
      "text/plain": [
       "?      56\n",
       "120    16\n",
       "130    15\n",
       "140    10\n",
       "150     9\n",
       "110     9\n",
       "160     8\n",
       "122     6\n",
       "142     5\n",
       "124     4\n",
       "128     4\n",
       "126     4\n",
       "144     4\n",
       "136     4\n",
       "170     4\n",
       "134     4\n",
       "132     3\n",
       "158     3\n",
       "152     2\n",
       "104     2\n",
       "154     2\n",
       "125     2\n",
       "138     2\n",
       "180     2\n",
       "116     2\n",
       "112     2\n",
       "155     2\n",
       "96      1\n",
       "146     1\n",
       "114     1\n",
       "0       1\n",
       "156     1\n",
       "135     1\n",
       "100     1\n",
       "172     1\n",
       "102     1\n",
       "106     1\n",
       "178     1\n",
       "190     1\n",
       "118     1\n",
       "127     1\n",
       "Name: Trestbps, dtype: int64"
      ]
     },
     "execution_count": 1363,
     "metadata": {},
     "output_type": "execute_result"
    }
   ],
   "source": [
    "heartdiseases['Trestbps'].value_counts()"
   ]
  },
  {
   "cell_type": "markdown",
   "metadata": {},
   "source": [
    "Firstly, Let me fill all the '?' values with NaN"
   ]
  },
  {
   "cell_type": "code",
   "execution_count": 1364,
   "metadata": {},
   "outputs": [
    {
     "data": {
      "text/html": [
       "<div>\n",
       "<style scoped>\n",
       "    .dataframe tbody tr th:only-of-type {\n",
       "        vertical-align: middle;\n",
       "    }\n",
       "\n",
       "    .dataframe tbody tr th {\n",
       "        vertical-align: top;\n",
       "    }\n",
       "\n",
       "    .dataframe thead th {\n",
       "        text-align: right;\n",
       "    }\n",
       "</style>\n",
       "<table border=\"1\" class=\"dataframe\">\n",
       "  <thead>\n",
       "    <tr style=\"text-align: right;\">\n",
       "      <th></th>\n",
       "      <th>Age</th>\n",
       "      <th>Sex</th>\n",
       "      <th>CP</th>\n",
       "      <th>Trestbps</th>\n",
       "      <th>Chol</th>\n",
       "      <th>Fbs</th>\n",
       "      <th>Restecg</th>\n",
       "      <th>Thalach</th>\n",
       "      <th>Exang</th>\n",
       "      <th>Oldpeak</th>\n",
       "      <th>Slope</th>\n",
       "      <th>Num</th>\n",
       "    </tr>\n",
       "  </thead>\n",
       "  <tbody>\n",
       "    <tr>\n",
       "      <th>0</th>\n",
       "      <td>63</td>\n",
       "      <td>1</td>\n",
       "      <td>4</td>\n",
       "      <td>140</td>\n",
       "      <td>260</td>\n",
       "      <td>0</td>\n",
       "      <td>1</td>\n",
       "      <td>112</td>\n",
       "      <td>1</td>\n",
       "      <td>3</td>\n",
       "      <td>2</td>\n",
       "      <td>2</td>\n",
       "    </tr>\n",
       "    <tr>\n",
       "      <th>1</th>\n",
       "      <td>44</td>\n",
       "      <td>1</td>\n",
       "      <td>4</td>\n",
       "      <td>130</td>\n",
       "      <td>209</td>\n",
       "      <td>0</td>\n",
       "      <td>1</td>\n",
       "      <td>127</td>\n",
       "      <td>0</td>\n",
       "      <td>0</td>\n",
       "      <td>NaN</td>\n",
       "      <td>0</td>\n",
       "    </tr>\n",
       "    <tr>\n",
       "      <th>2</th>\n",
       "      <td>60</td>\n",
       "      <td>1</td>\n",
       "      <td>4</td>\n",
       "      <td>132</td>\n",
       "      <td>218</td>\n",
       "      <td>0</td>\n",
       "      <td>1</td>\n",
       "      <td>140</td>\n",
       "      <td>1</td>\n",
       "      <td>1.5</td>\n",
       "      <td>3</td>\n",
       "      <td>2</td>\n",
       "    </tr>\n",
       "    <tr>\n",
       "      <th>3</th>\n",
       "      <td>55</td>\n",
       "      <td>1</td>\n",
       "      <td>4</td>\n",
       "      <td>142</td>\n",
       "      <td>228</td>\n",
       "      <td>0</td>\n",
       "      <td>1</td>\n",
       "      <td>149</td>\n",
       "      <td>1</td>\n",
       "      <td>2.5</td>\n",
       "      <td>1</td>\n",
       "      <td>1</td>\n",
       "    </tr>\n",
       "    <tr>\n",
       "      <th>4</th>\n",
       "      <td>66</td>\n",
       "      <td>1</td>\n",
       "      <td>3</td>\n",
       "      <td>110</td>\n",
       "      <td>213</td>\n",
       "      <td>1</td>\n",
       "      <td>2</td>\n",
       "      <td>99</td>\n",
       "      <td>1</td>\n",
       "      <td>1.3</td>\n",
       "      <td>2</td>\n",
       "      <td>0</td>\n",
       "    </tr>\n",
       "  </tbody>\n",
       "</table>\n",
       "</div>"
      ],
      "text/plain": [
       "   Age  Sex  CP Trestbps Chol Fbs  Restecg Thalach Exang Oldpeak Slope  Num\n",
       "0   63    1   4      140  260   0        1     112     1       3     2    2\n",
       "1   44    1   4      130  209   0        1     127     0       0   NaN    0\n",
       "2   60    1   4      132  218   0        1     140     1     1.5     3    2\n",
       "3   55    1   4      142  228   0        1     149     1     2.5     1    1\n",
       "4   66    1   3      110  213   1        2      99     1     1.3     2    0"
      ]
     },
     "execution_count": 1364,
     "metadata": {},
     "output_type": "execute_result"
    }
   ],
   "source": [
    "#heartdiseases['Ca'] = heartdiseases['CA'].replace(['?'],'NaN')\n",
    "heartdiseases=heartdiseases.replace(['?'],np.nan)\n",
    "heartdiseases.head()"
   ]
  },
  {
   "cell_type": "markdown",
   "metadata": {},
   "source": [
    "Replace NaN with 0 in the 'Trestbps' and 'Chol' columns"
   ]
  },
  {
   "cell_type": "code",
   "execution_count": 1365,
   "metadata": {},
   "outputs": [
    {
     "name": "stdout",
     "output_type": "stream",
     "text": [
      "<class 'pandas.core.frame.DataFrame'>\n",
      "RangeIndex: 200 entries, 0 to 199\n",
      "Data columns (total 12 columns):\n",
      " #   Column    Non-Null Count  Dtype \n",
      "---  ------    --------------  ----- \n",
      " 0   Age       200 non-null    int64 \n",
      " 1   Sex       200 non-null    int64 \n",
      " 2   CP        200 non-null    int64 \n",
      " 3   Trestbps  144 non-null    object\n",
      " 4   Chol      193 non-null    object\n",
      " 5   Fbs       193 non-null    object\n",
      " 6   Restecg   200 non-null    int64 \n",
      " 7   Thalach   147 non-null    object\n",
      " 8   Exang     147 non-null    object\n",
      " 9   Oldpeak   144 non-null    object\n",
      " 10  Slope     98 non-null     object\n",
      " 11  Num       200 non-null    int64 \n",
      "dtypes: int64(5), object(7)\n",
      "memory usage: 18.9+ KB\n"
     ]
    }
   ],
   "source": [
    "heartdiseases.info()"
   ]
  },
  {
   "cell_type": "markdown",
   "metadata": {},
   "source": [
    "Here I have filled all the NaN values with string '0'"
   ]
  },
  {
   "cell_type": "code",
   "execution_count": 1366,
   "metadata": {},
   "outputs": [],
   "source": [
    "heartdiseases[\"Chol\"].fillna(\"0\", inplace = True)"
   ]
  },
  {
   "cell_type": "code",
   "execution_count": 1367,
   "metadata": {},
   "outputs": [],
   "source": [
    "heartdiseases[\"Trestbps\"].fillna(\"0\", inplace = True)"
   ]
  },
  {
   "cell_type": "code",
   "execution_count": 1368,
   "metadata": {
    "scrolled": false
   },
   "outputs": [
    {
     "name": "stdout",
     "output_type": "stream",
     "text": [
      "63    15\n",
      "62    15\n",
      "55    14\n",
      "60    12\n",
      "58    12\n",
      "61    12\n",
      "57    10\n",
      "64     9\n",
      "56     9\n",
      "69     8\n",
      "59     8\n",
      "54     7\n",
      "51     7\n",
      "65     6\n",
      "74     5\n",
      "67     5\n",
      "53     5\n",
      "68     4\n",
      "48     4\n",
      "72     3\n",
      "66     3\n",
      "75     3\n",
      "40     2\n",
      "46     2\n",
      "50     2\n",
      "49     2\n",
      "41     2\n",
      "52     2\n",
      "71     2\n",
      "42     1\n",
      "37     1\n",
      "38     1\n",
      "77     1\n",
      "43     1\n",
      "44     1\n",
      "45     1\n",
      "76     1\n",
      "70     1\n",
      "35     1\n",
      "Name: Age, dtype: int64\n",
      "1    194\n",
      "0      6\n",
      "Name: Sex, dtype: int64\n",
      "4    131\n",
      "3     47\n",
      "2     14\n",
      "1      8\n",
      "Name: CP, dtype: int64\n",
      "0      57\n",
      "120    16\n",
      "130    15\n",
      "140    10\n",
      "150     9\n",
      "110     9\n",
      "160     8\n",
      "122     6\n",
      "142     5\n",
      "170     4\n",
      "134     4\n",
      "136     4\n",
      "128     4\n",
      "126     4\n",
      "144     4\n",
      "124     4\n",
      "132     3\n",
      "158     3\n",
      "152     2\n",
      "104     2\n",
      "154     2\n",
      "125     2\n",
      "138     2\n",
      "155     2\n",
      "180     2\n",
      "116     2\n",
      "112     2\n",
      "146     1\n",
      "114     1\n",
      "96      1\n",
      "156     1\n",
      "135     1\n",
      "100     1\n",
      "172     1\n",
      "102     1\n",
      "106     1\n",
      "190     1\n",
      "178     1\n",
      "118     1\n",
      "127     1\n",
      "Name: Trestbps, dtype: int64\n",
      "0      56\n",
      "258     4\n",
      "220     4\n",
      "203     4\n",
      "218     3\n",
      "       ..\n",
      "245     1\n",
      "272     1\n",
      "207     1\n",
      "306     1\n",
      "264     1\n",
      "Name: Chol, Length: 99, dtype: int64\n",
      "0    125\n",
      "1     68\n",
      "Name: Fbs, dtype: int64\n",
      "1    93\n",
      "0    80\n",
      "2    27\n",
      "Name: Restecg, dtype: int64\n",
      "120    12\n",
      "140    12\n",
      "110     8\n",
      "112     6\n",
      "130     6\n",
      "100     4\n",
      "105     4\n",
      "160     4\n",
      "128     4\n",
      "118     4\n",
      "150     4\n",
      "102     3\n",
      "84      3\n",
      "108     3\n",
      "122     3\n",
      "117     3\n",
      "125     3\n",
      "86      3\n",
      "135     3\n",
      "106     3\n",
      "148     3\n",
      "119     2\n",
      "98      2\n",
      "154     2\n",
      "180     2\n",
      "80      2\n",
      "138     2\n",
      "127     2\n",
      "165     2\n",
      "96      2\n",
      "111     2\n",
      "129     2\n",
      "94      1\n",
      "93      1\n",
      "151     1\n",
      "99      1\n",
      "141     1\n",
      "145     1\n",
      "162     1\n",
      "161     1\n",
      "149     1\n",
      "159     1\n",
      "115     1\n",
      "107     1\n",
      "121     1\n",
      "97      1\n",
      "144     1\n",
      "131     1\n",
      "123     1\n",
      "157     1\n",
      "124     1\n",
      "113     1\n",
      "133     1\n",
      "132     1\n",
      "88      1\n",
      "155     1\n",
      "126     1\n",
      "73      1\n",
      "69      1\n",
      "Name: Thalach, dtype: int64\n",
      "1    95\n",
      "0    52\n",
      "Name: Exang, dtype: int64\n",
      "0       40\n",
      "2       25\n",
      "1.5     21\n",
      "1       18\n",
      "3       13\n",
      "2.5      9\n",
      "0.5      7\n",
      "4        4\n",
      "1.3      2\n",
      "-0.5     1\n",
      "0.8      1\n",
      "1.7      1\n",
      "1.6      1\n",
      "3.5      1\n",
      "Name: Oldpeak, dtype: int64\n",
      "2    53\n",
      "3    29\n",
      "1    16\n",
      "Name: Slope, dtype: int64\n",
      "1    56\n",
      "0    51\n",
      "3    42\n",
      "2    41\n",
      "4    10\n",
      "Name: Num, dtype: int64\n"
     ]
    }
   ],
   "source": [
    "for col in heartdiseases:\n",
    "    print(heartdiseases[col].value_counts()) "
   ]
  },
  {
   "cell_type": "markdown",
   "metadata": {},
   "source": [
    "Here I have converted all the string '0' with value 0"
   ]
  },
  {
   "cell_type": "code",
   "execution_count": 1369,
   "metadata": {},
   "outputs": [
    {
     "data": {
      "text/plain": [
       "Index(['Age', 'Sex', 'CP', 'Trestbps', 'Chol', 'Fbs', 'Restecg', 'Thalach',\n",
       "       'Exang', 'Oldpeak', 'Slope', 'Num'],\n",
       "      dtype='object')"
      ]
     },
     "execution_count": 1369,
     "metadata": {},
     "output_type": "execute_result"
    }
   ],
   "source": [
    "heartdiseases.columns"
   ]
  },
  {
   "cell_type": "code",
   "execution_count": 1370,
   "metadata": {},
   "outputs": [],
   "source": [
    "heartdiseases[\"Chol\"].replace('0',0,inplace=True)"
   ]
  },
  {
   "cell_type": "code",
   "execution_count": 1371,
   "metadata": {},
   "outputs": [],
   "source": [
    "heartdiseases[\"Trestbps\"].replace('0',0,inplace=True)"
   ]
  },
  {
   "cell_type": "code",
   "execution_count": 1372,
   "metadata": {},
   "outputs": [
    {
     "ename": "KeyError",
     "evalue": "\"['Thal'] not in index\"",
     "output_type": "error",
     "traceback": [
      "\u001b[1;31m---------------------------------------------------------------------------\u001b[0m",
      "\u001b[1;31mKeyError\u001b[0m                                  Traceback (most recent call last)",
      "\u001b[1;32m<ipython-input-1372-c2c957c0e2d7>\u001b[0m in \u001b[0;36m<module>\u001b[1;34m\u001b[0m\n\u001b[0;32m      1\u001b[0m \u001b[0mcols\u001b[0m \u001b[1;33m=\u001b[0m \u001b[1;33m[\u001b[0m\u001b[1;34m'Age'\u001b[0m\u001b[1;33m,\u001b[0m \u001b[1;34m'Sex'\u001b[0m\u001b[1;33m,\u001b[0m \u001b[1;34m'CP'\u001b[0m\u001b[1;33m,\u001b[0m\u001b[1;34m'Fbs'\u001b[0m\u001b[1;33m,\u001b[0m \u001b[1;34m'Restecg'\u001b[0m\u001b[1;33m,\u001b[0m\u001b[1;34m'Thalach'\u001b[0m\u001b[1;33m,\u001b[0m\u001b[1;34m'Exang'\u001b[0m\u001b[1;33m,\u001b[0m \u001b[1;34m'Oldpeak'\u001b[0m\u001b[1;33m,\u001b[0m \u001b[1;34m'Slope'\u001b[0m\u001b[1;33m,\u001b[0m \u001b[1;34m'Thal'\u001b[0m\u001b[1;33m,\u001b[0m \u001b[1;34m'Num'\u001b[0m\u001b[1;33m]\u001b[0m\u001b[1;33m\u001b[0m\u001b[1;33m\u001b[0m\u001b[0m\n\u001b[1;32m----> 2\u001b[1;33m \u001b[0mheartdiseases\u001b[0m\u001b[1;33m[\u001b[0m\u001b[0mcols\u001b[0m\u001b[1;33m]\u001b[0m\u001b[1;33m.\u001b[0m\u001b[0mreplace\u001b[0m\u001b[1;33m(\u001b[0m\u001b[1;34m'0'\u001b[0m\u001b[1;33m,\u001b[0m\u001b[1;36m0\u001b[0m\u001b[1;33m,\u001b[0m\u001b[0minplace\u001b[0m\u001b[1;33m=\u001b[0m\u001b[1;32mTrue\u001b[0m\u001b[1;33m)\u001b[0m\u001b[1;33m\u001b[0m\u001b[1;33m\u001b[0m\u001b[0m\n\u001b[0m",
      "\u001b[1;32mC:\\ProgramData\\Anaconda3\\lib\\site-packages\\pandas\\core\\frame.py\u001b[0m in \u001b[0;36m__getitem__\u001b[1;34m(self, key)\u001b[0m\n\u001b[0;32m   2906\u001b[0m             \u001b[1;32mif\u001b[0m \u001b[0mis_iterator\u001b[0m\u001b[1;33m(\u001b[0m\u001b[0mkey\u001b[0m\u001b[1;33m)\u001b[0m\u001b[1;33m:\u001b[0m\u001b[1;33m\u001b[0m\u001b[1;33m\u001b[0m\u001b[0m\n\u001b[0;32m   2907\u001b[0m                 \u001b[0mkey\u001b[0m \u001b[1;33m=\u001b[0m \u001b[0mlist\u001b[0m\u001b[1;33m(\u001b[0m\u001b[0mkey\u001b[0m\u001b[1;33m)\u001b[0m\u001b[1;33m\u001b[0m\u001b[1;33m\u001b[0m\u001b[0m\n\u001b[1;32m-> 2908\u001b[1;33m             \u001b[0mindexer\u001b[0m \u001b[1;33m=\u001b[0m \u001b[0mself\u001b[0m\u001b[1;33m.\u001b[0m\u001b[0mloc\u001b[0m\u001b[1;33m.\u001b[0m\u001b[0m_get_listlike_indexer\u001b[0m\u001b[1;33m(\u001b[0m\u001b[0mkey\u001b[0m\u001b[1;33m,\u001b[0m \u001b[0maxis\u001b[0m\u001b[1;33m=\u001b[0m\u001b[1;36m1\u001b[0m\u001b[1;33m,\u001b[0m \u001b[0mraise_missing\u001b[0m\u001b[1;33m=\u001b[0m\u001b[1;32mTrue\u001b[0m\u001b[1;33m)\u001b[0m\u001b[1;33m[\u001b[0m\u001b[1;36m1\u001b[0m\u001b[1;33m]\u001b[0m\u001b[1;33m\u001b[0m\u001b[1;33m\u001b[0m\u001b[0m\n\u001b[0m\u001b[0;32m   2909\u001b[0m \u001b[1;33m\u001b[0m\u001b[0m\n\u001b[0;32m   2910\u001b[0m         \u001b[1;31m# take() does not accept boolean indexers\u001b[0m\u001b[1;33m\u001b[0m\u001b[1;33m\u001b[0m\u001b[1;33m\u001b[0m\u001b[0m\n",
      "\u001b[1;32mC:\\ProgramData\\Anaconda3\\lib\\site-packages\\pandas\\core\\indexing.py\u001b[0m in \u001b[0;36m_get_listlike_indexer\u001b[1;34m(self, key, axis, raise_missing)\u001b[0m\n\u001b[0;32m   1252\u001b[0m             \u001b[0mkeyarr\u001b[0m\u001b[1;33m,\u001b[0m \u001b[0mindexer\u001b[0m\u001b[1;33m,\u001b[0m \u001b[0mnew_indexer\u001b[0m \u001b[1;33m=\u001b[0m \u001b[0max\u001b[0m\u001b[1;33m.\u001b[0m\u001b[0m_reindex_non_unique\u001b[0m\u001b[1;33m(\u001b[0m\u001b[0mkeyarr\u001b[0m\u001b[1;33m)\u001b[0m\u001b[1;33m\u001b[0m\u001b[1;33m\u001b[0m\u001b[0m\n\u001b[0;32m   1253\u001b[0m \u001b[1;33m\u001b[0m\u001b[0m\n\u001b[1;32m-> 1254\u001b[1;33m         \u001b[0mself\u001b[0m\u001b[1;33m.\u001b[0m\u001b[0m_validate_read_indexer\u001b[0m\u001b[1;33m(\u001b[0m\u001b[0mkeyarr\u001b[0m\u001b[1;33m,\u001b[0m \u001b[0mindexer\u001b[0m\u001b[1;33m,\u001b[0m \u001b[0maxis\u001b[0m\u001b[1;33m,\u001b[0m \u001b[0mraise_missing\u001b[0m\u001b[1;33m=\u001b[0m\u001b[0mraise_missing\u001b[0m\u001b[1;33m)\u001b[0m\u001b[1;33m\u001b[0m\u001b[1;33m\u001b[0m\u001b[0m\n\u001b[0m\u001b[0;32m   1255\u001b[0m         \u001b[1;32mreturn\u001b[0m \u001b[0mkeyarr\u001b[0m\u001b[1;33m,\u001b[0m \u001b[0mindexer\u001b[0m\u001b[1;33m\u001b[0m\u001b[1;33m\u001b[0m\u001b[0m\n\u001b[0;32m   1256\u001b[0m \u001b[1;33m\u001b[0m\u001b[0m\n",
      "\u001b[1;32mC:\\ProgramData\\Anaconda3\\lib\\site-packages\\pandas\\core\\indexing.py\u001b[0m in \u001b[0;36m_validate_read_indexer\u001b[1;34m(self, key, indexer, axis, raise_missing)\u001b[0m\n\u001b[0;32m   1302\u001b[0m             \u001b[1;32mif\u001b[0m \u001b[0mraise_missing\u001b[0m\u001b[1;33m:\u001b[0m\u001b[1;33m\u001b[0m\u001b[1;33m\u001b[0m\u001b[0m\n\u001b[0;32m   1303\u001b[0m                 \u001b[0mnot_found\u001b[0m \u001b[1;33m=\u001b[0m \u001b[0mlist\u001b[0m\u001b[1;33m(\u001b[0m\u001b[0mset\u001b[0m\u001b[1;33m(\u001b[0m\u001b[0mkey\u001b[0m\u001b[1;33m)\u001b[0m \u001b[1;33m-\u001b[0m \u001b[0mset\u001b[0m\u001b[1;33m(\u001b[0m\u001b[0max\u001b[0m\u001b[1;33m)\u001b[0m\u001b[1;33m)\u001b[0m\u001b[1;33m\u001b[0m\u001b[1;33m\u001b[0m\u001b[0m\n\u001b[1;32m-> 1304\u001b[1;33m                 \u001b[1;32mraise\u001b[0m \u001b[0mKeyError\u001b[0m\u001b[1;33m(\u001b[0m\u001b[1;34mf\"{not_found} not in index\"\u001b[0m\u001b[1;33m)\u001b[0m\u001b[1;33m\u001b[0m\u001b[1;33m\u001b[0m\u001b[0m\n\u001b[0m\u001b[0;32m   1305\u001b[0m \u001b[1;33m\u001b[0m\u001b[0m\n\u001b[0;32m   1306\u001b[0m             \u001b[1;31m# we skip the warning on Categorical\u001b[0m\u001b[1;33m\u001b[0m\u001b[1;33m\u001b[0m\u001b[1;33m\u001b[0m\u001b[0m\n",
      "\u001b[1;31mKeyError\u001b[0m: \"['Thal'] not in index\""
     ]
    }
   ],
   "source": [
    "cols = ['Age', 'Sex', 'CP','Fbs', 'Restecg','Thalach','Exang', 'Oldpeak', 'Slope', 'Thal', 'Num']\n",
    "heartdiseases[cols].replace('0',0,inplace=True)"
   ]
  },
  {
   "cell_type": "code",
   "execution_count": 1373,
   "metadata": {
    "scrolled": false
   },
   "outputs": [
    {
     "name": "stdout",
     "output_type": "stream",
     "text": [
      "63    15\n",
      "62    15\n",
      "55    14\n",
      "60    12\n",
      "58    12\n",
      "61    12\n",
      "57    10\n",
      "64     9\n",
      "56     9\n",
      "69     8\n",
      "59     8\n",
      "54     7\n",
      "51     7\n",
      "65     6\n",
      "74     5\n",
      "67     5\n",
      "53     5\n",
      "68     4\n",
      "48     4\n",
      "72     3\n",
      "66     3\n",
      "75     3\n",
      "40     2\n",
      "46     2\n",
      "50     2\n",
      "49     2\n",
      "41     2\n",
      "52     2\n",
      "71     2\n",
      "42     1\n",
      "37     1\n",
      "38     1\n",
      "77     1\n",
      "43     1\n",
      "44     1\n",
      "45     1\n",
      "76     1\n",
      "70     1\n",
      "35     1\n",
      "Name: Age, dtype: int64\n",
      "1    194\n",
      "0      6\n",
      "Name: Sex, dtype: int64\n",
      "4    131\n",
      "3     47\n",
      "2     14\n",
      "1      8\n",
      "Name: CP, dtype: int64\n",
      "0      57\n",
      "120    16\n",
      "130    15\n",
      "140    10\n",
      "150     9\n",
      "110     9\n",
      "160     8\n",
      "122     6\n",
      "142     5\n",
      "128     4\n",
      "144     4\n",
      "126     4\n",
      "124     4\n",
      "170     4\n",
      "134     4\n",
      "136     4\n",
      "132     3\n",
      "158     3\n",
      "104     2\n",
      "154     2\n",
      "125     2\n",
      "152     2\n",
      "138     2\n",
      "112     2\n",
      "116     2\n",
      "155     2\n",
      "180     2\n",
      "100     1\n",
      "127     1\n",
      "190     1\n",
      "146     1\n",
      "114     1\n",
      "96      1\n",
      "156     1\n",
      "118     1\n",
      "172     1\n",
      "102     1\n",
      "106     1\n",
      "178     1\n",
      "135     1\n",
      "Name: Trestbps, dtype: int64\n",
      "0      56\n",
      "220     4\n",
      "258     4\n",
      "203     4\n",
      "219     3\n",
      "       ..\n",
      "312     1\n",
      "349     1\n",
      "273     1\n",
      "244     1\n",
      "100     1\n",
      "Name: Chol, Length: 99, dtype: int64\n",
      "0    125\n",
      "1     68\n",
      "Name: Fbs, dtype: int64\n",
      "1    93\n",
      "0    80\n",
      "2    27\n",
      "Name: Restecg, dtype: int64\n",
      "120    12\n",
      "140    12\n",
      "110     8\n",
      "112     6\n",
      "130     6\n",
      "100     4\n",
      "105     4\n",
      "160     4\n",
      "128     4\n",
      "118     4\n",
      "150     4\n",
      "102     3\n",
      "84      3\n",
      "108     3\n",
      "122     3\n",
      "117     3\n",
      "125     3\n",
      "86      3\n",
      "135     3\n",
      "106     3\n",
      "148     3\n",
      "119     2\n",
      "98      2\n",
      "154     2\n",
      "180     2\n",
      "80      2\n",
      "138     2\n",
      "127     2\n",
      "165     2\n",
      "96      2\n",
      "111     2\n",
      "129     2\n",
      "94      1\n",
      "93      1\n",
      "151     1\n",
      "99      1\n",
      "141     1\n",
      "145     1\n",
      "162     1\n",
      "161     1\n",
      "149     1\n",
      "159     1\n",
      "115     1\n",
      "107     1\n",
      "121     1\n",
      "97      1\n",
      "144     1\n",
      "131     1\n",
      "123     1\n",
      "157     1\n",
      "124     1\n",
      "113     1\n",
      "133     1\n",
      "132     1\n",
      "88      1\n",
      "155     1\n",
      "126     1\n",
      "73      1\n",
      "69      1\n",
      "Name: Thalach, dtype: int64\n",
      "1    95\n",
      "0    52\n",
      "Name: Exang, dtype: int64\n",
      "0       40\n",
      "2       25\n",
      "1.5     21\n",
      "1       18\n",
      "3       13\n",
      "2.5      9\n",
      "0.5      7\n",
      "4        4\n",
      "1.3      2\n",
      "-0.5     1\n",
      "0.8      1\n",
      "1.7      1\n",
      "1.6      1\n",
      "3.5      1\n",
      "Name: Oldpeak, dtype: int64\n",
      "2    53\n",
      "3    29\n",
      "1    16\n",
      "Name: Slope, dtype: int64\n",
      "1    56\n",
      "0    51\n",
      "3    42\n",
      "2    41\n",
      "4    10\n",
      "Name: Num, dtype: int64\n"
     ]
    }
   ],
   "source": [
    "for col in heartdiseases:\n",
    "    print(heartdiseases[col].value_counts()) "
   ]
  },
  {
   "cell_type": "markdown",
   "metadata": {},
   "source": [
    "First I have replaced all the 0 values with missing values "
   ]
  },
  {
   "cell_type": "code",
   "execution_count": 1374,
   "metadata": {},
   "outputs": [],
   "source": [
    "#heartdiseases['Chol'].replace(0, np.nan,inplace=True)"
   ]
  },
  {
   "cell_type": "code",
   "execution_count": 1375,
   "metadata": {},
   "outputs": [],
   "source": [
    "#heartdiseases['Trestbps'].replace(0, np.nan,inplace=True)"
   ]
  },
  {
   "cell_type": "markdown",
   "metadata": {},
   "source": [
    "Now , fill the 0 with mean value according to SEX column"
   ]
  },
  {
   "cell_type": "code",
   "execution_count": 1376,
   "metadata": {},
   "outputs": [
    {
     "data": {
      "text/html": [
       "<div>\n",
       "<style scoped>\n",
       "    .dataframe tbody tr th:only-of-type {\n",
       "        vertical-align: middle;\n",
       "    }\n",
       "\n",
       "    .dataframe tbody tr th {\n",
       "        vertical-align: top;\n",
       "    }\n",
       "\n",
       "    .dataframe thead th {\n",
       "        text-align: right;\n",
       "    }\n",
       "</style>\n",
       "<table border=\"1\" class=\"dataframe\">\n",
       "  <thead>\n",
       "    <tr style=\"text-align: right;\">\n",
       "      <th></th>\n",
       "      <th>Age</th>\n",
       "      <th>Sex</th>\n",
       "      <th>CP</th>\n",
       "      <th>Trestbps</th>\n",
       "      <th>Chol</th>\n",
       "      <th>Fbs</th>\n",
       "      <th>Restecg</th>\n",
       "      <th>Thalach</th>\n",
       "      <th>Exang</th>\n",
       "      <th>Oldpeak</th>\n",
       "      <th>Slope</th>\n",
       "      <th>Num</th>\n",
       "    </tr>\n",
       "  </thead>\n",
       "  <tbody>\n",
       "    <tr>\n",
       "      <th>0</th>\n",
       "      <td>63</td>\n",
       "      <td>1</td>\n",
       "      <td>4</td>\n",
       "      <td>140</td>\n",
       "      <td>260</td>\n",
       "      <td>0</td>\n",
       "      <td>1</td>\n",
       "      <td>112</td>\n",
       "      <td>1</td>\n",
       "      <td>3</td>\n",
       "      <td>2</td>\n",
       "      <td>2</td>\n",
       "    </tr>\n",
       "    <tr>\n",
       "      <th>1</th>\n",
       "      <td>44</td>\n",
       "      <td>1</td>\n",
       "      <td>4</td>\n",
       "      <td>130</td>\n",
       "      <td>209</td>\n",
       "      <td>0</td>\n",
       "      <td>1</td>\n",
       "      <td>127</td>\n",
       "      <td>0</td>\n",
       "      <td>0</td>\n",
       "      <td>NaN</td>\n",
       "      <td>0</td>\n",
       "    </tr>\n",
       "    <tr>\n",
       "      <th>2</th>\n",
       "      <td>60</td>\n",
       "      <td>1</td>\n",
       "      <td>4</td>\n",
       "      <td>132</td>\n",
       "      <td>218</td>\n",
       "      <td>0</td>\n",
       "      <td>1</td>\n",
       "      <td>140</td>\n",
       "      <td>1</td>\n",
       "      <td>1.5</td>\n",
       "      <td>3</td>\n",
       "      <td>2</td>\n",
       "    </tr>\n",
       "    <tr>\n",
       "      <th>3</th>\n",
       "      <td>55</td>\n",
       "      <td>1</td>\n",
       "      <td>4</td>\n",
       "      <td>142</td>\n",
       "      <td>228</td>\n",
       "      <td>0</td>\n",
       "      <td>1</td>\n",
       "      <td>149</td>\n",
       "      <td>1</td>\n",
       "      <td>2.5</td>\n",
       "      <td>1</td>\n",
       "      <td>1</td>\n",
       "    </tr>\n",
       "    <tr>\n",
       "      <th>4</th>\n",
       "      <td>66</td>\n",
       "      <td>1</td>\n",
       "      <td>3</td>\n",
       "      <td>110</td>\n",
       "      <td>213</td>\n",
       "      <td>1</td>\n",
       "      <td>2</td>\n",
       "      <td>99</td>\n",
       "      <td>1</td>\n",
       "      <td>1.3</td>\n",
       "      <td>2</td>\n",
       "      <td>0</td>\n",
       "    </tr>\n",
       "    <tr>\n",
       "      <th>...</th>\n",
       "      <td>...</td>\n",
       "      <td>...</td>\n",
       "      <td>...</td>\n",
       "      <td>...</td>\n",
       "      <td>...</td>\n",
       "      <td>...</td>\n",
       "      <td>...</td>\n",
       "      <td>...</td>\n",
       "      <td>...</td>\n",
       "      <td>...</td>\n",
       "      <td>...</td>\n",
       "      <td>...</td>\n",
       "    </tr>\n",
       "    <tr>\n",
       "      <th>195</th>\n",
       "      <td>54</td>\n",
       "      <td>0</td>\n",
       "      <td>4</td>\n",
       "      <td>127</td>\n",
       "      <td>333</td>\n",
       "      <td>1</td>\n",
       "      <td>1</td>\n",
       "      <td>154</td>\n",
       "      <td>0</td>\n",
       "      <td>0</td>\n",
       "      <td>NaN</td>\n",
       "      <td>1</td>\n",
       "    </tr>\n",
       "    <tr>\n",
       "      <th>196</th>\n",
       "      <td>62</td>\n",
       "      <td>1</td>\n",
       "      <td>1</td>\n",
       "      <td>0</td>\n",
       "      <td>139</td>\n",
       "      <td>0</td>\n",
       "      <td>1</td>\n",
       "      <td>NaN</td>\n",
       "      <td>NaN</td>\n",
       "      <td>NaN</td>\n",
       "      <td>NaN</td>\n",
       "      <td>0</td>\n",
       "    </tr>\n",
       "    <tr>\n",
       "      <th>197</th>\n",
       "      <td>55</td>\n",
       "      <td>1</td>\n",
       "      <td>4</td>\n",
       "      <td>122</td>\n",
       "      <td>223</td>\n",
       "      <td>1</td>\n",
       "      <td>1</td>\n",
       "      <td>100</td>\n",
       "      <td>0</td>\n",
       "      <td>0</td>\n",
       "      <td>NaN</td>\n",
       "      <td>2</td>\n",
       "    </tr>\n",
       "    <tr>\n",
       "      <th>198</th>\n",
       "      <td>58</td>\n",
       "      <td>1</td>\n",
       "      <td>4</td>\n",
       "      <td>0</td>\n",
       "      <td>385</td>\n",
       "      <td>1</td>\n",
       "      <td>2</td>\n",
       "      <td>NaN</td>\n",
       "      <td>NaN</td>\n",
       "      <td>NaN</td>\n",
       "      <td>NaN</td>\n",
       "      <td>0</td>\n",
       "    </tr>\n",
       "    <tr>\n",
       "      <th>199</th>\n",
       "      <td>62</td>\n",
       "      <td>1</td>\n",
       "      <td>2</td>\n",
       "      <td>120</td>\n",
       "      <td>254</td>\n",
       "      <td>0</td>\n",
       "      <td>2</td>\n",
       "      <td>93</td>\n",
       "      <td>1</td>\n",
       "      <td>0</td>\n",
       "      <td>NaN</td>\n",
       "      <td>1</td>\n",
       "    </tr>\n",
       "  </tbody>\n",
       "</table>\n",
       "<p>200 rows × 12 columns</p>\n",
       "</div>"
      ],
      "text/plain": [
       "     Age  Sex  CP Trestbps Chol Fbs  Restecg Thalach Exang Oldpeak Slope  Num\n",
       "0     63    1   4      140  260   0        1     112     1       3     2    2\n",
       "1     44    1   4      130  209   0        1     127     0       0   NaN    0\n",
       "2     60    1   4      132  218   0        1     140     1     1.5     3    2\n",
       "3     55    1   4      142  228   0        1     149     1     2.5     1    1\n",
       "4     66    1   3      110  213   1        2      99     1     1.3     2    0\n",
       "..   ...  ...  ..      ...  ...  ..      ...     ...   ...     ...   ...  ...\n",
       "195   54    0   4      127  333   1        1     154     0       0   NaN    1\n",
       "196   62    1   1        0  139   0        1     NaN   NaN     NaN   NaN    0\n",
       "197   55    1   4      122  223   1        1     100     0       0   NaN    2\n",
       "198   58    1   4        0  385   1        2     NaN   NaN     NaN   NaN    0\n",
       "199   62    1   2      120  254   0        2      93     1       0   NaN    1\n",
       "\n",
       "[200 rows x 12 columns]"
      ]
     },
     "execution_count": 1376,
     "metadata": {},
     "output_type": "execute_result"
    }
   ],
   "source": [
    "heartdiseases"
   ]
  },
  {
   "cell_type": "code",
   "execution_count": null,
   "metadata": {},
   "outputs": [],
   "source": []
  },
  {
   "cell_type": "code",
   "execution_count": 1377,
   "metadata": {},
   "outputs": [
    {
     "name": "stdout",
     "output_type": "stream",
     "text": [
      "63    15\n",
      "62    15\n",
      "55    14\n",
      "60    12\n",
      "58    12\n",
      "61    12\n",
      "57    10\n",
      "64     9\n",
      "56     9\n",
      "69     8\n",
      "59     8\n",
      "54     7\n",
      "51     7\n",
      "65     6\n",
      "74     5\n",
      "67     5\n",
      "53     5\n",
      "68     4\n",
      "48     4\n",
      "72     3\n",
      "66     3\n",
      "75     3\n",
      "40     2\n",
      "46     2\n",
      "50     2\n",
      "49     2\n",
      "41     2\n",
      "52     2\n",
      "71     2\n",
      "42     1\n",
      "37     1\n",
      "38     1\n",
      "77     1\n",
      "43     1\n",
      "44     1\n",
      "45     1\n",
      "76     1\n",
      "70     1\n",
      "35     1\n",
      "Name: Age, dtype: int64\n",
      "1    194\n",
      "0      6\n",
      "Name: Sex, dtype: int64\n",
      "4    131\n",
      "3     47\n",
      "2     14\n",
      "1      8\n",
      "Name: CP, dtype: int64\n",
      "0      57\n",
      "120    16\n",
      "130    15\n",
      "140    10\n",
      "150     9\n",
      "110     9\n",
      "160     8\n",
      "122     6\n",
      "142     5\n",
      "128     4\n",
      "144     4\n",
      "126     4\n",
      "124     4\n",
      "170     4\n",
      "134     4\n",
      "136     4\n",
      "132     3\n",
      "158     3\n",
      "104     2\n",
      "154     2\n",
      "125     2\n",
      "152     2\n",
      "138     2\n",
      "112     2\n",
      "116     2\n",
      "155     2\n",
      "180     2\n",
      "100     1\n",
      "127     1\n",
      "190     1\n",
      "146     1\n",
      "114     1\n",
      "96      1\n",
      "156     1\n",
      "118     1\n",
      "172     1\n",
      "102     1\n",
      "106     1\n",
      "178     1\n",
      "135     1\n",
      "Name: Trestbps, dtype: int64\n",
      "0      56\n",
      "220     4\n",
      "258     4\n",
      "203     4\n",
      "219     3\n",
      "       ..\n",
      "312     1\n",
      "349     1\n",
      "273     1\n",
      "244     1\n",
      "100     1\n",
      "Name: Chol, Length: 99, dtype: int64\n",
      "0    125\n",
      "1     68\n",
      "Name: Fbs, dtype: int64\n",
      "1    93\n",
      "0    80\n",
      "2    27\n",
      "Name: Restecg, dtype: int64\n",
      "120    12\n",
      "140    12\n",
      "110     8\n",
      "112     6\n",
      "130     6\n",
      "100     4\n",
      "105     4\n",
      "160     4\n",
      "128     4\n",
      "118     4\n",
      "150     4\n",
      "102     3\n",
      "84      3\n",
      "108     3\n",
      "122     3\n",
      "117     3\n",
      "125     3\n",
      "86      3\n",
      "135     3\n",
      "106     3\n",
      "148     3\n",
      "119     2\n",
      "98      2\n",
      "154     2\n",
      "180     2\n",
      "80      2\n",
      "138     2\n",
      "127     2\n",
      "165     2\n",
      "96      2\n",
      "111     2\n",
      "129     2\n",
      "94      1\n",
      "93      1\n",
      "151     1\n",
      "99      1\n",
      "141     1\n",
      "145     1\n",
      "162     1\n",
      "161     1\n",
      "149     1\n",
      "159     1\n",
      "115     1\n",
      "107     1\n",
      "121     1\n",
      "97      1\n",
      "144     1\n",
      "131     1\n",
      "123     1\n",
      "157     1\n",
      "124     1\n",
      "113     1\n",
      "133     1\n",
      "132     1\n",
      "88      1\n",
      "155     1\n",
      "126     1\n",
      "73      1\n",
      "69      1\n",
      "Name: Thalach, dtype: int64\n",
      "1    95\n",
      "0    52\n",
      "Name: Exang, dtype: int64\n",
      "0       40\n",
      "2       25\n",
      "1.5     21\n",
      "1       18\n",
      "3       13\n",
      "2.5      9\n",
      "0.5      7\n",
      "4        4\n",
      "1.3      2\n",
      "-0.5     1\n",
      "0.8      1\n",
      "1.7      1\n",
      "1.6      1\n",
      "3.5      1\n",
      "Name: Oldpeak, dtype: int64\n",
      "2    53\n",
      "3    29\n",
      "1    16\n",
      "Name: Slope, dtype: int64\n",
      "1    56\n",
      "0    51\n",
      "3    42\n",
      "2    41\n",
      "4    10\n",
      "Name: Num, dtype: int64\n"
     ]
    }
   ],
   "source": [
    "for col in heartdiseases:\n",
    "    print(heartdiseases[col].value_counts()) "
   ]
  },
  {
   "cell_type": "code",
   "execution_count": 1378,
   "metadata": {},
   "outputs": [
    {
     "data": {
      "text/html": [
       "<div>\n",
       "<style scoped>\n",
       "    .dataframe tbody tr th:only-of-type {\n",
       "        vertical-align: middle;\n",
       "    }\n",
       "\n",
       "    .dataframe tbody tr th {\n",
       "        vertical-align: top;\n",
       "    }\n",
       "\n",
       "    .dataframe thead th {\n",
       "        text-align: right;\n",
       "    }\n",
       "</style>\n",
       "<table border=\"1\" class=\"dataframe\">\n",
       "  <thead>\n",
       "    <tr style=\"text-align: right;\">\n",
       "      <th></th>\n",
       "      <th>Age</th>\n",
       "      <th>Sex</th>\n",
       "      <th>CP</th>\n",
       "      <th>Trestbps</th>\n",
       "      <th>Chol</th>\n",
       "      <th>Fbs</th>\n",
       "      <th>Restecg</th>\n",
       "      <th>Thalach</th>\n",
       "      <th>Exang</th>\n",
       "      <th>Oldpeak</th>\n",
       "      <th>Slope</th>\n",
       "      <th>Num</th>\n",
       "    </tr>\n",
       "  </thead>\n",
       "  <tbody>\n",
       "    <tr>\n",
       "      <th>0</th>\n",
       "      <td>63</td>\n",
       "      <td>1</td>\n",
       "      <td>4</td>\n",
       "      <td>140</td>\n",
       "      <td>260</td>\n",
       "      <td>0</td>\n",
       "      <td>1</td>\n",
       "      <td>112</td>\n",
       "      <td>1</td>\n",
       "      <td>3</td>\n",
       "      <td>2</td>\n",
       "      <td>2</td>\n",
       "    </tr>\n",
       "    <tr>\n",
       "      <th>1</th>\n",
       "      <td>44</td>\n",
       "      <td>1</td>\n",
       "      <td>4</td>\n",
       "      <td>130</td>\n",
       "      <td>209</td>\n",
       "      <td>0</td>\n",
       "      <td>1</td>\n",
       "      <td>127</td>\n",
       "      <td>0</td>\n",
       "      <td>0</td>\n",
       "      <td>NaN</td>\n",
       "      <td>0</td>\n",
       "    </tr>\n",
       "    <tr>\n",
       "      <th>2</th>\n",
       "      <td>60</td>\n",
       "      <td>1</td>\n",
       "      <td>4</td>\n",
       "      <td>132</td>\n",
       "      <td>218</td>\n",
       "      <td>0</td>\n",
       "      <td>1</td>\n",
       "      <td>140</td>\n",
       "      <td>1</td>\n",
       "      <td>1.5</td>\n",
       "      <td>3</td>\n",
       "      <td>2</td>\n",
       "    </tr>\n",
       "    <tr>\n",
       "      <th>3</th>\n",
       "      <td>55</td>\n",
       "      <td>1</td>\n",
       "      <td>4</td>\n",
       "      <td>142</td>\n",
       "      <td>228</td>\n",
       "      <td>0</td>\n",
       "      <td>1</td>\n",
       "      <td>149</td>\n",
       "      <td>1</td>\n",
       "      <td>2.5</td>\n",
       "      <td>1</td>\n",
       "      <td>1</td>\n",
       "    </tr>\n",
       "    <tr>\n",
       "      <th>4</th>\n",
       "      <td>66</td>\n",
       "      <td>1</td>\n",
       "      <td>3</td>\n",
       "      <td>110</td>\n",
       "      <td>213</td>\n",
       "      <td>1</td>\n",
       "      <td>2</td>\n",
       "      <td>99</td>\n",
       "      <td>1</td>\n",
       "      <td>1.3</td>\n",
       "      <td>2</td>\n",
       "      <td>0</td>\n",
       "    </tr>\n",
       "  </tbody>\n",
       "</table>\n",
       "</div>"
      ],
      "text/plain": [
       "   Age  Sex  CP Trestbps Chol Fbs  Restecg Thalach Exang Oldpeak Slope  Num\n",
       "0   63    1   4      140  260   0        1     112     1       3     2    2\n",
       "1   44    1   4      130  209   0        1     127     0       0   NaN    0\n",
       "2   60    1   4      132  218   0        1     140     1     1.5     3    2\n",
       "3   55    1   4      142  228   0        1     149     1     2.5     1    1\n",
       "4   66    1   3      110  213   1        2      99     1     1.3     2    0"
      ]
     },
     "execution_count": 1378,
     "metadata": {},
     "output_type": "execute_result"
    }
   ],
   "source": [
    "heartdiseases.head()"
   ]
  },
  {
   "cell_type": "code",
   "execution_count": 1379,
   "metadata": {},
   "outputs": [
    {
     "data": {
      "text/plain": [
       "Age          5.931469e+01\n",
       "Sex          9.650350e-01\n",
       "CP           3.615385e+00\n",
       "Trestbps              inf\n",
       "Restecg      7.272727e-01\n",
       "Thalach               inf\n",
       "Exang       7.070637e+139\n",
       "Num          1.545455e+00\n",
       "dtype: float64"
      ]
     },
     "execution_count": 1379,
     "metadata": {},
     "output_type": "execute_result"
    }
   ],
   "source": [
    "x = heartdiseases[heartdiseases['Trestbps']!=0]\n",
    "x.mean()"
   ]
  },
  {
   "cell_type": "code",
   "execution_count": 1380,
   "metadata": {},
   "outputs": [
    {
     "data": {
      "text/plain": [
       "Age          int64\n",
       "Sex          int64\n",
       "CP           int64\n",
       "Trestbps    object\n",
       "Chol        object\n",
       "Fbs         object\n",
       "Restecg      int64\n",
       "Thalach     object\n",
       "Exang       object\n",
       "Oldpeak     object\n",
       "Slope       object\n",
       "Num          int64\n",
       "dtype: object"
      ]
     },
     "execution_count": 1380,
     "metadata": {},
     "output_type": "execute_result"
    }
   ],
   "source": [
    "heartdiseases.dtypes"
   ]
  },
  {
   "cell_type": "code",
   "execution_count": 1381,
   "metadata": {},
   "outputs": [],
   "source": [
    "#df1 = pd.DataFrame(heartdiseases.loc[heartdiseases['Trestbps']!= 0])\n",
    "#df1.value_counts()"
   ]
  },
  {
   "cell_type": "markdown",
   "metadata": {},
   "source": [
    "# Trestbps"
   ]
  },
  {
   "cell_type": "code",
   "execution_count": 1382,
   "metadata": {},
   "outputs": [
    {
     "data": {
      "text/plain": [
       "134.6993006993007"
      ]
     },
     "execution_count": 1382,
     "metadata": {},
     "output_type": "execute_result"
    }
   ],
   "source": [
    "df=heartdiseases['Trestbps']\n",
    "df.value_counts()\n",
    "heartdiseases['Trestbps'].replace(0, np.nan,inplace=True) #Replace 0 to NaN values\n",
    "df.dropna(axis=0, how='any',inplace=True) #Delete all the null values\n",
    "df.value_counts()\n",
    "np.asarray(df.iloc[:], dtype=np.float).mean() #Calculate the mean without 0"
   ]
  },
  {
   "cell_type": "markdown",
   "metadata": {},
   "source": [
    "# Chol"
   ]
  },
  {
   "cell_type": "code",
   "execution_count": 1383,
   "metadata": {},
   "outputs": [
    {
     "data": {
      "text/plain": [
       "239.56944444444446"
      ]
     },
     "execution_count": 1383,
     "metadata": {},
     "output_type": "execute_result"
    }
   ],
   "source": [
    "df2=heartdiseases['Chol']\n",
    "df2.value_counts()\n",
    "heartdiseases['Chol'].replace(0, np.nan,inplace=True)\n",
    "df2.dropna(axis=0, how='any',inplace=True)\n",
    "df2.value_counts()\n",
    "np.asarray(df2.iloc[:], dtype=np.float).mean()"
   ]
  },
  {
   "cell_type": "markdown",
   "metadata": {},
   "source": [
    "Now, I will replace the NaN values with 134.70 for 'Trestbps' column and 239.56 for 'Chol' column"
   ]
  },
  {
   "cell_type": "markdown",
   "metadata": {},
   "source": [
    "# Replacing"
   ]
  },
  {
   "cell_type": "code",
   "execution_count": 1384,
   "metadata": {},
   "outputs": [],
   "source": [
    "heartdiseases['Chol'].replace(0, np.nan,inplace=True)\n",
    "heartdiseases['Trestbps'].replace(0, np.nan,inplace=True)"
   ]
  },
  {
   "cell_type": "code",
   "execution_count": 1385,
   "metadata": {},
   "outputs": [],
   "source": [
    "values = {'Trestbps': 134.70, 'Chol': 239.56}\n",
    "heartdiseases.fillna(value=values,inplace=True)"
   ]
  },
  {
   "cell_type": "code",
   "execution_count": 1386,
   "metadata": {},
   "outputs": [
    {
     "name": "stdout",
     "output_type": "stream",
     "text": [
      "63    15\n",
      "62    15\n",
      "55    14\n",
      "60    12\n",
      "58    12\n",
      "61    12\n",
      "57    10\n",
      "64     9\n",
      "56     9\n",
      "69     8\n",
      "59     8\n",
      "54     7\n",
      "51     7\n",
      "65     6\n",
      "74     5\n",
      "67     5\n",
      "53     5\n",
      "68     4\n",
      "48     4\n",
      "72     3\n",
      "66     3\n",
      "75     3\n",
      "40     2\n",
      "46     2\n",
      "50     2\n",
      "49     2\n",
      "41     2\n",
      "52     2\n",
      "71     2\n",
      "42     1\n",
      "37     1\n",
      "38     1\n",
      "77     1\n",
      "43     1\n",
      "44     1\n",
      "45     1\n",
      "76     1\n",
      "70     1\n",
      "35     1\n",
      "Name: Age, dtype: int64\n",
      "1    194\n",
      "0      6\n",
      "Name: Sex, dtype: int64\n",
      "4    131\n",
      "3     47\n",
      "2     14\n",
      "1      8\n",
      "Name: CP, dtype: int64\n",
      "134.7    57\n",
      "120      16\n",
      "130      15\n",
      "140      10\n",
      "150       9\n",
      "110       9\n",
      "160       8\n",
      "122       6\n",
      "142       5\n",
      "136       4\n",
      "128       4\n",
      "144       4\n",
      "170       4\n",
      "124       4\n",
      "134       4\n",
      "126       4\n",
      "158       3\n",
      "132       3\n",
      "104       2\n",
      "155       2\n",
      "180       2\n",
      "112       2\n",
      "125       2\n",
      "154       2\n",
      "152       2\n",
      "116       2\n",
      "138       2\n",
      "156       1\n",
      "135       1\n",
      "114       1\n",
      "178       1\n",
      "100       1\n",
      "118       1\n",
      "106       1\n",
      "102       1\n",
      "172       1\n",
      "96        1\n",
      "146       1\n",
      "190       1\n",
      "127       1\n",
      "Name: Trestbps, dtype: int64\n",
      "239.56    56\n",
      "203        4\n",
      "220        4\n",
      "258        4\n",
      "219        3\n",
      "          ..\n",
      "245        1\n",
      "272        1\n",
      "207        1\n",
      "306        1\n",
      "264        1\n",
      "Name: Chol, Length: 99, dtype: int64\n",
      "0    125\n",
      "1     68\n",
      "Name: Fbs, dtype: int64\n",
      "1    93\n",
      "0    80\n",
      "2    27\n",
      "Name: Restecg, dtype: int64\n",
      "120    12\n",
      "140    12\n",
      "110     8\n",
      "112     6\n",
      "130     6\n",
      "100     4\n",
      "105     4\n",
      "160     4\n",
      "128     4\n",
      "118     4\n",
      "150     4\n",
      "102     3\n",
      "84      3\n",
      "108     3\n",
      "122     3\n",
      "117     3\n",
      "125     3\n",
      "86      3\n",
      "135     3\n",
      "106     3\n",
      "148     3\n",
      "119     2\n",
      "98      2\n",
      "154     2\n",
      "180     2\n",
      "80      2\n",
      "138     2\n",
      "127     2\n",
      "165     2\n",
      "96      2\n",
      "111     2\n",
      "129     2\n",
      "94      1\n",
      "93      1\n",
      "151     1\n",
      "99      1\n",
      "141     1\n",
      "145     1\n",
      "162     1\n",
      "161     1\n",
      "149     1\n",
      "159     1\n",
      "115     1\n",
      "107     1\n",
      "121     1\n",
      "97      1\n",
      "144     1\n",
      "131     1\n",
      "123     1\n",
      "157     1\n",
      "124     1\n",
      "113     1\n",
      "133     1\n",
      "132     1\n",
      "88      1\n",
      "155     1\n",
      "126     1\n",
      "73      1\n",
      "69      1\n",
      "Name: Thalach, dtype: int64\n",
      "1    95\n",
      "0    52\n",
      "Name: Exang, dtype: int64\n",
      "0       40\n",
      "2       25\n",
      "1.5     21\n",
      "1       18\n",
      "3       13\n",
      "2.5      9\n",
      "0.5      7\n",
      "4        4\n",
      "1.3      2\n",
      "-0.5     1\n",
      "0.8      1\n",
      "1.7      1\n",
      "1.6      1\n",
      "3.5      1\n",
      "Name: Oldpeak, dtype: int64\n",
      "2    53\n",
      "3    29\n",
      "1    16\n",
      "Name: Slope, dtype: int64\n",
      "1    56\n",
      "0    51\n",
      "3    42\n",
      "2    41\n",
      "4    10\n",
      "Name: Num, dtype: int64\n"
     ]
    }
   ],
   "source": [
    "for col in heartdiseases:\n",
    "    print(heartdiseases[col].value_counts()) "
   ]
  },
  {
   "cell_type": "markdown",
   "metadata": {},
   "source": [
    "Now, There are no NaN values in this two columns"
   ]
  },
  {
   "cell_type": "code",
   "execution_count": 1387,
   "metadata": {},
   "outputs": [
    {
     "data": {
      "text/html": [
       "<div>\n",
       "<style scoped>\n",
       "    .dataframe tbody tr th:only-of-type {\n",
       "        vertical-align: middle;\n",
       "    }\n",
       "\n",
       "    .dataframe tbody tr th {\n",
       "        vertical-align: top;\n",
       "    }\n",
       "\n",
       "    .dataframe thead th {\n",
       "        text-align: right;\n",
       "    }\n",
       "</style>\n",
       "<table border=\"1\" class=\"dataframe\">\n",
       "  <thead>\n",
       "    <tr style=\"text-align: right;\">\n",
       "      <th></th>\n",
       "      <th>Age</th>\n",
       "      <th>Sex</th>\n",
       "      <th>CP</th>\n",
       "      <th>Trestbps</th>\n",
       "      <th>Chol</th>\n",
       "      <th>Fbs</th>\n",
       "      <th>Restecg</th>\n",
       "      <th>Thalach</th>\n",
       "      <th>Exang</th>\n",
       "      <th>Oldpeak</th>\n",
       "      <th>Slope</th>\n",
       "      <th>Num</th>\n",
       "    </tr>\n",
       "  </thead>\n",
       "  <tbody>\n",
       "    <tr>\n",
       "      <th>0</th>\n",
       "      <td>63</td>\n",
       "      <td>1</td>\n",
       "      <td>4</td>\n",
       "      <td>140</td>\n",
       "      <td>260</td>\n",
       "      <td>0</td>\n",
       "      <td>1</td>\n",
       "      <td>112</td>\n",
       "      <td>1</td>\n",
       "      <td>3</td>\n",
       "      <td>2</td>\n",
       "      <td>2</td>\n",
       "    </tr>\n",
       "    <tr>\n",
       "      <th>1</th>\n",
       "      <td>44</td>\n",
       "      <td>1</td>\n",
       "      <td>4</td>\n",
       "      <td>130</td>\n",
       "      <td>209</td>\n",
       "      <td>0</td>\n",
       "      <td>1</td>\n",
       "      <td>127</td>\n",
       "      <td>0</td>\n",
       "      <td>0</td>\n",
       "      <td>NaN</td>\n",
       "      <td>0</td>\n",
       "    </tr>\n",
       "    <tr>\n",
       "      <th>2</th>\n",
       "      <td>60</td>\n",
       "      <td>1</td>\n",
       "      <td>4</td>\n",
       "      <td>132</td>\n",
       "      <td>218</td>\n",
       "      <td>0</td>\n",
       "      <td>1</td>\n",
       "      <td>140</td>\n",
       "      <td>1</td>\n",
       "      <td>1.5</td>\n",
       "      <td>3</td>\n",
       "      <td>2</td>\n",
       "    </tr>\n",
       "    <tr>\n",
       "      <th>3</th>\n",
       "      <td>55</td>\n",
       "      <td>1</td>\n",
       "      <td>4</td>\n",
       "      <td>142</td>\n",
       "      <td>228</td>\n",
       "      <td>0</td>\n",
       "      <td>1</td>\n",
       "      <td>149</td>\n",
       "      <td>1</td>\n",
       "      <td>2.5</td>\n",
       "      <td>1</td>\n",
       "      <td>1</td>\n",
       "    </tr>\n",
       "    <tr>\n",
       "      <th>4</th>\n",
       "      <td>66</td>\n",
       "      <td>1</td>\n",
       "      <td>3</td>\n",
       "      <td>110</td>\n",
       "      <td>213</td>\n",
       "      <td>1</td>\n",
       "      <td>2</td>\n",
       "      <td>99</td>\n",
       "      <td>1</td>\n",
       "      <td>1.3</td>\n",
       "      <td>2</td>\n",
       "      <td>0</td>\n",
       "    </tr>\n",
       "  </tbody>\n",
       "</table>\n",
       "</div>"
      ],
      "text/plain": [
       "   Age  Sex  CP Trestbps Chol Fbs  Restecg Thalach Exang Oldpeak Slope  Num\n",
       "0   63    1   4      140  260   0        1     112     1       3     2    2\n",
       "1   44    1   4      130  209   0        1     127     0       0   NaN    0\n",
       "2   60    1   4      132  218   0        1     140     1     1.5     3    2\n",
       "3   55    1   4      142  228   0        1     149     1     2.5     1    1\n",
       "4   66    1   3      110  213   1        2      99     1     1.3     2    0"
      ]
     },
     "execution_count": 1387,
     "metadata": {},
     "output_type": "execute_result"
    }
   ],
   "source": [
    "heartdiseases.head()"
   ]
  },
  {
   "cell_type": "code",
   "execution_count": 1388,
   "metadata": {},
   "outputs": [
    {
     "data": {
      "text/plain": [
       "Age           0\n",
       "Sex           0\n",
       "CP            0\n",
       "Trestbps      0\n",
       "Chol          0\n",
       "Fbs           7\n",
       "Restecg       0\n",
       "Thalach      53\n",
       "Exang        53\n",
       "Oldpeak      56\n",
       "Slope       102\n",
       "Num           0\n",
       "dtype: int64"
      ]
     },
     "execution_count": 1388,
     "metadata": {},
     "output_type": "execute_result"
    }
   ],
   "source": [
    "heartdiseases.isnull().sum()"
   ]
  },
  {
   "cell_type": "markdown",
   "metadata": {},
   "source": [
    "# Thalach"
   ]
  },
  {
   "cell_type": "code",
   "execution_count": 1389,
   "metadata": {},
   "outputs": [
    {
     "data": {
      "text/plain": [
       "122.79591836734694"
      ]
     },
     "execution_count": 1389,
     "metadata": {},
     "output_type": "execute_result"
    }
   ],
   "source": [
    "df3=heartdiseases['Thalach']\n",
    "df3.value_counts()\n",
    "#heartdiseases['Thalach'].replace(0, np.nan,inplace=True) #Replace 0 to NaN values\n",
    "df3.dropna(axis=0, how='all',inplace=True) #Delete all the null values\n",
    "df3.value_counts()\n",
    "np.asarray(df3.iloc[:], dtype=np.float).mean() #Calculate the mean without 0"
   ]
  },
  {
   "cell_type": "markdown",
   "metadata": {},
   "source": [
    "# Oldpeak"
   ]
  },
  {
   "cell_type": "code",
   "execution_count": 1390,
   "metadata": {},
   "outputs": [
    {
     "data": {
      "text/plain": [
       "1.3208333333333333"
      ]
     },
     "execution_count": 1390,
     "metadata": {},
     "output_type": "execute_result"
    }
   ],
   "source": [
    "df4=heartdiseases['Oldpeak']\n",
    "df4.value_counts()\n",
    "#heartdiseases['Thalach'].replace(0, np.nan,inplace=True) #Replace 0 to NaN values\n",
    "df4.dropna(axis=0, how='all',inplace=True) #Delete all the null values\n",
    "df4.value_counts()\n",
    "np.asarray(df4.iloc[:], dtype=np.float).mean() #Calculate the mean without 0"
   ]
  },
  {
   "cell_type": "code",
   "execution_count": 1391,
   "metadata": {},
   "outputs": [],
   "source": [
    "values = {'Thalach': 59.35, 'Oldpeak': 1.32}\n",
    "heartdiseases.fillna(value=values,inplace=True)"
   ]
  },
  {
   "cell_type": "markdown",
   "metadata": {},
   "source": [
    "# Exang"
   ]
  },
  {
   "cell_type": "code",
   "execution_count": 1392,
   "metadata": {},
   "outputs": [],
   "source": [
    "heartdiseases['Exang'].bfill(inplace=True)"
   ]
  },
  {
   "cell_type": "markdown",
   "metadata": {},
   "source": [
    "# Slope"
   ]
  },
  {
   "cell_type": "code",
   "execution_count": 1393,
   "metadata": {},
   "outputs": [],
   "source": [
    "heartdiseases['Slope'].ffill(inplace=True)"
   ]
  },
  {
   "cell_type": "markdown",
   "metadata": {},
   "source": [
    "# Fbs"
   ]
  },
  {
   "cell_type": "code",
   "execution_count": 1394,
   "metadata": {},
   "outputs": [],
   "source": [
    "heartdiseases['Fbs'].ffill(inplace=True)"
   ]
  },
  {
   "cell_type": "code",
   "execution_count": 1395,
   "metadata": {},
   "outputs": [
    {
     "ename": "SyntaxError",
     "evalue": "invalid syntax (<ipython-input-1395-6cadd2102023>, line 1)",
     "output_type": "error",
     "traceback": [
      "\u001b[1;36m  File \u001b[1;32m\"<ipython-input-1395-6cadd2102023>\"\u001b[1;36m, line \u001b[1;32m1\u001b[0m\n\u001b[1;33m    Now, There are no null values present in the dataset\u001b[0m\n\u001b[1;37m               ^\u001b[0m\n\u001b[1;31mSyntaxError\u001b[0m\u001b[1;31m:\u001b[0m invalid syntax\n"
     ]
    }
   ],
   "source": [
    "Now, There are no null values present in the dataset"
   ]
  },
  {
   "cell_type": "code",
   "execution_count": 1396,
   "metadata": {},
   "outputs": [
    {
     "data": {
      "text/plain": [
       "Age         0\n",
       "Sex         0\n",
       "CP          0\n",
       "Trestbps    0\n",
       "Chol        0\n",
       "Fbs         0\n",
       "Restecg     0\n",
       "Thalach     0\n",
       "Exang       0\n",
       "Oldpeak     0\n",
       "Slope       0\n",
       "Num         0\n",
       "dtype: int64"
      ]
     },
     "execution_count": 1396,
     "metadata": {},
     "output_type": "execute_result"
    }
   ],
   "source": [
    "heartdiseases.isnull().sum()"
   ]
  },
  {
   "cell_type": "markdown",
   "metadata": {},
   "source": []
  },
  {
   "cell_type": "code",
   "execution_count": null,
   "metadata": {},
   "outputs": [],
   "source": []
  },
  {
   "cell_type": "code",
   "execution_count": 1397,
   "metadata": {
    "scrolled": true
   },
   "outputs": [
    {
     "data": {
      "text/html": [
       "<div>\n",
       "<style scoped>\n",
       "    .dataframe tbody tr th:only-of-type {\n",
       "        vertical-align: middle;\n",
       "    }\n",
       "\n",
       "    .dataframe tbody tr th {\n",
       "        vertical-align: top;\n",
       "    }\n",
       "\n",
       "    .dataframe thead th {\n",
       "        text-align: right;\n",
       "    }\n",
       "</style>\n",
       "<table border=\"1\" class=\"dataframe\">\n",
       "  <thead>\n",
       "    <tr style=\"text-align: right;\">\n",
       "      <th></th>\n",
       "      <th>Age</th>\n",
       "      <th>Sex</th>\n",
       "      <th>CP</th>\n",
       "      <th>Trestbps</th>\n",
       "      <th>Chol</th>\n",
       "      <th>Fbs</th>\n",
       "      <th>Restecg</th>\n",
       "      <th>Thalach</th>\n",
       "      <th>Exang</th>\n",
       "      <th>Oldpeak</th>\n",
       "      <th>Slope</th>\n",
       "      <th>Num</th>\n",
       "    </tr>\n",
       "  </thead>\n",
       "  <tbody>\n",
       "    <tr>\n",
       "      <th>0</th>\n",
       "      <td>63</td>\n",
       "      <td>1</td>\n",
       "      <td>4</td>\n",
       "      <td>140</td>\n",
       "      <td>260</td>\n",
       "      <td>0</td>\n",
       "      <td>1</td>\n",
       "      <td>112</td>\n",
       "      <td>1</td>\n",
       "      <td>3</td>\n",
       "      <td>2</td>\n",
       "      <td>2</td>\n",
       "    </tr>\n",
       "    <tr>\n",
       "      <th>1</th>\n",
       "      <td>44</td>\n",
       "      <td>1</td>\n",
       "      <td>4</td>\n",
       "      <td>130</td>\n",
       "      <td>209</td>\n",
       "      <td>0</td>\n",
       "      <td>1</td>\n",
       "      <td>127</td>\n",
       "      <td>0</td>\n",
       "      <td>0</td>\n",
       "      <td>2</td>\n",
       "      <td>0</td>\n",
       "    </tr>\n",
       "    <tr>\n",
       "      <th>2</th>\n",
       "      <td>60</td>\n",
       "      <td>1</td>\n",
       "      <td>4</td>\n",
       "      <td>132</td>\n",
       "      <td>218</td>\n",
       "      <td>0</td>\n",
       "      <td>1</td>\n",
       "      <td>140</td>\n",
       "      <td>1</td>\n",
       "      <td>1.5</td>\n",
       "      <td>3</td>\n",
       "      <td>2</td>\n",
       "    </tr>\n",
       "    <tr>\n",
       "      <th>3</th>\n",
       "      <td>55</td>\n",
       "      <td>1</td>\n",
       "      <td>4</td>\n",
       "      <td>142</td>\n",
       "      <td>228</td>\n",
       "      <td>0</td>\n",
       "      <td>1</td>\n",
       "      <td>149</td>\n",
       "      <td>1</td>\n",
       "      <td>2.5</td>\n",
       "      <td>1</td>\n",
       "      <td>1</td>\n",
       "    </tr>\n",
       "    <tr>\n",
       "      <th>4</th>\n",
       "      <td>66</td>\n",
       "      <td>1</td>\n",
       "      <td>3</td>\n",
       "      <td>110</td>\n",
       "      <td>213</td>\n",
       "      <td>1</td>\n",
       "      <td>2</td>\n",
       "      <td>99</td>\n",
       "      <td>1</td>\n",
       "      <td>1.3</td>\n",
       "      <td>2</td>\n",
       "      <td>0</td>\n",
       "    </tr>\n",
       "  </tbody>\n",
       "</table>\n",
       "</div>"
      ],
      "text/plain": [
       "   Age  Sex  CP Trestbps Chol Fbs  Restecg Thalach Exang Oldpeak Slope  Num\n",
       "0   63    1   4      140  260   0        1     112     1       3     2    2\n",
       "1   44    1   4      130  209   0        1     127     0       0     2    0\n",
       "2   60    1   4      132  218   0        1     140     1     1.5     3    2\n",
       "3   55    1   4      142  228   0        1     149     1     2.5     1    1\n",
       "4   66    1   3      110  213   1        2      99     1     1.3     2    0"
      ]
     },
     "execution_count": 1397,
     "metadata": {},
     "output_type": "execute_result"
    }
   ],
   "source": [
    "heartdiseases.head()"
   ]
  },
  {
   "cell_type": "markdown",
   "metadata": {},
   "source": [
    "# Convert Object type to float type"
   ]
  },
  {
   "cell_type": "code",
   "execution_count": 1398,
   "metadata": {},
   "outputs": [
    {
     "name": "stdout",
     "output_type": "stream",
     "text": [
      "Age         float64\n",
      "Sex         float64\n",
      "CP          float64\n",
      "Trestbps    float64\n",
      "Chol        float64\n",
      "Fbs         float64\n",
      "Restecg     float64\n",
      "Thalach     float64\n",
      "Exang       float64\n",
      "Oldpeak     float64\n",
      "Slope       float64\n",
      "Num         float64\n",
      "dtype: object\n"
     ]
    }
   ],
   "source": [
    "heartdiseases = heartdiseases.astype(float) \n",
    "print(heartdiseases.dtypes)"
   ]
  },
  {
   "cell_type": "code",
   "execution_count": 1399,
   "metadata": {},
   "outputs": [
    {
     "data": {
      "text/html": [
       "<div>\n",
       "<style scoped>\n",
       "    .dataframe tbody tr th:only-of-type {\n",
       "        vertical-align: middle;\n",
       "    }\n",
       "\n",
       "    .dataframe tbody tr th {\n",
       "        vertical-align: top;\n",
       "    }\n",
       "\n",
       "    .dataframe thead th {\n",
       "        text-align: right;\n",
       "    }\n",
       "</style>\n",
       "<table border=\"1\" class=\"dataframe\">\n",
       "  <thead>\n",
       "    <tr style=\"text-align: right;\">\n",
       "      <th></th>\n",
       "      <th>Age</th>\n",
       "      <th>Sex</th>\n",
       "      <th>CP</th>\n",
       "      <th>Trestbps</th>\n",
       "      <th>Chol</th>\n",
       "      <th>Fbs</th>\n",
       "      <th>Restecg</th>\n",
       "      <th>Thalach</th>\n",
       "      <th>Exang</th>\n",
       "      <th>Oldpeak</th>\n",
       "      <th>Slope</th>\n",
       "      <th>Num</th>\n",
       "    </tr>\n",
       "  </thead>\n",
       "  <tbody>\n",
       "    <tr>\n",
       "      <th>Age</th>\n",
       "      <td>1.000000</td>\n",
       "      <td>0.034230</td>\n",
       "      <td>-0.038280</td>\n",
       "      <td>0.188938</td>\n",
       "      <td>0.045534</td>\n",
       "      <td>0.146367</td>\n",
       "      <td>0.002400</td>\n",
       "      <td>-0.090130</td>\n",
       "      <td>0.036005</td>\n",
       "      <td>0.157088</td>\n",
       "      <td>-0.028833</td>\n",
       "      <td>0.287289</td>\n",
       "    </tr>\n",
       "    <tr>\n",
       "      <th>Sex</th>\n",
       "      <td>0.034230</td>\n",
       "      <td>1.000000</td>\n",
       "      <td>0.038036</td>\n",
       "      <td>0.023567</td>\n",
       "      <td>-0.158355</td>\n",
       "      <td>-0.053290</td>\n",
       "      <td>0.060621</td>\n",
       "      <td>-0.033425</td>\n",
       "      <td>-0.007963</td>\n",
       "      <td>0.097250</td>\n",
       "      <td>0.034358</td>\n",
       "      <td>0.147470</td>\n",
       "    </tr>\n",
       "    <tr>\n",
       "      <th>CP</th>\n",
       "      <td>-0.038280</td>\n",
       "      <td>0.038036</td>\n",
       "      <td>1.000000</td>\n",
       "      <td>0.054088</td>\n",
       "      <td>0.118327</td>\n",
       "      <td>-0.037586</td>\n",
       "      <td>0.034790</td>\n",
       "      <td>0.117993</td>\n",
       "      <td>0.235058</td>\n",
       "      <td>0.040268</td>\n",
       "      <td>0.033229</td>\n",
       "      <td>0.168210</td>\n",
       "    </tr>\n",
       "    <tr>\n",
       "      <th>Trestbps</th>\n",
       "      <td>0.188938</td>\n",
       "      <td>0.023567</td>\n",
       "      <td>0.054088</td>\n",
       "      <td>1.000000</td>\n",
       "      <td>0.016286</td>\n",
       "      <td>0.177974</td>\n",
       "      <td>0.061943</td>\n",
       "      <td>0.032543</td>\n",
       "      <td>0.162666</td>\n",
       "      <td>0.144378</td>\n",
       "      <td>-0.016837</td>\n",
       "      <td>0.217509</td>\n",
       "    </tr>\n",
       "    <tr>\n",
       "      <th>Chol</th>\n",
       "      <td>0.045534</td>\n",
       "      <td>-0.158355</td>\n",
       "      <td>0.118327</td>\n",
       "      <td>0.016286</td>\n",
       "      <td>1.000000</td>\n",
       "      <td>0.137812</td>\n",
       "      <td>-0.039420</td>\n",
       "      <td>-0.035088</td>\n",
       "      <td>0.082044</td>\n",
       "      <td>-0.002358</td>\n",
       "      <td>0.029816</td>\n",
       "      <td>0.105733</td>\n",
       "    </tr>\n",
       "    <tr>\n",
       "      <th>Fbs</th>\n",
       "      <td>0.146367</td>\n",
       "      <td>-0.053290</td>\n",
       "      <td>-0.037586</td>\n",
       "      <td>0.177974</td>\n",
       "      <td>0.137812</td>\n",
       "      <td>1.000000</td>\n",
       "      <td>0.165761</td>\n",
       "      <td>-0.020274</td>\n",
       "      <td>-0.126542</td>\n",
       "      <td>-0.075989</td>\n",
       "      <td>0.034704</td>\n",
       "      <td>0.052228</td>\n",
       "    </tr>\n",
       "    <tr>\n",
       "      <th>Restecg</th>\n",
       "      <td>0.002400</td>\n",
       "      <td>0.060621</td>\n",
       "      <td>0.034790</td>\n",
       "      <td>0.061943</td>\n",
       "      <td>-0.039420</td>\n",
       "      <td>0.165761</td>\n",
       "      <td>1.000000</td>\n",
       "      <td>-0.021340</td>\n",
       "      <td>-0.027818</td>\n",
       "      <td>-0.107010</td>\n",
       "      <td>-0.038687</td>\n",
       "      <td>-0.032800</td>\n",
       "    </tr>\n",
       "    <tr>\n",
       "      <th>Thalach</th>\n",
       "      <td>-0.090130</td>\n",
       "      <td>-0.033425</td>\n",
       "      <td>0.117993</td>\n",
       "      <td>0.032543</td>\n",
       "      <td>-0.035088</td>\n",
       "      <td>-0.020274</td>\n",
       "      <td>-0.021340</td>\n",
       "      <td>1.000000</td>\n",
       "      <td>-0.032188</td>\n",
       "      <td>0.096167</td>\n",
       "      <td>-0.025358</td>\n",
       "      <td>0.029877</td>\n",
       "    </tr>\n",
       "    <tr>\n",
       "      <th>Exang</th>\n",
       "      <td>0.036005</td>\n",
       "      <td>-0.007963</td>\n",
       "      <td>0.235058</td>\n",
       "      <td>0.162666</td>\n",
       "      <td>0.082044</td>\n",
       "      <td>-0.126542</td>\n",
       "      <td>-0.027818</td>\n",
       "      <td>-0.032188</td>\n",
       "      <td>1.000000</td>\n",
       "      <td>0.265218</td>\n",
       "      <td>0.161270</td>\n",
       "      <td>0.248429</td>\n",
       "    </tr>\n",
       "    <tr>\n",
       "      <th>Oldpeak</th>\n",
       "      <td>0.157088</td>\n",
       "      <td>0.097250</td>\n",
       "      <td>0.040268</td>\n",
       "      <td>0.144378</td>\n",
       "      <td>-0.002358</td>\n",
       "      <td>-0.075989</td>\n",
       "      <td>-0.107010</td>\n",
       "      <td>0.096167</td>\n",
       "      <td>0.265218</td>\n",
       "      <td>1.000000</td>\n",
       "      <td>0.173643</td>\n",
       "      <td>0.378257</td>\n",
       "    </tr>\n",
       "    <tr>\n",
       "      <th>Slope</th>\n",
       "      <td>-0.028833</td>\n",
       "      <td>0.034358</td>\n",
       "      <td>0.033229</td>\n",
       "      <td>-0.016837</td>\n",
       "      <td>0.029816</td>\n",
       "      <td>0.034704</td>\n",
       "      <td>-0.038687</td>\n",
       "      <td>-0.025358</td>\n",
       "      <td>0.161270</td>\n",
       "      <td>0.173643</td>\n",
       "      <td>1.000000</td>\n",
       "      <td>0.025698</td>\n",
       "    </tr>\n",
       "    <tr>\n",
       "      <th>Num</th>\n",
       "      <td>0.287289</td>\n",
       "      <td>0.147470</td>\n",
       "      <td>0.168210</td>\n",
       "      <td>0.217509</td>\n",
       "      <td>0.105733</td>\n",
       "      <td>0.052228</td>\n",
       "      <td>-0.032800</td>\n",
       "      <td>0.029877</td>\n",
       "      <td>0.248429</td>\n",
       "      <td>0.378257</td>\n",
       "      <td>0.025698</td>\n",
       "      <td>1.000000</td>\n",
       "    </tr>\n",
       "  </tbody>\n",
       "</table>\n",
       "</div>"
      ],
      "text/plain": [
       "               Age       Sex        CP  Trestbps      Chol       Fbs  \\\n",
       "Age       1.000000  0.034230 -0.038280  0.188938  0.045534  0.146367   \n",
       "Sex       0.034230  1.000000  0.038036  0.023567 -0.158355 -0.053290   \n",
       "CP       -0.038280  0.038036  1.000000  0.054088  0.118327 -0.037586   \n",
       "Trestbps  0.188938  0.023567  0.054088  1.000000  0.016286  0.177974   \n",
       "Chol      0.045534 -0.158355  0.118327  0.016286  1.000000  0.137812   \n",
       "Fbs       0.146367 -0.053290 -0.037586  0.177974  0.137812  1.000000   \n",
       "Restecg   0.002400  0.060621  0.034790  0.061943 -0.039420  0.165761   \n",
       "Thalach  -0.090130 -0.033425  0.117993  0.032543 -0.035088 -0.020274   \n",
       "Exang     0.036005 -0.007963  0.235058  0.162666  0.082044 -0.126542   \n",
       "Oldpeak   0.157088  0.097250  0.040268  0.144378 -0.002358 -0.075989   \n",
       "Slope    -0.028833  0.034358  0.033229 -0.016837  0.029816  0.034704   \n",
       "Num       0.287289  0.147470  0.168210  0.217509  0.105733  0.052228   \n",
       "\n",
       "           Restecg   Thalach     Exang   Oldpeak     Slope       Num  \n",
       "Age       0.002400 -0.090130  0.036005  0.157088 -0.028833  0.287289  \n",
       "Sex       0.060621 -0.033425 -0.007963  0.097250  0.034358  0.147470  \n",
       "CP        0.034790  0.117993  0.235058  0.040268  0.033229  0.168210  \n",
       "Trestbps  0.061943  0.032543  0.162666  0.144378 -0.016837  0.217509  \n",
       "Chol     -0.039420 -0.035088  0.082044 -0.002358  0.029816  0.105733  \n",
       "Fbs       0.165761 -0.020274 -0.126542 -0.075989  0.034704  0.052228  \n",
       "Restecg   1.000000 -0.021340 -0.027818 -0.107010 -0.038687 -0.032800  \n",
       "Thalach  -0.021340  1.000000 -0.032188  0.096167 -0.025358  0.029877  \n",
       "Exang    -0.027818 -0.032188  1.000000  0.265218  0.161270  0.248429  \n",
       "Oldpeak  -0.107010  0.096167  0.265218  1.000000  0.173643  0.378257  \n",
       "Slope    -0.038687 -0.025358  0.161270  0.173643  1.000000  0.025698  \n",
       "Num      -0.032800  0.029877  0.248429  0.378257  0.025698  1.000000  "
      ]
     },
     "execution_count": 1399,
     "metadata": {},
     "output_type": "execute_result"
    }
   ],
   "source": [
    "heartdiseases.corr()"
   ]
  },
  {
   "cell_type": "markdown",
   "metadata": {},
   "source": [
    "Correlation with the target variable : \n",
    "\n",
    "Age----0.287289 ( Positive and average correlation comparing others)\n",
    "\n",
    "Sex----0.287289  (Positive and average correlation comparing others)\n",
    "\n",
    "CP----0.168210   (Positive and average correlation comparing others)\n",
    "\n",
    "Trestbps----0.217509  (Positive and average correlation comparing others)\n",
    "\n",
    "Chol----0.105733  (Positive and average correlation comparing others)\n",
    "\n",
    "Fbs----0.052228  (Positive but less correlation comparing others)\n",
    "\n",
    "Restecg-----  -0.032800 (Negative and less correlation comparing others)\n",
    "\n",
    "Thalach----0.287289 (Positive and average correlation comparing others)\n",
    "\n",
    "Exang----0.248429  (Positive and average correlation comparing others)\n",
    "\n",
    "Oldpeak----0.378257  (Positive and average correlation comparing others)\n",
    "\n",
    "Slope----0.025698  (Positive but less correlation comparing others)\n"
   ]
  },
  {
   "cell_type": "code",
   "execution_count": 1400,
   "metadata": {},
   "outputs": [
    {
     "data": {
      "text/plain": [
       "<AxesSubplot:>"
      ]
     },
     "execution_count": 1400,
     "metadata": {},
     "output_type": "execute_result"
    },
    {
     "data": {
      "image/png": "[encoded data removed]",
      "text/plain": [
       "<Figure size 1800x1080 with 2 Axes>"
      ]
     },
     "metadata": {
      "needs_background": "light"
     },
     "output_type": "display_data"
    }
   ],
   "source": [
    "plt.subplots(figsize=(25,15))\n",
    "sns.heatmap(heartdiseases.corr(),annot=True)"
   ]
  },
  {
   "cell_type": "markdown",
   "metadata": {},
   "source": [
    "I am getting the same result as before"
   ]
  },
  {
   "cell_type": "code",
   "execution_count": 1401,
   "metadata": {},
   "outputs": [
    {
     "data": {
      "text/html": [
       "<div>\n",
       "<style scoped>\n",
       "    .dataframe tbody tr th:only-of-type {\n",
       "        vertical-align: middle;\n",
       "    }\n",
       "\n",
       "    .dataframe tbody tr th {\n",
       "        vertical-align: top;\n",
       "    }\n",
       "\n",
       "    .dataframe thead th {\n",
       "        text-align: right;\n",
       "    }\n",
       "</style>\n",
       "<table border=\"1\" class=\"dataframe\">\n",
       "  <thead>\n",
       "    <tr style=\"text-align: right;\">\n",
       "      <th></th>\n",
       "      <th>Age</th>\n",
       "      <th>Sex</th>\n",
       "      <th>CP</th>\n",
       "      <th>Trestbps</th>\n",
       "      <th>Chol</th>\n",
       "      <th>Fbs</th>\n",
       "      <th>Restecg</th>\n",
       "      <th>Thalach</th>\n",
       "      <th>Exang</th>\n",
       "      <th>Oldpeak</th>\n",
       "      <th>Slope</th>\n",
       "      <th>Num</th>\n",
       "    </tr>\n",
       "  </thead>\n",
       "  <tbody>\n",
       "    <tr>\n",
       "      <th>count</th>\n",
       "      <td>200.000000</td>\n",
       "      <td>200.000000</td>\n",
       "      <td>200.000000</td>\n",
       "      <td>200.000000</td>\n",
       "      <td>200.000000</td>\n",
       "      <td>200.000000</td>\n",
       "      <td>200.000000</td>\n",
       "      <td>200.000000</td>\n",
       "      <td>200.000000</td>\n",
       "      <td>200.000000</td>\n",
       "      <td>200.00000</td>\n",
       "      <td>200.000000</td>\n",
       "    </tr>\n",
       "    <tr>\n",
       "      <th>mean</th>\n",
       "      <td>59.350000</td>\n",
       "      <td>0.970000</td>\n",
       "      <td>3.505000</td>\n",
       "      <td>134.699500</td>\n",
       "      <td>239.566800</td>\n",
       "      <td>0.355000</td>\n",
       "      <td>0.735000</td>\n",
       "      <td>105.982750</td>\n",
       "      <td>0.645000</td>\n",
       "      <td>1.320600</td>\n",
       "      <td>2.12500</td>\n",
       "      <td>1.520000</td>\n",
       "    </tr>\n",
       "    <tr>\n",
       "      <th>std</th>\n",
       "      <td>7.811697</td>\n",
       "      <td>0.171015</td>\n",
       "      <td>0.795701</td>\n",
       "      <td>15.581859</td>\n",
       "      <td>44.748954</td>\n",
       "      <td>0.479714</td>\n",
       "      <td>0.683455</td>\n",
       "      <td>33.804844</td>\n",
       "      <td>0.479714</td>\n",
       "      <td>0.937755</td>\n",
       "      <td>0.64143</td>\n",
       "      <td>1.219441</td>\n",
       "    </tr>\n",
       "    <tr>\n",
       "      <th>min</th>\n",
       "      <td>35.000000</td>\n",
       "      <td>0.000000</td>\n",
       "      <td>1.000000</td>\n",
       "      <td>96.000000</td>\n",
       "      <td>100.000000</td>\n",
       "      <td>0.000000</td>\n",
       "      <td>0.000000</td>\n",
       "      <td>59.350000</td>\n",
       "      <td>0.000000</td>\n",
       "      <td>-0.500000</td>\n",
       "      <td>1.00000</td>\n",
       "      <td>0.000000</td>\n",
       "    </tr>\n",
       "    <tr>\n",
       "      <th>25%</th>\n",
       "      <td>55.000000</td>\n",
       "      <td>1.000000</td>\n",
       "      <td>3.000000</td>\n",
       "      <td>126.000000</td>\n",
       "      <td>217.000000</td>\n",
       "      <td>0.000000</td>\n",
       "      <td>0.000000</td>\n",
       "      <td>59.350000</td>\n",
       "      <td>0.000000</td>\n",
       "      <td>1.000000</td>\n",
       "      <td>2.00000</td>\n",
       "      <td>0.000000</td>\n",
       "    </tr>\n",
       "    <tr>\n",
       "      <th>50%</th>\n",
       "      <td>60.000000</td>\n",
       "      <td>1.000000</td>\n",
       "      <td>4.000000</td>\n",
       "      <td>134.700000</td>\n",
       "      <td>239.560000</td>\n",
       "      <td>0.000000</td>\n",
       "      <td>1.000000</td>\n",
       "      <td>111.500000</td>\n",
       "      <td>1.000000</td>\n",
       "      <td>1.320000</td>\n",
       "      <td>2.00000</td>\n",
       "      <td>1.000000</td>\n",
       "    </tr>\n",
       "    <tr>\n",
       "      <th>75%</th>\n",
       "      <td>64.000000</td>\n",
       "      <td>1.000000</td>\n",
       "      <td>4.000000</td>\n",
       "      <td>140.000000</td>\n",
       "      <td>254.500000</td>\n",
       "      <td>1.000000</td>\n",
       "      <td>1.000000</td>\n",
       "      <td>130.000000</td>\n",
       "      <td>1.000000</td>\n",
       "      <td>2.000000</td>\n",
       "      <td>3.00000</td>\n",
       "      <td>3.000000</td>\n",
       "    </tr>\n",
       "    <tr>\n",
       "      <th>max</th>\n",
       "      <td>77.000000</td>\n",
       "      <td>1.000000</td>\n",
       "      <td>4.000000</td>\n",
       "      <td>190.000000</td>\n",
       "      <td>458.000000</td>\n",
       "      <td>1.000000</td>\n",
       "      <td>2.000000</td>\n",
       "      <td>180.000000</td>\n",
       "      <td>1.000000</td>\n",
       "      <td>4.000000</td>\n",
       "      <td>3.00000</td>\n",
       "      <td>4.000000</td>\n",
       "    </tr>\n",
       "  </tbody>\n",
       "</table>\n",
       "</div>"
      ],
      "text/plain": [
       "              Age         Sex          CP    Trestbps        Chol         Fbs  \\\n",
       "count  200.000000  200.000000  200.000000  200.000000  200.000000  200.000000   \n",
       "mean    59.350000    0.970000    3.505000  134.699500  239.566800    0.355000   \n",
       "std      7.811697    0.171015    0.795701   15.581859   44.748954    0.479714   \n",
       "min     35.000000    0.000000    1.000000   96.000000  100.000000    0.000000   \n",
       "25%     55.000000    1.000000    3.000000  126.000000  217.000000    0.000000   \n",
       "50%     60.000000    1.000000    4.000000  134.700000  239.560000    0.000000   \n",
       "75%     64.000000    1.000000    4.000000  140.000000  254.500000    1.000000   \n",
       "max     77.000000    1.000000    4.000000  190.000000  458.000000    1.000000   \n",
       "\n",
       "          Restecg     Thalach       Exang     Oldpeak      Slope         Num  \n",
       "count  200.000000  200.000000  200.000000  200.000000  200.00000  200.000000  \n",
       "mean     0.735000  105.982750    0.645000    1.320600    2.12500    1.520000  \n",
       "std      0.683455   33.804844    0.479714    0.937755    0.64143    1.219441  \n",
       "min      0.000000   59.350000    0.000000   -0.500000    1.00000    0.000000  \n",
       "25%      0.000000   59.350000    0.000000    1.000000    2.00000    0.000000  \n",
       "50%      1.000000  111.500000    1.000000    1.320000    2.00000    1.000000  \n",
       "75%      1.000000  130.000000    1.000000    2.000000    3.00000    3.000000  \n",
       "max      2.000000  180.000000    1.000000    4.000000    3.00000    4.000000  "
      ]
     },
     "execution_count": 1401,
     "metadata": {},
     "output_type": "execute_result"
    }
   ],
   "source": [
    "heartdiseases.describe()"
   ]
  },
  {
   "cell_type": "markdown",
   "metadata": {},
   "source": [
    "Observations : \n",
    "    \n",
    "    1. In the 'Chol' column there are huge difference between 75 percentile and the max value. There might have outliers. But Other columns are ok.\n",
    "    \n",
    "    2. In all the columns mean and 50 percentile are nearly which represent the normal data."
   ]
  },
  {
   "cell_type": "code",
   "execution_count": 1402,
   "metadata": {},
   "outputs": [
    {
     "data": {
      "text/plain": [
       "<AxesSubplot:>"
      ]
     },
     "execution_count": 1402,
     "metadata": {},
     "output_type": "execute_result"
    },
    {
     "data": {
      "image/png": "[encoded data removed]",
      "text/plain": [
       "<Figure size 1800x1080 with 2 Axes>"
      ]
     },
     "metadata": {
      "needs_background": "light"
     },
     "output_type": "display_data"
    }
   ],
   "source": [
    "plt.subplots(figsize=(25,15))\n",
    "sns.heatmap(heartdiseases.describe(),annot=True)"
   ]
  },
  {
   "cell_type": "code",
   "execution_count": 1403,
   "metadata": {},
   "outputs": [
    {
     "data": {
      "image/png": "[encoded data removed]",
      "text/plain": [
       "<Figure size 1440x1440 with 12 Axes>"
      ]
     },
     "metadata": {
      "needs_background": "light"
     },
     "output_type": "display_data"
    }
   ],
   "source": [
    "heartdiseases.hist(figsize=(20,20))\n",
    "plt.show()"
   ]
  },
  {
   "cell_type": "markdown",
   "metadata": {},
   "source": [
    "The above histogram is showing how each attribute is distributed within the dataset. For some of the attributes you can sort of see the beginning of outliers forming in blood pressure, cholesterol, and old peak. In these columns the peak are too high than others what represent there are outliers. Also it is showing that all the columns are not normally distributed."
   ]
  },
  {
   "cell_type": "markdown",
   "metadata": {},
   "source": [
    "# Target Variable and Age "
   ]
  },
  {
   "cell_type": "code",
   "execution_count": 1404,
   "metadata": {},
   "outputs": [
    {
     "data": {
      "text/plain": [
       "<matplotlib.legend.Legend at 0x241cd10b2b0>"
      ]
     },
     "execution_count": 1404,
     "metadata": {},
     "output_type": "execute_result"
    },
    {
     "data": {
      "image/png": "[encoded data removed]",
      "text/plain": [
       "<Figure size 1440x648 with 1 Axes>"
      ]
     },
     "metadata": {
      "needs_background": "light"
     },
     "output_type": "display_data"
    }
   ],
   "source": [
    "plt.figure(figsize=(20,9))\n",
    "#plt.legend(loc='upper left')\n",
    "\n",
    "g = sns.countplot(data = heartdiseases, x = 'Age', hue = 'Num')\n",
    "g.legend(title = 'patient', loc='center left', bbox_to_anchor=(1.25, 0.5), ncol=1)"
   ]
  },
  {
   "cell_type": "markdown",
   "metadata": {},
   "source": [
    "It's showing that the age from 52 to 66 heart disease has been clustered"
   ]
  },
  {
   "cell_type": "markdown",
   "metadata": {},
   "source": [
    "# Target Variable and sex"
   ]
  },
  {
   "cell_type": "code",
   "execution_count": 1405,
   "metadata": {},
   "outputs": [
    {
     "data": {
      "text/plain": [
       "<matplotlib.legend.Legend at 0x241cd650f70>"
      ]
     },
     "execution_count": 1405,
     "metadata": {},
     "output_type": "execute_result"
    },
    {
     "data": {
      "image/png": "[encoded data removed]",
      "text/plain": [
       "<Figure size 720x288 with 1 Axes>"
      ]
     },
     "metadata": {
      "needs_background": "light"
     },
     "output_type": "display_data"
    }
   ],
   "source": [
    "plt.figure(figsize=(10,4))\n",
    "#plt.legend(loc='upper left')\n",
    "\n",
    "g = sns.countplot(data = heartdiseases, x = 'Sex', hue = 'Num')\n",
    "g.legend(title = 'patient', loc='center left', bbox_to_anchor=(1.25, 0.5), ncol=1)"
   ]
  },
  {
   "cell_type": "markdown",
   "metadata": {},
   "source": [
    "Here, 1 is male and 0 is Female. Male has higher rate of heart disease"
   ]
  },
  {
   "cell_type": "markdown",
   "metadata": {},
   "source": [
    "# Chi-square test"
   ]
  },
  {
   "cell_type": "code",
   "execution_count": 1406,
   "metadata": {},
   "outputs": [
    {
     "data": {
      "text/plain": [
       "(5.401542060123019,\n",
       " 0.2485205239227052,\n",
       " 4,\n",
       " array([[ 1.53,  1.68,  1.23,  1.26,  0.3 ],\n",
       "        [49.47, 54.32, 39.77, 40.74,  9.7 ]]))"
      ]
     },
     "execution_count": 1406,
     "metadata": {},
     "output_type": "execute_result"
    }
   ],
   "source": [
    "import scipy.stats\n",
    "chi = pd.crosstab(heartdiseases[\"Sex\"],heartdiseases[\"Num\"])\n",
    "scipy.stats.chi2_contingency(chi)"
   ]
  },
  {
   "cell_type": "markdown",
   "metadata": {},
   "source": [
    "Here, the P-value>0.05. So, we can accept the null hypothesis."
   ]
  },
  {
   "cell_type": "markdown",
   "metadata": {},
   "source": [
    "# chest pain and heart disease"
   ]
  },
  {
   "cell_type": "code",
   "execution_count": 1407,
   "metadata": {},
   "outputs": [
    {
     "data": {
      "text/plain": [
       "(23.882859197268516,\n",
       " 0.021100132709511794,\n",
       " 12,\n",
       " array([[ 2.04 ,  2.24 ,  1.64 ,  1.68 ,  0.4  ],\n",
       "        [ 3.57 ,  3.92 ,  2.87 ,  2.94 ,  0.7  ],\n",
       "        [11.985, 13.16 ,  9.635,  9.87 ,  2.35 ],\n",
       "        [33.405, 36.68 , 26.855, 27.51 ,  6.55 ]]))"
      ]
     },
     "execution_count": 1407,
     "metadata": {},
     "output_type": "execute_result"
    }
   ],
   "source": [
    "chi2 = pd.crosstab(heartdiseases[\"CP\"],heartdiseases[\"Num\"])\n",
    "scipy.stats.chi2_contingency(chi2)"
   ]
  },
  {
   "cell_type": "markdown",
   "metadata": {},
   "source": [
    "Here The p_value<0.05. We can reject the null hypothesis."
   ]
  },
  {
   "cell_type": "code",
   "execution_count": 1408,
   "metadata": {},
   "outputs": [
    {
     "data": {
      "text/plain": [
       "<matplotlib.legend.Legend at 0x241ccb0deb0>"
      ]
     },
     "execution_count": 1408,
     "metadata": {},
     "output_type": "execute_result"
    },
    {
     "data": {
      "image/png": "[encoded data removed]",
      "text/plain": [
       "<Figure size 720x288 with 1 Axes>"
      ]
     },
     "metadata": {
      "needs_background": "light"
     },
     "output_type": "display_data"
    }
   ],
   "source": [
    "plt.figure(figsize=(10,4))\n",
    "#plt.legend(loc='upper left')\n",
    "\n",
    "g = sns.countplot(data = heartdiseases, x = 'CP', hue = 'Num')\n",
    "g.legend(title = 'patient', loc='center left', bbox_to_anchor=(1.25, 0.5), ncol=1)"
   ]
  },
  {
   "cell_type": "markdown",
   "metadata": {},
   "source": [
    "# cholesterol and heart disease"
   ]
  },
  {
   "cell_type": "code",
   "execution_count": 1409,
   "metadata": {
    "scrolled": false
   },
   "outputs": [
    {
     "data": {
      "text/plain": [
       "<matplotlib.legend.Legend at 0x241c59b0c70>"
      ]
     },
     "execution_count": 1409,
     "metadata": {},
     "output_type": "execute_result"
    },
    {
     "data": {
      "image/png": "[encoded data removed]",
      "text/plain": [
       "<Figure size 720x288 with 1 Axes>"
      ]
     },
     "metadata": {
      "needs_background": "light"
     },
     "output_type": "display_data"
    }
   ],
   "source": [
    "plt.figure(figsize=(10,4))\n",
    "#plt.legend(loc='upper left')\n",
    "\n",
    "g = sns.countplot(data = heartdiseases, x = 'Chol', hue = 'Num')\n",
    "g.legend(title = 'patient', loc='center left', bbox_to_anchor=(1.25, 0.5), ncol=1)"
   ]
  },
  {
   "cell_type": "code",
   "execution_count": 1410,
   "metadata": {},
   "outputs": [
    {
     "data": {
      "text/plain": [
       "Index(['Age', 'Sex', 'CP', 'Trestbps', 'Chol', 'Fbs', 'Restecg', 'Thalach',\n",
       "       'Exang', 'Oldpeak', 'Slope', 'Num'],\n",
       "      dtype='object')"
      ]
     },
     "execution_count": 1410,
     "metadata": {},
     "output_type": "execute_result"
    }
   ],
   "source": [
    "heartdiseases.columns"
   ]
  },
  {
   "cell_type": "markdown",
   "metadata": {},
   "source": [
    "# Fbs and heart disease"
   ]
  },
  {
   "cell_type": "code",
   "execution_count": 1411,
   "metadata": {},
   "outputs": [
    {
     "data": {
      "text/plain": [
       "array([[<AxesSubplot:xlabel='Fbs', ylabel='Num'>,\n",
       "        <AxesSubplot:xlabel='Fbs', ylabel='Num'>,\n",
       "        <AxesSubplot:xlabel='Fbs', ylabel='Num'>],\n",
       "       [<AxesSubplot:xlabel='Fbs', ylabel='Num'>,\n",
       "        <AxesSubplot:xlabel='Fbs', ylabel='Num'>,\n",
       "        <AxesSubplot:xlabel='Fbs', ylabel='Num'>],\n",
       "       [<AxesSubplot:xlabel='Fbs', ylabel='Num'>,\n",
       "        <AxesSubplot:xlabel='Fbs', ylabel='Num'>,\n",
       "        <AxesSubplot:xlabel='Fbs', ylabel='Num'>]], dtype=object)"
      ]
     },
     "execution_count": 1411,
     "metadata": {},
     "output_type": "execute_result"
    },
    {
     "data": {
      "image/png": "[encoded data removed]",
      "text/plain": [
       "<Figure size 864x1152 with 9 Axes>"
      ]
     },
     "metadata": {
      "needs_background": "light"
     },
     "output_type": "display_data"
    }
   ],
   "source": [
    "heartdiseases.plot(kind='scatter',x=\"Fbs\",y=\"Num\",subplots=True,layout=(3,3),figsize=(12,16))"
   ]
  },
  {
   "cell_type": "markdown",
   "metadata": {},
   "source": [
    "# Checling Outliers"
   ]
  },
  {
   "cell_type": "code",
   "execution_count": 1412,
   "metadata": {},
   "outputs": [
    {
     "data": {
      "text/plain": [
       "Age            AxesSubplot(0.125,0.536818;0.0945122x0.343182)\n",
       "Sex         AxesSubplot(0.238415,0.536818;0.0945122x0.343182)\n",
       "CP          AxesSubplot(0.351829,0.536818;0.0945122x0.343182)\n",
       "Trestbps    AxesSubplot(0.465244,0.536818;0.0945122x0.343182)\n",
       "Chol        AxesSubplot(0.578659,0.536818;0.0945122x0.343182)\n",
       "Fbs         AxesSubplot(0.692073,0.536818;0.0945122x0.343182)\n",
       "Restecg     AxesSubplot(0.805488,0.536818;0.0945122x0.343182)\n",
       "Thalach           AxesSubplot(0.125,0.125;0.0945122x0.343182)\n",
       "Exang          AxesSubplot(0.238415,0.125;0.0945122x0.343182)\n",
       "Oldpeak        AxesSubplot(0.351829,0.125;0.0945122x0.343182)\n",
       "Slope          AxesSubplot(0.465244,0.125;0.0945122x0.343182)\n",
       "Num            AxesSubplot(0.578659,0.125;0.0945122x0.343182)\n",
       "dtype: object"
      ]
     },
     "execution_count": 1412,
     "metadata": {},
     "output_type": "execute_result"
    },
    {
     "data": {
      "image/png": "[encoded data removed]",
      "text/plain": [
       "<Figure size 1440x1080 with 14 Axes>"
      ]
     },
     "metadata": {
      "needs_background": "light"
     },
     "output_type": "display_data"
    }
   ],
   "source": [
    "heartdiseases.plot(kind='box',subplots=True,sharex=False,sharey=False,layout=(2,7),figsize=(20,15))"
   ]
  },
  {
   "cell_type": "markdown",
   "metadata": {},
   "source": [
    "Outliers are present in \"Age\",\"Sex\",\"CP\",\"Trestbps\",\"Chol \",\"Oldpeak\" columns"
   ]
  },
  {
   "cell_type": "code",
   "execution_count": 1413,
   "metadata": {},
   "outputs": [
    {
     "data": {
      "text/html": [
       "<div>\n",
       "<style scoped>\n",
       "    .dataframe tbody tr th:only-of-type {\n",
       "        vertical-align: middle;\n",
       "    }\n",
       "\n",
       "    .dataframe tbody tr th {\n",
       "        vertical-align: top;\n",
       "    }\n",
       "\n",
       "    .dataframe thead th {\n",
       "        text-align: right;\n",
       "    }\n",
       "</style>\n",
       "<table border=\"1\" class=\"dataframe\">\n",
       "  <thead>\n",
       "    <tr style=\"text-align: right;\">\n",
       "      <th></th>\n",
       "      <th>Age</th>\n",
       "      <th>Sex</th>\n",
       "      <th>CP</th>\n",
       "      <th>Trestbps</th>\n",
       "      <th>Chol</th>\n",
       "      <th>Fbs</th>\n",
       "      <th>Restecg</th>\n",
       "      <th>Thalach</th>\n",
       "      <th>Exang</th>\n",
       "      <th>Oldpeak</th>\n",
       "      <th>Slope</th>\n",
       "      <th>Num</th>\n",
       "    </tr>\n",
       "  </thead>\n",
       "  <tbody>\n",
       "    <tr>\n",
       "      <th>Age</th>\n",
       "      <td>1.000000</td>\n",
       "      <td>0.034230</td>\n",
       "      <td>-0.038280</td>\n",
       "      <td>0.188938</td>\n",
       "      <td>0.045534</td>\n",
       "      <td>0.146367</td>\n",
       "      <td>0.002400</td>\n",
       "      <td>-0.090130</td>\n",
       "      <td>0.036005</td>\n",
       "      <td>0.157088</td>\n",
       "      <td>-0.028833</td>\n",
       "      <td>0.287289</td>\n",
       "    </tr>\n",
       "    <tr>\n",
       "      <th>Sex</th>\n",
       "      <td>0.034230</td>\n",
       "      <td>1.000000</td>\n",
       "      <td>0.038036</td>\n",
       "      <td>0.023567</td>\n",
       "      <td>-0.158355</td>\n",
       "      <td>-0.053290</td>\n",
       "      <td>0.060621</td>\n",
       "      <td>-0.033425</td>\n",
       "      <td>-0.007963</td>\n",
       "      <td>0.097250</td>\n",
       "      <td>0.034358</td>\n",
       "      <td>0.147470</td>\n",
       "    </tr>\n",
       "    <tr>\n",
       "      <th>CP</th>\n",
       "      <td>-0.038280</td>\n",
       "      <td>0.038036</td>\n",
       "      <td>1.000000</td>\n",
       "      <td>0.054088</td>\n",
       "      <td>0.118327</td>\n",
       "      <td>-0.037586</td>\n",
       "      <td>0.034790</td>\n",
       "      <td>0.117993</td>\n",
       "      <td>0.235058</td>\n",
       "      <td>0.040268</td>\n",
       "      <td>0.033229</td>\n",
       "      <td>0.168210</td>\n",
       "    </tr>\n",
       "    <tr>\n",
       "      <th>Trestbps</th>\n",
       "      <td>0.188938</td>\n",
       "      <td>0.023567</td>\n",
       "      <td>0.054088</td>\n",
       "      <td>1.000000</td>\n",
       "      <td>0.016286</td>\n",
       "      <td>0.177974</td>\n",
       "      <td>0.061943</td>\n",
       "      <td>0.032543</td>\n",
       "      <td>0.162666</td>\n",
       "      <td>0.144378</td>\n",
       "      <td>-0.016837</td>\n",
       "      <td>0.217509</td>\n",
       "    </tr>\n",
       "    <tr>\n",
       "      <th>Chol</th>\n",
       "      <td>0.045534</td>\n",
       "      <td>-0.158355</td>\n",
       "      <td>0.118327</td>\n",
       "      <td>0.016286</td>\n",
       "      <td>1.000000</td>\n",
       "      <td>0.137812</td>\n",
       "      <td>-0.039420</td>\n",
       "      <td>-0.035088</td>\n",
       "      <td>0.082044</td>\n",
       "      <td>-0.002358</td>\n",
       "      <td>0.029816</td>\n",
       "      <td>0.105733</td>\n",
       "    </tr>\n",
       "    <tr>\n",
       "      <th>Fbs</th>\n",
       "      <td>0.146367</td>\n",
       "      <td>-0.053290</td>\n",
       "      <td>-0.037586</td>\n",
       "      <td>0.177974</td>\n",
       "      <td>0.137812</td>\n",
       "      <td>1.000000</td>\n",
       "      <td>0.165761</td>\n",
       "      <td>-0.020274</td>\n",
       "      <td>-0.126542</td>\n",
       "      <td>-0.075989</td>\n",
       "      <td>0.034704</td>\n",
       "      <td>0.052228</td>\n",
       "    </tr>\n",
       "    <tr>\n",
       "      <th>Restecg</th>\n",
       "      <td>0.002400</td>\n",
       "      <td>0.060621</td>\n",
       "      <td>0.034790</td>\n",
       "      <td>0.061943</td>\n",
       "      <td>-0.039420</td>\n",
       "      <td>0.165761</td>\n",
       "      <td>1.000000</td>\n",
       "      <td>-0.021340</td>\n",
       "      <td>-0.027818</td>\n",
       "      <td>-0.107010</td>\n",
       "      <td>-0.038687</td>\n",
       "      <td>-0.032800</td>\n",
       "    </tr>\n",
       "    <tr>\n",
       "      <th>Thalach</th>\n",
       "      <td>-0.090130</td>\n",
       "      <td>-0.033425</td>\n",
       "      <td>0.117993</td>\n",
       "      <td>0.032543</td>\n",
       "      <td>-0.035088</td>\n",
       "      <td>-0.020274</td>\n",
       "      <td>-0.021340</td>\n",
       "      <td>1.000000</td>\n",
       "      <td>-0.032188</td>\n",
       "      <td>0.096167</td>\n",
       "      <td>-0.025358</td>\n",
       "      <td>0.029877</td>\n",
       "    </tr>\n",
       "    <tr>\n",
       "      <th>Exang</th>\n",
       "      <td>0.036005</td>\n",
       "      <td>-0.007963</td>\n",
       "      <td>0.235058</td>\n",
       "      <td>0.162666</td>\n",
       "      <td>0.082044</td>\n",
       "      <td>-0.126542</td>\n",
       "      <td>-0.027818</td>\n",
       "      <td>-0.032188</td>\n",
       "      <td>1.000000</td>\n",
       "      <td>0.265218</td>\n",
       "      <td>0.161270</td>\n",
       "      <td>0.248429</td>\n",
       "    </tr>\n",
       "    <tr>\n",
       "      <th>Oldpeak</th>\n",
       "      <td>0.157088</td>\n",
       "      <td>0.097250</td>\n",
       "      <td>0.040268</td>\n",
       "      <td>0.144378</td>\n",
       "      <td>-0.002358</td>\n",
       "      <td>-0.075989</td>\n",
       "      <td>-0.107010</td>\n",
       "      <td>0.096167</td>\n",
       "      <td>0.265218</td>\n",
       "      <td>1.000000</td>\n",
       "      <td>0.173643</td>\n",
       "      <td>0.378257</td>\n",
       "    </tr>\n",
       "    <tr>\n",
       "      <th>Slope</th>\n",
       "      <td>-0.028833</td>\n",
       "      <td>0.034358</td>\n",
       "      <td>0.033229</td>\n",
       "      <td>-0.016837</td>\n",
       "      <td>0.029816</td>\n",
       "      <td>0.034704</td>\n",
       "      <td>-0.038687</td>\n",
       "      <td>-0.025358</td>\n",
       "      <td>0.161270</td>\n",
       "      <td>0.173643</td>\n",
       "      <td>1.000000</td>\n",
       "      <td>0.025698</td>\n",
       "    </tr>\n",
       "    <tr>\n",
       "      <th>Num</th>\n",
       "      <td>0.287289</td>\n",
       "      <td>0.147470</td>\n",
       "      <td>0.168210</td>\n",
       "      <td>0.217509</td>\n",
       "      <td>0.105733</td>\n",
       "      <td>0.052228</td>\n",
       "      <td>-0.032800</td>\n",
       "      <td>0.029877</td>\n",
       "      <td>0.248429</td>\n",
       "      <td>0.378257</td>\n",
       "      <td>0.025698</td>\n",
       "      <td>1.000000</td>\n",
       "    </tr>\n",
       "  </tbody>\n",
       "</table>\n",
       "</div>"
      ],
      "text/plain": [
       "               Age       Sex        CP  Trestbps      Chol       Fbs  \\\n",
       "Age       1.000000  0.034230 -0.038280  0.188938  0.045534  0.146367   \n",
       "Sex       0.034230  1.000000  0.038036  0.023567 -0.158355 -0.053290   \n",
       "CP       -0.038280  0.038036  1.000000  0.054088  0.118327 -0.037586   \n",
       "Trestbps  0.188938  0.023567  0.054088  1.000000  0.016286  0.177974   \n",
       "Chol      0.045534 -0.158355  0.118327  0.016286  1.000000  0.137812   \n",
       "Fbs       0.146367 -0.053290 -0.037586  0.177974  0.137812  1.000000   \n",
       "Restecg   0.002400  0.060621  0.034790  0.061943 -0.039420  0.165761   \n",
       "Thalach  -0.090130 -0.033425  0.117993  0.032543 -0.035088 -0.020274   \n",
       "Exang     0.036005 -0.007963  0.235058  0.162666  0.082044 -0.126542   \n",
       "Oldpeak   0.157088  0.097250  0.040268  0.144378 -0.002358 -0.075989   \n",
       "Slope    -0.028833  0.034358  0.033229 -0.016837  0.029816  0.034704   \n",
       "Num       0.287289  0.147470  0.168210  0.217509  0.105733  0.052228   \n",
       "\n",
       "           Restecg   Thalach     Exang   Oldpeak     Slope       Num  \n",
       "Age       0.002400 -0.090130  0.036005  0.157088 -0.028833  0.287289  \n",
       "Sex       0.060621 -0.033425 -0.007963  0.097250  0.034358  0.147470  \n",
       "CP        0.034790  0.117993  0.235058  0.040268  0.033229  0.168210  \n",
       "Trestbps  0.061943  0.032543  0.162666  0.144378 -0.016837  0.217509  \n",
       "Chol     -0.039420 -0.035088  0.082044 -0.002358  0.029816  0.105733  \n",
       "Fbs       0.165761 -0.020274 -0.126542 -0.075989  0.034704  0.052228  \n",
       "Restecg   1.000000 -0.021340 -0.027818 -0.107010 -0.038687 -0.032800  \n",
       "Thalach  -0.021340  1.000000 -0.032188  0.096167 -0.025358  0.029877  \n",
       "Exang    -0.027818 -0.032188  1.000000  0.265218  0.161270  0.248429  \n",
       "Oldpeak  -0.107010  0.096167  0.265218  1.000000  0.173643  0.378257  \n",
       "Slope    -0.038687 -0.025358  0.161270  0.173643  1.000000  0.025698  \n",
       "Num      -0.032800  0.029877  0.248429  0.378257  0.025698  1.000000  "
      ]
     },
     "execution_count": 1413,
     "metadata": {},
     "output_type": "execute_result"
    }
   ],
   "source": [
    "heartdiseases.corr()"
   ]
  },
  {
   "cell_type": "markdown",
   "metadata": {},
   "source": [
    "There are good correlation with those columns. So, it's not possible to delete those columns"
   ]
  },
  {
   "cell_type": "markdown",
   "metadata": {},
   "source": [
    "# Check Skewness"
   ]
  },
  {
   "cell_type": "code",
   "execution_count": 1414,
   "metadata": {},
   "outputs": [
    {
     "data": {
      "text/plain": [
       "(200, 12)"
      ]
     },
     "execution_count": 1414,
     "metadata": {},
     "output_type": "execute_result"
    }
   ],
   "source": [
    "heartdiseases.shape"
   ]
  },
  {
   "cell_type": "code",
   "execution_count": 1415,
   "metadata": {},
   "outputs": [
    {
     "data": {
      "image/png": "[encoded data removed]",
      "text/plain": [
       "<Figure size 936x1800 with 12 Axes>"
      ]
     },
     "metadata": {
      "needs_background": "light"
     },
     "output_type": "display_data"
    }
   ],
   "source": [
    "import itertools\n",
    "cols=['Age', 'Sex', 'CP', 'Trestbps', 'Chol', 'Fbs', 'Restecg', 'Thalach','Exang', 'Oldpeak', 'Slope', 'Num']\n",
    "length=len(cols)\n",
    "cs=[\"b\",\"r\",\"g\",\"c\",\"m\",\"k\",\"lime\"]\n",
    "fig=plt.figure(figsize=(13,25))\n",
    "\n",
    "for i,j,k in itertools.zip_longest(cols,range(length),cs):\n",
    "    plt.subplot(3,4,j+1)\n",
    "    ax=sns.distplot(heartdiseases[i],color=k,rug=True)\n",
    "    ax.set_facecolor(\"w\")\n",
    "    plt.axvline(heartdiseases[i].mean(),linestyle=\"dashed\",label=\"mean\",color=\"k\")\n",
    "    plt.legend(loc=\"best\")\n",
    "    plt.title(i,color=\"navy\")\n",
    "    plt.xlabel(\"\")"
   ]
  },
  {
   "cell_type": "markdown",
   "metadata": {},
   "source": [
    "In some colums peak are too high. In the columns CP there are left skewness present "
   ]
  },
  {
   "cell_type": "markdown",
   "metadata": {},
   "source": [
    "# Removing outliers"
   ]
  },
  {
   "cell_type": "markdown",
   "metadata": {},
   "source": [
    "# Z-Score"
   ]
  },
  {
   "cell_type": "code",
   "execution_count": 1416,
   "metadata": {},
   "outputs": [],
   "source": [
    "from scipy.stats import zscore\n",
    "import numpy as np\n",
    "z=np.abs(zscore(heartdiseases))\n",
    "threshold=3\n",
    "new_heart=heartdiseases[(z<3).all(axis=1)]"
   ]
  },
  {
   "cell_type": "code",
   "execution_count": 1417,
   "metadata": {
    "scrolled": true
   },
   "outputs": [
    {
     "data": {
      "text/plain": [
       "(180, 12)"
      ]
     },
     "execution_count": 1417,
     "metadata": {},
     "output_type": "execute_result"
    }
   ],
   "source": [
    "new_heart.shape"
   ]
  },
  {
   "cell_type": "code",
   "execution_count": 1418,
   "metadata": {
    "scrolled": true
   },
   "outputs": [
    {
     "data": {
      "text/plain": [
       "(200, 12)"
      ]
     },
     "execution_count": 1418,
     "metadata": {},
     "output_type": "execute_result"
    }
   ],
   "source": [
    "heartdiseases.shape"
   ]
  },
  {
   "cell_type": "code",
   "execution_count": 1419,
   "metadata": {},
   "outputs": [
    {
     "data": {
      "text/plain": [
       "Age            AxesSubplot(0.125,0.536818;0.0945122x0.343182)\n",
       "Sex         AxesSubplot(0.238415,0.536818;0.0945122x0.343182)\n",
       "CP          AxesSubplot(0.351829,0.536818;0.0945122x0.343182)\n",
       "Trestbps    AxesSubplot(0.465244,0.536818;0.0945122x0.343182)\n",
       "Chol        AxesSubplot(0.578659,0.536818;0.0945122x0.343182)\n",
       "Fbs         AxesSubplot(0.692073,0.536818;0.0945122x0.343182)\n",
       "Restecg     AxesSubplot(0.805488,0.536818;0.0945122x0.343182)\n",
       "Thalach           AxesSubplot(0.125,0.125;0.0945122x0.343182)\n",
       "Exang          AxesSubplot(0.238415,0.125;0.0945122x0.343182)\n",
       "Oldpeak        AxesSubplot(0.351829,0.125;0.0945122x0.343182)\n",
       "Slope          AxesSubplot(0.465244,0.125;0.0945122x0.343182)\n",
       "Num            AxesSubplot(0.578659,0.125;0.0945122x0.343182)\n",
       "dtype: object"
      ]
     },
     "execution_count": 1419,
     "metadata": {},
     "output_type": "execute_result"
    },
    {
     "data": {
      "image/png": "[encoded data removed]",
      "text/plain": [
       "<Figure size 1440x1080 with 14 Axes>"
      ]
     },
     "metadata": {
      "needs_background": "light"
     },
     "output_type": "display_data"
    }
   ],
   "source": [
    "new_heart.plot(kind='box',subplots=True,sharex=False,sharey=False,layout=(2,7),figsize=(20,15))"
   ]
  },
  {
   "cell_type": "markdown",
   "metadata": {},
   "source": [
    "# Data Loose"
   ]
  },
  {
   "cell_type": "code",
   "execution_count": 1420,
   "metadata": {},
   "outputs": [
    {
     "name": "stdout",
     "output_type": "stream",
     "text": [
      "10.0\n"
     ]
    }
   ],
   "source": [
    "data_loose=(20/200)*100\n",
    "print(data_loose)"
   ]
  },
  {
   "cell_type": "markdown",
   "metadata": {},
   "source": [
    "Here, I am loosing 10% data"
   ]
  },
  {
   "cell_type": "markdown",
   "metadata": {},
   "source": [
    "# IQR"
   ]
  },
  {
   "cell_type": "code",
   "execution_count": 1421,
   "metadata": {},
   "outputs": [
    {
     "name": "stdout",
     "output_type": "stream",
     "text": [
      "Age          9.00\n",
      "Sex          0.00\n",
      "CP           1.00\n",
      "Trestbps    14.00\n",
      "Chol        37.50\n",
      "Fbs          1.00\n",
      "Restecg      1.00\n",
      "Thalach     70.65\n",
      "Exang        1.00\n",
      "Oldpeak      1.00\n",
      "Slope        1.00\n",
      "Num          3.00\n",
      "dtype: float64\n"
     ]
    }
   ],
   "source": [
    "q1=heartdiseases.quantile(0.25)\n",
    "q3=heartdiseases.quantile(0.75)\n",
    "IQR=q3-q1\n",
    "print(IQR)"
   ]
  },
  {
   "cell_type": "code",
   "execution_count": 1422,
   "metadata": {},
   "outputs": [
    {
     "name": "stdout",
     "output_type": "stream",
     "text": [
      "(148, 12)\n"
     ]
    }
   ],
   "source": [
    "heart_new1=heartdiseases[~((heartdiseases<(q1-1.5*IQR))|(heartdiseases>(q3+1.5*IQR))).any(axis=1)]\n",
    "print(heart_new1.shape)"
   ]
  },
  {
   "cell_type": "code",
   "execution_count": 1423,
   "metadata": {},
   "outputs": [
    {
     "name": "stdout",
     "output_type": "stream",
     "text": [
      "26.0\n"
     ]
    }
   ],
   "source": [
    "data_loose=(52/200)*100\n",
    "print(data_loose)"
   ]
  },
  {
   "cell_type": "markdown",
   "metadata": {},
   "source": [
    "Here, I am loosing 26% data. So, I am accepting the z-score"
   ]
  },
  {
   "cell_type": "code",
   "execution_count": 1425,
   "metadata": {},
   "outputs": [
    {
     "data": {
      "text/html": [
       "<div>\n",
       "<style scoped>\n",
       "    .dataframe tbody tr th:only-of-type {\n",
       "        vertical-align: middle;\n",
       "    }\n",
       "\n",
       "    .dataframe tbody tr th {\n",
       "        vertical-align: top;\n",
       "    }\n",
       "\n",
       "    .dataframe thead th {\n",
       "        text-align: right;\n",
       "    }\n",
       "</style>\n",
       "<table border=\"1\" class=\"dataframe\">\n",
       "  <thead>\n",
       "    <tr style=\"text-align: right;\">\n",
       "      <th></th>\n",
       "      <th>Age</th>\n",
       "      <th>Sex</th>\n",
       "      <th>CP</th>\n",
       "      <th>Trestbps</th>\n",
       "      <th>Chol</th>\n",
       "      <th>Fbs</th>\n",
       "      <th>Restecg</th>\n",
       "      <th>Thalach</th>\n",
       "      <th>Exang</th>\n",
       "      <th>Oldpeak</th>\n",
       "      <th>Slope</th>\n",
       "      <th>Num</th>\n",
       "    </tr>\n",
       "  </thead>\n",
       "  <tbody>\n",
       "    <tr>\n",
       "      <th>count</th>\n",
       "      <td>180.000000</td>\n",
       "      <td>180.0</td>\n",
       "      <td>180.000000</td>\n",
       "      <td>180.000000</td>\n",
       "      <td>180.000000</td>\n",
       "      <td>180.000000</td>\n",
       "      <td>180.000000</td>\n",
       "      <td>180.000000</td>\n",
       "      <td>180.000000</td>\n",
       "      <td>180.000000</td>\n",
       "      <td>180.000000</td>\n",
       "      <td>180.000000</td>\n",
       "    </tr>\n",
       "    <tr>\n",
       "      <th>mean</th>\n",
       "      <td>59.333333</td>\n",
       "      <td>1.0</td>\n",
       "      <td>3.611111</td>\n",
       "      <td>134.488889</td>\n",
       "      <td>237.245778</td>\n",
       "      <td>0.333333</td>\n",
       "      <td>0.738889</td>\n",
       "      <td>106.539444</td>\n",
       "      <td>0.655556</td>\n",
       "      <td>1.325333</td>\n",
       "      <td>2.127778</td>\n",
       "      <td>1.566667</td>\n",
       "    </tr>\n",
       "    <tr>\n",
       "      <th>std</th>\n",
       "      <td>7.769731</td>\n",
       "      <td>0.0</td>\n",
       "      <td>0.610787</td>\n",
       "      <td>15.528399</td>\n",
       "      <td>37.207933</td>\n",
       "      <td>0.472719</td>\n",
       "      <td>0.679828</td>\n",
       "      <td>33.462800</td>\n",
       "      <td>0.476512</td>\n",
       "      <td>0.959177</td>\n",
       "      <td>0.634489</td>\n",
       "      <td>1.205666</td>\n",
       "    </tr>\n",
       "    <tr>\n",
       "      <th>min</th>\n",
       "      <td>37.000000</td>\n",
       "      <td>1.0</td>\n",
       "      <td>2.000000</td>\n",
       "      <td>96.000000</td>\n",
       "      <td>142.000000</td>\n",
       "      <td>0.000000</td>\n",
       "      <td>0.000000</td>\n",
       "      <td>59.350000</td>\n",
       "      <td>0.000000</td>\n",
       "      <td>-0.500000</td>\n",
       "      <td>1.000000</td>\n",
       "      <td>0.000000</td>\n",
       "    </tr>\n",
       "    <tr>\n",
       "      <th>25%</th>\n",
       "      <td>55.000000</td>\n",
       "      <td>1.0</td>\n",
       "      <td>3.000000</td>\n",
       "      <td>125.000000</td>\n",
       "      <td>217.750000</td>\n",
       "      <td>0.000000</td>\n",
       "      <td>0.000000</td>\n",
       "      <td>59.350000</td>\n",
       "      <td>0.000000</td>\n",
       "      <td>0.725000</td>\n",
       "      <td>2.000000</td>\n",
       "      <td>1.000000</td>\n",
       "    </tr>\n",
       "    <tr>\n",
       "      <th>50%</th>\n",
       "      <td>60.000000</td>\n",
       "      <td>1.0</td>\n",
       "      <td>4.000000</td>\n",
       "      <td>134.700000</td>\n",
       "      <td>239.560000</td>\n",
       "      <td>0.000000</td>\n",
       "      <td>1.000000</td>\n",
       "      <td>112.000000</td>\n",
       "      <td>1.000000</td>\n",
       "      <td>1.320000</td>\n",
       "      <td>2.000000</td>\n",
       "      <td>1.000000</td>\n",
       "    </tr>\n",
       "    <tr>\n",
       "      <th>75%</th>\n",
       "      <td>63.250000</td>\n",
       "      <td>1.0</td>\n",
       "      <td>4.000000</td>\n",
       "      <td>140.000000</td>\n",
       "      <td>244.250000</td>\n",
       "      <td>1.000000</td>\n",
       "      <td>1.000000</td>\n",
       "      <td>130.000000</td>\n",
       "      <td>1.000000</td>\n",
       "      <td>2.000000</td>\n",
       "      <td>3.000000</td>\n",
       "      <td>3.000000</td>\n",
       "    </tr>\n",
       "    <tr>\n",
       "      <th>max</th>\n",
       "      <td>77.000000</td>\n",
       "      <td>1.0</td>\n",
       "      <td>4.000000</td>\n",
       "      <td>180.000000</td>\n",
       "      <td>369.000000</td>\n",
       "      <td>1.000000</td>\n",
       "      <td>2.000000</td>\n",
       "      <td>180.000000</td>\n",
       "      <td>1.000000</td>\n",
       "      <td>4.000000</td>\n",
       "      <td>3.000000</td>\n",
       "      <td>4.000000</td>\n",
       "    </tr>\n",
       "  </tbody>\n",
       "</table>\n",
       "</div>"
      ],
      "text/plain": [
       "              Age    Sex          CP    Trestbps        Chol         Fbs  \\\n",
       "count  180.000000  180.0  180.000000  180.000000  180.000000  180.000000   \n",
       "mean    59.333333    1.0    3.611111  134.488889  237.245778    0.333333   \n",
       "std      7.769731    0.0    0.610787   15.528399   37.207933    0.472719   \n",
       "min     37.000000    1.0    2.000000   96.000000  142.000000    0.000000   \n",
       "25%     55.000000    1.0    3.000000  125.000000  217.750000    0.000000   \n",
       "50%     60.000000    1.0    4.000000  134.700000  239.560000    0.000000   \n",
       "75%     63.250000    1.0    4.000000  140.000000  244.250000    1.000000   \n",
       "max     77.000000    1.0    4.000000  180.000000  369.000000    1.000000   \n",
       "\n",
       "          Restecg     Thalach       Exang     Oldpeak       Slope         Num  \n",
       "count  180.000000  180.000000  180.000000  180.000000  180.000000  180.000000  \n",
       "mean     0.738889  106.539444    0.655556    1.325333    2.127778    1.566667  \n",
       "std      0.679828   33.462800    0.476512    0.959177    0.634489    1.205666  \n",
       "min      0.000000   59.350000    0.000000   -0.500000    1.000000    0.000000  \n",
       "25%      0.000000   59.350000    0.000000    0.725000    2.000000    1.000000  \n",
       "50%      1.000000  112.000000    1.000000    1.320000    2.000000    1.000000  \n",
       "75%      1.000000  130.000000    1.000000    2.000000    3.000000    3.000000  \n",
       "max      2.000000  180.000000    1.000000    4.000000    3.000000    4.000000  "
      ]
     },
     "execution_count": 1425,
     "metadata": {},
     "output_type": "execute_result"
    }
   ],
   "source": [
    "new_heart.describe()"
   ]
  },
  {
   "cell_type": "code",
   "execution_count": 1426,
   "metadata": {},
   "outputs": [
    {
     "data": {
      "text/html": [
       "<div>\n",
       "<style scoped>\n",
       "    .dataframe tbody tr th:only-of-type {\n",
       "        vertical-align: middle;\n",
       "    }\n",
       "\n",
       "    .dataframe tbody tr th {\n",
       "        vertical-align: top;\n",
       "    }\n",
       "\n",
       "    .dataframe thead th {\n",
       "        text-align: right;\n",
       "    }\n",
       "</style>\n",
       "<table border=\"1\" class=\"dataframe\">\n",
       "  <thead>\n",
       "    <tr style=\"text-align: right;\">\n",
       "      <th></th>\n",
       "      <th>Age</th>\n",
       "      <th>Sex</th>\n",
       "      <th>CP</th>\n",
       "      <th>Trestbps</th>\n",
       "      <th>Chol</th>\n",
       "      <th>Fbs</th>\n",
       "      <th>Restecg</th>\n",
       "      <th>Thalach</th>\n",
       "      <th>Exang</th>\n",
       "      <th>Oldpeak</th>\n",
       "      <th>Slope</th>\n",
       "      <th>Num</th>\n",
       "    </tr>\n",
       "  </thead>\n",
       "  <tbody>\n",
       "    <tr>\n",
       "      <th>0</th>\n",
       "      <td>63.0</td>\n",
       "      <td>1.0</td>\n",
       "      <td>4.0</td>\n",
       "      <td>140.0</td>\n",
       "      <td>260.0</td>\n",
       "      <td>0.0</td>\n",
       "      <td>1.0</td>\n",
       "      <td>112.0</td>\n",
       "      <td>1.0</td>\n",
       "      <td>3.0</td>\n",
       "      <td>2.0</td>\n",
       "      <td>2.0</td>\n",
       "    </tr>\n",
       "    <tr>\n",
       "      <th>1</th>\n",
       "      <td>44.0</td>\n",
       "      <td>1.0</td>\n",
       "      <td>4.0</td>\n",
       "      <td>130.0</td>\n",
       "      <td>209.0</td>\n",
       "      <td>0.0</td>\n",
       "      <td>1.0</td>\n",
       "      <td>127.0</td>\n",
       "      <td>0.0</td>\n",
       "      <td>0.0</td>\n",
       "      <td>2.0</td>\n",
       "      <td>0.0</td>\n",
       "    </tr>\n",
       "    <tr>\n",
       "      <th>2</th>\n",
       "      <td>60.0</td>\n",
       "      <td>1.0</td>\n",
       "      <td>4.0</td>\n",
       "      <td>132.0</td>\n",
       "      <td>218.0</td>\n",
       "      <td>0.0</td>\n",
       "      <td>1.0</td>\n",
       "      <td>140.0</td>\n",
       "      <td>1.0</td>\n",
       "      <td>1.5</td>\n",
       "      <td>3.0</td>\n",
       "      <td>2.0</td>\n",
       "    </tr>\n",
       "    <tr>\n",
       "      <th>3</th>\n",
       "      <td>55.0</td>\n",
       "      <td>1.0</td>\n",
       "      <td>4.0</td>\n",
       "      <td>142.0</td>\n",
       "      <td>228.0</td>\n",
       "      <td>0.0</td>\n",
       "      <td>1.0</td>\n",
       "      <td>149.0</td>\n",
       "      <td>1.0</td>\n",
       "      <td>2.5</td>\n",
       "      <td>1.0</td>\n",
       "      <td>1.0</td>\n",
       "    </tr>\n",
       "    <tr>\n",
       "      <th>4</th>\n",
       "      <td>66.0</td>\n",
       "      <td>1.0</td>\n",
       "      <td>3.0</td>\n",
       "      <td>110.0</td>\n",
       "      <td>213.0</td>\n",
       "      <td>1.0</td>\n",
       "      <td>2.0</td>\n",
       "      <td>99.0</td>\n",
       "      <td>1.0</td>\n",
       "      <td>1.3</td>\n",
       "      <td>2.0</td>\n",
       "      <td>0.0</td>\n",
       "    </tr>\n",
       "  </tbody>\n",
       "</table>\n",
       "</div>"
      ],
      "text/plain": [
       "    Age  Sex   CP  Trestbps   Chol  Fbs  Restecg  Thalach  Exang  Oldpeak  \\\n",
       "0  63.0  1.0  4.0     140.0  260.0  0.0      1.0    112.0    1.0      3.0   \n",
       "1  44.0  1.0  4.0     130.0  209.0  0.0      1.0    127.0    0.0      0.0   \n",
       "2  60.0  1.0  4.0     132.0  218.0  0.0      1.0    140.0    1.0      1.5   \n",
       "3  55.0  1.0  4.0     142.0  228.0  0.0      1.0    149.0    1.0      2.5   \n",
       "4  66.0  1.0  3.0     110.0  213.0  1.0      2.0     99.0    1.0      1.3   \n",
       "\n",
       "   Slope  Num  \n",
       "0    2.0  2.0  \n",
       "1    2.0  0.0  \n",
       "2    3.0  2.0  \n",
       "3    1.0  1.0  \n",
       "4    2.0  0.0  "
      ]
     },
     "execution_count": 1426,
     "metadata": {},
     "output_type": "execute_result"
    }
   ],
   "source": [
    "new_heart.head()"
   ]
  },
  {
   "cell_type": "markdown",
   "metadata": {},
   "source": [
    "# Convert"
   ]
  },
  {
   "cell_type": "code",
   "execution_count": 1430,
   "metadata": {
    "scrolled": true
   },
   "outputs": [
    {
     "data": {
      "text/plain": [
       "Index(['Age', 'Sex', 'CP', 'Trestbps', 'Chol', 'Fbs', 'Restecg', 'Thalach',\n",
       "       'Exang', 'Oldpeak', 'Slope', 'Num'],\n",
       "      dtype='object')"
      ]
     },
     "execution_count": 1430,
     "metadata": {},
     "output_type": "execute_result"
    }
   ],
   "source": [
    "new_heart.columns"
   ]
  },
  {
   "cell_type": "markdown",
   "metadata": {},
   "source": [
    "# Dummies"
   ]
  },
  {
   "cell_type": "code",
   "execution_count": 1431,
   "metadata": {},
   "outputs": [],
   "source": [
    "cols = ['Age','Sex', 'CP', 'Trestbps', 'Chol', 'Fbs', 'Restecg', 'Thalach','Exang','Slope', 'Num']\n",
    "for col in cols:\n",
    "   new_heart[col] = new_heart[col].apply(lambda x: int(x) if x == x else \"\")"
   ]
  },
  {
   "cell_type": "code",
   "execution_count": 1432,
   "metadata": {},
   "outputs": [],
   "source": [
    "new_heart = pd.get_dummies(new_heart[['Age', 'Sex', 'CP', 'Trestbps', 'Chol', 'Fbs', 'Restecg', 'Thalach','Exang', 'Oldpeak', 'Slope', 'Num']])"
   ]
  },
  {
   "cell_type": "code",
   "execution_count": 1433,
   "metadata": {},
   "outputs": [
    {
     "data": {
      "text/html": [
       "<div>\n",
       "<style scoped>\n",
       "    .dataframe tbody tr th:only-of-type {\n",
       "        vertical-align: middle;\n",
       "    }\n",
       "\n",
       "    .dataframe tbody tr th {\n",
       "        vertical-align: top;\n",
       "    }\n",
       "\n",
       "    .dataframe thead th {\n",
       "        text-align: right;\n",
       "    }\n",
       "</style>\n",
       "<table border=\"1\" class=\"dataframe\">\n",
       "  <thead>\n",
       "    <tr style=\"text-align: right;\">\n",
       "      <th></th>\n",
       "      <th>Age</th>\n",
       "      <th>Sex</th>\n",
       "      <th>CP</th>\n",
       "      <th>Trestbps</th>\n",
       "      <th>Chol</th>\n",
       "      <th>Fbs</th>\n",
       "      <th>Restecg</th>\n",
       "      <th>Thalach</th>\n",
       "      <th>Exang</th>\n",
       "      <th>Oldpeak</th>\n",
       "      <th>Slope</th>\n",
       "      <th>Num</th>\n",
       "    </tr>\n",
       "  </thead>\n",
       "  <tbody>\n",
       "    <tr>\n",
       "      <th>0</th>\n",
       "      <td>63</td>\n",
       "      <td>1</td>\n",
       "      <td>4</td>\n",
       "      <td>140</td>\n",
       "      <td>260</td>\n",
       "      <td>0</td>\n",
       "      <td>1</td>\n",
       "      <td>112</td>\n",
       "      <td>1</td>\n",
       "      <td>3.0</td>\n",
       "      <td>2</td>\n",
       "      <td>2</td>\n",
       "    </tr>\n",
       "    <tr>\n",
       "      <th>1</th>\n",
       "      <td>44</td>\n",
       "      <td>1</td>\n",
       "      <td>4</td>\n",
       "      <td>130</td>\n",
       "      <td>209</td>\n",
       "      <td>0</td>\n",
       "      <td>1</td>\n",
       "      <td>127</td>\n",
       "      <td>0</td>\n",
       "      <td>0.0</td>\n",
       "      <td>2</td>\n",
       "      <td>0</td>\n",
       "    </tr>\n",
       "    <tr>\n",
       "      <th>2</th>\n",
       "      <td>60</td>\n",
       "      <td>1</td>\n",
       "      <td>4</td>\n",
       "      <td>132</td>\n",
       "      <td>218</td>\n",
       "      <td>0</td>\n",
       "      <td>1</td>\n",
       "      <td>140</td>\n",
       "      <td>1</td>\n",
       "      <td>1.5</td>\n",
       "      <td>3</td>\n",
       "      <td>2</td>\n",
       "    </tr>\n",
       "    <tr>\n",
       "      <th>3</th>\n",
       "      <td>55</td>\n",
       "      <td>1</td>\n",
       "      <td>4</td>\n",
       "      <td>142</td>\n",
       "      <td>228</td>\n",
       "      <td>0</td>\n",
       "      <td>1</td>\n",
       "      <td>149</td>\n",
       "      <td>1</td>\n",
       "      <td>2.5</td>\n",
       "      <td>1</td>\n",
       "      <td>1</td>\n",
       "    </tr>\n",
       "    <tr>\n",
       "      <th>4</th>\n",
       "      <td>66</td>\n",
       "      <td>1</td>\n",
       "      <td>3</td>\n",
       "      <td>110</td>\n",
       "      <td>213</td>\n",
       "      <td>1</td>\n",
       "      <td>2</td>\n",
       "      <td>99</td>\n",
       "      <td>1</td>\n",
       "      <td>1.3</td>\n",
       "      <td>2</td>\n",
       "      <td>0</td>\n",
       "    </tr>\n",
       "  </tbody>\n",
       "</table>\n",
       "</div>"
      ],
      "text/plain": [
       "   Age  Sex  CP  Trestbps  Chol  Fbs  Restecg  Thalach  Exang  Oldpeak  Slope  \\\n",
       "0   63    1   4       140   260    0        1      112      1      3.0      2   \n",
       "1   44    1   4       130   209    0        1      127      0      0.0      2   \n",
       "2   60    1   4       132   218    0        1      140      1      1.5      3   \n",
       "3   55    1   4       142   228    0        1      149      1      2.5      1   \n",
       "4   66    1   3       110   213    1        2       99      1      1.3      2   \n",
       "\n",
       "   Num  \n",
       "0    2  \n",
       "1    0  \n",
       "2    2  \n",
       "3    1  \n",
       "4    0  "
      ]
     },
     "execution_count": 1433,
     "metadata": {},
     "output_type": "execute_result"
    }
   ],
   "source": [
    "new_heart.head()"
   ]
  },
  {
   "cell_type": "markdown",
   "metadata": {},
   "source": [
    "# Preparing the dataset for training and testing model"
   ]
  },
  {
   "cell_type": "code",
   "execution_count": 1465,
   "metadata": {},
   "outputs": [],
   "source": [
    "#Prepare the dataset for training the model\n",
    "X=new_heart.drop('Num',axis=1)\n",
    "Y=new_heart['Num']"
   ]
  },
  {
   "cell_type": "code",
   "execution_count": 1467,
   "metadata": {},
   "outputs": [
    {
     "data": {
      "text/html": [
       "<div>\n",
       "<style scoped>\n",
       "    .dataframe tbody tr th:only-of-type {\n",
       "        vertical-align: middle;\n",
       "    }\n",
       "\n",
       "    .dataframe tbody tr th {\n",
       "        vertical-align: top;\n",
       "    }\n",
       "\n",
       "    .dataframe thead th {\n",
       "        text-align: right;\n",
       "    }\n",
       "</style>\n",
       "<table border=\"1\" class=\"dataframe\">\n",
       "  <thead>\n",
       "    <tr style=\"text-align: right;\">\n",
       "      <th></th>\n",
       "      <th>Age</th>\n",
       "      <th>Sex</th>\n",
       "      <th>CP</th>\n",
       "      <th>Trestbps</th>\n",
       "      <th>Chol</th>\n",
       "      <th>Fbs</th>\n",
       "      <th>Restecg</th>\n",
       "      <th>Thalach</th>\n",
       "      <th>Exang</th>\n",
       "      <th>Oldpeak</th>\n",
       "      <th>Slope</th>\n",
       "    </tr>\n",
       "  </thead>\n",
       "  <tbody>\n",
       "    <tr>\n",
       "      <th>0</th>\n",
       "      <td>63</td>\n",
       "      <td>1</td>\n",
       "      <td>4</td>\n",
       "      <td>140</td>\n",
       "      <td>260</td>\n",
       "      <td>0</td>\n",
       "      <td>1</td>\n",
       "      <td>112</td>\n",
       "      <td>1</td>\n",
       "      <td>3.0</td>\n",
       "      <td>2</td>\n",
       "    </tr>\n",
       "    <tr>\n",
       "      <th>1</th>\n",
       "      <td>44</td>\n",
       "      <td>1</td>\n",
       "      <td>4</td>\n",
       "      <td>130</td>\n",
       "      <td>209</td>\n",
       "      <td>0</td>\n",
       "      <td>1</td>\n",
       "      <td>127</td>\n",
       "      <td>0</td>\n",
       "      <td>0.0</td>\n",
       "      <td>2</td>\n",
       "    </tr>\n",
       "    <tr>\n",
       "      <th>2</th>\n",
       "      <td>60</td>\n",
       "      <td>1</td>\n",
       "      <td>4</td>\n",
       "      <td>132</td>\n",
       "      <td>218</td>\n",
       "      <td>0</td>\n",
       "      <td>1</td>\n",
       "      <td>140</td>\n",
       "      <td>1</td>\n",
       "      <td>1.5</td>\n",
       "      <td>3</td>\n",
       "    </tr>\n",
       "    <tr>\n",
       "      <th>3</th>\n",
       "      <td>55</td>\n",
       "      <td>1</td>\n",
       "      <td>4</td>\n",
       "      <td>142</td>\n",
       "      <td>228</td>\n",
       "      <td>0</td>\n",
       "      <td>1</td>\n",
       "      <td>149</td>\n",
       "      <td>1</td>\n",
       "      <td>2.5</td>\n",
       "      <td>1</td>\n",
       "    </tr>\n",
       "    <tr>\n",
       "      <th>4</th>\n",
       "      <td>66</td>\n",
       "      <td>1</td>\n",
       "      <td>3</td>\n",
       "      <td>110</td>\n",
       "      <td>213</td>\n",
       "      <td>1</td>\n",
       "      <td>2</td>\n",
       "      <td>99</td>\n",
       "      <td>1</td>\n",
       "      <td>1.3</td>\n",
       "      <td>2</td>\n",
       "    </tr>\n",
       "  </tbody>\n",
       "</table>\n",
       "</div>"
      ],
      "text/plain": [
       "   Age  Sex  CP  Trestbps  Chol  Fbs  Restecg  Thalach  Exang  Oldpeak  Slope\n",
       "0   63    1   4       140   260    0        1      112      1      3.0      2\n",
       "1   44    1   4       130   209    0        1      127      0      0.0      2\n",
       "2   60    1   4       132   218    0        1      140      1      1.5      3\n",
       "3   55    1   4       142   228    0        1      149      1      2.5      1\n",
       "4   66    1   3       110   213    1        2       99      1      1.3      2"
      ]
     },
     "execution_count": 1467,
     "metadata": {},
     "output_type": "execute_result"
    }
   ],
   "source": [
    "X.head()"
   ]
  },
  {
   "cell_type": "code",
   "execution_count": 1468,
   "metadata": {},
   "outputs": [
    {
     "data": {
      "text/html": [
       "<div>\n",
       "<style scoped>\n",
       "    .dataframe tbody tr th:only-of-type {\n",
       "        vertical-align: middle;\n",
       "    }\n",
       "\n",
       "    .dataframe tbody tr th {\n",
       "        vertical-align: top;\n",
       "    }\n",
       "\n",
       "    .dataframe thead th {\n",
       "        text-align: right;\n",
       "    }\n",
       "</style>\n",
       "<table border=\"1\" class=\"dataframe\">\n",
       "  <thead>\n",
       "    <tr style=\"text-align: right;\">\n",
       "      <th></th>\n",
       "      <th>Age</th>\n",
       "      <th>Sex</th>\n",
       "      <th>CP</th>\n",
       "      <th>Trestbps</th>\n",
       "      <th>Chol</th>\n",
       "      <th>Fbs</th>\n",
       "      <th>Restecg</th>\n",
       "      <th>Thalach</th>\n",
       "      <th>Exang</th>\n",
       "      <th>Oldpeak</th>\n",
       "      <th>Slope</th>\n",
       "      <th>Num</th>\n",
       "    </tr>\n",
       "  </thead>\n",
       "  <tbody>\n",
       "    <tr>\n",
       "      <th>0</th>\n",
       "      <td>63</td>\n",
       "      <td>1</td>\n",
       "      <td>4</td>\n",
       "      <td>140</td>\n",
       "      <td>260</td>\n",
       "      <td>0</td>\n",
       "      <td>1</td>\n",
       "      <td>112</td>\n",
       "      <td>1</td>\n",
       "      <td>3.0</td>\n",
       "      <td>2</td>\n",
       "      <td>2</td>\n",
       "    </tr>\n",
       "    <tr>\n",
       "      <th>1</th>\n",
       "      <td>44</td>\n",
       "      <td>1</td>\n",
       "      <td>4</td>\n",
       "      <td>130</td>\n",
       "      <td>209</td>\n",
       "      <td>0</td>\n",
       "      <td>1</td>\n",
       "      <td>127</td>\n",
       "      <td>0</td>\n",
       "      <td>0.0</td>\n",
       "      <td>2</td>\n",
       "      <td>0</td>\n",
       "    </tr>\n",
       "    <tr>\n",
       "      <th>2</th>\n",
       "      <td>60</td>\n",
       "      <td>1</td>\n",
       "      <td>4</td>\n",
       "      <td>132</td>\n",
       "      <td>218</td>\n",
       "      <td>0</td>\n",
       "      <td>1</td>\n",
       "      <td>140</td>\n",
       "      <td>1</td>\n",
       "      <td>1.5</td>\n",
       "      <td>3</td>\n",
       "      <td>2</td>\n",
       "    </tr>\n",
       "    <tr>\n",
       "      <th>3</th>\n",
       "      <td>55</td>\n",
       "      <td>1</td>\n",
       "      <td>4</td>\n",
       "      <td>142</td>\n",
       "      <td>228</td>\n",
       "      <td>0</td>\n",
       "      <td>1</td>\n",
       "      <td>149</td>\n",
       "      <td>1</td>\n",
       "      <td>2.5</td>\n",
       "      <td>1</td>\n",
       "      <td>1</td>\n",
       "    </tr>\n",
       "    <tr>\n",
       "      <th>4</th>\n",
       "      <td>66</td>\n",
       "      <td>1</td>\n",
       "      <td>3</td>\n",
       "      <td>110</td>\n",
       "      <td>213</td>\n",
       "      <td>1</td>\n",
       "      <td>2</td>\n",
       "      <td>99</td>\n",
       "      <td>1</td>\n",
       "      <td>1.3</td>\n",
       "      <td>2</td>\n",
       "      <td>0</td>\n",
       "    </tr>\n",
       "  </tbody>\n",
       "</table>\n",
       "</div>"
      ],
      "text/plain": [
       "   Age  Sex  CP  Trestbps  Chol  Fbs  Restecg  Thalach  Exang  Oldpeak  Slope  \\\n",
       "0   63    1   4       140   260    0        1      112      1      3.0      2   \n",
       "1   44    1   4       130   209    0        1      127      0      0.0      2   \n",
       "2   60    1   4       132   218    0        1      140      1      1.5      3   \n",
       "3   55    1   4       142   228    0        1      149      1      2.5      1   \n",
       "4   66    1   3       110   213    1        2       99      1      1.3      2   \n",
       "\n",
       "   Num  \n",
       "0    2  \n",
       "1    0  \n",
       "2    2  \n",
       "3    1  \n",
       "4    0  "
      ]
     },
     "execution_count": 1468,
     "metadata": {},
     "output_type": "execute_result"
    }
   ],
   "source": [
    "new_heart.head()"
   ]
  },
  {
   "cell_type": "code",
   "execution_count": null,
   "metadata": {},
   "outputs": [],
   "source": []
  },
  {
   "cell_type": "markdown",
   "metadata": {},
   "source": [
    "There are difference of range among some columns. Such as Age has max value 77,Sex has 1. Again Chol has 369.So,let me use scaling technique."
   ]
  },
  {
   "cell_type": "markdown",
   "metadata": {},
   "source": [
    "# Removing Skewness"
   ]
  },
  {
   "cell_type": "markdown",
   "metadata": {},
   "source": [
    "# Yeo Jonson Method"
   ]
  },
  {
   "cell_type": "code",
   "execution_count": 1470,
   "metadata": {},
   "outputs": [],
   "source": [
    "from sklearn.preprocessing import power_transform     #box-cox is only for positive but yeo-johnson is for both negative and positive\n",
    "X=power_transform(X,method='yeo-johnson')"
   ]
  },
  {
   "cell_type": "markdown",
   "metadata": {},
   "source": [
    "# Scaling"
   ]
  },
  {
   "cell_type": "code",
   "execution_count": 1474,
   "metadata": {},
   "outputs": [
    {
     "data": {
      "text/html": [
       "<div>\n",
       "<style scoped>\n",
       "    .dataframe tbody tr th:only-of-type {\n",
       "        vertical-align: middle;\n",
       "    }\n",
       "\n",
       "    .dataframe tbody tr th {\n",
       "        vertical-align: top;\n",
       "    }\n",
       "\n",
       "    .dataframe thead th {\n",
       "        text-align: right;\n",
       "    }\n",
       "</style>\n",
       "<table border=\"1\" class=\"dataframe\">\n",
       "  <thead>\n",
       "    <tr style=\"text-align: right;\">\n",
       "      <th></th>\n",
       "      <th>0</th>\n",
       "      <th>1</th>\n",
       "      <th>2</th>\n",
       "      <th>3</th>\n",
       "      <th>4</th>\n",
       "      <th>5</th>\n",
       "      <th>6</th>\n",
       "      <th>7</th>\n",
       "      <th>8</th>\n",
       "      <th>9</th>\n",
       "      <th>10</th>\n",
       "    </tr>\n",
       "  </thead>\n",
       "  <tbody>\n",
       "    <tr>\n",
       "      <th>0</th>\n",
       "      <td>0.443190</td>\n",
       "      <td>0.0</td>\n",
       "      <td>0.686804</td>\n",
       "      <td>0.431243</td>\n",
       "      <td>0.660999</td>\n",
       "      <td>-0.707107</td>\n",
       "      <td>0.525330</td>\n",
       "      <td>0.164727</td>\n",
       "      <td>0.724861</td>\n",
       "      <td>1.607681</td>\n",
       "      <td>-0.216209</td>\n",
       "    </tr>\n",
       "    <tr>\n",
       "      <th>1</th>\n",
       "      <td>-1.865561</td>\n",
       "      <td>0.0</td>\n",
       "      <td>0.686804</td>\n",
       "      <td>-0.216609</td>\n",
       "      <td>-0.738012</td>\n",
       "      <td>-0.707107</td>\n",
       "      <td>0.525330</td>\n",
       "      <td>0.613025</td>\n",
       "      <td>-1.379575</td>\n",
       "      <td>-1.508166</td>\n",
       "      <td>-0.216209</td>\n",
       "    </tr>\n",
       "    <tr>\n",
       "      <th>2</th>\n",
       "      <td>0.040517</td>\n",
       "      <td>0.0</td>\n",
       "      <td>0.686804</td>\n",
       "      <td>-0.082357</td>\n",
       "      <td>-0.472647</td>\n",
       "      <td>-0.707107</td>\n",
       "      <td>0.525330</td>\n",
       "      <td>1.001825</td>\n",
       "      <td>0.724861</td>\n",
       "      <td>0.268801</td>\n",
       "      <td>1.393622</td>\n",
       "    </tr>\n",
       "    <tr>\n",
       "      <th>3</th>\n",
       "      <td>-0.599409</td>\n",
       "      <td>0.0</td>\n",
       "      <td>0.686804</td>\n",
       "      <td>0.554155</td>\n",
       "      <td>-0.187866</td>\n",
       "      <td>-0.707107</td>\n",
       "      <td>0.525330</td>\n",
       "      <td>1.271130</td>\n",
       "      <td>0.724861</td>\n",
       "      <td>1.190383</td>\n",
       "      <td>-1.753290</td>\n",
       "    </tr>\n",
       "    <tr>\n",
       "      <th>4</th>\n",
       "      <td>0.859669</td>\n",
       "      <td>0.0</td>\n",
       "      <td>-1.365178</td>\n",
       "      <td>-1.712503</td>\n",
       "      <td>-0.618968</td>\n",
       "      <td>1.414214</td>\n",
       "      <td>1.584525</td>\n",
       "      <td>-0.223490</td>\n",
       "      <td>0.724861</td>\n",
       "      <td>0.066324</td>\n",
       "      <td>-0.216209</td>\n",
       "    </tr>\n",
       "  </tbody>\n",
       "</table>\n",
       "</div>"
      ],
      "text/plain": [
       "         0    1         2         3         4         5         6         7   \\\n",
       "0  0.443190  0.0  0.686804  0.431243  0.660999 -0.707107  0.525330  0.164727   \n",
       "1 -1.865561  0.0  0.686804 -0.216609 -0.738012 -0.707107  0.525330  0.613025   \n",
       "2  0.040517  0.0  0.686804 -0.082357 -0.472647 -0.707107  0.525330  1.001825   \n",
       "3 -0.599409  0.0  0.686804  0.554155 -0.187866 -0.707107  0.525330  1.271130   \n",
       "4  0.859669  0.0 -1.365178 -1.712503 -0.618968  1.414214  1.584525 -0.223490   \n",
       "\n",
       "         8         9         10  \n",
       "0  0.724861  1.607681 -0.216209  \n",
       "1 -1.379575 -1.508166 -0.216209  \n",
       "2  0.724861  0.268801  1.393622  \n",
       "3  0.724861  1.190383 -1.753290  \n",
       "4  0.724861  0.066324 -0.216209  "
      ]
     },
     "execution_count": 1474,
     "metadata": {},
     "output_type": "execute_result"
    }
   ],
   "source": [
    "from sklearn.preprocessing import StandardScaler\n",
    "scaler=StandardScaler()\n",
    "X = pd.DataFrame(scaler.fit_transform(X)) \n",
    "X.head()"
   ]
  },
  {
   "cell_type": "markdown",
   "metadata": {},
   "source": [
    "# Model Creating"
   ]
  },
  {
   "cell_type": "code",
   "execution_count": 1501,
   "metadata": {},
   "outputs": [],
   "source": [
    "X_train,X_test,Y_train,Y_test=train_test_split(X,Y,test_size=.20,random_state=99)"
   ]
  },
  {
   "cell_type": "markdown",
   "metadata": {},
   "source": [
    "# Different Algorithms in one function"
   ]
  },
  {
   "cell_type": "code",
   "execution_count": 1502,
   "metadata": {},
   "outputs": [],
   "source": [
    "# sklearn modules for preprocessing\n",
    "from sklearn.preprocessing import OneHotEncoder, LabelEncoder\n",
    "# from imblearn.over_sampling import SMOTE  # SMOTE\n",
    "# sklearn modules for ML model selection\n",
    "from sklearn.model_selection import train_test_split  # import 'train_test_split'\n",
    "from sklearn.model_selection import GridSearchCV\n",
    "from sklearn.model_selection import RandomizedSearchCV\n",
    "from sklearn.model_selection import ShuffleSplit\n",
    "from sklearn.model_selection import KFold\n",
    "from sklearn.model_selection import cross_val_score\n",
    "\n",
    "# Libraries for data modelling\n",
    "from sklearn import svm, tree, linear_model, neighbors\n",
    "from sklearn import naive_bayes, ensemble, discriminant_analysis, gaussian_process\n",
    "from sklearn.linear_model import LogisticRegression\n",
    "from sklearn.tree import DecisionTreeClassifier\n",
    "from sklearn.neighbors import KNeighborsClassifier\n",
    "from sklearn.discriminant_analysis import LinearDiscriminantAnalysis\n",
    "from sklearn.naive_bayes import GaussianNB\n",
    "from sklearn.svm import SVC\n",
    "from sklearn.neighbors import KNeighborsClassifier\n",
    "from xgboost import XGBClassifier\n",
    "from sklearn.ensemble import RandomForestClassifier\n",
    "from sklearn.ensemble import AdaBoostClassifier\n",
    "\n",
    "\n",
    "# Common sklearn Model Helpers\n",
    "from sklearn import feature_selection\n",
    "from sklearn import model_selection\n",
    "from sklearn import metrics\n",
    "# from sklearn.datasets import make_classification"
   ]
  },
  {
   "cell_type": "code",
   "execution_count": 1504,
   "metadata": {
    "scrolled": false
   },
   "outputs": [
    {
     "name": "stdout",
     "output_type": "stream",
     "text": [
      "\u001b[1mAccuracy score of\u001b[0m LogisticRegression() is: \n",
      "0.3055555555555556\n",
      "[[5 2 1 0 0]\n",
      " [6 3 3 1 0]\n",
      " [2 1 1 3 0]\n",
      " [1 1 0 2 0]\n",
      " [1 0 1 2 0]]\n",
      "              precision    recall  f1-score   support\n",
      "\n",
      "           0       0.33      0.62      0.43         8\n",
      "           1       0.43      0.23      0.30        13\n",
      "           2       0.17      0.14      0.15         7\n",
      "           3       0.25      0.50      0.33         4\n",
      "           4       0.00      0.00      0.00         4\n",
      "\n",
      "    accuracy                           0.31        36\n",
      "   macro avg       0.24      0.30      0.24        36\n",
      "weighted avg       0.29      0.31      0.27        36\n",
      "\n",
      "f1_score:  0.3055555555555556\n",
      "\n",
      "\n",
      "\u001b[1mAccuracy score of\u001b[0m GaussianNB() is: \n",
      "0.2777777777777778\n",
      "[[5 2 1 0 0]\n",
      " [5 3 4 1 0]\n",
      " [2 0 1 4 0]\n",
      " [1 1 1 1 0]\n",
      " [0 0 1 3 0]]\n",
      "              precision    recall  f1-score   support\n",
      "\n",
      "           0       0.38      0.62      0.48         8\n",
      "           1       0.50      0.23      0.32        13\n",
      "           2       0.12      0.14      0.13         7\n",
      "           3       0.11      0.25      0.15         4\n",
      "           4       0.00      0.00      0.00         4\n",
      "\n",
      "    accuracy                           0.28        36\n",
      "   macro avg       0.22      0.25      0.22        36\n",
      "weighted avg       0.30      0.28      0.26        36\n",
      "\n",
      "f1_score:  0.2777777777777778\n",
      "\n",
      "\n",
      "\u001b[1mAccuracy score of\u001b[0m DecisionTreeClassifier() is: \n",
      "0.19444444444444445\n",
      "[[3 2 3 0 0]\n",
      " [4 3 5 1 0]\n",
      " [2 1 1 3 0]\n",
      " [0 1 3 0 0]\n",
      " [0 0 3 1 0]]\n",
      "              precision    recall  f1-score   support\n",
      "\n",
      "           0       0.33      0.38      0.35         8\n",
      "           1       0.43      0.23      0.30        13\n",
      "           2       0.07      0.14      0.09         7\n",
      "           3       0.00      0.00      0.00         4\n",
      "           4       0.00      0.00      0.00         4\n",
      "\n",
      "    accuracy                           0.19        36\n",
      "   macro avg       0.17      0.15      0.15        36\n",
      "weighted avg       0.24      0.19      0.20        36\n",
      "\n",
      "f1_score:  0.19444444444444445\n",
      "\n",
      "\n",
      "\u001b[1mAccuracy score of\u001b[0m KNeighborsClassifier() is: \n",
      "0.2777777777777778\n",
      "[[2 2 2 2 0]\n",
      " [2 7 3 1 0]\n",
      " [2 1 0 4 0]\n",
      " [2 0 1 1 0]\n",
      " [1 0 0 3 0]]\n",
      "              precision    recall  f1-score   support\n",
      "\n",
      "           0       0.22      0.25      0.24         8\n",
      "           1       0.70      0.54      0.61        13\n",
      "           2       0.00      0.00      0.00         7\n",
      "           3       0.09      0.25      0.13         4\n",
      "           4       0.00      0.00      0.00         4\n",
      "\n",
      "    accuracy                           0.28        36\n",
      "   macro avg       0.20      0.21      0.20        36\n",
      "weighted avg       0.31      0.28      0.29        36\n",
      "\n",
      "f1_score:  0.2777777777777778\n",
      "\n",
      "\n",
      "[16:28:15] WARNING: C:/Users/Administrator/workspace/xgboost-win64_release_1.3.0/src/learner.cc:1061: Starting in XGBoost 1.3.0, the default evaluation metric used with the objective 'multi:softprob' was changed from 'merror' to 'mlogloss'. Explicitly set eval_metric if you'd like to restore the old behavior.\n",
      "\u001b[1mAccuracy score of\u001b[0m XGBClassifier(base_score=0.5, booster='gbtree', colsample_bylevel=1,\n",
      "              colsample_bynode=1, colsample_bytree=1, gamma=0, gpu_id=-1,\n",
      "              importance_type='gain', interaction_constraints='',\n",
      "              learning_rate=0.300000012, max_delta_step=0, max_depth=6,\n",
      "              min_child_weight=1, missing=nan, monotone_constraints='()',\n",
      "              n_estimators=100, n_jobs=4, num_parallel_tree=1,\n",
      "              objective='multi:softprob', random_state=0, reg_alpha=0,\n",
      "              reg_lambda=1, scale_pos_weight=None, subsample=1,\n",
      "              tree_method='exact', validate_parameters=1, verbosity=None) is: \n",
      "0.19444444444444445\n",
      "[[2 4 1 1 0]\n",
      " [4 4 4 1 0]\n",
      " [2 1 0 4 0]\n",
      " [1 1 1 1 0]\n",
      " [1 0 1 2 0]]\n",
      "              precision    recall  f1-score   support\n",
      "\n",
      "           0       0.20      0.25      0.22         8\n",
      "           1       0.40      0.31      0.35        13\n",
      "           2       0.00      0.00      0.00         7\n",
      "           3       0.11      0.25      0.15         4\n",
      "           4       0.00      0.00      0.00         4\n",
      "\n",
      "    accuracy                           0.19        36\n",
      "   macro avg       0.14      0.16      0.14        36\n",
      "weighted avg       0.20      0.19      0.19        36\n",
      "\n",
      "f1_score:  0.19444444444444445\n",
      "\n",
      "\n",
      "\u001b[1mAccuracy score of\u001b[0m LinearDiscriminantAnalysis() is: \n",
      "0.3055555555555556\n",
      "[[5 2 1 0 0]\n",
      " [6 3 3 1 0]\n",
      " [2 1 1 3 0]\n",
      " [1 1 0 2 0]\n",
      " [1 0 1 2 0]]\n",
      "              precision    recall  f1-score   support\n",
      "\n",
      "           0       0.33      0.62      0.43         8\n",
      "           1       0.43      0.23      0.30        13\n",
      "           2       0.17      0.14      0.15         7\n",
      "           3       0.25      0.50      0.33         4\n",
      "           4       0.00      0.00      0.00         4\n",
      "\n",
      "    accuracy                           0.31        36\n",
      "   macro avg       0.24      0.30      0.24        36\n",
      "weighted avg       0.29      0.31      0.27        36\n",
      "\n",
      "f1_score:  0.3055555555555556\n",
      "\n",
      "\n",
      "\u001b[1mAccuracy score of\u001b[0m AdaBoostClassifier() is: \n",
      "0.3333333333333333\n",
      "[[4 2 2 0 0]\n",
      " [3 6 3 1 0]\n",
      " [1 0 2 3 1]\n",
      " [1 2 1 0 0]\n",
      " [0 1 0 3 0]]\n",
      "              precision    recall  f1-score   support\n",
      "\n",
      "           0       0.44      0.50      0.47         8\n",
      "           1       0.55      0.46      0.50        13\n",
      "           2       0.25      0.29      0.27         7\n",
      "           3       0.00      0.00      0.00         4\n",
      "           4       0.00      0.00      0.00         4\n",
      "\n",
      "    accuracy                           0.33        36\n",
      "   macro avg       0.25      0.25      0.25        36\n",
      "weighted avg       0.34      0.33      0.34        36\n",
      "\n",
      "f1_score:  0.3333333333333333\n",
      "\n",
      "\n"
     ]
    }
   ],
   "source": [
    "import sklearn\n",
    "from sklearn.naive_bayes import GaussianNB\n",
    "from sklearn.tree import DecisionTreeClassifier\n",
    "import warnings\n",
    "warnings.filterwarnings('ignore')\n",
    "\n",
    "model=[LogisticRegression(),GaussianNB(),DecisionTreeClassifier(),KNeighborsClassifier(),XGBClassifier(),LinearDiscriminantAnalysis(),AdaBoostClassifier()]\n",
    "\n",
    "for m in model:\n",
    "    m.fit(X_train,Y_train)\n",
    "    m.score(X_train,Y_train)\n",
    "    predm=m.predict(X_test)\n",
    "    print(\"\\033[1m\" + 'Accuracy score of' + \"\\033[0m\",m,\"is: \")\n",
    "    print(accuracy_score(Y_test,predm))\n",
    "    print(confusion_matrix(Y_test,predm))\n",
    "    print(classification_report(Y_test,predm))\n",
    "    print(\"f1_score: \",f1_score(Y_test,predm,average='micro'))\n",
    "    print('\\n')\n",
    "    "
   ]
  },
  {
   "cell_type": "markdown",
   "metadata": {},
   "source": [
    "# Random Forest"
   ]
  },
  {
   "cell_type": "code",
   "execution_count": 1463,
   "metadata": {},
   "outputs": [],
   "source": [
    "from sklearn.ensemble import RandomForestClassifier\n",
    "\n",
    "max_accuracy = 0\n",
    "\n",
    "\n",
    "for x in range(2000):\n",
    "    rf = RandomForestClassifier(random_state=x)\n",
    "    rf.fit(x_train,y_train)\n",
    "    Y_pred_rf = rf.predict(x_test)\n",
    "    current_accuracy = round(accuracy_score(Y_pred_rf,y_test)*100,2)\n",
    "    if(current_accuracy>max_accuracy):\n",
    "        max_accuracy = current_accuracy\n",
    "        best_x = x\n",
    "        \n",
    "#print(max_accuracy)\n",
    "#print(best_x)\n",
    "\n",
    "rf = RandomForestClassifier(random_state=best_x)\n",
    "rf.fit(x_train,y_train)\n",
    "Y_pred_rf = rf.predict(x_test)"
   ]
  },
  {
   "cell_type": "code",
   "execution_count": 1464,
   "metadata": {},
   "outputs": [
    {
     "name": "stdout",
     "output_type": "stream",
     "text": [
      "The accuracy score achieved using Decision Tree is: 41.67 %\n"
     ]
    }
   ],
   "source": [
    "score_rf = round(accuracy_score(Y_pred_rf,y_test)*100,2)\n",
    "\n",
    "print(\"The accuracy score achieved using Decision Tree is: \"+str(score_rf)+\" %\")"
   ]
  },
  {
   "cell_type": "markdown",
   "metadata": {},
   "source": [
    "# Logistic Regression"
   ]
  },
  {
   "cell_type": "code",
   "execution_count": 1477,
   "metadata": {},
   "outputs": [],
   "source": [
    "from sklearn.linear_model import LogisticRegression\n",
    "\n",
    "lr = LogisticRegression()\n",
    "\n",
    "lr.fit(X_train,Y_train)\n",
    "\n",
    "Y_pred_lr = lr.predict(X_test)"
   ]
  },
  {
   "cell_type": "code",
   "execution_count": 1478,
   "metadata": {},
   "outputs": [
    {
     "name": "stdout",
     "output_type": "stream",
     "text": [
      "The accuracy score achieved using Logistic Regression is: 30.56 %\n"
     ]
    }
   ],
   "source": [
    "score_lr = round(accuracy_score(Y_pred_lr,Y_test)*100,2)\n",
    "\n",
    "print(\"The accuracy score achieved using Logistic Regression is: \"+str(score_lr)+\" %\")"
   ]
  },
  {
   "cell_type": "markdown",
   "metadata": {},
   "source": [
    "# Naive Bayes"
   ]
  },
  {
   "cell_type": "code",
   "execution_count": 1479,
   "metadata": {},
   "outputs": [],
   "source": [
    "from sklearn.naive_bayes import GaussianNB\n",
    "\n",
    "nb = GaussianNB()\n",
    "\n",
    "nb.fit(X_train,Y_train)\n",
    "\n",
    "Y_pred_nb = nb.predict(X_test)"
   ]
  },
  {
   "cell_type": "code",
   "execution_count": 1480,
   "metadata": {},
   "outputs": [
    {
     "name": "stdout",
     "output_type": "stream",
     "text": [
      "The accuracy score achieved using Naive Bayes is: 27.78 %\n"
     ]
    }
   ],
   "source": [
    "score_nb = round(accuracy_score(Y_pred_nb,Y_test)*100,2)\n",
    "\n",
    "print(\"The accuracy score achieved using Naive Bayes is: \"+str(score_nb)+\" %\")"
   ]
  },
  {
   "cell_type": "markdown",
   "metadata": {},
   "source": [
    "# SVM"
   ]
  },
  {
   "cell_type": "code",
   "execution_count": 1481,
   "metadata": {},
   "outputs": [],
   "source": [
    "from sklearn import svm\n",
    "\n",
    "sv = svm.SVC(kernel='linear')\n",
    "\n",
    "sv.fit(X_train, Y_train)\n",
    "\n",
    "Y_pred_svm = sv.predict(X_test)"
   ]
  },
  {
   "cell_type": "code",
   "execution_count": 1482,
   "metadata": {},
   "outputs": [
    {
     "name": "stdout",
     "output_type": "stream",
     "text": [
      "The accuracy score achieved using Linear SVM is: 22.22 %\n"
     ]
    }
   ],
   "source": [
    "score_svm = round(accuracy_score(Y_pred_svm,Y_test)*100,2)\n",
    "\n",
    "print(\"The accuracy score achieved using Linear SVM is: \"+str(score_svm)+\" %\")"
   ]
  },
  {
   "cell_type": "markdown",
   "metadata": {},
   "source": [
    "# K Nearest Neighbors"
   ]
  },
  {
   "cell_type": "code",
   "execution_count": 1483,
   "metadata": {},
   "outputs": [],
   "source": [
    "from sklearn.neighbors import KNeighborsClassifier\n",
    "\n",
    "knn = KNeighborsClassifier(n_neighbors=7)\n",
    "knn.fit(X_train,Y_train)\n",
    "Y_pred_knn=knn.predict(X_test)"
   ]
  },
  {
   "cell_type": "code",
   "execution_count": 1484,
   "metadata": {},
   "outputs": [
    {
     "name": "stdout",
     "output_type": "stream",
     "text": [
      "The accuracy score achieved using KNN is: 30.56 %\n"
     ]
    }
   ],
   "source": [
    "score_knn = round(accuracy_score(Y_pred_knn,Y_test)*100,2)\n",
    "\n",
    "print(\"The accuracy score achieved using KNN is: \"+str(score_knn)+\" %\")"
   ]
  },
  {
   "cell_type": "markdown",
   "metadata": {},
   "source": [
    "# Decision Tree"
   ]
  },
  {
   "cell_type": "code",
   "execution_count": 1485,
   "metadata": {},
   "outputs": [],
   "source": [
    "from sklearn.tree import DecisionTreeClassifier\n",
    "\n",
    "max_accuracy = 0\n",
    "\n",
    "\n",
    "for x in range(200):\n",
    "    dt = DecisionTreeClassifier(random_state=x)\n",
    "    dt.fit(X_train,Y_train)\n",
    "    Y_pred_dt = dt.predict(X_test)\n",
    "    current_accuracy = round(accuracy_score(Y_pred_dt,Y_test)*100,2)\n",
    "    if(current_accuracy>max_accuracy):\n",
    "        max_accuracy = current_accuracy\n",
    "        best_x = x\n",
    "        \n",
    "#print(max_accuracy)\n",
    "#print(best_x)\n",
    "\n",
    "\n",
    "dt = DecisionTreeClassifier(random_state=best_x)\n",
    "dt.fit(X_train,Y_train)\n",
    "Y_pred_dt = dt.predict(X_test)"
   ]
  },
  {
   "cell_type": "code",
   "execution_count": 1486,
   "metadata": {},
   "outputs": [
    {
     "name": "stdout",
     "output_type": "stream",
     "text": [
      "The accuracy score achieved using Decision Tree is: 27.78 %\n"
     ]
    }
   ],
   "source": [
    "score_dt = round(accuracy_score(Y_pred_dt,Y_test)*100,2)\n",
    "\n",
    "print(\"The accuracy score achieved using Decision Tree is: \"+str(score_dt)+\" %\")"
   ]
  },
  {
   "cell_type": "markdown",
   "metadata": {},
   "source": [
    "# Random Forest"
   ]
  },
  {
   "cell_type": "code",
   "execution_count": 1487,
   "metadata": {},
   "outputs": [],
   "source": [
    "from sklearn.ensemble import RandomForestClassifier\n",
    "max_accuracy = 0\n",
    "\n",
    "\n",
    "for x in range(2000):\n",
    "    rf = RandomForestClassifier(random_state=x)\n",
    "    rf.fit(X_train,Y_train)\n",
    "    Y_pred_rf = rf.predict(X_test)\n",
    "    current_accuracy = round(accuracy_score(Y_pred_rf,Y_test)*100,2)\n",
    "    if(current_accuracy>max_accuracy):\n",
    "        max_accuracy = current_accuracy\n",
    "        best_x = x\n",
    "        \n",
    "#print(max_accuracy)\n",
    "#print(best_x)\n",
    "\n",
    "rf = RandomForestClassifier(random_state=best_x)\n",
    "rf.fit(X_train,Y_train)\n",
    "Y_pred_rf = rf.predict(X_test)"
   ]
  },
  {
   "cell_type": "code",
   "execution_count": 1488,
   "metadata": {},
   "outputs": [
    {
     "name": "stdout",
     "output_type": "stream",
     "text": [
      "The accuracy score achieved using Decision Tree is: 41.67 %\n"
     ]
    }
   ],
   "source": [
    "score_rf = round(accuracy_score(Y_pred_rf,Y_test)*100,2)\n",
    "\n",
    "print(\"The accuracy score achieved using Decision Tree is: \"+str(score_rf)+\" %\")"
   ]
  },
  {
   "cell_type": "markdown",
   "metadata": {},
   "source": [
    "# XGBoost"
   ]
  },
  {
   "cell_type": "code",
   "execution_count": 1489,
   "metadata": {},
   "outputs": [
    {
     "name": "stdout",
     "output_type": "stream",
     "text": [
      "[16:16:19] WARNING: C:/Users/Administrator/workspace/xgboost-win64_release_1.3.0/src/learner.cc:1061: Starting in XGBoost 1.3.0, the default evaluation metric used with the objective 'multi:softprob' was changed from 'merror' to 'mlogloss'. Explicitly set eval_metric if you'd like to restore the old behavior.\n"
     ]
    }
   ],
   "source": [
    "import xgboost as xgb\n",
    "\n",
    "xgb_model = xgb.XGBClassifier(objective=\"binary:logistic\", random_state=42)\n",
    "xgb_model.fit(X_train, Y_train)\n",
    "\n",
    "Y_pred_xgb = xgb_model.predict(X_test)"
   ]
  },
  {
   "cell_type": "code",
   "execution_count": 1490,
   "metadata": {},
   "outputs": [
    {
     "name": "stdout",
     "output_type": "stream",
     "text": [
      "The accuracy score achieved using XGBoost is: 19.44 %\n"
     ]
    }
   ],
   "source": [
    "score_xgb = round(accuracy_score(Y_pred_xgb,Y_test)*100,2)\n",
    "\n",
    "print(\"The accuracy score achieved using XGBoost is: \"+str(score_xgb)+\" %\")"
   ]
  },
  {
   "cell_type": "markdown",
   "metadata": {},
   "source": [
    "Here, I have got the best accuracy score using Random Forest algorithm"
   ]
  },
  {
   "cell_type": "markdown",
   "metadata": {},
   "source": [
    "# MOdel Saving"
   ]
  },
  {
   "cell_type": "code",
   "execution_count": 1496,
   "metadata": {},
   "outputs": [],
   "source": [
    "import pickle\n",
    "filename='heart.pkl'\n",
    "pickle.dump(rf,open(filename,'wb'))"
   ]
  },
  {
   "cell_type": "code",
   "execution_count": null,
   "metadata": {},
   "outputs": [],
   "source": [
    "import pickle"
   ]
  },
  {
   "cell_type": "code",
   "execution_count": 1497,
   "metadata": {},
   "outputs": [],
   "source": [
    "with open('heart.pkl','rb') as f:\n",
    "    x=pickle.load(f)"
   ]
  },
  {
   "cell_type": "markdown",
   "metadata": {},
   "source": [
    "# Conclusion:"
   ]
  },
  {
   "cell_type": "code",
   "execution_count": 1498,
   "metadata": {},
   "outputs": [
    {
     "data": {
      "text/plain": [
       "array([1, 2, 4, 1, 0, 2, 1, 1, 0, 1, 2, 1, 0, 2, 1, 1, 4, 1, 0, 4, 2, 2,\n",
       "       1, 4, 3, 1, 0, 0, 3, 1, 3, 2, 1, 0, 3, 0], dtype=int64)"
      ]
     },
     "execution_count": 1498,
     "metadata": {},
     "output_type": "execute_result"
    }
   ],
   "source": [
    "import numpy as np\n",
    "a=np.array(Y_test)\n",
    "a"
   ]
  },
  {
   "cell_type": "code",
   "execution_count": 1499,
   "metadata": {},
   "outputs": [
    {
     "data": {
      "text/plain": [
       "array([2, 3, 3, 1, 1, 3, 0, 0, 0, 1, 0, 0, 1, 0, 2, 3, 0, 2, 0, 3, 3, 2,\n",
       "       0, 2, 3, 0, 2, 0, 3, 0, 0, 1, 1, 0, 1, 0], dtype=int64)"
      ]
     },
     "execution_count": 1499,
     "metadata": {},
     "output_type": "execute_result"
    }
   ],
   "source": [
    "predicted=np.array(lr.predict(X_test))\n",
    "predicted"
   ]
  },
  {
   "cell_type": "code",
   "execution_count": 1500,
   "metadata": {},
   "outputs": [
    {
     "data": {
      "text/html": [
       "<div>\n",
       "<style scoped>\n",
       "    .dataframe tbody tr th:only-of-type {\n",
       "        vertical-align: middle;\n",
       "    }\n",
       "\n",
       "    .dataframe tbody tr th {\n",
       "        vertical-align: top;\n",
       "    }\n",
       "\n",
       "    .dataframe thead th {\n",
       "        text-align: right;\n",
       "    }\n",
       "</style>\n",
       "<table border=\"1\" class=\"dataframe\">\n",
       "  <thead>\n",
       "    <tr style=\"text-align: right;\">\n",
       "      <th></th>\n",
       "      <th>original</th>\n",
       "      <th>predicted</th>\n",
       "    </tr>\n",
       "  </thead>\n",
       "  <tbody>\n",
       "    <tr>\n",
       "      <th>0</th>\n",
       "      <td>1</td>\n",
       "      <td>2</td>\n",
       "    </tr>\n",
       "    <tr>\n",
       "      <th>1</th>\n",
       "      <td>2</td>\n",
       "      <td>3</td>\n",
       "    </tr>\n",
       "    <tr>\n",
       "      <th>2</th>\n",
       "      <td>4</td>\n",
       "      <td>3</td>\n",
       "    </tr>\n",
       "    <tr>\n",
       "      <th>3</th>\n",
       "      <td>1</td>\n",
       "      <td>1</td>\n",
       "    </tr>\n",
       "    <tr>\n",
       "      <th>4</th>\n",
       "      <td>0</td>\n",
       "      <td>1</td>\n",
       "    </tr>\n",
       "    <tr>\n",
       "      <th>5</th>\n",
       "      <td>2</td>\n",
       "      <td>3</td>\n",
       "    </tr>\n",
       "    <tr>\n",
       "      <th>6</th>\n",
       "      <td>1</td>\n",
       "      <td>0</td>\n",
       "    </tr>\n",
       "    <tr>\n",
       "      <th>7</th>\n",
       "      <td>1</td>\n",
       "      <td>0</td>\n",
       "    </tr>\n",
       "    <tr>\n",
       "      <th>8</th>\n",
       "      <td>0</td>\n",
       "      <td>0</td>\n",
       "    </tr>\n",
       "    <tr>\n",
       "      <th>9</th>\n",
       "      <td>1</td>\n",
       "      <td>1</td>\n",
       "    </tr>\n",
       "    <tr>\n",
       "      <th>10</th>\n",
       "      <td>2</td>\n",
       "      <td>0</td>\n",
       "    </tr>\n",
       "    <tr>\n",
       "      <th>11</th>\n",
       "      <td>1</td>\n",
       "      <td>0</td>\n",
       "    </tr>\n",
       "    <tr>\n",
       "      <th>12</th>\n",
       "      <td>0</td>\n",
       "      <td>1</td>\n",
       "    </tr>\n",
       "    <tr>\n",
       "      <th>13</th>\n",
       "      <td>2</td>\n",
       "      <td>0</td>\n",
       "    </tr>\n",
       "    <tr>\n",
       "      <th>14</th>\n",
       "      <td>1</td>\n",
       "      <td>2</td>\n",
       "    </tr>\n",
       "    <tr>\n",
       "      <th>15</th>\n",
       "      <td>1</td>\n",
       "      <td>3</td>\n",
       "    </tr>\n",
       "    <tr>\n",
       "      <th>16</th>\n",
       "      <td>4</td>\n",
       "      <td>0</td>\n",
       "    </tr>\n",
       "    <tr>\n",
       "      <th>17</th>\n",
       "      <td>1</td>\n",
       "      <td>2</td>\n",
       "    </tr>\n",
       "    <tr>\n",
       "      <th>18</th>\n",
       "      <td>0</td>\n",
       "      <td>0</td>\n",
       "    </tr>\n",
       "    <tr>\n",
       "      <th>19</th>\n",
       "      <td>4</td>\n",
       "      <td>3</td>\n",
       "    </tr>\n",
       "    <tr>\n",
       "      <th>20</th>\n",
       "      <td>2</td>\n",
       "      <td>3</td>\n",
       "    </tr>\n",
       "    <tr>\n",
       "      <th>21</th>\n",
       "      <td>2</td>\n",
       "      <td>2</td>\n",
       "    </tr>\n",
       "    <tr>\n",
       "      <th>22</th>\n",
       "      <td>1</td>\n",
       "      <td>0</td>\n",
       "    </tr>\n",
       "    <tr>\n",
       "      <th>23</th>\n",
       "      <td>4</td>\n",
       "      <td>2</td>\n",
       "    </tr>\n",
       "    <tr>\n",
       "      <th>24</th>\n",
       "      <td>3</td>\n",
       "      <td>3</td>\n",
       "    </tr>\n",
       "    <tr>\n",
       "      <th>25</th>\n",
       "      <td>1</td>\n",
       "      <td>0</td>\n",
       "    </tr>\n",
       "    <tr>\n",
       "      <th>26</th>\n",
       "      <td>0</td>\n",
       "      <td>2</td>\n",
       "    </tr>\n",
       "    <tr>\n",
       "      <th>27</th>\n",
       "      <td>0</td>\n",
       "      <td>0</td>\n",
       "    </tr>\n",
       "    <tr>\n",
       "      <th>28</th>\n",
       "      <td>3</td>\n",
       "      <td>3</td>\n",
       "    </tr>\n",
       "    <tr>\n",
       "      <th>29</th>\n",
       "      <td>1</td>\n",
       "      <td>0</td>\n",
       "    </tr>\n",
       "    <tr>\n",
       "      <th>30</th>\n",
       "      <td>3</td>\n",
       "      <td>0</td>\n",
       "    </tr>\n",
       "    <tr>\n",
       "      <th>31</th>\n",
       "      <td>2</td>\n",
       "      <td>1</td>\n",
       "    </tr>\n",
       "    <tr>\n",
       "      <th>32</th>\n",
       "      <td>1</td>\n",
       "      <td>1</td>\n",
       "    </tr>\n",
       "    <tr>\n",
       "      <th>33</th>\n",
       "      <td>0</td>\n",
       "      <td>0</td>\n",
       "    </tr>\n",
       "    <tr>\n",
       "      <th>34</th>\n",
       "      <td>3</td>\n",
       "      <td>1</td>\n",
       "    </tr>\n",
       "    <tr>\n",
       "      <th>35</th>\n",
       "      <td>0</td>\n",
       "      <td>0</td>\n",
       "    </tr>\n",
       "  </tbody>\n",
       "</table>\n",
       "</div>"
      ],
      "text/plain": [
       "    original  predicted\n",
       "0          1          2\n",
       "1          2          3\n",
       "2          4          3\n",
       "3          1          1\n",
       "4          0          1\n",
       "5          2          3\n",
       "6          1          0\n",
       "7          1          0\n",
       "8          0          0\n",
       "9          1          1\n",
       "10         2          0\n",
       "11         1          0\n",
       "12         0          1\n",
       "13         2          0\n",
       "14         1          2\n",
       "15         1          3\n",
       "16         4          0\n",
       "17         1          2\n",
       "18         0          0\n",
       "19         4          3\n",
       "20         2          3\n",
       "21         2          2\n",
       "22         1          0\n",
       "23         4          2\n",
       "24         3          3\n",
       "25         1          0\n",
       "26         0          2\n",
       "27         0          0\n",
       "28         3          3\n",
       "29         1          0\n",
       "30         3          0\n",
       "31         2          1\n",
       "32         1          1\n",
       "33         0          0\n",
       "34         3          1\n",
       "35         0          0"
      ]
     },
     "execution_count": 1500,
     "metadata": {},
     "output_type": "execute_result"
    }
   ],
   "source": [
    "df_com=pd.DataFrame({\"original\":a,\"predicted\":predicted},index=range(len(a)))\n",
    "df_com"
   ]
  },
  {
   "cell_type": "code",
   "execution_count": null,
   "metadata": {},
   "outputs": [],
   "source": []
  }
 ],
 "metadata": {
  "kernelspec": {
   "display_name": "Python 3",
   "language": "python",
   "name": "python3"
  },
  "language_info": {
   "codemirror_mode": {
    "name": "ipython",
    "version": 3
   },
   "file_extension": ".py",
   "mimetype": "text/x-python",
   "name": "python",
   "nbconvert_exporter": "python",
   "pygments_lexer": "ipython3",
   "version": "3.8.5"
  }
 },
 "nbformat": 4,
 "nbformat_minor": 4
}
