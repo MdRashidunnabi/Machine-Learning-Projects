{
 "cells": [
  {
   "cell_type": "markdown",
   "metadata": {},
   "source": [
    "# Importing All necessary Libraries"
   ]
  },
  {
   "cell_type": "code",
   "execution_count": 1,
   "metadata": {},
   "outputs": [],
   "source": [
    "import pandas as pd\n",
    "import numpy as np\n",
    "import matplotlib.pyplot as plt\n",
    "import seaborn as sns\n",
    "%matplotlib inline"
   ]
  },
  {
   "cell_type": "markdown",
   "metadata": {},
   "source": [
    "# Importing Warnings"
   ]
  },
  {
   "cell_type": "code",
   "execution_count": 2,
   "metadata": {},
   "outputs": [],
   "source": [
    "import warnings\n",
    "warnings.filterwarnings('ignore')"
   ]
  },
  {
   "cell_type": "markdown",
   "metadata": {},
   "source": [
    "# Loading the Dataset"
   ]
  },
  {
   "cell_type": "code",
   "execution_count": 3,
   "metadata": {},
   "outputs": [
    {
     "data": {
      "text/html": [
       "<div>\n",
       "<style scoped>\n",
       "    .dataframe tbody tr th:only-of-type {\n",
       "        vertical-align: middle;\n",
       "    }\n",
       "\n",
       "    .dataframe tbody tr th {\n",
       "        vertical-align: top;\n",
       "    }\n",
       "\n",
       "    .dataframe thead th {\n",
       "        text-align: right;\n",
       "    }\n",
       "</style>\n",
       "<table border=\"1\" class=\"dataframe\">\n",
       "  <thead>\n",
       "    <tr style=\"text-align: right;\">\n",
       "      <th></th>\n",
       "      <th>Airline</th>\n",
       "      <th>Date_of_Journey</th>\n",
       "      <th>Source</th>\n",
       "      <th>Destination</th>\n",
       "      <th>Route</th>\n",
       "      <th>Dep_Time</th>\n",
       "      <th>Arrival_Time</th>\n",
       "      <th>Duration</th>\n",
       "      <th>Total_Stops</th>\n",
       "      <th>Additional_Info</th>\n",
       "      <th>Price</th>\n",
       "    </tr>\n",
       "  </thead>\n",
       "  <tbody>\n",
       "    <tr>\n",
       "      <th>0</th>\n",
       "      <td>IndiGo</td>\n",
       "      <td>24/03/2019</td>\n",
       "      <td>Banglore</td>\n",
       "      <td>New Delhi</td>\n",
       "      <td>BLR → DEL</td>\n",
       "      <td>22:20</td>\n",
       "      <td>01:10 22 Mar</td>\n",
       "      <td>2h 50m</td>\n",
       "      <td>non-stop</td>\n",
       "      <td>No info</td>\n",
       "      <td>3897</td>\n",
       "    </tr>\n",
       "    <tr>\n",
       "      <th>1</th>\n",
       "      <td>Air India</td>\n",
       "      <td>1/05/2019</td>\n",
       "      <td>Kolkata</td>\n",
       "      <td>Banglore</td>\n",
       "      <td>CCU → IXR → BBI → BLR</td>\n",
       "      <td>05:50</td>\n",
       "      <td>13:15</td>\n",
       "      <td>7h 25m</td>\n",
       "      <td>2 stops</td>\n",
       "      <td>No info</td>\n",
       "      <td>7662</td>\n",
       "    </tr>\n",
       "    <tr>\n",
       "      <th>2</th>\n",
       "      <td>Jet Airways</td>\n",
       "      <td>9/06/2019</td>\n",
       "      <td>Delhi</td>\n",
       "      <td>Cochin</td>\n",
       "      <td>DEL → LKO → BOM → COK</td>\n",
       "      <td>09:25</td>\n",
       "      <td>04:25 10 Jun</td>\n",
       "      <td>19h</td>\n",
       "      <td>2 stops</td>\n",
       "      <td>No info</td>\n",
       "      <td>13882</td>\n",
       "    </tr>\n",
       "    <tr>\n",
       "      <th>3</th>\n",
       "      <td>IndiGo</td>\n",
       "      <td>12/05/2019</td>\n",
       "      <td>Kolkata</td>\n",
       "      <td>Banglore</td>\n",
       "      <td>CCU → NAG → BLR</td>\n",
       "      <td>18:05</td>\n",
       "      <td>23:30</td>\n",
       "      <td>5h 25m</td>\n",
       "      <td>1 stop</td>\n",
       "      <td>No info</td>\n",
       "      <td>6218</td>\n",
       "    </tr>\n",
       "    <tr>\n",
       "      <th>4</th>\n",
       "      <td>IndiGo</td>\n",
       "      <td>01/03/2019</td>\n",
       "      <td>Banglore</td>\n",
       "      <td>New Delhi</td>\n",
       "      <td>BLR → NAG → DEL</td>\n",
       "      <td>16:50</td>\n",
       "      <td>21:35</td>\n",
       "      <td>4h 45m</td>\n",
       "      <td>1 stop</td>\n",
       "      <td>No info</td>\n",
       "      <td>13302</td>\n",
       "    </tr>\n",
       "  </tbody>\n",
       "</table>\n",
       "</div>"
      ],
      "text/plain": [
       "       Airline Date_of_Journey    Source Destination                  Route  \\\n",
       "0       IndiGo      24/03/2019  Banglore   New Delhi              BLR → DEL   \n",
       "1    Air India       1/05/2019   Kolkata    Banglore  CCU → IXR → BBI → BLR   \n",
       "2  Jet Airways       9/06/2019     Delhi      Cochin  DEL → LKO → BOM → COK   \n",
       "3       IndiGo      12/05/2019   Kolkata    Banglore        CCU → NAG → BLR   \n",
       "4       IndiGo      01/03/2019  Banglore   New Delhi        BLR → NAG → DEL   \n",
       "\n",
       "  Dep_Time  Arrival_Time Duration Total_Stops Additional_Info  Price  \n",
       "0    22:20  01:10 22 Mar   2h 50m    non-stop         No info   3897  \n",
       "1    05:50         13:15   7h 25m     2 stops         No info   7662  \n",
       "2    09:25  04:25 10 Jun      19h     2 stops         No info  13882  \n",
       "3    18:05         23:30   5h 25m      1 stop         No info   6218  \n",
       "4    16:50         21:35   4h 45m      1 stop         No info  13302  "
      ]
     },
     "execution_count": 3,
     "metadata": {},
     "output_type": "execute_result"
    }
   ],
   "source": [
    "Train_data=pd.read_excel('Data_Train.xlsx')\n",
    "Train_data.head()"
   ]
  },
  {
   "cell_type": "code",
   "execution_count": 4,
   "metadata": {},
   "outputs": [
    {
     "data": {
      "text/html": [
       "<div>\n",
       "<style scoped>\n",
       "    .dataframe tbody tr th:only-of-type {\n",
       "        vertical-align: middle;\n",
       "    }\n",
       "\n",
       "    .dataframe tbody tr th {\n",
       "        vertical-align: top;\n",
       "    }\n",
       "\n",
       "    .dataframe thead th {\n",
       "        text-align: right;\n",
       "    }\n",
       "</style>\n",
       "<table border=\"1\" class=\"dataframe\">\n",
       "  <thead>\n",
       "    <tr style=\"text-align: right;\">\n",
       "      <th></th>\n",
       "      <th>Airline</th>\n",
       "      <th>Date_of_Journey</th>\n",
       "      <th>Source</th>\n",
       "      <th>Destination</th>\n",
       "      <th>Route</th>\n",
       "      <th>Dep_Time</th>\n",
       "      <th>Arrival_Time</th>\n",
       "      <th>Duration</th>\n",
       "      <th>Total_Stops</th>\n",
       "      <th>Additional_Info</th>\n",
       "    </tr>\n",
       "  </thead>\n",
       "  <tbody>\n",
       "    <tr>\n",
       "      <th>0</th>\n",
       "      <td>Jet Airways</td>\n",
       "      <td>6/06/2019</td>\n",
       "      <td>Delhi</td>\n",
       "      <td>Cochin</td>\n",
       "      <td>DEL → BOM → COK</td>\n",
       "      <td>17:30</td>\n",
       "      <td>04:25 07 Jun</td>\n",
       "      <td>10h 55m</td>\n",
       "      <td>1 stop</td>\n",
       "      <td>No info</td>\n",
       "    </tr>\n",
       "    <tr>\n",
       "      <th>1</th>\n",
       "      <td>IndiGo</td>\n",
       "      <td>12/05/2019</td>\n",
       "      <td>Kolkata</td>\n",
       "      <td>Banglore</td>\n",
       "      <td>CCU → MAA → BLR</td>\n",
       "      <td>06:20</td>\n",
       "      <td>10:20</td>\n",
       "      <td>4h</td>\n",
       "      <td>1 stop</td>\n",
       "      <td>No info</td>\n",
       "    </tr>\n",
       "    <tr>\n",
       "      <th>2</th>\n",
       "      <td>Jet Airways</td>\n",
       "      <td>21/05/2019</td>\n",
       "      <td>Delhi</td>\n",
       "      <td>Cochin</td>\n",
       "      <td>DEL → BOM → COK</td>\n",
       "      <td>19:15</td>\n",
       "      <td>19:00 22 May</td>\n",
       "      <td>23h 45m</td>\n",
       "      <td>1 stop</td>\n",
       "      <td>In-flight meal not included</td>\n",
       "    </tr>\n",
       "    <tr>\n",
       "      <th>3</th>\n",
       "      <td>Multiple carriers</td>\n",
       "      <td>21/05/2019</td>\n",
       "      <td>Delhi</td>\n",
       "      <td>Cochin</td>\n",
       "      <td>DEL → BOM → COK</td>\n",
       "      <td>08:00</td>\n",
       "      <td>21:00</td>\n",
       "      <td>13h</td>\n",
       "      <td>1 stop</td>\n",
       "      <td>No info</td>\n",
       "    </tr>\n",
       "    <tr>\n",
       "      <th>4</th>\n",
       "      <td>Air Asia</td>\n",
       "      <td>24/06/2019</td>\n",
       "      <td>Banglore</td>\n",
       "      <td>Delhi</td>\n",
       "      <td>BLR → DEL</td>\n",
       "      <td>23:55</td>\n",
       "      <td>02:45 25 Jun</td>\n",
       "      <td>2h 50m</td>\n",
       "      <td>non-stop</td>\n",
       "      <td>No info</td>\n",
       "    </tr>\n",
       "  </tbody>\n",
       "</table>\n",
       "</div>"
      ],
      "text/plain": [
       "             Airline Date_of_Journey    Source Destination            Route  \\\n",
       "0        Jet Airways       6/06/2019     Delhi      Cochin  DEL → BOM → COK   \n",
       "1             IndiGo      12/05/2019   Kolkata    Banglore  CCU → MAA → BLR   \n",
       "2        Jet Airways      21/05/2019     Delhi      Cochin  DEL → BOM → COK   \n",
       "3  Multiple carriers      21/05/2019     Delhi      Cochin  DEL → BOM → COK   \n",
       "4           Air Asia      24/06/2019  Banglore       Delhi        BLR → DEL   \n",
       "\n",
       "  Dep_Time  Arrival_Time Duration Total_Stops              Additional_Info  \n",
       "0    17:30  04:25 07 Jun  10h 55m      1 stop                      No info  \n",
       "1    06:20         10:20       4h      1 stop                      No info  \n",
       "2    19:15  19:00 22 May  23h 45m      1 stop  In-flight meal not included  \n",
       "3    08:00         21:00      13h      1 stop                      No info  \n",
       "4    23:55  02:45 25 Jun   2h 50m    non-stop                      No info  "
      ]
     },
     "execution_count": 4,
     "metadata": {},
     "output_type": "execute_result"
    }
   ],
   "source": [
    "Test_data=pd.read_excel('Test_set.xlsx')\n",
    "Test_data.head()"
   ]
  },
  {
   "cell_type": "markdown",
   "metadata": {},
   "source": [
    "# Shape"
   ]
  },
  {
   "cell_type": "code",
   "execution_count": 5,
   "metadata": {},
   "outputs": [
    {
     "name": "stdout",
     "output_type": "stream",
     "text": [
      "Train_data:  (10683, 11)\n",
      "\n",
      "\n",
      "Testing_data :  (2671, 10)\n"
     ]
    }
   ],
   "source": [
    "print(\"Train_data: \",Train_data.shape)\n",
    "print('\\n')\n",
    "print(\"Testing_data : \",Test_data.shape)"
   ]
  },
  {
   "cell_type": "markdown",
   "metadata": {},
   "source": [
    "# Train_data"
   ]
  },
  {
   "cell_type": "markdown",
   "metadata": {},
   "source": [
    "### shape"
   ]
  },
  {
   "cell_type": "code",
   "execution_count": 6,
   "metadata": {},
   "outputs": [
    {
     "data": {
      "text/plain": [
       "(10683, 11)"
      ]
     },
     "execution_count": 6,
     "metadata": {},
     "output_type": "execute_result"
    }
   ],
   "source": [
    "Train_data.shape"
   ]
  },
  {
   "cell_type": "markdown",
   "metadata": {},
   "source": [
    "### column"
   ]
  },
  {
   "cell_type": "code",
   "execution_count": 7,
   "metadata": {},
   "outputs": [
    {
     "data": {
      "text/plain": [
       "Index(['Airline', 'Date_of_Journey', 'Source', 'Destination', 'Route',\n",
       "       'Dep_Time', 'Arrival_Time', 'Duration', 'Total_Stops',\n",
       "       'Additional_Info', 'Price'],\n",
       "      dtype='object')"
      ]
     },
     "execution_count": 7,
     "metadata": {},
     "output_type": "execute_result"
    }
   ],
   "source": [
    "Train_data.columns"
   ]
  },
  {
   "cell_type": "markdown",
   "metadata": {},
   "source": [
    "### Null values"
   ]
  },
  {
   "cell_type": "code",
   "execution_count": 8,
   "metadata": {},
   "outputs": [
    {
     "data": {
      "text/plain": [
       "True"
      ]
     },
     "execution_count": 8,
     "metadata": {},
     "output_type": "execute_result"
    }
   ],
   "source": [
    "Train_data.isnull().values.any()"
   ]
  },
  {
   "cell_type": "markdown",
   "metadata": {},
   "source": [
    "### Null vales in columns"
   ]
  },
  {
   "cell_type": "code",
   "execution_count": 9,
   "metadata": {},
   "outputs": [
    {
     "data": {
      "text/plain": [
       "Airline            0\n",
       "Date_of_Journey    0\n",
       "Source             0\n",
       "Destination        0\n",
       "Route              1\n",
       "Dep_Time           0\n",
       "Arrival_Time       0\n",
       "Duration           0\n",
       "Total_Stops        1\n",
       "Additional_Info    0\n",
       "Price              0\n",
       "dtype: int64"
      ]
     },
     "execution_count": 9,
     "metadata": {},
     "output_type": "execute_result"
    }
   ],
   "source": [
    "Train_data.isnull().sum()"
   ]
  },
  {
   "cell_type": "markdown",
   "metadata": {},
   "source": [
    "### Missing values via visualization"
   ]
  },
  {
   "cell_type": "code",
   "execution_count": 10,
   "metadata": {},
   "outputs": [
    {
     "data": {
      "text/plain": [
       "<AxesSubplot:>"
      ]
     },
     "execution_count": 10,
     "metadata": {},
     "output_type": "execute_result"
    },
    {
     "data": {
      "image/png": "[encoded data removed]",
      "text/plain": [
       "<Figure size 576x432 with 1 Axes>"
      ]
     },
     "metadata": {
      "needs_background": "light"
     },
     "output_type": "display_data"
    }
   ],
   "source": [
    "plt.figure(figsize=(8,6))\n",
    "sns.heatmap(Train_data.isnull(),yticklabels=False,cbar=False,cmap='tab20_r')"
   ]
  },
  {
   "cell_type": "markdown",
   "metadata": {},
   "source": [
    "Observations: \n",
    "    \n",
    "    Only one value is null in Route and Total_Stops column. So, instead of filling them we can drop it."
   ]
  },
  {
   "cell_type": "markdown",
   "metadata": {},
   "source": [
    "### Dropping the null values"
   ]
  },
  {
   "cell_type": "code",
   "execution_count": 11,
   "metadata": {},
   "outputs": [],
   "source": [
    "Train_data.dropna(inplace=True)"
   ]
  },
  {
   "cell_type": "markdown",
   "metadata": {},
   "source": [
    "### Again check fot null values"
   ]
  },
  {
   "cell_type": "code",
   "execution_count": 12,
   "metadata": {},
   "outputs": [
    {
     "data": {
      "text/plain": [
       "Airline            0\n",
       "Date_of_Journey    0\n",
       "Source             0\n",
       "Destination        0\n",
       "Route              0\n",
       "Dep_Time           0\n",
       "Arrival_Time       0\n",
       "Duration           0\n",
       "Total_Stops        0\n",
       "Additional_Info    0\n",
       "Price              0\n",
       "dtype: int64"
      ]
     },
     "execution_count": 12,
     "metadata": {},
     "output_type": "execute_result"
    }
   ],
   "source": [
    "Train_data.isnull().sum()"
   ]
  },
  {
   "cell_type": "markdown",
   "metadata": {},
   "source": [
    "### shape"
   ]
  },
  {
   "cell_type": "code",
   "execution_count": 13,
   "metadata": {},
   "outputs": [
    {
     "data": {
      "text/plain": [
       "(10682, 11)"
      ]
     },
     "execution_count": 13,
     "metadata": {},
     "output_type": "execute_result"
    }
   ],
   "source": [
    "Train_data.shape"
   ]
  },
  {
   "cell_type": "markdown",
   "metadata": {},
   "source": [
    "### Informations"
   ]
  },
  {
   "cell_type": "code",
   "execution_count": 14,
   "metadata": {},
   "outputs": [
    {
     "name": "stdout",
     "output_type": "stream",
     "text": [
      "<class 'pandas.core.frame.DataFrame'>\n",
      "Int64Index: 10682 entries, 0 to 10682\n",
      "Data columns (total 11 columns):\n",
      " #   Column           Non-Null Count  Dtype \n",
      "---  ------           --------------  ----- \n",
      " 0   Airline          10682 non-null  object\n",
      " 1   Date_of_Journey  10682 non-null  object\n",
      " 2   Source           10682 non-null  object\n",
      " 3   Destination      10682 non-null  object\n",
      " 4   Route            10682 non-null  object\n",
      " 5   Dep_Time         10682 non-null  object\n",
      " 6   Arrival_Time     10682 non-null  object\n",
      " 7   Duration         10682 non-null  object\n",
      " 8   Total_Stops      10682 non-null  object\n",
      " 9   Additional_Info  10682 non-null  object\n",
      " 10  Price            10682 non-null  int64 \n",
      "dtypes: int64(1), object(10)\n",
      "memory usage: 1001.4+ KB\n"
     ]
    }
   ],
   "source": [
    "Train_data.info()"
   ]
  },
  {
   "cell_type": "markdown",
   "metadata": {},
   "source": [
    "# Summary statistics"
   ]
  },
  {
   "cell_type": "code",
   "execution_count": 15,
   "metadata": {},
   "outputs": [
    {
     "data": {
      "text/html": [
       "<div>\n",
       "<style scoped>\n",
       "    .dataframe tbody tr th:only-of-type {\n",
       "        vertical-align: middle;\n",
       "    }\n",
       "\n",
       "    .dataframe tbody tr th {\n",
       "        vertical-align: top;\n",
       "    }\n",
       "\n",
       "    .dataframe thead th {\n",
       "        text-align: right;\n",
       "    }\n",
       "</style>\n",
       "<table border=\"1\" class=\"dataframe\">\n",
       "  <thead>\n",
       "    <tr style=\"text-align: right;\">\n",
       "      <th></th>\n",
       "      <th>Price</th>\n",
       "    </tr>\n",
       "  </thead>\n",
       "  <tbody>\n",
       "    <tr>\n",
       "      <th>count</th>\n",
       "      <td>10682.000000</td>\n",
       "    </tr>\n",
       "    <tr>\n",
       "      <th>mean</th>\n",
       "      <td>9087.214567</td>\n",
       "    </tr>\n",
       "    <tr>\n",
       "      <th>std</th>\n",
       "      <td>4611.548810</td>\n",
       "    </tr>\n",
       "    <tr>\n",
       "      <th>min</th>\n",
       "      <td>1759.000000</td>\n",
       "    </tr>\n",
       "    <tr>\n",
       "      <th>25%</th>\n",
       "      <td>5277.000000</td>\n",
       "    </tr>\n",
       "    <tr>\n",
       "      <th>50%</th>\n",
       "      <td>8372.000000</td>\n",
       "    </tr>\n",
       "    <tr>\n",
       "      <th>75%</th>\n",
       "      <td>12373.000000</td>\n",
       "    </tr>\n",
       "    <tr>\n",
       "      <th>max</th>\n",
       "      <td>79512.000000</td>\n",
       "    </tr>\n",
       "  </tbody>\n",
       "</table>\n",
       "</div>"
      ],
      "text/plain": [
       "              Price\n",
       "count  10682.000000\n",
       "mean    9087.214567\n",
       "std     4611.548810\n",
       "min     1759.000000\n",
       "25%     5277.000000\n",
       "50%     8372.000000\n",
       "75%    12373.000000\n",
       "max    79512.000000"
      ]
     },
     "execution_count": 15,
     "metadata": {},
     "output_type": "execute_result"
    }
   ],
   "source": [
    "Train_data.describe()"
   ]
  },
  {
   "cell_type": "markdown",
   "metadata": {},
   "source": [
    "Observations : \n",
    "    \n",
    "    Summary statistics always gives us the information about the numerical columns. \n",
    "    \n",
    "    1. Te minimum price of flight is 1759.000000 rupees and maximum is 79512 rupees.\n",
    "    \n",
    "    2. Mean is greater than median thats why price column is right skewed."
   ]
  },
  {
   "cell_type": "markdown",
   "metadata": {},
   "source": [
    "# Exploratory Data Analysis"
   ]
  },
  {
   "cell_type": "markdown",
   "metadata": {},
   "source": [
    "### checking the man price"
   ]
  },
  {
   "cell_type": "code",
   "execution_count": 16,
   "metadata": {},
   "outputs": [
    {
     "data": {
      "image/png": "[encoded data removed]",
      "text/plain": [
       "<Figure size 432x288 with 1 Axes>"
      ]
     },
     "metadata": {
      "needs_background": "light"
     },
     "output_type": "display_data"
    }
   ],
   "source": [
    "loan_amount=Train_data['Price'].hist(bins=60)\n",
    "mean_val=np.mean(Train_data['Price'])\n",
    "plt.axvline(mean_val,linewidth=4,color='red',label='Price_mean')\n",
    "plt.xlabel('Price')\n",
    "plt.ylabel('count')\n",
    "plt.legend()\n",
    "plt.show()"
   ]
  },
  {
   "cell_type": "markdown",
   "metadata": {},
   "source": [
    "### From description we can see that Date_of_Journey is a object type, therefore we have to convert this data type into timestamp so we use this column for proper prediction."
   ]
  },
  {
   "cell_type": "markdown",
   "metadata": {},
   "source": [
    "### Check the unique value in Date_of_Journey column"
   ]
  },
  {
   "cell_type": "code",
   "execution_count": 17,
   "metadata": {},
   "outputs": [
    {
     "data": {
      "text/plain": [
       "array(['24/03/2019', '1/05/2019', '9/06/2019', '12/05/2019', '01/03/2019',\n",
       "       '24/06/2019', '12/03/2019', '27/05/2019', '1/06/2019',\n",
       "       '18/04/2019', '9/05/2019', '24/04/2019', '3/03/2019', '15/04/2019',\n",
       "       '12/06/2019', '6/03/2019', '21/03/2019', '3/04/2019', '6/05/2019',\n",
       "       '15/05/2019', '18/06/2019', '15/06/2019', '6/04/2019',\n",
       "       '18/05/2019', '27/06/2019', '21/05/2019', '06/03/2019',\n",
       "       '3/06/2019', '15/03/2019', '3/05/2019', '9/03/2019', '6/06/2019',\n",
       "       '24/05/2019', '09/03/2019', '1/04/2019', '21/04/2019',\n",
       "       '21/06/2019', '27/03/2019', '18/03/2019', '12/04/2019',\n",
       "       '9/04/2019', '1/03/2019', '03/03/2019', '27/04/2019'], dtype=object)"
      ]
     },
     "execution_count": 17,
     "metadata": {},
     "output_type": "execute_result"
    }
   ],
   "source": [
    "Train_data['Date_of_Journey'].unique()"
   ]
  },
  {
   "cell_type": "markdown",
   "metadata": {},
   "source": [
    "### Here from date of journey all the data are from year 2019. So we can not create seprate column for year"
   ]
  },
  {
   "cell_type": "markdown",
   "metadata": {},
   "source": [
    "### Making the new column journey date"
   ]
  },
  {
   "cell_type": "markdown",
   "metadata": {},
   "source": [
    "### First need to convert from object to datetime"
   ]
  },
  {
   "cell_type": "code",
   "execution_count": 18,
   "metadata": {},
   "outputs": [
    {
     "data": {
      "text/plain": [
       "0       2019-03-24\n",
       "1       2019-01-05\n",
       "2       2019-09-06\n",
       "3       2019-12-05\n",
       "4       2019-01-03\n",
       "           ...    \n",
       "10678   2019-09-04\n",
       "10679   2019-04-27\n",
       "10680   2019-04-27\n",
       "10681   2019-01-03\n",
       "10682   2019-09-05\n",
       "Name: Date_of_Journey, Length: 10682, dtype: datetime64[ns]"
      ]
     },
     "execution_count": 18,
     "metadata": {},
     "output_type": "execute_result"
    }
   ],
   "source": [
    "Train_data['Date_of_Journey']=pd.to_datetime(Train_data['Date_of_Journey'])\n",
    "Train_data['Date_of_Journey']"
   ]
  },
  {
   "cell_type": "code",
   "execution_count": 19,
   "metadata": {},
   "outputs": [],
   "source": [
    "Train_data['Journey_date']=Train_data['Date_of_Journey'].dt.day"
   ]
  },
  {
   "cell_type": "markdown",
   "metadata": {},
   "source": [
    "### Making the new column journey Month"
   ]
  },
  {
   "cell_type": "code",
   "execution_count": 20,
   "metadata": {},
   "outputs": [],
   "source": [
    "Train_data['Journey_month']=Train_data['Date_of_Journey'].dt.month"
   ]
  },
  {
   "cell_type": "markdown",
   "metadata": {},
   "source": [
    "### check the dataset"
   ]
  },
  {
   "cell_type": "code",
   "execution_count": 21,
   "metadata": {},
   "outputs": [
    {
     "data": {
      "text/html": [
       "<div>\n",
       "<style scoped>\n",
       "    .dataframe tbody tr th:only-of-type {\n",
       "        vertical-align: middle;\n",
       "    }\n",
       "\n",
       "    .dataframe tbody tr th {\n",
       "        vertical-align: top;\n",
       "    }\n",
       "\n",
       "    .dataframe thead th {\n",
       "        text-align: right;\n",
       "    }\n",
       "</style>\n",
       "<table border=\"1\" class=\"dataframe\">\n",
       "  <thead>\n",
       "    <tr style=\"text-align: right;\">\n",
       "      <th></th>\n",
       "      <th>Airline</th>\n",
       "      <th>Date_of_Journey</th>\n",
       "      <th>Source</th>\n",
       "      <th>Destination</th>\n",
       "      <th>Route</th>\n",
       "      <th>Dep_Time</th>\n",
       "      <th>Arrival_Time</th>\n",
       "      <th>Duration</th>\n",
       "      <th>Total_Stops</th>\n",
       "      <th>Additional_Info</th>\n",
       "      <th>Price</th>\n",
       "      <th>Journey_date</th>\n",
       "      <th>Journey_month</th>\n",
       "    </tr>\n",
       "  </thead>\n",
       "  <tbody>\n",
       "    <tr>\n",
       "      <th>0</th>\n",
       "      <td>IndiGo</td>\n",
       "      <td>2019-03-24</td>\n",
       "      <td>Banglore</td>\n",
       "      <td>New Delhi</td>\n",
       "      <td>BLR → DEL</td>\n",
       "      <td>22:20</td>\n",
       "      <td>01:10 22 Mar</td>\n",
       "      <td>2h 50m</td>\n",
       "      <td>non-stop</td>\n",
       "      <td>No info</td>\n",
       "      <td>3897</td>\n",
       "      <td>24</td>\n",
       "      <td>3</td>\n",
       "    </tr>\n",
       "    <tr>\n",
       "      <th>1</th>\n",
       "      <td>Air India</td>\n",
       "      <td>2019-01-05</td>\n",
       "      <td>Kolkata</td>\n",
       "      <td>Banglore</td>\n",
       "      <td>CCU → IXR → BBI → BLR</td>\n",
       "      <td>05:50</td>\n",
       "      <td>13:15</td>\n",
       "      <td>7h 25m</td>\n",
       "      <td>2 stops</td>\n",
       "      <td>No info</td>\n",
       "      <td>7662</td>\n",
       "      <td>5</td>\n",
       "      <td>1</td>\n",
       "    </tr>\n",
       "    <tr>\n",
       "      <th>2</th>\n",
       "      <td>Jet Airways</td>\n",
       "      <td>2019-09-06</td>\n",
       "      <td>Delhi</td>\n",
       "      <td>Cochin</td>\n",
       "      <td>DEL → LKO → BOM → COK</td>\n",
       "      <td>09:25</td>\n",
       "      <td>04:25 10 Jun</td>\n",
       "      <td>19h</td>\n",
       "      <td>2 stops</td>\n",
       "      <td>No info</td>\n",
       "      <td>13882</td>\n",
       "      <td>6</td>\n",
       "      <td>9</td>\n",
       "    </tr>\n",
       "    <tr>\n",
       "      <th>3</th>\n",
       "      <td>IndiGo</td>\n",
       "      <td>2019-12-05</td>\n",
       "      <td>Kolkata</td>\n",
       "      <td>Banglore</td>\n",
       "      <td>CCU → NAG → BLR</td>\n",
       "      <td>18:05</td>\n",
       "      <td>23:30</td>\n",
       "      <td>5h 25m</td>\n",
       "      <td>1 stop</td>\n",
       "      <td>No info</td>\n",
       "      <td>6218</td>\n",
       "      <td>5</td>\n",
       "      <td>12</td>\n",
       "    </tr>\n",
       "    <tr>\n",
       "      <th>4</th>\n",
       "      <td>IndiGo</td>\n",
       "      <td>2019-01-03</td>\n",
       "      <td>Banglore</td>\n",
       "      <td>New Delhi</td>\n",
       "      <td>BLR → NAG → DEL</td>\n",
       "      <td>16:50</td>\n",
       "      <td>21:35</td>\n",
       "      <td>4h 45m</td>\n",
       "      <td>1 stop</td>\n",
       "      <td>No info</td>\n",
       "      <td>13302</td>\n",
       "      <td>3</td>\n",
       "      <td>1</td>\n",
       "    </tr>\n",
       "  </tbody>\n",
       "</table>\n",
       "</div>"
      ],
      "text/plain": [
       "       Airline Date_of_Journey    Source Destination                  Route  \\\n",
       "0       IndiGo      2019-03-24  Banglore   New Delhi              BLR → DEL   \n",
       "1    Air India      2019-01-05   Kolkata    Banglore  CCU → IXR → BBI → BLR   \n",
       "2  Jet Airways      2019-09-06     Delhi      Cochin  DEL → LKO → BOM → COK   \n",
       "3       IndiGo      2019-12-05   Kolkata    Banglore        CCU → NAG → BLR   \n",
       "4       IndiGo      2019-01-03  Banglore   New Delhi        BLR → NAG → DEL   \n",
       "\n",
       "  Dep_Time  Arrival_Time Duration Total_Stops Additional_Info  Price  \\\n",
       "0    22:20  01:10 22 Mar   2h 50m    non-stop         No info   3897   \n",
       "1    05:50         13:15   7h 25m     2 stops         No info   7662   \n",
       "2    09:25  04:25 10 Jun      19h     2 stops         No info  13882   \n",
       "3    18:05         23:30   5h 25m      1 stop         No info   6218   \n",
       "4    16:50         21:35   4h 45m      1 stop         No info  13302   \n",
       "\n",
       "   Journey_date  Journey_month  \n",
       "0            24              3  \n",
       "1             5              1  \n",
       "2             6              9  \n",
       "3             5             12  \n",
       "4             3              1  "
      ]
     },
     "execution_count": 21,
     "metadata": {},
     "output_type": "execute_result"
    }
   ],
   "source": [
    "Train_data.head()"
   ]
  },
  {
   "cell_type": "markdown",
   "metadata": {},
   "source": [
    "### Now we are going to drop Date_of_journey because we have converted this column into integers and as it is of no use"
   ]
  },
  {
   "cell_type": "code",
   "execution_count": 22,
   "metadata": {},
   "outputs": [],
   "source": [
    "Train_data.drop(['Date_of_Journey'],axis=1,inplace=True)"
   ]
  },
  {
   "cell_type": "markdown",
   "metadata": {},
   "source": [
    "#### 1. Now we convert Departure  time.\n",
    "\n",
    "2. Departure time is the time when a plane leaves the source airport\n",
    "\n",
    "3.Similarly we can extract the values from Dep_Time as we fetch the values from Date_of_journey\n",
    "\n",
    "\n"
   ]
  },
  {
   "cell_type": "markdown",
   "metadata": {},
   "source": [
    "### Fetching hours"
   ]
  },
  {
   "cell_type": "code",
   "execution_count": 23,
   "metadata": {},
   "outputs": [],
   "source": [
    "Train_data['Dep_Time']=pd.to_datetime(Train_data['Dep_Time'])\n",
    "Train_data['Dep_hour']=Train_data['Dep_Time'].dt.hour"
   ]
  },
  {
   "cell_type": "markdown",
   "metadata": {},
   "source": [
    "### Fetching minutes"
   ]
  },
  {
   "cell_type": "code",
   "execution_count": 24,
   "metadata": {},
   "outputs": [],
   "source": [
    "Train_data['Dep_min']=Train_data['Dep_Time'].dt.minute"
   ]
  },
  {
   "cell_type": "markdown",
   "metadata": {},
   "source": [
    "### Drop the Dep_Time column as there is no use"
   ]
  },
  {
   "cell_type": "code",
   "execution_count": 25,
   "metadata": {},
   "outputs": [],
   "source": [
    "Train_data.drop(['Dep_Time'],axis=1,inplace=True)"
   ]
  },
  {
   "cell_type": "markdown",
   "metadata": {},
   "source": [
    "### check the dataset"
   ]
  },
  {
   "cell_type": "code",
   "execution_count": 26,
   "metadata": {},
   "outputs": [
    {
     "data": {
      "text/html": [
       "<div>\n",
       "<style scoped>\n",
       "    .dataframe tbody tr th:only-of-type {\n",
       "        vertical-align: middle;\n",
       "    }\n",
       "\n",
       "    .dataframe tbody tr th {\n",
       "        vertical-align: top;\n",
       "    }\n",
       "\n",
       "    .dataframe thead th {\n",
       "        text-align: right;\n",
       "    }\n",
       "</style>\n",
       "<table border=\"1\" class=\"dataframe\">\n",
       "  <thead>\n",
       "    <tr style=\"text-align: right;\">\n",
       "      <th></th>\n",
       "      <th>Airline</th>\n",
       "      <th>Source</th>\n",
       "      <th>Destination</th>\n",
       "      <th>Route</th>\n",
       "      <th>Arrival_Time</th>\n",
       "      <th>Duration</th>\n",
       "      <th>Total_Stops</th>\n",
       "      <th>Additional_Info</th>\n",
       "      <th>Price</th>\n",
       "      <th>Journey_date</th>\n",
       "      <th>Journey_month</th>\n",
       "      <th>Dep_hour</th>\n",
       "      <th>Dep_min</th>\n",
       "    </tr>\n",
       "  </thead>\n",
       "  <tbody>\n",
       "    <tr>\n",
       "      <th>0</th>\n",
       "      <td>IndiGo</td>\n",
       "      <td>Banglore</td>\n",
       "      <td>New Delhi</td>\n",
       "      <td>BLR → DEL</td>\n",
       "      <td>01:10 22 Mar</td>\n",
       "      <td>2h 50m</td>\n",
       "      <td>non-stop</td>\n",
       "      <td>No info</td>\n",
       "      <td>3897</td>\n",
       "      <td>24</td>\n",
       "      <td>3</td>\n",
       "      <td>22</td>\n",
       "      <td>20</td>\n",
       "    </tr>\n",
       "    <tr>\n",
       "      <th>1</th>\n",
       "      <td>Air India</td>\n",
       "      <td>Kolkata</td>\n",
       "      <td>Banglore</td>\n",
       "      <td>CCU → IXR → BBI → BLR</td>\n",
       "      <td>13:15</td>\n",
       "      <td>7h 25m</td>\n",
       "      <td>2 stops</td>\n",
       "      <td>No info</td>\n",
       "      <td>7662</td>\n",
       "      <td>5</td>\n",
       "      <td>1</td>\n",
       "      <td>5</td>\n",
       "      <td>50</td>\n",
       "    </tr>\n",
       "    <tr>\n",
       "      <th>2</th>\n",
       "      <td>Jet Airways</td>\n",
       "      <td>Delhi</td>\n",
       "      <td>Cochin</td>\n",
       "      <td>DEL → LKO → BOM → COK</td>\n",
       "      <td>04:25 10 Jun</td>\n",
       "      <td>19h</td>\n",
       "      <td>2 stops</td>\n",
       "      <td>No info</td>\n",
       "      <td>13882</td>\n",
       "      <td>6</td>\n",
       "      <td>9</td>\n",
       "      <td>9</td>\n",
       "      <td>25</td>\n",
       "    </tr>\n",
       "    <tr>\n",
       "      <th>3</th>\n",
       "      <td>IndiGo</td>\n",
       "      <td>Kolkata</td>\n",
       "      <td>Banglore</td>\n",
       "      <td>CCU → NAG → BLR</td>\n",
       "      <td>23:30</td>\n",
       "      <td>5h 25m</td>\n",
       "      <td>1 stop</td>\n",
       "      <td>No info</td>\n",
       "      <td>6218</td>\n",
       "      <td>5</td>\n",
       "      <td>12</td>\n",
       "      <td>18</td>\n",
       "      <td>5</td>\n",
       "    </tr>\n",
       "    <tr>\n",
       "      <th>4</th>\n",
       "      <td>IndiGo</td>\n",
       "      <td>Banglore</td>\n",
       "      <td>New Delhi</td>\n",
       "      <td>BLR → NAG → DEL</td>\n",
       "      <td>21:35</td>\n",
       "      <td>4h 45m</td>\n",
       "      <td>1 stop</td>\n",
       "      <td>No info</td>\n",
       "      <td>13302</td>\n",
       "      <td>3</td>\n",
       "      <td>1</td>\n",
       "      <td>16</td>\n",
       "      <td>50</td>\n",
       "    </tr>\n",
       "  </tbody>\n",
       "</table>\n",
       "</div>"
      ],
      "text/plain": [
       "       Airline    Source Destination                  Route  Arrival_Time  \\\n",
       "0       IndiGo  Banglore   New Delhi              BLR → DEL  01:10 22 Mar   \n",
       "1    Air India   Kolkata    Banglore  CCU → IXR → BBI → BLR         13:15   \n",
       "2  Jet Airways     Delhi      Cochin  DEL → LKO → BOM → COK  04:25 10 Jun   \n",
       "3       IndiGo   Kolkata    Banglore        CCU → NAG → BLR         23:30   \n",
       "4       IndiGo  Banglore   New Delhi        BLR → NAG → DEL         21:35   \n",
       "\n",
       "  Duration Total_Stops Additional_Info  Price  Journey_date  Journey_month  \\\n",
       "0   2h 50m    non-stop         No info   3897            24              3   \n",
       "1   7h 25m     2 stops         No info   7662             5              1   \n",
       "2      19h     2 stops         No info  13882             6              9   \n",
       "3   5h 25m      1 stop         No info   6218             5             12   \n",
       "4   4h 45m      1 stop         No info  13302             3              1   \n",
       "\n",
       "   Dep_hour  Dep_min  \n",
       "0        22       20  \n",
       "1         5       50  \n",
       "2         9       25  \n",
       "3        18        5  \n",
       "4        16       50  "
      ]
     },
     "execution_count": 26,
     "metadata": {},
     "output_type": "execute_result"
    }
   ],
   "source": [
    "Train_data.head()"
   ]
  },
  {
   "cell_type": "markdown",
   "metadata": {},
   "source": [
    "### Arrival_Time"
   ]
  },
  {
   "cell_type": "code",
   "execution_count": 27,
   "metadata": {},
   "outputs": [
    {
     "data": {
      "text/html": [
       "<div>\n",
       "<style scoped>\n",
       "    .dataframe tbody tr th:only-of-type {\n",
       "        vertical-align: middle;\n",
       "    }\n",
       "\n",
       "    .dataframe tbody tr th {\n",
       "        vertical-align: top;\n",
       "    }\n",
       "\n",
       "    .dataframe thead th {\n",
       "        text-align: right;\n",
       "    }\n",
       "</style>\n",
       "<table border=\"1\" class=\"dataframe\">\n",
       "  <thead>\n",
       "    <tr style=\"text-align: right;\">\n",
       "      <th></th>\n",
       "      <th>Airline</th>\n",
       "      <th>Source</th>\n",
       "      <th>Destination</th>\n",
       "      <th>Route</th>\n",
       "      <th>Duration</th>\n",
       "      <th>Total_Stops</th>\n",
       "      <th>Additional_Info</th>\n",
       "      <th>Price</th>\n",
       "      <th>Journey_date</th>\n",
       "      <th>Journey_month</th>\n",
       "      <th>Dep_hour</th>\n",
       "      <th>Dep_min</th>\n",
       "      <th>Arr_hour</th>\n",
       "      <th>Arr_min</th>\n",
       "    </tr>\n",
       "  </thead>\n",
       "  <tbody>\n",
       "    <tr>\n",
       "      <th>0</th>\n",
       "      <td>IndiGo</td>\n",
       "      <td>Banglore</td>\n",
       "      <td>New Delhi</td>\n",
       "      <td>BLR → DEL</td>\n",
       "      <td>2h 50m</td>\n",
       "      <td>non-stop</td>\n",
       "      <td>No info</td>\n",
       "      <td>3897</td>\n",
       "      <td>24</td>\n",
       "      <td>3</td>\n",
       "      <td>22</td>\n",
       "      <td>20</td>\n",
       "      <td>1</td>\n",
       "      <td>10</td>\n",
       "    </tr>\n",
       "    <tr>\n",
       "      <th>1</th>\n",
       "      <td>Air India</td>\n",
       "      <td>Kolkata</td>\n",
       "      <td>Banglore</td>\n",
       "      <td>CCU → IXR → BBI → BLR</td>\n",
       "      <td>7h 25m</td>\n",
       "      <td>2 stops</td>\n",
       "      <td>No info</td>\n",
       "      <td>7662</td>\n",
       "      <td>5</td>\n",
       "      <td>1</td>\n",
       "      <td>5</td>\n",
       "      <td>50</td>\n",
       "      <td>13</td>\n",
       "      <td>15</td>\n",
       "    </tr>\n",
       "    <tr>\n",
       "      <th>2</th>\n",
       "      <td>Jet Airways</td>\n",
       "      <td>Delhi</td>\n",
       "      <td>Cochin</td>\n",
       "      <td>DEL → LKO → BOM → COK</td>\n",
       "      <td>19h</td>\n",
       "      <td>2 stops</td>\n",
       "      <td>No info</td>\n",
       "      <td>13882</td>\n",
       "      <td>6</td>\n",
       "      <td>9</td>\n",
       "      <td>9</td>\n",
       "      <td>25</td>\n",
       "      <td>4</td>\n",
       "      <td>25</td>\n",
       "    </tr>\n",
       "    <tr>\n",
       "      <th>3</th>\n",
       "      <td>IndiGo</td>\n",
       "      <td>Kolkata</td>\n",
       "      <td>Banglore</td>\n",
       "      <td>CCU → NAG → BLR</td>\n",
       "      <td>5h 25m</td>\n",
       "      <td>1 stop</td>\n",
       "      <td>No info</td>\n",
       "      <td>6218</td>\n",
       "      <td>5</td>\n",
       "      <td>12</td>\n",
       "      <td>18</td>\n",
       "      <td>5</td>\n",
       "      <td>23</td>\n",
       "      <td>30</td>\n",
       "    </tr>\n",
       "    <tr>\n",
       "      <th>4</th>\n",
       "      <td>IndiGo</td>\n",
       "      <td>Banglore</td>\n",
       "      <td>New Delhi</td>\n",
       "      <td>BLR → NAG → DEL</td>\n",
       "      <td>4h 45m</td>\n",
       "      <td>1 stop</td>\n",
       "      <td>No info</td>\n",
       "      <td>13302</td>\n",
       "      <td>3</td>\n",
       "      <td>1</td>\n",
       "      <td>16</td>\n",
       "      <td>50</td>\n",
       "      <td>21</td>\n",
       "      <td>35</td>\n",
       "    </tr>\n",
       "  </tbody>\n",
       "</table>\n",
       "</div>"
      ],
      "text/plain": [
       "       Airline    Source Destination                  Route Duration  \\\n",
       "0       IndiGo  Banglore   New Delhi              BLR → DEL   2h 50m   \n",
       "1    Air India   Kolkata    Banglore  CCU → IXR → BBI → BLR   7h 25m   \n",
       "2  Jet Airways     Delhi      Cochin  DEL → LKO → BOM → COK      19h   \n",
       "3       IndiGo   Kolkata    Banglore        CCU → NAG → BLR   5h 25m   \n",
       "4       IndiGo  Banglore   New Delhi        BLR → NAG → DEL   4h 45m   \n",
       "\n",
       "  Total_Stops Additional_Info  Price  Journey_date  Journey_month  Dep_hour  \\\n",
       "0    non-stop         No info   3897            24              3        22   \n",
       "1     2 stops         No info   7662             5              1         5   \n",
       "2     2 stops         No info  13882             6              9         9   \n",
       "3      1 stop         No info   6218             5             12        18   \n",
       "4      1 stop         No info  13302             3              1        16   \n",
       "\n",
       "   Dep_min  Arr_hour  Arr_min  \n",
       "0       20         1       10  \n",
       "1       50        13       15  \n",
       "2       25         4       25  \n",
       "3        5        23       30  \n",
       "4       50        21       35  "
      ]
     },
     "execution_count": 27,
     "metadata": {},
     "output_type": "execute_result"
    }
   ],
   "source": [
    "Train_data['Arrival_Time']=pd.to_datetime(Train_data['Arrival_Time']) #Convert from object type to datetime\n",
    "Train_data['Arr_hour']=Train_data['Arrival_Time'].dt.hour #Convert to hour\n",
    "Train_data['Arr_min']=Train_data['Arrival_Time'].dt.minute #Convert to minute\n",
    "Train_data.drop(['Arrival_Time'],axis=1,inplace=True)  #Drop the column\n",
    "Train_data.head()"
   ]
  },
  {
   "cell_type": "markdown",
   "metadata": {},
   "source": [
    "# Now we convert duration"
   ]
  },
  {
   "cell_type": "markdown",
   "metadata": {},
   "source": [
    "### Assigning and converting duration column into list "
   ]
  },
  {
   "cell_type": "code",
   "execution_count": 28,
   "metadata": {},
   "outputs": [],
   "source": [
    "duration=list(Train_data[\"Duration\"])"
   ]
  },
  {
   "cell_type": "markdown",
   "metadata": {},
   "source": []
  },
  {
   "cell_type": "raw",
   "metadata": {},
   "source": []
  },
  {
   "cell_type": "code",
   "execution_count": 29,
   "metadata": {},
   "outputs": [],
   "source": [
    "for i in range(len(duration)):\n",
    "    if len(duration[i].split())!=0:  #Check if duration contains only hour or mins\n",
    "        if \"h\" in duration[i]:\n",
    "            duration[i]=duration[i].strip()+\" 0m\"  #Adds 0 minute\n",
    "        else:\n",
    "            duration[i]=\"0h \" + duration[i]\n",
    "            \n",
    "duration_hours=[]\n",
    "duration_mins=[]\n",
    "for i in range(len(duration)):\n",
    "    duration_hours.append(int(duration[i].split(sep=\"h\")[0])) #Extract hours from duration\n",
    "    duration_mins.append(int(duration[i].split(sep=\"m\")[0].split()[-1]))\n",
    "    "
   ]
  },
  {
   "cell_type": "markdown",
   "metadata": {},
   "source": [
    "### Adding duration hours and duration minute list to Train_data"
   ]
  },
  {
   "cell_type": "code",
   "execution_count": 30,
   "metadata": {},
   "outputs": [],
   "source": [
    "Train_data['Duration_hours']=duration_hours\n",
    "Train_data['Duration_mins']=duration_mins"
   ]
  },
  {
   "cell_type": "markdown",
   "metadata": {},
   "source": [
    "### Check data set"
   ]
  },
  {
   "cell_type": "code",
   "execution_count": 31,
   "metadata": {},
   "outputs": [
    {
     "data": {
      "text/html": [
       "<div>\n",
       "<style scoped>\n",
       "    .dataframe tbody tr th:only-of-type {\n",
       "        vertical-align: middle;\n",
       "    }\n",
       "\n",
       "    .dataframe tbody tr th {\n",
       "        vertical-align: top;\n",
       "    }\n",
       "\n",
       "    .dataframe thead th {\n",
       "        text-align: right;\n",
       "    }\n",
       "</style>\n",
       "<table border=\"1\" class=\"dataframe\">\n",
       "  <thead>\n",
       "    <tr style=\"text-align: right;\">\n",
       "      <th></th>\n",
       "      <th>Airline</th>\n",
       "      <th>Source</th>\n",
       "      <th>Destination</th>\n",
       "      <th>Route</th>\n",
       "      <th>Duration</th>\n",
       "      <th>Total_Stops</th>\n",
       "      <th>Additional_Info</th>\n",
       "      <th>Price</th>\n",
       "      <th>Journey_date</th>\n",
       "      <th>Journey_month</th>\n",
       "      <th>Dep_hour</th>\n",
       "      <th>Dep_min</th>\n",
       "      <th>Arr_hour</th>\n",
       "      <th>Arr_min</th>\n",
       "      <th>Duration_hours</th>\n",
       "      <th>Duration_mins</th>\n",
       "    </tr>\n",
       "  </thead>\n",
       "  <tbody>\n",
       "    <tr>\n",
       "      <th>0</th>\n",
       "      <td>IndiGo</td>\n",
       "      <td>Banglore</td>\n",
       "      <td>New Delhi</td>\n",
       "      <td>BLR → DEL</td>\n",
       "      <td>2h 50m</td>\n",
       "      <td>non-stop</td>\n",
       "      <td>No info</td>\n",
       "      <td>3897</td>\n",
       "      <td>24</td>\n",
       "      <td>3</td>\n",
       "      <td>22</td>\n",
       "      <td>20</td>\n",
       "      <td>1</td>\n",
       "      <td>10</td>\n",
       "      <td>2</td>\n",
       "      <td>50</td>\n",
       "    </tr>\n",
       "    <tr>\n",
       "      <th>1</th>\n",
       "      <td>Air India</td>\n",
       "      <td>Kolkata</td>\n",
       "      <td>Banglore</td>\n",
       "      <td>CCU → IXR → BBI → BLR</td>\n",
       "      <td>7h 25m</td>\n",
       "      <td>2 stops</td>\n",
       "      <td>No info</td>\n",
       "      <td>7662</td>\n",
       "      <td>5</td>\n",
       "      <td>1</td>\n",
       "      <td>5</td>\n",
       "      <td>50</td>\n",
       "      <td>13</td>\n",
       "      <td>15</td>\n",
       "      <td>7</td>\n",
       "      <td>25</td>\n",
       "    </tr>\n",
       "    <tr>\n",
       "      <th>2</th>\n",
       "      <td>Jet Airways</td>\n",
       "      <td>Delhi</td>\n",
       "      <td>Cochin</td>\n",
       "      <td>DEL → LKO → BOM → COK</td>\n",
       "      <td>19h</td>\n",
       "      <td>2 stops</td>\n",
       "      <td>No info</td>\n",
       "      <td>13882</td>\n",
       "      <td>6</td>\n",
       "      <td>9</td>\n",
       "      <td>9</td>\n",
       "      <td>25</td>\n",
       "      <td>4</td>\n",
       "      <td>25</td>\n",
       "      <td>19</td>\n",
       "      <td>0</td>\n",
       "    </tr>\n",
       "    <tr>\n",
       "      <th>3</th>\n",
       "      <td>IndiGo</td>\n",
       "      <td>Kolkata</td>\n",
       "      <td>Banglore</td>\n",
       "      <td>CCU → NAG → BLR</td>\n",
       "      <td>5h 25m</td>\n",
       "      <td>1 stop</td>\n",
       "      <td>No info</td>\n",
       "      <td>6218</td>\n",
       "      <td>5</td>\n",
       "      <td>12</td>\n",
       "      <td>18</td>\n",
       "      <td>5</td>\n",
       "      <td>23</td>\n",
       "      <td>30</td>\n",
       "      <td>5</td>\n",
       "      <td>25</td>\n",
       "    </tr>\n",
       "    <tr>\n",
       "      <th>4</th>\n",
       "      <td>IndiGo</td>\n",
       "      <td>Banglore</td>\n",
       "      <td>New Delhi</td>\n",
       "      <td>BLR → NAG → DEL</td>\n",
       "      <td>4h 45m</td>\n",
       "      <td>1 stop</td>\n",
       "      <td>No info</td>\n",
       "      <td>13302</td>\n",
       "      <td>3</td>\n",
       "      <td>1</td>\n",
       "      <td>16</td>\n",
       "      <td>50</td>\n",
       "      <td>21</td>\n",
       "      <td>35</td>\n",
       "      <td>4</td>\n",
       "      <td>45</td>\n",
       "    </tr>\n",
       "  </tbody>\n",
       "</table>\n",
       "</div>"
      ],
      "text/plain": [
       "       Airline    Source Destination                  Route Duration  \\\n",
       "0       IndiGo  Banglore   New Delhi              BLR → DEL   2h 50m   \n",
       "1    Air India   Kolkata    Banglore  CCU → IXR → BBI → BLR   7h 25m   \n",
       "2  Jet Airways     Delhi      Cochin  DEL → LKO → BOM → COK      19h   \n",
       "3       IndiGo   Kolkata    Banglore        CCU → NAG → BLR   5h 25m   \n",
       "4       IndiGo  Banglore   New Delhi        BLR → NAG → DEL   4h 45m   \n",
       "\n",
       "  Total_Stops Additional_Info  Price  Journey_date  Journey_month  Dep_hour  \\\n",
       "0    non-stop         No info   3897            24              3        22   \n",
       "1     2 stops         No info   7662             5              1         5   \n",
       "2     2 stops         No info  13882             6              9         9   \n",
       "3      1 stop         No info   6218             5             12        18   \n",
       "4      1 stop         No info  13302             3              1        16   \n",
       "\n",
       "   Dep_min  Arr_hour  Arr_min  Duration_hours  Duration_mins  \n",
       "0       20         1       10               2             50  \n",
       "1       50        13       15               7             25  \n",
       "2       25         4       25              19              0  \n",
       "3        5        23       30               5             25  \n",
       "4       50        21       35               4             45  "
      ]
     },
     "execution_count": 31,
     "metadata": {},
     "output_type": "execute_result"
    }
   ],
   "source": [
    "Train_data.head()"
   ]
  },
  {
   "cell_type": "markdown",
   "metadata": {},
   "source": [
    "### Dropping Duration column as it has no use"
   ]
  },
  {
   "cell_type": "code",
   "execution_count": 32,
   "metadata": {},
   "outputs": [],
   "source": [
    "Train_data.drop(['Duration'],axis=1,inplace=True)"
   ]
  },
  {
   "cell_type": "code",
   "execution_count": 33,
   "metadata": {},
   "outputs": [
    {
     "data": {
      "text/html": [
       "<div>\n",
       "<style scoped>\n",
       "    .dataframe tbody tr th:only-of-type {\n",
       "        vertical-align: middle;\n",
       "    }\n",
       "\n",
       "    .dataframe tbody tr th {\n",
       "        vertical-align: top;\n",
       "    }\n",
       "\n",
       "    .dataframe thead th {\n",
       "        text-align: right;\n",
       "    }\n",
       "</style>\n",
       "<table border=\"1\" class=\"dataframe\">\n",
       "  <thead>\n",
       "    <tr style=\"text-align: right;\">\n",
       "      <th></th>\n",
       "      <th>Airline</th>\n",
       "      <th>Source</th>\n",
       "      <th>Destination</th>\n",
       "      <th>Route</th>\n",
       "      <th>Total_Stops</th>\n",
       "      <th>Additional_Info</th>\n",
       "      <th>Price</th>\n",
       "      <th>Journey_date</th>\n",
       "      <th>Journey_month</th>\n",
       "      <th>Dep_hour</th>\n",
       "      <th>Dep_min</th>\n",
       "      <th>Arr_hour</th>\n",
       "      <th>Arr_min</th>\n",
       "      <th>Duration_hours</th>\n",
       "      <th>Duration_mins</th>\n",
       "    </tr>\n",
       "  </thead>\n",
       "  <tbody>\n",
       "    <tr>\n",
       "      <th>0</th>\n",
       "      <td>IndiGo</td>\n",
       "      <td>Banglore</td>\n",
       "      <td>New Delhi</td>\n",
       "      <td>BLR → DEL</td>\n",
       "      <td>non-stop</td>\n",
       "      <td>No info</td>\n",
       "      <td>3897</td>\n",
       "      <td>24</td>\n",
       "      <td>3</td>\n",
       "      <td>22</td>\n",
       "      <td>20</td>\n",
       "      <td>1</td>\n",
       "      <td>10</td>\n",
       "      <td>2</td>\n",
       "      <td>50</td>\n",
       "    </tr>\n",
       "    <tr>\n",
       "      <th>1</th>\n",
       "      <td>Air India</td>\n",
       "      <td>Kolkata</td>\n",
       "      <td>Banglore</td>\n",
       "      <td>CCU → IXR → BBI → BLR</td>\n",
       "      <td>2 stops</td>\n",
       "      <td>No info</td>\n",
       "      <td>7662</td>\n",
       "      <td>5</td>\n",
       "      <td>1</td>\n",
       "      <td>5</td>\n",
       "      <td>50</td>\n",
       "      <td>13</td>\n",
       "      <td>15</td>\n",
       "      <td>7</td>\n",
       "      <td>25</td>\n",
       "    </tr>\n",
       "    <tr>\n",
       "      <th>2</th>\n",
       "      <td>Jet Airways</td>\n",
       "      <td>Delhi</td>\n",
       "      <td>Cochin</td>\n",
       "      <td>DEL → LKO → BOM → COK</td>\n",
       "      <td>2 stops</td>\n",
       "      <td>No info</td>\n",
       "      <td>13882</td>\n",
       "      <td>6</td>\n",
       "      <td>9</td>\n",
       "      <td>9</td>\n",
       "      <td>25</td>\n",
       "      <td>4</td>\n",
       "      <td>25</td>\n",
       "      <td>19</td>\n",
       "      <td>0</td>\n",
       "    </tr>\n",
       "    <tr>\n",
       "      <th>3</th>\n",
       "      <td>IndiGo</td>\n",
       "      <td>Kolkata</td>\n",
       "      <td>Banglore</td>\n",
       "      <td>CCU → NAG → BLR</td>\n",
       "      <td>1 stop</td>\n",
       "      <td>No info</td>\n",
       "      <td>6218</td>\n",
       "      <td>5</td>\n",
       "      <td>12</td>\n",
       "      <td>18</td>\n",
       "      <td>5</td>\n",
       "      <td>23</td>\n",
       "      <td>30</td>\n",
       "      <td>5</td>\n",
       "      <td>25</td>\n",
       "    </tr>\n",
       "    <tr>\n",
       "      <th>4</th>\n",
       "      <td>IndiGo</td>\n",
       "      <td>Banglore</td>\n",
       "      <td>New Delhi</td>\n",
       "      <td>BLR → NAG → DEL</td>\n",
       "      <td>1 stop</td>\n",
       "      <td>No info</td>\n",
       "      <td>13302</td>\n",
       "      <td>3</td>\n",
       "      <td>1</td>\n",
       "      <td>16</td>\n",
       "      <td>50</td>\n",
       "      <td>21</td>\n",
       "      <td>35</td>\n",
       "      <td>4</td>\n",
       "      <td>45</td>\n",
       "    </tr>\n",
       "  </tbody>\n",
       "</table>\n",
       "</div>"
      ],
      "text/plain": [
       "       Airline    Source Destination                  Route Total_Stops  \\\n",
       "0       IndiGo  Banglore   New Delhi              BLR → DEL    non-stop   \n",
       "1    Air India   Kolkata    Banglore  CCU → IXR → BBI → BLR     2 stops   \n",
       "2  Jet Airways     Delhi      Cochin  DEL → LKO → BOM → COK     2 stops   \n",
       "3       IndiGo   Kolkata    Banglore        CCU → NAG → BLR      1 stop   \n",
       "4       IndiGo  Banglore   New Delhi        BLR → NAG → DEL      1 stop   \n",
       "\n",
       "  Additional_Info  Price  Journey_date  Journey_month  Dep_hour  Dep_min  \\\n",
       "0         No info   3897            24              3        22       20   \n",
       "1         No info   7662             5              1         5       50   \n",
       "2         No info  13882             6              9         9       25   \n",
       "3         No info   6218             5             12        18        5   \n",
       "4         No info  13302             3              1        16       50   \n",
       "\n",
       "   Arr_hour  Arr_min  Duration_hours  Duration_mins  \n",
       "0         1       10               2             50  \n",
       "1        13       15               7             25  \n",
       "2         4       25              19              0  \n",
       "3        23       30               5             25  \n",
       "4        21       35               4             45  "
      ]
     },
     "execution_count": 33,
     "metadata": {},
     "output_type": "execute_result"
    }
   ],
   "source": [
    "Train_data.head()"
   ]
  },
  {
   "cell_type": "markdown",
   "metadata": {},
   "source": [
    "### Airline vs Price"
   ]
  },
  {
   "cell_type": "code",
   "execution_count": 34,
   "metadata": {},
   "outputs": [
    {
     "name": "stdout",
     "output_type": "stream",
     "text": [
      "Jet Airways                          3849\n",
      "IndiGo                               2053\n",
      "Air India                            1751\n",
      "Multiple carriers                    1196\n",
      "SpiceJet                              818\n",
      "Vistara                               479\n",
      "Air Asia                              319\n",
      "GoAir                                 194\n",
      "Multiple carriers Premium economy      13\n",
      "Jet Airways Business                    6\n",
      "Vistara Premium economy                 3\n",
      "Trujet                                  1\n",
      "Name: Airline, dtype: int64\n"
     ]
    }
   ],
   "source": [
    "print(Train_data['Airline'].value_counts())"
   ]
  },
  {
   "cell_type": "code",
   "execution_count": 35,
   "metadata": {},
   "outputs": [
    {
     "data": {
      "image/png": "[encoded data removed]",
      "text/plain": [
       "<Figure size 1296x576 with 1 Axes>"
      ]
     },
     "metadata": {
      "needs_background": "light"
     },
     "output_type": "display_data"
    }
   ],
   "source": [
    "plt.figure(figsize=(18,8))\n",
    "mean_price=np.mean(Train_data['Price'])\n",
    "sns.boxplot(y=\"Price\",x=\"Airline\",data=Train_data,palette=\"rainbow\")\n",
    "plt.axhline(mean_price,color='r',linestyle='dashed',linewidth=2)\n",
    "plt.title(\"Airline company vs Price\",fontsize=30)\n",
    "plt.xticks(rotation=\"vertical\")\n",
    "plt.show()"
   ]
  },
  {
   "cell_type": "markdown",
   "metadata": {},
   "source": [
    "Observations : \n",
    "    \n",
    "    For the jet airlines it's very high than others. Because it's business class airline."
   ]
  },
  {
   "cell_type": "code",
   "execution_count": 36,
   "metadata": {},
   "outputs": [
    {
     "data": {
      "image/png": "[encoded data removed]",
      "text/plain": [
       "<Figure size 1440x432 with 1 Axes>"
      ]
     },
     "metadata": {
      "needs_background": "light"
     },
     "output_type": "display_data"
    }
   ],
   "source": [
    "plt.figure(figsize=(20,6))\n",
    "sns.barplot(x='Airline',y='Price',data=Train_data,palette='rainbow')\n",
    "plt.xticks(rotation=30)\n",
    "plt.show()"
   ]
  },
  {
   "cell_type": "markdown",
   "metadata": {},
   "source": [
    "Observation: \n",
    "    \n",
    "    barplot is used to know the frequency\n",
    "    \n",
    "    From above graph we can see that Jet Airways Business have the highest price. We can also remove it as Jet Airways is closed.\n",
    "    \n",
    "    There are also some outliers present in Airways price which needs to be removed."
   ]
  },
  {
   "cell_type": "markdown",
   "metadata": {},
   "source": [
    "### Source vs Price"
   ]
  },
  {
   "cell_type": "code",
   "execution_count": 37,
   "metadata": {},
   "outputs": [
    {
     "name": "stdout",
     "output_type": "stream",
     "text": [
      "Delhi       4536\n",
      "Kolkata     2871\n",
      "Banglore    2197\n",
      "Mumbai       697\n",
      "Chennai      381\n",
      "Name: Source, dtype: int64\n"
     ]
    }
   ],
   "source": [
    "print(Train_data['Source'].value_counts())"
   ]
  },
  {
   "cell_type": "code",
   "execution_count": 38,
   "metadata": {},
   "outputs": [
    {
     "data": {
      "image/png": "[encoded data removed]",
      "text/plain": [
       "<Figure size 1296x576 with 1 Axes>"
      ]
     },
     "metadata": {
      "needs_background": "light"
     },
     "output_type": "display_data"
    }
   ],
   "source": [
    "plt.figure(figsize=(18,8))\n",
    "mean_price=np.mean(Train_data['Price'])\n",
    "sns.boxplot(y=\"Price\",x=\"Source\",data=Train_data,palette=\"rainbow\")\n",
    "plt.axhline(mean_price,color='r',linestyle='dashed',linewidth=2)\n",
    "plt.title(\"Source vs Price\",fontsize=30)\n",
    "plt.xticks(rotation=\"vertical\")\n",
    "plt.show()"
   ]
  },
  {
   "cell_type": "markdown",
   "metadata": {},
   "source": [
    "Observations : \n",
    "    \n",
    "    Outliers are present here"
   ]
  },
  {
   "cell_type": "code",
   "execution_count": 39,
   "metadata": {},
   "outputs": [
    {
     "data": {
      "image/png": "[encoded data removed]",
      "text/plain": [
       "<Figure size 1440x432 with 1 Axes>"
      ]
     },
     "metadata": {
      "needs_background": "light"
     },
     "output_type": "display_data"
    }
   ],
   "source": [
    "plt.figure(figsize=(20,6))\n",
    "sns.barplot(x='Source',y='Price',data=Train_data,palette='rainbow')\n",
    "plt.axhline(mean_price,color='r',linestyle='dashed',linewidth=2)\n",
    "plt.xticks(rotation=30)\n",
    "plt.show()"
   ]
  },
  {
   "cell_type": "markdown",
   "metadata": {},
   "source": [
    "Observations: \n",
    "    \n",
    "    From Delhi of Flight is very high\n",
    "    \n",
    "    But from Banglore some tickets price is too high which may be outliers."
   ]
  },
  {
   "cell_type": "markdown",
   "metadata": {},
   "source": [
    "### Destination vs Price"
   ]
  },
  {
   "cell_type": "code",
   "execution_count": 40,
   "metadata": {},
   "outputs": [
    {
     "name": "stdout",
     "output_type": "stream",
     "text": [
      "Cochin       4536\n",
      "Banglore     2871\n",
      "Delhi        1265\n",
      "New Delhi     932\n",
      "Hyderabad     697\n",
      "Kolkata       381\n",
      "Name: Destination, dtype: int64\n"
     ]
    }
   ],
   "source": [
    "print(Train_data['Destination'].value_counts())"
   ]
  },
  {
   "cell_type": "code",
   "execution_count": 41,
   "metadata": {},
   "outputs": [
    {
     "data": {
      "image/png": "[encoded data removed]",
      "text/plain": [
       "<Figure size 1296x576 with 1 Axes>"
      ]
     },
     "metadata": {
      "needs_background": "light"
     },
     "output_type": "display_data"
    }
   ],
   "source": [
    "plt.figure(figsize=(18,8))\n",
    "mean_price=np.mean(Train_data['Price'])\n",
    "sns.boxplot(y=\"Price\",x=\"Destination\",data=Train_data,palette=\"rainbow\")\n",
    "plt.axhline(mean_price,color='r',linestyle='dashed',linewidth=2)\n",
    "plt.title(\"Source vs Price\",fontsize=30)\n",
    "plt.xticks(rotation=\"vertical\")\n",
    "plt.show()"
   ]
  },
  {
   "cell_type": "markdown",
   "metadata": {},
   "source": [
    "Observations : \n",
    "    \n",
    "    1. Here in Banglore, New Delhi, Cochin has outliers. But Bangalore has less comparing to others. \n",
    "    \n",
    "    2. The mean price of 'Kolkata','Delhi' and 'Hyderabad' are below the mean price"
   ]
  },
  {
   "cell_type": "code",
   "execution_count": 42,
   "metadata": {},
   "outputs": [
    {
     "data": {
      "image/png": "[encoded data removed]",
      "text/plain": [
       "<Figure size 1080x432 with 1 Axes>"
      ]
     },
     "metadata": {
      "needs_background": "light"
     },
     "output_type": "display_data"
    }
   ],
   "source": [
    "plt.figure(figsize=(15,6))\n",
    "sns.barplot(x='Destination',y='Price',data=Train_data,palette='rainbow')\n",
    "plt.xticks(rotation=30)\n",
    "plt.show()"
   ]
  },
  {
   "cell_type": "markdown",
   "metadata": {},
   "source": [
    "Observations : \n",
    "    \n",
    "    The maximum price is from New Delhi"
   ]
  },
  {
   "cell_type": "markdown",
   "metadata": {},
   "source": [
    "### Total_Stops vs Price"
   ]
  },
  {
   "cell_type": "code",
   "execution_count": 43,
   "metadata": {},
   "outputs": [
    {
     "name": "stdout",
     "output_type": "stream",
     "text": [
      "1 stop      5625\n",
      "non-stop    3491\n",
      "2 stops     1520\n",
      "3 stops       45\n",
      "4 stops        1\n",
      "Name: Total_Stops, dtype: int64\n"
     ]
    }
   ],
   "source": [
    "print(Train_data['Total_Stops'].value_counts())"
   ]
  },
  {
   "cell_type": "code",
   "execution_count": 44,
   "metadata": {},
   "outputs": [
    {
     "data": {
      "image/png": "[encoded data removed]",
      "text/plain": [
       "<Figure size 1296x576 with 1 Axes>"
      ]
     },
     "metadata": {
      "needs_background": "light"
     },
     "output_type": "display_data"
    }
   ],
   "source": [
    "plt.figure(figsize=(18,8))\n",
    "mean_price=np.mean(Train_data['Price'])\n",
    "sns.boxplot(y=\"Price\",x=\"Total_Stops\",data=Train_data,palette=\"rainbow\")\n",
    "plt.axhline(mean_price,color='r',linestyle='dashed',linewidth=2)\n",
    "plt.title(\"Total_Stops vs Price\",fontsize=30)\n",
    "plt.xticks(rotation=\"vertical\")\n",
    "plt.show()"
   ]
  },
  {
   "cell_type": "code",
   "execution_count": 45,
   "metadata": {},
   "outputs": [
    {
     "data": {
      "image/png": "[encoded data removed]",
      "text/plain": [
       "<Figure size 1080x432 with 1 Axes>"
      ]
     },
     "metadata": {
      "needs_background": "light"
     },
     "output_type": "display_data"
    }
   ],
   "source": [
    "plt.figure(figsize=(15,6))\n",
    "sns.barplot(x='Total_Stops',y='Price',data=Train_data,palette='rainbow')\n",
    "plt.xticks(rotation=30)\n",
    "plt.show()"
   ]
  },
  {
   "cell_type": "markdown",
   "metadata": {},
   "source": [
    "Observations : \n",
    "    \n",
    "    It is clearly seen that stops does not affect the price of the flight.\n",
    "    \n",
    "    Flights which have four stops have higher price"
   ]
  },
  {
   "cell_type": "markdown",
   "metadata": {},
   "source": [
    "# Handling catagorical Data"
   ]
  },
  {
   "cell_type": "markdown",
   "metadata": {},
   "source": [
    "### Using OneHotEncoding to convert the Airline, Source, Destination column because it is nominal Catagorical data."
   ]
  },
  {
   "cell_type": "markdown",
   "metadata": {},
   "source": [
    "# For Nominal catagory we will use get_dummi"
   ]
  },
  {
   "cell_type": "markdown",
   "metadata": {},
   "source": [
    "### Converting Airline column"
   ]
  },
  {
   "cell_type": "code",
   "execution_count": 46,
   "metadata": {},
   "outputs": [
    {
     "data": {
      "text/html": [
       "<div>\n",
       "<style scoped>\n",
       "    .dataframe tbody tr th:only-of-type {\n",
       "        vertical-align: middle;\n",
       "    }\n",
       "\n",
       "    .dataframe tbody tr th {\n",
       "        vertical-align: top;\n",
       "    }\n",
       "\n",
       "    .dataframe thead th {\n",
       "        text-align: right;\n",
       "    }\n",
       "</style>\n",
       "<table border=\"1\" class=\"dataframe\">\n",
       "  <thead>\n",
       "    <tr style=\"text-align: right;\">\n",
       "      <th></th>\n",
       "      <th>Air India</th>\n",
       "      <th>GoAir</th>\n",
       "      <th>IndiGo</th>\n",
       "      <th>Jet Airways</th>\n",
       "      <th>Jet Airways Business</th>\n",
       "      <th>Multiple carriers</th>\n",
       "      <th>Multiple carriers Premium economy</th>\n",
       "      <th>SpiceJet</th>\n",
       "      <th>Trujet</th>\n",
       "      <th>Vistara</th>\n",
       "      <th>Vistara Premium economy</th>\n",
       "    </tr>\n",
       "  </thead>\n",
       "  <tbody>\n",
       "    <tr>\n",
       "      <th>0</th>\n",
       "      <td>0</td>\n",
       "      <td>0</td>\n",
       "      <td>1</td>\n",
       "      <td>0</td>\n",
       "      <td>0</td>\n",
       "      <td>0</td>\n",
       "      <td>0</td>\n",
       "      <td>0</td>\n",
       "      <td>0</td>\n",
       "      <td>0</td>\n",
       "      <td>0</td>\n",
       "    </tr>\n",
       "    <tr>\n",
       "      <th>1</th>\n",
       "      <td>1</td>\n",
       "      <td>0</td>\n",
       "      <td>0</td>\n",
       "      <td>0</td>\n",
       "      <td>0</td>\n",
       "      <td>0</td>\n",
       "      <td>0</td>\n",
       "      <td>0</td>\n",
       "      <td>0</td>\n",
       "      <td>0</td>\n",
       "      <td>0</td>\n",
       "    </tr>\n",
       "    <tr>\n",
       "      <th>2</th>\n",
       "      <td>0</td>\n",
       "      <td>0</td>\n",
       "      <td>0</td>\n",
       "      <td>1</td>\n",
       "      <td>0</td>\n",
       "      <td>0</td>\n",
       "      <td>0</td>\n",
       "      <td>0</td>\n",
       "      <td>0</td>\n",
       "      <td>0</td>\n",
       "      <td>0</td>\n",
       "    </tr>\n",
       "    <tr>\n",
       "      <th>3</th>\n",
       "      <td>0</td>\n",
       "      <td>0</td>\n",
       "      <td>1</td>\n",
       "      <td>0</td>\n",
       "      <td>0</td>\n",
       "      <td>0</td>\n",
       "      <td>0</td>\n",
       "      <td>0</td>\n",
       "      <td>0</td>\n",
       "      <td>0</td>\n",
       "      <td>0</td>\n",
       "    </tr>\n",
       "    <tr>\n",
       "      <th>4</th>\n",
       "      <td>0</td>\n",
       "      <td>0</td>\n",
       "      <td>1</td>\n",
       "      <td>0</td>\n",
       "      <td>0</td>\n",
       "      <td>0</td>\n",
       "      <td>0</td>\n",
       "      <td>0</td>\n",
       "      <td>0</td>\n",
       "      <td>0</td>\n",
       "      <td>0</td>\n",
       "    </tr>\n",
       "  </tbody>\n",
       "</table>\n",
       "</div>"
      ],
      "text/plain": [
       "   Air India  GoAir  IndiGo  Jet Airways  Jet Airways Business  \\\n",
       "0          0      0       1            0                     0   \n",
       "1          1      0       0            0                     0   \n",
       "2          0      0       0            1                     0   \n",
       "3          0      0       1            0                     0   \n",
       "4          0      0       1            0                     0   \n",
       "\n",
       "   Multiple carriers  Multiple carriers Premium economy  SpiceJet  Trujet  \\\n",
       "0                  0                                  0         0       0   \n",
       "1                  0                                  0         0       0   \n",
       "2                  0                                  0         0       0   \n",
       "3                  0                                  0         0       0   \n",
       "4                  0                                  0         0       0   \n",
       "\n",
       "   Vistara  Vistara Premium economy  \n",
       "0        0                        0  \n",
       "1        0                        0  \n",
       "2        0                        0  \n",
       "3        0                        0  \n",
       "4        0                        0  "
      ]
     },
     "execution_count": 46,
     "metadata": {},
     "output_type": "execute_result"
    }
   ],
   "source": [
    "Airline=Train_data['Airline']\n",
    "Airline=pd.get_dummies(Airline,drop_first=True)\n",
    "Airline.head()"
   ]
  },
  {
   "cell_type": "markdown",
   "metadata": {},
   "source": [
    "### Converting Source column"
   ]
  },
  {
   "cell_type": "code",
   "execution_count": 47,
   "metadata": {},
   "outputs": [
    {
     "data": {
      "text/html": [
       "<div>\n",
       "<style scoped>\n",
       "    .dataframe tbody tr th:only-of-type {\n",
       "        vertical-align: middle;\n",
       "    }\n",
       "\n",
       "    .dataframe tbody tr th {\n",
       "        vertical-align: top;\n",
       "    }\n",
       "\n",
       "    .dataframe thead th {\n",
       "        text-align: right;\n",
       "    }\n",
       "</style>\n",
       "<table border=\"1\" class=\"dataframe\">\n",
       "  <thead>\n",
       "    <tr style=\"text-align: right;\">\n",
       "      <th></th>\n",
       "      <th>Chennai</th>\n",
       "      <th>Delhi</th>\n",
       "      <th>Kolkata</th>\n",
       "      <th>Mumbai</th>\n",
       "    </tr>\n",
       "  </thead>\n",
       "  <tbody>\n",
       "    <tr>\n",
       "      <th>0</th>\n",
       "      <td>0</td>\n",
       "      <td>0</td>\n",
       "      <td>0</td>\n",
       "      <td>0</td>\n",
       "    </tr>\n",
       "    <tr>\n",
       "      <th>1</th>\n",
       "      <td>0</td>\n",
       "      <td>0</td>\n",
       "      <td>1</td>\n",
       "      <td>0</td>\n",
       "    </tr>\n",
       "    <tr>\n",
       "      <th>2</th>\n",
       "      <td>0</td>\n",
       "      <td>1</td>\n",
       "      <td>0</td>\n",
       "      <td>0</td>\n",
       "    </tr>\n",
       "    <tr>\n",
       "      <th>3</th>\n",
       "      <td>0</td>\n",
       "      <td>0</td>\n",
       "      <td>1</td>\n",
       "      <td>0</td>\n",
       "    </tr>\n",
       "    <tr>\n",
       "      <th>4</th>\n",
       "      <td>0</td>\n",
       "      <td>0</td>\n",
       "      <td>0</td>\n",
       "      <td>0</td>\n",
       "    </tr>\n",
       "  </tbody>\n",
       "</table>\n",
       "</div>"
      ],
      "text/plain": [
       "   Chennai  Delhi  Kolkata  Mumbai\n",
       "0        0      0        0       0\n",
       "1        0      0        1       0\n",
       "2        0      1        0       0\n",
       "3        0      0        1       0\n",
       "4        0      0        0       0"
      ]
     },
     "execution_count": 47,
     "metadata": {},
     "output_type": "execute_result"
    }
   ],
   "source": [
    "Source=Train_data['Source']\n",
    "Source=pd.get_dummies(Source,drop_first=True)\n",
    "Source.head()"
   ]
  },
  {
   "cell_type": "markdown",
   "metadata": {},
   "source": [
    "### Converting Destination column"
   ]
  },
  {
   "cell_type": "code",
   "execution_count": 48,
   "metadata": {},
   "outputs": [
    {
     "data": {
      "text/html": [
       "<div>\n",
       "<style scoped>\n",
       "    .dataframe tbody tr th:only-of-type {\n",
       "        vertical-align: middle;\n",
       "    }\n",
       "\n",
       "    .dataframe tbody tr th {\n",
       "        vertical-align: top;\n",
       "    }\n",
       "\n",
       "    .dataframe thead th {\n",
       "        text-align: right;\n",
       "    }\n",
       "</style>\n",
       "<table border=\"1\" class=\"dataframe\">\n",
       "  <thead>\n",
       "    <tr style=\"text-align: right;\">\n",
       "      <th></th>\n",
       "      <th>Cochin</th>\n",
       "      <th>Delhi</th>\n",
       "      <th>Hyderabad</th>\n",
       "      <th>Kolkata</th>\n",
       "      <th>New Delhi</th>\n",
       "    </tr>\n",
       "  </thead>\n",
       "  <tbody>\n",
       "    <tr>\n",
       "      <th>0</th>\n",
       "      <td>0</td>\n",
       "      <td>0</td>\n",
       "      <td>0</td>\n",
       "      <td>0</td>\n",
       "      <td>1</td>\n",
       "    </tr>\n",
       "    <tr>\n",
       "      <th>1</th>\n",
       "      <td>0</td>\n",
       "      <td>0</td>\n",
       "      <td>0</td>\n",
       "      <td>0</td>\n",
       "      <td>0</td>\n",
       "    </tr>\n",
       "    <tr>\n",
       "      <th>2</th>\n",
       "      <td>1</td>\n",
       "      <td>0</td>\n",
       "      <td>0</td>\n",
       "      <td>0</td>\n",
       "      <td>0</td>\n",
       "    </tr>\n",
       "    <tr>\n",
       "      <th>3</th>\n",
       "      <td>0</td>\n",
       "      <td>0</td>\n",
       "      <td>0</td>\n",
       "      <td>0</td>\n",
       "      <td>0</td>\n",
       "    </tr>\n",
       "    <tr>\n",
       "      <th>4</th>\n",
       "      <td>0</td>\n",
       "      <td>0</td>\n",
       "      <td>0</td>\n",
       "      <td>0</td>\n",
       "      <td>1</td>\n",
       "    </tr>\n",
       "  </tbody>\n",
       "</table>\n",
       "</div>"
      ],
      "text/plain": [
       "   Cochin  Delhi  Hyderabad  Kolkata  New Delhi\n",
       "0       0      0          0        0          1\n",
       "1       0      0          0        0          0\n",
       "2       1      0          0        0          0\n",
       "3       0      0          0        0          0\n",
       "4       0      0          0        0          1"
      ]
     },
     "execution_count": 48,
     "metadata": {},
     "output_type": "execute_result"
    }
   ],
   "source": [
    "Destination=Train_data['Destination']\n",
    "Destination=pd.get_dummies(Destination,drop_first=True)\n",
    "Destination.head()"
   ]
  },
  {
   "cell_type": "markdown",
   "metadata": {},
   "source": [
    "### We can drop some columns"
   ]
  },
  {
   "cell_type": "code",
   "execution_count": 49,
   "metadata": {},
   "outputs": [],
   "source": [
    "Train_data.drop(['Route','Additional_Info'],axis=1,inplace=True)"
   ]
  },
  {
   "cell_type": "markdown",
   "metadata": {},
   "source": [
    "### We have to convert Total_Stop"
   ]
  },
  {
   "cell_type": "code",
   "execution_count": 50,
   "metadata": {},
   "outputs": [
    {
     "data": {
      "text/html": [
       "<div>\n",
       "<style scoped>\n",
       "    .dataframe tbody tr th:only-of-type {\n",
       "        vertical-align: middle;\n",
       "    }\n",
       "\n",
       "    .dataframe tbody tr th {\n",
       "        vertical-align: top;\n",
       "    }\n",
       "\n",
       "    .dataframe thead th {\n",
       "        text-align: right;\n",
       "    }\n",
       "</style>\n",
       "<table border=\"1\" class=\"dataframe\">\n",
       "  <thead>\n",
       "    <tr style=\"text-align: right;\">\n",
       "      <th></th>\n",
       "      <th>Airline</th>\n",
       "      <th>Source</th>\n",
       "      <th>Destination</th>\n",
       "      <th>Total_Stops</th>\n",
       "      <th>Price</th>\n",
       "      <th>Journey_date</th>\n",
       "      <th>Journey_month</th>\n",
       "      <th>Dep_hour</th>\n",
       "      <th>Dep_min</th>\n",
       "      <th>Arr_hour</th>\n",
       "      <th>Arr_min</th>\n",
       "      <th>Duration_hours</th>\n",
       "      <th>Duration_mins</th>\n",
       "    </tr>\n",
       "  </thead>\n",
       "  <tbody>\n",
       "    <tr>\n",
       "      <th>0</th>\n",
       "      <td>IndiGo</td>\n",
       "      <td>Banglore</td>\n",
       "      <td>New Delhi</td>\n",
       "      <td>0</td>\n",
       "      <td>3897</td>\n",
       "      <td>24</td>\n",
       "      <td>3</td>\n",
       "      <td>22</td>\n",
       "      <td>20</td>\n",
       "      <td>1</td>\n",
       "      <td>10</td>\n",
       "      <td>2</td>\n",
       "      <td>50</td>\n",
       "    </tr>\n",
       "    <tr>\n",
       "      <th>1</th>\n",
       "      <td>Air India</td>\n",
       "      <td>Kolkata</td>\n",
       "      <td>Banglore</td>\n",
       "      <td>2</td>\n",
       "      <td>7662</td>\n",
       "      <td>5</td>\n",
       "      <td>1</td>\n",
       "      <td>5</td>\n",
       "      <td>50</td>\n",
       "      <td>13</td>\n",
       "      <td>15</td>\n",
       "      <td>7</td>\n",
       "      <td>25</td>\n",
       "    </tr>\n",
       "    <tr>\n",
       "      <th>2</th>\n",
       "      <td>Jet Airways</td>\n",
       "      <td>Delhi</td>\n",
       "      <td>Cochin</td>\n",
       "      <td>2</td>\n",
       "      <td>13882</td>\n",
       "      <td>6</td>\n",
       "      <td>9</td>\n",
       "      <td>9</td>\n",
       "      <td>25</td>\n",
       "      <td>4</td>\n",
       "      <td>25</td>\n",
       "      <td>19</td>\n",
       "      <td>0</td>\n",
       "    </tr>\n",
       "    <tr>\n",
       "      <th>3</th>\n",
       "      <td>IndiGo</td>\n",
       "      <td>Kolkata</td>\n",
       "      <td>Banglore</td>\n",
       "      <td>1</td>\n",
       "      <td>6218</td>\n",
       "      <td>5</td>\n",
       "      <td>12</td>\n",
       "      <td>18</td>\n",
       "      <td>5</td>\n",
       "      <td>23</td>\n",
       "      <td>30</td>\n",
       "      <td>5</td>\n",
       "      <td>25</td>\n",
       "    </tr>\n",
       "    <tr>\n",
       "      <th>4</th>\n",
       "      <td>IndiGo</td>\n",
       "      <td>Banglore</td>\n",
       "      <td>New Delhi</td>\n",
       "      <td>1</td>\n",
       "      <td>13302</td>\n",
       "      <td>3</td>\n",
       "      <td>1</td>\n",
       "      <td>16</td>\n",
       "      <td>50</td>\n",
       "      <td>21</td>\n",
       "      <td>35</td>\n",
       "      <td>4</td>\n",
       "      <td>45</td>\n",
       "    </tr>\n",
       "  </tbody>\n",
       "</table>\n",
       "</div>"
      ],
      "text/plain": [
       "       Airline    Source Destination  Total_Stops  Price  Journey_date  \\\n",
       "0       IndiGo  Banglore   New Delhi            0   3897            24   \n",
       "1    Air India   Kolkata    Banglore            2   7662             5   \n",
       "2  Jet Airways     Delhi      Cochin            2  13882             6   \n",
       "3       IndiGo   Kolkata    Banglore            1   6218             5   \n",
       "4       IndiGo  Banglore   New Delhi            1  13302             3   \n",
       "\n",
       "   Journey_month  Dep_hour  Dep_min  Arr_hour  Arr_min  Duration_hours  \\\n",
       "0              3        22       20         1       10               2   \n",
       "1              1         5       50        13       15               7   \n",
       "2              9         9       25         4       25              19   \n",
       "3             12        18        5        23       30               5   \n",
       "4              1        16       50        21       35               4   \n",
       "\n",
       "   Duration_mins  \n",
       "0             50  \n",
       "1             25  \n",
       "2              0  \n",
       "3             25  \n",
       "4             45  "
      ]
     },
     "execution_count": 50,
     "metadata": {},
     "output_type": "execute_result"
    }
   ],
   "source": [
    "Train_data.replace({'non-stop':0,'1 stop':1,'2 stops':2,'3 stops':3,'4 stops':4},inplace=True)\n",
    "Train_data.head()"
   ]
  },
  {
   "cell_type": "markdown",
   "metadata": {},
   "source": [
    "### Adding out Airline,Source,Destination column into Train data set"
   ]
  },
  {
   "cell_type": "code",
   "execution_count": 51,
   "metadata": {},
   "outputs": [],
   "source": [
    "train=pd.concat([Train_data,Airline,Source,Destination],axis=1)"
   ]
  },
  {
   "cell_type": "code",
   "execution_count": 52,
   "metadata": {},
   "outputs": [
    {
     "data": {
      "text/html": [
       "<div>\n",
       "<style scoped>\n",
       "    .dataframe tbody tr th:only-of-type {\n",
       "        vertical-align: middle;\n",
       "    }\n",
       "\n",
       "    .dataframe tbody tr th {\n",
       "        vertical-align: top;\n",
       "    }\n",
       "\n",
       "    .dataframe thead th {\n",
       "        text-align: right;\n",
       "    }\n",
       "</style>\n",
       "<table border=\"1\" class=\"dataframe\">\n",
       "  <thead>\n",
       "    <tr style=\"text-align: right;\">\n",
       "      <th></th>\n",
       "      <th>Airline</th>\n",
       "      <th>Source</th>\n",
       "      <th>Destination</th>\n",
       "      <th>Total_Stops</th>\n",
       "      <th>Price</th>\n",
       "      <th>Journey_date</th>\n",
       "      <th>Journey_month</th>\n",
       "      <th>Dep_hour</th>\n",
       "      <th>Dep_min</th>\n",
       "      <th>Arr_hour</th>\n",
       "      <th>...</th>\n",
       "      <th>Vistara Premium economy</th>\n",
       "      <th>Chennai</th>\n",
       "      <th>Delhi</th>\n",
       "      <th>Kolkata</th>\n",
       "      <th>Mumbai</th>\n",
       "      <th>Cochin</th>\n",
       "      <th>Delhi</th>\n",
       "      <th>Hyderabad</th>\n",
       "      <th>Kolkata</th>\n",
       "      <th>New Delhi</th>\n",
       "    </tr>\n",
       "  </thead>\n",
       "  <tbody>\n",
       "    <tr>\n",
       "      <th>0</th>\n",
       "      <td>IndiGo</td>\n",
       "      <td>Banglore</td>\n",
       "      <td>New Delhi</td>\n",
       "      <td>0</td>\n",
       "      <td>3897</td>\n",
       "      <td>24</td>\n",
       "      <td>3</td>\n",
       "      <td>22</td>\n",
       "      <td>20</td>\n",
       "      <td>1</td>\n",
       "      <td>...</td>\n",
       "      <td>0</td>\n",
       "      <td>0</td>\n",
       "      <td>0</td>\n",
       "      <td>0</td>\n",
       "      <td>0</td>\n",
       "      <td>0</td>\n",
       "      <td>0</td>\n",
       "      <td>0</td>\n",
       "      <td>0</td>\n",
       "      <td>1</td>\n",
       "    </tr>\n",
       "    <tr>\n",
       "      <th>1</th>\n",
       "      <td>Air India</td>\n",
       "      <td>Kolkata</td>\n",
       "      <td>Banglore</td>\n",
       "      <td>2</td>\n",
       "      <td>7662</td>\n",
       "      <td>5</td>\n",
       "      <td>1</td>\n",
       "      <td>5</td>\n",
       "      <td>50</td>\n",
       "      <td>13</td>\n",
       "      <td>...</td>\n",
       "      <td>0</td>\n",
       "      <td>0</td>\n",
       "      <td>0</td>\n",
       "      <td>1</td>\n",
       "      <td>0</td>\n",
       "      <td>0</td>\n",
       "      <td>0</td>\n",
       "      <td>0</td>\n",
       "      <td>0</td>\n",
       "      <td>0</td>\n",
       "    </tr>\n",
       "    <tr>\n",
       "      <th>2</th>\n",
       "      <td>Jet Airways</td>\n",
       "      <td>Delhi</td>\n",
       "      <td>Cochin</td>\n",
       "      <td>2</td>\n",
       "      <td>13882</td>\n",
       "      <td>6</td>\n",
       "      <td>9</td>\n",
       "      <td>9</td>\n",
       "      <td>25</td>\n",
       "      <td>4</td>\n",
       "      <td>...</td>\n",
       "      <td>0</td>\n",
       "      <td>0</td>\n",
       "      <td>1</td>\n",
       "      <td>0</td>\n",
       "      <td>0</td>\n",
       "      <td>1</td>\n",
       "      <td>0</td>\n",
       "      <td>0</td>\n",
       "      <td>0</td>\n",
       "      <td>0</td>\n",
       "    </tr>\n",
       "    <tr>\n",
       "      <th>3</th>\n",
       "      <td>IndiGo</td>\n",
       "      <td>Kolkata</td>\n",
       "      <td>Banglore</td>\n",
       "      <td>1</td>\n",
       "      <td>6218</td>\n",
       "      <td>5</td>\n",
       "      <td>12</td>\n",
       "      <td>18</td>\n",
       "      <td>5</td>\n",
       "      <td>23</td>\n",
       "      <td>...</td>\n",
       "      <td>0</td>\n",
       "      <td>0</td>\n",
       "      <td>0</td>\n",
       "      <td>1</td>\n",
       "      <td>0</td>\n",
       "      <td>0</td>\n",
       "      <td>0</td>\n",
       "      <td>0</td>\n",
       "      <td>0</td>\n",
       "      <td>0</td>\n",
       "    </tr>\n",
       "    <tr>\n",
       "      <th>4</th>\n",
       "      <td>IndiGo</td>\n",
       "      <td>Banglore</td>\n",
       "      <td>New Delhi</td>\n",
       "      <td>1</td>\n",
       "      <td>13302</td>\n",
       "      <td>3</td>\n",
       "      <td>1</td>\n",
       "      <td>16</td>\n",
       "      <td>50</td>\n",
       "      <td>21</td>\n",
       "      <td>...</td>\n",
       "      <td>0</td>\n",
       "      <td>0</td>\n",
       "      <td>0</td>\n",
       "      <td>0</td>\n",
       "      <td>0</td>\n",
       "      <td>0</td>\n",
       "      <td>0</td>\n",
       "      <td>0</td>\n",
       "      <td>0</td>\n",
       "      <td>1</td>\n",
       "    </tr>\n",
       "  </tbody>\n",
       "</table>\n",
       "<p>5 rows × 33 columns</p>\n",
       "</div>"
      ],
      "text/plain": [
       "       Airline    Source Destination  Total_Stops  Price  Journey_date  \\\n",
       "0       IndiGo  Banglore   New Delhi            0   3897            24   \n",
       "1    Air India   Kolkata    Banglore            2   7662             5   \n",
       "2  Jet Airways     Delhi      Cochin            2  13882             6   \n",
       "3       IndiGo   Kolkata    Banglore            1   6218             5   \n",
       "4       IndiGo  Banglore   New Delhi            1  13302             3   \n",
       "\n",
       "   Journey_month  Dep_hour  Dep_min  Arr_hour  ...  Vistara Premium economy  \\\n",
       "0              3        22       20         1  ...                        0   \n",
       "1              1         5       50        13  ...                        0   \n",
       "2              9         9       25         4  ...                        0   \n",
       "3             12        18        5        23  ...                        0   \n",
       "4              1        16       50        21  ...                        0   \n",
       "\n",
       "   Chennai  Delhi  Kolkata  Mumbai  Cochin  Delhi  Hyderabad  Kolkata  \\\n",
       "0        0      0        0       0       0      0          0        0   \n",
       "1        0      0        1       0       0      0          0        0   \n",
       "2        0      1        0       0       1      0          0        0   \n",
       "3        0      0        1       0       0      0          0        0   \n",
       "4        0      0        0       0       0      0          0        0   \n",
       "\n",
       "   New Delhi  \n",
       "0          1  \n",
       "1          0  \n",
       "2          0  \n",
       "3          0  \n",
       "4          1  \n",
       "\n",
       "[5 rows x 33 columns]"
      ]
     },
     "execution_count": 52,
     "metadata": {},
     "output_type": "execute_result"
    }
   ],
   "source": [
    "train.head()"
   ]
  },
  {
   "cell_type": "markdown",
   "metadata": {},
   "source": [
    "### Dropping some columns that is Airline, Source, Destination"
   ]
  },
  {
   "cell_type": "code",
   "execution_count": 53,
   "metadata": {},
   "outputs": [
    {
     "data": {
      "text/html": [
       "<div>\n",
       "<style scoped>\n",
       "    .dataframe tbody tr th:only-of-type {\n",
       "        vertical-align: middle;\n",
       "    }\n",
       "\n",
       "    .dataframe tbody tr th {\n",
       "        vertical-align: top;\n",
       "    }\n",
       "\n",
       "    .dataframe thead th {\n",
       "        text-align: right;\n",
       "    }\n",
       "</style>\n",
       "<table border=\"1\" class=\"dataframe\">\n",
       "  <thead>\n",
       "    <tr style=\"text-align: right;\">\n",
       "      <th></th>\n",
       "      <th>Total_Stops</th>\n",
       "      <th>Price</th>\n",
       "      <th>Journey_date</th>\n",
       "      <th>Journey_month</th>\n",
       "      <th>Dep_hour</th>\n",
       "      <th>Dep_min</th>\n",
       "      <th>Arr_hour</th>\n",
       "      <th>Arr_min</th>\n",
       "      <th>Duration_hours</th>\n",
       "      <th>Duration_mins</th>\n",
       "      <th>...</th>\n",
       "      <th>Vistara Premium economy</th>\n",
       "      <th>Chennai</th>\n",
       "      <th>Delhi</th>\n",
       "      <th>Kolkata</th>\n",
       "      <th>Mumbai</th>\n",
       "      <th>Cochin</th>\n",
       "      <th>Delhi</th>\n",
       "      <th>Hyderabad</th>\n",
       "      <th>Kolkata</th>\n",
       "      <th>New Delhi</th>\n",
       "    </tr>\n",
       "  </thead>\n",
       "  <tbody>\n",
       "    <tr>\n",
       "      <th>0</th>\n",
       "      <td>0</td>\n",
       "      <td>3897</td>\n",
       "      <td>24</td>\n",
       "      <td>3</td>\n",
       "      <td>22</td>\n",
       "      <td>20</td>\n",
       "      <td>1</td>\n",
       "      <td>10</td>\n",
       "      <td>2</td>\n",
       "      <td>50</td>\n",
       "      <td>...</td>\n",
       "      <td>0</td>\n",
       "      <td>0</td>\n",
       "      <td>0</td>\n",
       "      <td>0</td>\n",
       "      <td>0</td>\n",
       "      <td>0</td>\n",
       "      <td>0</td>\n",
       "      <td>0</td>\n",
       "      <td>0</td>\n",
       "      <td>1</td>\n",
       "    </tr>\n",
       "    <tr>\n",
       "      <th>1</th>\n",
       "      <td>2</td>\n",
       "      <td>7662</td>\n",
       "      <td>5</td>\n",
       "      <td>1</td>\n",
       "      <td>5</td>\n",
       "      <td>50</td>\n",
       "      <td>13</td>\n",
       "      <td>15</td>\n",
       "      <td>7</td>\n",
       "      <td>25</td>\n",
       "      <td>...</td>\n",
       "      <td>0</td>\n",
       "      <td>0</td>\n",
       "      <td>0</td>\n",
       "      <td>1</td>\n",
       "      <td>0</td>\n",
       "      <td>0</td>\n",
       "      <td>0</td>\n",
       "      <td>0</td>\n",
       "      <td>0</td>\n",
       "      <td>0</td>\n",
       "    </tr>\n",
       "    <tr>\n",
       "      <th>2</th>\n",
       "      <td>2</td>\n",
       "      <td>13882</td>\n",
       "      <td>6</td>\n",
       "      <td>9</td>\n",
       "      <td>9</td>\n",
       "      <td>25</td>\n",
       "      <td>4</td>\n",
       "      <td>25</td>\n",
       "      <td>19</td>\n",
       "      <td>0</td>\n",
       "      <td>...</td>\n",
       "      <td>0</td>\n",
       "      <td>0</td>\n",
       "      <td>1</td>\n",
       "      <td>0</td>\n",
       "      <td>0</td>\n",
       "      <td>1</td>\n",
       "      <td>0</td>\n",
       "      <td>0</td>\n",
       "      <td>0</td>\n",
       "      <td>0</td>\n",
       "    </tr>\n",
       "    <tr>\n",
       "      <th>3</th>\n",
       "      <td>1</td>\n",
       "      <td>6218</td>\n",
       "      <td>5</td>\n",
       "      <td>12</td>\n",
       "      <td>18</td>\n",
       "      <td>5</td>\n",
       "      <td>23</td>\n",
       "      <td>30</td>\n",
       "      <td>5</td>\n",
       "      <td>25</td>\n",
       "      <td>...</td>\n",
       "      <td>0</td>\n",
       "      <td>0</td>\n",
       "      <td>0</td>\n",
       "      <td>1</td>\n",
       "      <td>0</td>\n",
       "      <td>0</td>\n",
       "      <td>0</td>\n",
       "      <td>0</td>\n",
       "      <td>0</td>\n",
       "      <td>0</td>\n",
       "    </tr>\n",
       "    <tr>\n",
       "      <th>4</th>\n",
       "      <td>1</td>\n",
       "      <td>13302</td>\n",
       "      <td>3</td>\n",
       "      <td>1</td>\n",
       "      <td>16</td>\n",
       "      <td>50</td>\n",
       "      <td>21</td>\n",
       "      <td>35</td>\n",
       "      <td>4</td>\n",
       "      <td>45</td>\n",
       "      <td>...</td>\n",
       "      <td>0</td>\n",
       "      <td>0</td>\n",
       "      <td>0</td>\n",
       "      <td>0</td>\n",
       "      <td>0</td>\n",
       "      <td>0</td>\n",
       "      <td>0</td>\n",
       "      <td>0</td>\n",
       "      <td>0</td>\n",
       "      <td>1</td>\n",
       "    </tr>\n",
       "  </tbody>\n",
       "</table>\n",
       "<p>5 rows × 30 columns</p>\n",
       "</div>"
      ],
      "text/plain": [
       "   Total_Stops  Price  Journey_date  Journey_month  Dep_hour  Dep_min  \\\n",
       "0            0   3897            24              3        22       20   \n",
       "1            2   7662             5              1         5       50   \n",
       "2            2  13882             6              9         9       25   \n",
       "3            1   6218             5             12        18        5   \n",
       "4            1  13302             3              1        16       50   \n",
       "\n",
       "   Arr_hour  Arr_min  Duration_hours  Duration_mins  ...  \\\n",
       "0         1       10               2             50  ...   \n",
       "1        13       15               7             25  ...   \n",
       "2         4       25              19              0  ...   \n",
       "3        23       30               5             25  ...   \n",
       "4        21       35               4             45  ...   \n",
       "\n",
       "   Vistara Premium economy  Chennai  Delhi  Kolkata  Mumbai  Cochin  Delhi  \\\n",
       "0                        0        0      0        0       0       0      0   \n",
       "1                        0        0      0        1       0       0      0   \n",
       "2                        0        0      1        0       0       1      0   \n",
       "3                        0        0      0        1       0       0      0   \n",
       "4                        0        0      0        0       0       0      0   \n",
       "\n",
       "   Hyderabad  Kolkata  New Delhi  \n",
       "0          0        0          1  \n",
       "1          0        0          0  \n",
       "2          0        0          0  \n",
       "3          0        0          0  \n",
       "4          0        0          1  \n",
       "\n",
       "[5 rows x 30 columns]"
      ]
     },
     "execution_count": 53,
     "metadata": {},
     "output_type": "execute_result"
    }
   ],
   "source": [
    "train.drop(['Airline','Source','Destination'],axis=1,inplace=True)\n",
    "train.head()"
   ]
  },
  {
   "cell_type": "code",
   "execution_count": 54,
   "metadata": {},
   "outputs": [
    {
     "data": {
      "text/plain": [
       "(10682, 30)"
      ]
     },
     "execution_count": 54,
     "metadata": {},
     "output_type": "execute_result"
    }
   ],
   "source": [
    "train.shape"
   ]
  },
  {
   "cell_type": "markdown",
   "metadata": {},
   "source": [
    "### Now all the columns change into Numeric data type now.same seps are followed in test data"
   ]
  },
  {
   "cell_type": "markdown",
   "metadata": {},
   "source": [
    "# Test Data"
   ]
  },
  {
   "cell_type": "code",
   "execution_count": 55,
   "metadata": {},
   "outputs": [
    {
     "data": {
      "text/html": [
       "<div>\n",
       "<style scoped>\n",
       "    .dataframe tbody tr th:only-of-type {\n",
       "        vertical-align: middle;\n",
       "    }\n",
       "\n",
       "    .dataframe tbody tr th {\n",
       "        vertical-align: top;\n",
       "    }\n",
       "\n",
       "    .dataframe thead th {\n",
       "        text-align: right;\n",
       "    }\n",
       "</style>\n",
       "<table border=\"1\" class=\"dataframe\">\n",
       "  <thead>\n",
       "    <tr style=\"text-align: right;\">\n",
       "      <th></th>\n",
       "      <th>Airline</th>\n",
       "      <th>Date_of_Journey</th>\n",
       "      <th>Source</th>\n",
       "      <th>Destination</th>\n",
       "      <th>Route</th>\n",
       "      <th>Dep_Time</th>\n",
       "      <th>Arrival_Time</th>\n",
       "      <th>Duration</th>\n",
       "      <th>Total_Stops</th>\n",
       "      <th>Additional_Info</th>\n",
       "    </tr>\n",
       "  </thead>\n",
       "  <tbody>\n",
       "    <tr>\n",
       "      <th>0</th>\n",
       "      <td>Jet Airways</td>\n",
       "      <td>6/06/2019</td>\n",
       "      <td>Delhi</td>\n",
       "      <td>Cochin</td>\n",
       "      <td>DEL → BOM → COK</td>\n",
       "      <td>17:30</td>\n",
       "      <td>04:25 07 Jun</td>\n",
       "      <td>10h 55m</td>\n",
       "      <td>1 stop</td>\n",
       "      <td>No info</td>\n",
       "    </tr>\n",
       "    <tr>\n",
       "      <th>1</th>\n",
       "      <td>IndiGo</td>\n",
       "      <td>12/05/2019</td>\n",
       "      <td>Kolkata</td>\n",
       "      <td>Banglore</td>\n",
       "      <td>CCU → MAA → BLR</td>\n",
       "      <td>06:20</td>\n",
       "      <td>10:20</td>\n",
       "      <td>4h</td>\n",
       "      <td>1 stop</td>\n",
       "      <td>No info</td>\n",
       "    </tr>\n",
       "    <tr>\n",
       "      <th>2</th>\n",
       "      <td>Jet Airways</td>\n",
       "      <td>21/05/2019</td>\n",
       "      <td>Delhi</td>\n",
       "      <td>Cochin</td>\n",
       "      <td>DEL → BOM → COK</td>\n",
       "      <td>19:15</td>\n",
       "      <td>19:00 22 May</td>\n",
       "      <td>23h 45m</td>\n",
       "      <td>1 stop</td>\n",
       "      <td>In-flight meal not included</td>\n",
       "    </tr>\n",
       "    <tr>\n",
       "      <th>3</th>\n",
       "      <td>Multiple carriers</td>\n",
       "      <td>21/05/2019</td>\n",
       "      <td>Delhi</td>\n",
       "      <td>Cochin</td>\n",
       "      <td>DEL → BOM → COK</td>\n",
       "      <td>08:00</td>\n",
       "      <td>21:00</td>\n",
       "      <td>13h</td>\n",
       "      <td>1 stop</td>\n",
       "      <td>No info</td>\n",
       "    </tr>\n",
       "    <tr>\n",
       "      <th>4</th>\n",
       "      <td>Air Asia</td>\n",
       "      <td>24/06/2019</td>\n",
       "      <td>Banglore</td>\n",
       "      <td>Delhi</td>\n",
       "      <td>BLR → DEL</td>\n",
       "      <td>23:55</td>\n",
       "      <td>02:45 25 Jun</td>\n",
       "      <td>2h 50m</td>\n",
       "      <td>non-stop</td>\n",
       "      <td>No info</td>\n",
       "    </tr>\n",
       "  </tbody>\n",
       "</table>\n",
       "</div>"
      ],
      "text/plain": [
       "             Airline Date_of_Journey    Source Destination            Route  \\\n",
       "0        Jet Airways       6/06/2019     Delhi      Cochin  DEL → BOM → COK   \n",
       "1             IndiGo      12/05/2019   Kolkata    Banglore  CCU → MAA → BLR   \n",
       "2        Jet Airways      21/05/2019     Delhi      Cochin  DEL → BOM → COK   \n",
       "3  Multiple carriers      21/05/2019     Delhi      Cochin  DEL → BOM → COK   \n",
       "4           Air Asia      24/06/2019  Banglore       Delhi        BLR → DEL   \n",
       "\n",
       "  Dep_Time  Arrival_Time Duration Total_Stops              Additional_Info  \n",
       "0    17:30  04:25 07 Jun  10h 55m      1 stop                      No info  \n",
       "1    06:20         10:20       4h      1 stop                      No info  \n",
       "2    19:15  19:00 22 May  23h 45m      1 stop  In-flight meal not included  \n",
       "3    08:00         21:00      13h      1 stop                      No info  \n",
       "4    23:55  02:45 25 Jun   2h 50m    non-stop                      No info  "
      ]
     },
     "execution_count": 55,
     "metadata": {},
     "output_type": "execute_result"
    }
   ],
   "source": [
    "Test_data.head()"
   ]
  },
  {
   "cell_type": "markdown",
   "metadata": {},
   "source": [
    "### Now copy the same steps for test data in one cell"
   ]
  },
  {
   "cell_type": "code",
   "execution_count": 56,
   "metadata": {},
   "outputs": [
    {
     "name": "stdout",
     "output_type": "stream",
     "text": [
      "(2671, 10)\n",
      "*************************************************************************************\n",
      "\n",
      "\n",
      "Index(['Airline', 'Date_of_Journey', 'Source', 'Destination', 'Route',\n",
      "       'Dep_Time', 'Arrival_Time', 'Duration', 'Total_Stops',\n",
      "       'Additional_Info'],\n",
      "      dtype='object')\n",
      "*************************************************************************************\n",
      "\n",
      "\n",
      "False\n",
      "*************************************************************************************\n",
      "\n",
      "\n",
      "Airline            0\n",
      "Date_of_Journey    0\n",
      "Source             0\n",
      "Destination        0\n",
      "Route              0\n",
      "Dep_Time           0\n",
      "Arrival_Time       0\n",
      "Duration           0\n",
      "Total_Stops        0\n",
      "Additional_Info    0\n",
      "dtype: int64\n",
      "*************************************************************************************\n",
      "\n",
      "\n",
      "AxesSubplot(0.125,0.125;0.775x0.755)\n",
      "*************************************************************************************\n",
      "\n",
      "\n",
      "Airline            0\n",
      "Date_of_Journey    0\n",
      "Source             0\n",
      "Destination        0\n",
      "Route              0\n",
      "Dep_Time           0\n",
      "Arrival_Time       0\n",
      "Duration           0\n",
      "Total_Stops        0\n",
      "Additional_Info    0\n",
      "dtype: int64\n",
      "*************************************************************************************\n",
      "\n",
      "\n",
      "(2671, 10)\n",
      "*************************************************************************************\n",
      "\n",
      "\n",
      "<class 'pandas.core.frame.DataFrame'>\n",
      "Int64Index: 2671 entries, 0 to 2670\n",
      "Data columns (total 10 columns):\n",
      " #   Column           Non-Null Count  Dtype \n",
      "---  ------           --------------  ----- \n",
      " 0   Airline          2671 non-null   object\n",
      " 1   Date_of_Journey  2671 non-null   object\n",
      " 2   Source           2671 non-null   object\n",
      " 3   Destination      2671 non-null   object\n",
      " 4   Route            2671 non-null   object\n",
      " 5   Dep_Time         2671 non-null   object\n",
      " 6   Arrival_Time     2671 non-null   object\n",
      " 7   Duration         2671 non-null   object\n",
      " 8   Total_Stops      2671 non-null   object\n",
      " 9   Additional_Info  2671 non-null   object\n",
      "dtypes: object(10)\n",
      "memory usage: 229.5+ KB\n",
      "None\n",
      "*************************************************************************************\n",
      "\n",
      "\n",
      "            Airline Date_of_Journey Source Destination            Route  \\\n",
      "count          2671            2671   2671        2671             2671   \n",
      "unique           11              44      5           6              100   \n",
      "top     Jet Airways       9/05/2019  Delhi      Cochin  DEL → BOM → COK   \n",
      "freq            897             144   1145        1145              624   \n",
      "\n",
      "       Dep_Time Arrival_Time Duration Total_Stops Additional_Info  \n",
      "count      2671         2671     2671        2671            2671  \n",
      "unique      199          704      320           5               6  \n",
      "top       10:00        19:00   2h 50m      1 stop         No info  \n",
      "freq         62          113      122        1431            2148  \n",
      "*************************************************************************************\n",
      "\n",
      "\n",
      "             Airline    Source Destination            Route Total_Stops  \\\n",
      "0        Jet Airways     Delhi      Cochin  DEL → BOM → COK      1 stop   \n",
      "1             IndiGo   Kolkata    Banglore  CCU → MAA → BLR      1 stop   \n",
      "2        Jet Airways     Delhi      Cochin  DEL → BOM → COK      1 stop   \n",
      "3  Multiple carriers     Delhi      Cochin  DEL → BOM → COK      1 stop   \n",
      "4           Air Asia  Banglore       Delhi        BLR → DEL    non-stop   \n",
      "\n",
      "               Additional_Info  Journey_date  Journey_month  Dep_hour  \\\n",
      "0                      No info             6              6        17   \n",
      "1                      No info             5             12         6   \n",
      "2  In-flight meal not included            21              5        19   \n",
      "3                      No info            21              5         8   \n",
      "4                      No info            24              6        23   \n",
      "\n",
      "   Dep_min  Arr_hour  Arr_min  Duration_hours  Duration_mins  \n",
      "0       30         4       25              10             55  \n",
      "1       20        10       20               4              0  \n",
      "2       15        19        0              23             45  \n",
      "3        0        21        0              13              0  \n",
      "4       55         2       45               2             50  \n",
      "*************************************************************************************\n",
      "\n",
      "\n",
      "   Air India  GoAir  IndiGo  Jet Airways  Jet Airways Business  \\\n",
      "0          0      0       0            1                     0   \n",
      "1          0      0       1            0                     0   \n",
      "2          0      0       0            1                     0   \n",
      "3          0      0       0            0                     0   \n",
      "4          0      0       0            0                     0   \n",
      "\n",
      "   Multiple carriers  Multiple carriers Premium economy  SpiceJet  Vistara  \\\n",
      "0                  0                                  0         0        0   \n",
      "1                  0                                  0         0        0   \n",
      "2                  0                                  0         0        0   \n",
      "3                  1                                  0         0        0   \n",
      "4                  0                                  0         0        0   \n",
      "\n",
      "   Vistara Premium economy  \n",
      "0                        0  \n",
      "1                        0  \n",
      "2                        0  \n",
      "3                        0  \n",
      "4                        0  \n",
      "*************************************************************************************\n",
      "\n",
      "\n",
      "   Chennai  Delhi  Kolkata  Mumbai\n",
      "0        0      1        0       0\n",
      "1        0      0        1       0\n",
      "2        0      1        0       0\n",
      "3        0      1        0       0\n",
      "4        0      0        0       0\n",
      "*************************************************************************************\n",
      "\n",
      "\n",
      "   Cochin  Delhi  Hyderabad  Kolkata  New Delhi\n",
      "0       1      0          0        0          0\n",
      "1       0      0          0        0          0\n",
      "2       1      0          0        0          0\n",
      "3       1      0          0        0          0\n",
      "4       0      1          0        0          0\n",
      "*************************************************************************************\n",
      "\n",
      "\n",
      "             Airline    Source Destination  Total_Stops  Journey_date  \\\n",
      "0        Jet Airways     Delhi      Cochin            1             6   \n",
      "1             IndiGo   Kolkata    Banglore            1             5   \n",
      "2        Jet Airways     Delhi      Cochin            1            21   \n",
      "3  Multiple carriers     Delhi      Cochin            1            21   \n",
      "4           Air Asia  Banglore       Delhi            0            24   \n",
      "\n",
      "   Journey_month  Dep_hour  Dep_min  Arr_hour  Arr_min  Duration_hours  \\\n",
      "0              6        17       30         4       25              10   \n",
      "1             12         6       20        10       20               4   \n",
      "2              5        19       15        19        0              23   \n",
      "3              5         8        0        21        0              13   \n",
      "4              6        23       55         2       45               2   \n",
      "\n",
      "   Duration_mins  \n",
      "0             55  \n",
      "1              0  \n",
      "2             45  \n",
      "3              0  \n",
      "4             50  \n",
      "*************************************************************************************\n",
      "\n",
      "\n",
      "             Airline    Source Destination  Total_Stops  Journey_date  \\\n",
      "0        Jet Airways     Delhi      Cochin            1             6   \n",
      "1             IndiGo   Kolkata    Banglore            1             5   \n",
      "2        Jet Airways     Delhi      Cochin            1            21   \n",
      "3  Multiple carriers     Delhi      Cochin            1            21   \n",
      "4           Air Asia  Banglore       Delhi            0            24   \n",
      "\n",
      "   Journey_month  Dep_hour  Dep_min  Arr_hour  Arr_min  ...  \\\n",
      "0              6        17       30         4       25  ...   \n",
      "1             12         6       20        10       20  ...   \n",
      "2              5        19       15        19        0  ...   \n",
      "3              5         8        0        21        0  ...   \n",
      "4              6        23       55         2       45  ...   \n",
      "\n",
      "   Vistara Premium economy  Chennai  Delhi  Kolkata  Mumbai  Cochin  Delhi  \\\n",
      "0                        0        0      1        0       0       1      0   \n",
      "1                        0        0      0        1       0       0      0   \n",
      "2                        0        0      1        0       0       1      0   \n",
      "3                        0        0      1        0       0       1      0   \n",
      "4                        0        0      0        0       0       0      1   \n",
      "\n",
      "   Hyderabad  Kolkata  New Delhi  \n",
      "0          0        0          0  \n",
      "1          0        0          0  \n",
      "2          0        0          0  \n",
      "3          0        0          0  \n",
      "4          0        0          0  \n",
      "\n",
      "[5 rows x 31 columns]\n",
      "   Total_Stops  Journey_date  Journey_month  Dep_hour  Dep_min  Arr_hour  \\\n",
      "0            1             6              6        17       30         4   \n",
      "1            1             5             12         6       20        10   \n",
      "2            1            21              5        19       15        19   \n",
      "3            1            21              5         8        0        21   \n",
      "4            0            24              6        23       55         2   \n",
      "\n",
      "   Arr_min  Duration_hours  Duration_mins  Air India  ...  \\\n",
      "0       25              10             55          0  ...   \n",
      "1       20               4              0          0  ...   \n",
      "2        0              23             45          0  ...   \n",
      "3        0              13              0          0  ...   \n",
      "4       45               2             50          0  ...   \n",
      "\n",
      "   Vistara Premium economy  Chennai  Delhi  Kolkata  Mumbai  Cochin  Delhi  \\\n",
      "0                        0        0      1        0       0       1      0   \n",
      "1                        0        0      0        1       0       0      0   \n",
      "2                        0        0      1        0       0       1      0   \n",
      "3                        0        0      1        0       0       1      0   \n",
      "4                        0        0      0        0       0       0      1   \n",
      "\n",
      "   Hyderabad  Kolkata  New Delhi  \n",
      "0          0        0          0  \n",
      "1          0        0          0  \n",
      "2          0        0          0  \n",
      "3          0        0          0  \n",
      "4          0        0          0  \n",
      "\n",
      "[5 rows x 28 columns]\n",
      "*************************************************************************************\n",
      "\n",
      "\n",
      "(2671, 28)\n"
     ]
    },
    {
     "data": {
      "image/png": "[encoded data removed]",
      "text/plain": [
       "<Figure size 576x432 with 1 Axes>"
      ]
     },
     "metadata": {
      "needs_background": "light"
     },
     "output_type": "display_data"
    }
   ],
   "source": [
    "print(Test_data.shape)\n",
    "print(\"*\"*85)\n",
    "print(\"\\n\")\n",
    "print(Test_data.columns)\n",
    "print(\"*\"*85)\n",
    "print(\"\\n\")\n",
    "print(Test_data.isnull().values.any())\n",
    "print(\"*\"*85)\n",
    "print(\"\\n\")\n",
    "print(Test_data.isnull().sum())\n",
    "print(\"*\"*85)\n",
    "print(\"\\n\")\n",
    "\n",
    "plt.figure(figsize=(8,6))\n",
    "print(sns.heatmap(Test_data.isnull(),yticklabels=False,cbar=False,cmap='tab20_r'))\n",
    "\n",
    "Test_data.dropna(inplace=True)\n",
    "print(\"*\"*85)\n",
    "print(\"\\n\")\n",
    "\n",
    "print(Test_data.isnull().sum())\n",
    "\n",
    "print(\"*\"*85)\n",
    "print(\"\\n\")\n",
    "\n",
    "print(Test_data.shape)\n",
    "\n",
    "print(\"*\"*85)\n",
    "print(\"\\n\")\n",
    "\n",
    "print(Test_data.info())\n",
    "\n",
    "print(\"*\"*85)\n",
    "print(\"\\n\")\n",
    "\n",
    "print(Test_data.describe())\n",
    "\n",
    "print(\"*\"*85)\n",
    "print(\"\\n\")\n",
    "\n",
    "\n",
    "#EDA\n",
    "#Date_of_Journey\n",
    "Test_data['Date_of_Journey']=pd.to_datetime(Test_data['Date_of_Journey'])\n",
    "Test_data['Journey_date']=Test_data['Date_of_Journey'].dt.day\n",
    "Test_data['Journey_month']=Test_data['Date_of_Journey'].dt.month\n",
    "Test_data.drop(['Date_of_Journey'],axis=1,inplace=True)\n",
    "\n",
    "\n",
    "#Dep_Time\n",
    "Test_data['Dep_Time']=pd.to_datetime(Test_data['Dep_Time'])\n",
    "Test_data['Dep_hour']=Test_data['Dep_Time'].dt.hour\n",
    "Test_data['Dep_min']=Test_data['Dep_Time'].dt.minute\n",
    "Test_data.drop(['Dep_Time'],axis=1,inplace=True)\n",
    "\n",
    "\n",
    "\n",
    "#Arrival_Time\n",
    "Test_data['Arrival_Time']=pd.to_datetime(Test_data['Arrival_Time']) #Convert from object type to datetime\n",
    "Test_data['Arr_hour']=Test_data['Arrival_Time'].dt.hour #Convert to hour\n",
    "Test_data['Arr_min']=Test_data['Arrival_Time'].dt.minute #Convert to minute\n",
    "Test_data.drop(['Arrival_Time'],axis=1,inplace=True)  #Drop the column\n",
    "\n",
    "\n",
    "\n",
    "#Duration\n",
    "duration=list(Test_data[\"Duration\"])\n",
    "\n",
    "for i in range(len(duration)):\n",
    "    if len(duration[i].split())!=0:  #Check if duration contains only hour or mins\n",
    "        if \"h\" in duration[i]:\n",
    "            duration[i]=duration[i].strip()+\" 0m\"  #Adds 0 minute\n",
    "        else:\n",
    "            duration[i]=\"0h \" + duration[i]            \n",
    "duration_hours=[]\n",
    "duration_mins=[]\n",
    "for i in range(len(duration)):\n",
    "    duration_hours.append(int(duration[i].split(sep=\"h\")[0])) #Extract hours from duration\n",
    "    duration_mins.append(int(duration[i].split(sep=\"m\")[0].split()[-1]))       \n",
    "Test_data['Duration_hours']=duration_hours\n",
    "Test_data['Duration_mins']=duration_mins\n",
    "Test_data.drop(['Duration'],axis=1,inplace=True)\n",
    "print(Test_data.head())\n",
    "\n",
    "print(\"*\"*85)\n",
    "print(\"\\n\")\n",
    "\n",
    "\n",
    "#Catagorical Data\n",
    "Airline=Test_data['Airline']\n",
    "Airline=pd.get_dummies(Airline,drop_first=True)\n",
    "print(Airline.head())\n",
    "\n",
    "\n",
    "print(\"*\"*85)\n",
    "print(\"\\n\")\n",
    "Source=Test_data['Source']\n",
    "Source=pd.get_dummies(Source,drop_first=True)\n",
    "print(Source.head())\n",
    "\n",
    "\n",
    "print(\"*\"*85)\n",
    "print(\"\\n\")\n",
    "Destination=Test_data['Destination']\n",
    "Destination=pd.get_dummies(Destination,drop_first=True)\n",
    "print(Destination.head())\n",
    "\n",
    "\n",
    "print(\"*\"*85)\n",
    "print(\"\\n\")\n",
    "Test_data.drop(['Route','Additional_Info'],axis=1,inplace=True)\n",
    "Test_data.replace({'non-stop':0,'1 stop':1,'2 stops':2,'3 stops':3,'4 stops':4},inplace=True)\n",
    "print(Test_data.head())\n",
    "\n",
    "\n",
    "print(\"*\"*85)\n",
    "print(\"\\n\")\n",
    "test=pd.concat([Test_data,Airline,Source,Destination],axis=1)\n",
    "\n",
    "print(test.head())\n",
    "\n",
    "\n",
    "#Drop some columns\n",
    "test.drop(['Airline','Source','Destination'],axis=1,inplace=True)\n",
    "print(test.head())\n",
    "\n",
    "\n",
    "print(\"*\"*85)\n",
    "print(\"\\n\")\n",
    "print(test.shape)"
   ]
  },
  {
   "cell_type": "code",
   "execution_count": 57,
   "metadata": {},
   "outputs": [
    {
     "data": {
      "text/html": [
       "<div>\n",
       "<style scoped>\n",
       "    .dataframe tbody tr th:only-of-type {\n",
       "        vertical-align: middle;\n",
       "    }\n",
       "\n",
       "    .dataframe tbody tr th {\n",
       "        vertical-align: top;\n",
       "    }\n",
       "\n",
       "    .dataframe thead th {\n",
       "        text-align: right;\n",
       "    }\n",
       "</style>\n",
       "<table border=\"1\" class=\"dataframe\">\n",
       "  <thead>\n",
       "    <tr style=\"text-align: right;\">\n",
       "      <th></th>\n",
       "      <th>Total_Stops</th>\n",
       "      <th>Journey_date</th>\n",
       "      <th>Journey_month</th>\n",
       "      <th>Dep_hour</th>\n",
       "      <th>Dep_min</th>\n",
       "      <th>Arr_hour</th>\n",
       "      <th>Arr_min</th>\n",
       "      <th>Duration_hours</th>\n",
       "      <th>Duration_mins</th>\n",
       "      <th>Air India</th>\n",
       "      <th>...</th>\n",
       "      <th>Vistara Premium economy</th>\n",
       "      <th>Chennai</th>\n",
       "      <th>Delhi</th>\n",
       "      <th>Kolkata</th>\n",
       "      <th>Mumbai</th>\n",
       "      <th>Cochin</th>\n",
       "      <th>Delhi</th>\n",
       "      <th>Hyderabad</th>\n",
       "      <th>Kolkata</th>\n",
       "      <th>New Delhi</th>\n",
       "    </tr>\n",
       "  </thead>\n",
       "  <tbody>\n",
       "    <tr>\n",
       "      <th>0</th>\n",
       "      <td>1</td>\n",
       "      <td>6</td>\n",
       "      <td>6</td>\n",
       "      <td>17</td>\n",
       "      <td>30</td>\n",
       "      <td>4</td>\n",
       "      <td>25</td>\n",
       "      <td>10</td>\n",
       "      <td>55</td>\n",
       "      <td>0</td>\n",
       "      <td>...</td>\n",
       "      <td>0</td>\n",
       "      <td>0</td>\n",
       "      <td>1</td>\n",
       "      <td>0</td>\n",
       "      <td>0</td>\n",
       "      <td>1</td>\n",
       "      <td>0</td>\n",
       "      <td>0</td>\n",
       "      <td>0</td>\n",
       "      <td>0</td>\n",
       "    </tr>\n",
       "    <tr>\n",
       "      <th>1</th>\n",
       "      <td>1</td>\n",
       "      <td>5</td>\n",
       "      <td>12</td>\n",
       "      <td>6</td>\n",
       "      <td>20</td>\n",
       "      <td>10</td>\n",
       "      <td>20</td>\n",
       "      <td>4</td>\n",
       "      <td>0</td>\n",
       "      <td>0</td>\n",
       "      <td>...</td>\n",
       "      <td>0</td>\n",
       "      <td>0</td>\n",
       "      <td>0</td>\n",
       "      <td>1</td>\n",
       "      <td>0</td>\n",
       "      <td>0</td>\n",
       "      <td>0</td>\n",
       "      <td>0</td>\n",
       "      <td>0</td>\n",
       "      <td>0</td>\n",
       "    </tr>\n",
       "    <tr>\n",
       "      <th>2</th>\n",
       "      <td>1</td>\n",
       "      <td>21</td>\n",
       "      <td>5</td>\n",
       "      <td>19</td>\n",
       "      <td>15</td>\n",
       "      <td>19</td>\n",
       "      <td>0</td>\n",
       "      <td>23</td>\n",
       "      <td>45</td>\n",
       "      <td>0</td>\n",
       "      <td>...</td>\n",
       "      <td>0</td>\n",
       "      <td>0</td>\n",
       "      <td>1</td>\n",
       "      <td>0</td>\n",
       "      <td>0</td>\n",
       "      <td>1</td>\n",
       "      <td>0</td>\n",
       "      <td>0</td>\n",
       "      <td>0</td>\n",
       "      <td>0</td>\n",
       "    </tr>\n",
       "    <tr>\n",
       "      <th>3</th>\n",
       "      <td>1</td>\n",
       "      <td>21</td>\n",
       "      <td>5</td>\n",
       "      <td>8</td>\n",
       "      <td>0</td>\n",
       "      <td>21</td>\n",
       "      <td>0</td>\n",
       "      <td>13</td>\n",
       "      <td>0</td>\n",
       "      <td>0</td>\n",
       "      <td>...</td>\n",
       "      <td>0</td>\n",
       "      <td>0</td>\n",
       "      <td>1</td>\n",
       "      <td>0</td>\n",
       "      <td>0</td>\n",
       "      <td>1</td>\n",
       "      <td>0</td>\n",
       "      <td>0</td>\n",
       "      <td>0</td>\n",
       "      <td>0</td>\n",
       "    </tr>\n",
       "    <tr>\n",
       "      <th>4</th>\n",
       "      <td>0</td>\n",
       "      <td>24</td>\n",
       "      <td>6</td>\n",
       "      <td>23</td>\n",
       "      <td>55</td>\n",
       "      <td>2</td>\n",
       "      <td>45</td>\n",
       "      <td>2</td>\n",
       "      <td>50</td>\n",
       "      <td>0</td>\n",
       "      <td>...</td>\n",
       "      <td>0</td>\n",
       "      <td>0</td>\n",
       "      <td>0</td>\n",
       "      <td>0</td>\n",
       "      <td>0</td>\n",
       "      <td>0</td>\n",
       "      <td>1</td>\n",
       "      <td>0</td>\n",
       "      <td>0</td>\n",
       "      <td>0</td>\n",
       "    </tr>\n",
       "  </tbody>\n",
       "</table>\n",
       "<p>5 rows × 28 columns</p>\n",
       "</div>"
      ],
      "text/plain": [
       "   Total_Stops  Journey_date  Journey_month  Dep_hour  Dep_min  Arr_hour  \\\n",
       "0            1             6              6        17       30         4   \n",
       "1            1             5             12         6       20        10   \n",
       "2            1            21              5        19       15        19   \n",
       "3            1            21              5         8        0        21   \n",
       "4            0            24              6        23       55         2   \n",
       "\n",
       "   Arr_min  Duration_hours  Duration_mins  Air India  ...  \\\n",
       "0       25              10             55          0  ...   \n",
       "1       20               4              0          0  ...   \n",
       "2        0              23             45          0  ...   \n",
       "3        0              13              0          0  ...   \n",
       "4       45               2             50          0  ...   \n",
       "\n",
       "   Vistara Premium economy  Chennai  Delhi  Kolkata  Mumbai  Cochin  Delhi  \\\n",
       "0                        0        0      1        0       0       1      0   \n",
       "1                        0        0      0        1       0       0      0   \n",
       "2                        0        0      1        0       0       1      0   \n",
       "3                        0        0      1        0       0       1      0   \n",
       "4                        0        0      0        0       0       0      1   \n",
       "\n",
       "   Hyderabad  Kolkata  New Delhi  \n",
       "0          0        0          0  \n",
       "1          0        0          0  \n",
       "2          0        0          0  \n",
       "3          0        0          0  \n",
       "4          0        0          0  \n",
       "\n",
       "[5 rows x 28 columns]"
      ]
     },
     "execution_count": 57,
     "metadata": {},
     "output_type": "execute_result"
    }
   ],
   "source": [
    "test.head()"
   ]
  },
  {
   "cell_type": "markdown",
   "metadata": {},
   "source": [
    "### Now, all the columns have been changed to Numeric data Type"
   ]
  },
  {
   "cell_type": "markdown",
   "metadata": {},
   "source": [
    "# Summary Statistics"
   ]
  },
  {
   "cell_type": "code",
   "execution_count": 58,
   "metadata": {},
   "outputs": [
    {
     "data": {
      "text/html": [
       "<div>\n",
       "<style scoped>\n",
       "    .dataframe tbody tr th:only-of-type {\n",
       "        vertical-align: middle;\n",
       "    }\n",
       "\n",
       "    .dataframe tbody tr th {\n",
       "        vertical-align: top;\n",
       "    }\n",
       "\n",
       "    .dataframe thead th {\n",
       "        text-align: right;\n",
       "    }\n",
       "</style>\n",
       "<table border=\"1\" class=\"dataframe\">\n",
       "  <thead>\n",
       "    <tr style=\"text-align: right;\">\n",
       "      <th></th>\n",
       "      <th>Total_Stops</th>\n",
       "      <th>Price</th>\n",
       "      <th>Journey_date</th>\n",
       "      <th>Journey_month</th>\n",
       "      <th>Dep_hour</th>\n",
       "      <th>Dep_min</th>\n",
       "      <th>Arr_hour</th>\n",
       "      <th>Arr_min</th>\n",
       "      <th>Duration_hours</th>\n",
       "      <th>Duration_mins</th>\n",
       "    </tr>\n",
       "  </thead>\n",
       "  <tbody>\n",
       "    <tr>\n",
       "      <th>count</th>\n",
       "      <td>10682.000000</td>\n",
       "      <td>10682.000000</td>\n",
       "      <td>10682.000000</td>\n",
       "      <td>10682.000000</td>\n",
       "      <td>10682.000000</td>\n",
       "      <td>10682.000000</td>\n",
       "      <td>10682.000000</td>\n",
       "      <td>10682.000000</td>\n",
       "      <td>10682.000000</td>\n",
       "      <td>10682.000000</td>\n",
       "    </tr>\n",
       "    <tr>\n",
       "      <th>mean</th>\n",
       "      <td>0.824190</td>\n",
       "      <td>9087.214567</td>\n",
       "      <td>12.682925</td>\n",
       "      <td>5.534731</td>\n",
       "      <td>12.491013</td>\n",
       "      <td>24.409287</td>\n",
       "      <td>13.349186</td>\n",
       "      <td>24.690601</td>\n",
       "      <td>10.244898</td>\n",
       "      <td>28.326624</td>\n",
       "    </tr>\n",
       "    <tr>\n",
       "      <th>std</th>\n",
       "      <td>0.675229</td>\n",
       "      <td>4611.548810</td>\n",
       "      <td>8.803800</td>\n",
       "      <td>2.987626</td>\n",
       "      <td>5.748820</td>\n",
       "      <td>18.767801</td>\n",
       "      <td>6.859317</td>\n",
       "      <td>16.506808</td>\n",
       "      <td>8.494916</td>\n",
       "      <td>16.945817</td>\n",
       "    </tr>\n",
       "    <tr>\n",
       "      <th>min</th>\n",
       "      <td>0.000000</td>\n",
       "      <td>1759.000000</td>\n",
       "      <td>3.000000</td>\n",
       "      <td>1.000000</td>\n",
       "      <td>0.000000</td>\n",
       "      <td>0.000000</td>\n",
       "      <td>0.000000</td>\n",
       "      <td>0.000000</td>\n",
       "      <td>0.000000</td>\n",
       "      <td>0.000000</td>\n",
       "    </tr>\n",
       "    <tr>\n",
       "      <th>25%</th>\n",
       "      <td>0.000000</td>\n",
       "      <td>5277.000000</td>\n",
       "      <td>5.000000</td>\n",
       "      <td>3.000000</td>\n",
       "      <td>8.000000</td>\n",
       "      <td>5.000000</td>\n",
       "      <td>8.000000</td>\n",
       "      <td>10.000000</td>\n",
       "      <td>2.000000</td>\n",
       "      <td>15.000000</td>\n",
       "    </tr>\n",
       "    <tr>\n",
       "      <th>50%</th>\n",
       "      <td>1.000000</td>\n",
       "      <td>8372.000000</td>\n",
       "      <td>6.000000</td>\n",
       "      <td>5.000000</td>\n",
       "      <td>11.000000</td>\n",
       "      <td>25.000000</td>\n",
       "      <td>14.000000</td>\n",
       "      <td>25.000000</td>\n",
       "      <td>8.000000</td>\n",
       "      <td>30.000000</td>\n",
       "    </tr>\n",
       "    <tr>\n",
       "      <th>75%</th>\n",
       "      <td>1.000000</td>\n",
       "      <td>12373.000000</td>\n",
       "      <td>21.000000</td>\n",
       "      <td>6.000000</td>\n",
       "      <td>18.000000</td>\n",
       "      <td>40.000000</td>\n",
       "      <td>19.000000</td>\n",
       "      <td>35.000000</td>\n",
       "      <td>15.000000</td>\n",
       "      <td>45.000000</td>\n",
       "    </tr>\n",
       "    <tr>\n",
       "      <th>max</th>\n",
       "      <td>4.000000</td>\n",
       "      <td>79512.000000</td>\n",
       "      <td>27.000000</td>\n",
       "      <td>12.000000</td>\n",
       "      <td>23.000000</td>\n",
       "      <td>55.000000</td>\n",
       "      <td>23.000000</td>\n",
       "      <td>55.000000</td>\n",
       "      <td>47.000000</td>\n",
       "      <td>55.000000</td>\n",
       "    </tr>\n",
       "  </tbody>\n",
       "</table>\n",
       "</div>"
      ],
      "text/plain": [
       "        Total_Stops         Price  Journey_date  Journey_month      Dep_hour  \\\n",
       "count  10682.000000  10682.000000  10682.000000   10682.000000  10682.000000   \n",
       "mean       0.824190   9087.214567     12.682925       5.534731     12.491013   \n",
       "std        0.675229   4611.548810      8.803800       2.987626      5.748820   \n",
       "min        0.000000   1759.000000      3.000000       1.000000      0.000000   \n",
       "25%        0.000000   5277.000000      5.000000       3.000000      8.000000   \n",
       "50%        1.000000   8372.000000      6.000000       5.000000     11.000000   \n",
       "75%        1.000000  12373.000000     21.000000       6.000000     18.000000   \n",
       "max        4.000000  79512.000000     27.000000      12.000000     23.000000   \n",
       "\n",
       "            Dep_min      Arr_hour       Arr_min  Duration_hours  Duration_mins  \n",
       "count  10682.000000  10682.000000  10682.000000    10682.000000   10682.000000  \n",
       "mean      24.409287     13.349186     24.690601       10.244898      28.326624  \n",
       "std       18.767801      6.859317     16.506808        8.494916      16.945817  \n",
       "min        0.000000      0.000000      0.000000        0.000000       0.000000  \n",
       "25%        5.000000      8.000000     10.000000        2.000000      15.000000  \n",
       "50%       25.000000     14.000000     25.000000        8.000000      30.000000  \n",
       "75%       40.000000     19.000000     35.000000       15.000000      45.000000  \n",
       "max       55.000000     23.000000     55.000000       47.000000      55.000000  "
      ]
     },
     "execution_count": 58,
     "metadata": {},
     "output_type": "execute_result"
    }
   ],
   "source": [
    "Train_data.describe()"
   ]
  },
  {
   "cell_type": "markdown",
   "metadata": {},
   "source": [
    "# Correlation"
   ]
  },
  {
   "cell_type": "code",
   "execution_count": 59,
   "metadata": {},
   "outputs": [
    {
     "data": {
      "image/png": "[encoded data removed]",
      "text/plain": [
       "<Figure size 720x576 with 2 Axes>"
      ]
     },
     "metadata": {
      "needs_background": "light"
     },
     "output_type": "display_data"
    }
   ],
   "source": [
    "plt.figure(figsize=(10,8))\n",
    "sns.heatmap(Train_data.corr(),annot=True,fmt='.0%',cmap='BuPu')\n",
    "plt.show()"
   ]
  },
  {
   "cell_type": "markdown",
   "metadata": {},
   "source": [
    "### Correlation with target column"
   ]
  },
  {
   "cell_type": "code",
   "execution_count": 60,
   "metadata": {},
   "outputs": [
    {
     "data": {
      "text/plain": [
       "Text(0.5, 1.0, 'Correlation with Target Variable')"
      ]
     },
     "execution_count": 60,
     "metadata": {},
     "output_type": "execute_result"
    },
    {
     "data": {
      "image/png": "[encoded data removed]",
      "text/plain": [
       "<Figure size 576x432 with 1 Axes>"
      ]
     },
     "metadata": {
      "needs_background": "light"
     },
     "output_type": "display_data"
    }
   ],
   "source": [
    "plt.figure(figsize=(8,6))\n",
    "Train_data.drop('Price',axis=1).corrwith(Train_data['Price']).plot(kind='bar',grid=True)\n",
    "plt.xticks(rotation='vertical')\n",
    "plt.title(\"Correlation with Target Variable\",fontsize=20)"
   ]
  },
  {
   "cell_type": "markdown",
   "metadata": {},
   "source": [
    "observations : \n",
    "    \n",
    "    1. Total_stops and Duration_hours are correlated with price."
   ]
  },
  {
   "cell_type": "markdown",
   "metadata": {},
   "source": [
    "# removing Outliers"
   ]
  },
  {
   "cell_type": "code",
   "execution_count": 61,
   "metadata": {},
   "outputs": [
    {
     "name": "stdout",
     "output_type": "stream",
     "text": [
      "(array([    0,     4,     5, ..., 10676, 10680, 10680], dtype=int64), array([29, 29, 17, ..., 17, 19, 29], dtype=int64))\n"
     ]
    },
    {
     "data": {
      "text/plain": [
       "(7506, 30)"
      ]
     },
     "execution_count": 61,
     "metadata": {},
     "output_type": "execute_result"
    }
   ],
   "source": [
    "from scipy.stats import zscore\n",
    "z=np.abs(zscore(train))\n",
    "threshold=3\n",
    "print(np.where(z>3))\n",
    "train_new=train[(z<3).all(axis=1)]\n",
    "train=train_new\n",
    "train.shape"
   ]
  },
  {
   "cell_type": "markdown",
   "metadata": {},
   "source": [
    "# Feature Selection"
   ]
  },
  {
   "cell_type": "code",
   "execution_count": 62,
   "metadata": {},
   "outputs": [
    {
     "data": {
      "text/plain": [
       "(7506, 30)"
      ]
     },
     "execution_count": 62,
     "metadata": {},
     "output_type": "execute_result"
    }
   ],
   "source": [
    "train.shape"
   ]
  },
  {
   "cell_type": "code",
   "execution_count": 63,
   "metadata": {},
   "outputs": [
    {
     "data": {
      "text/plain": [
       "Index(['Total_Stops', 'Price', 'Journey_date', 'Journey_month', 'Dep_hour',\n",
       "       'Dep_min', 'Arr_hour', 'Arr_min', 'Duration_hours', 'Duration_mins',\n",
       "       'Air India', 'GoAir', 'IndiGo', 'Jet Airways', 'Jet Airways Business',\n",
       "       'Multiple carriers', 'Multiple carriers Premium economy', 'SpiceJet',\n",
       "       'Trujet', 'Vistara', 'Vistara Premium economy', 'Chennai', 'Delhi',\n",
       "       'Kolkata', 'Mumbai', 'Cochin', 'Delhi', 'Hyderabad', 'Kolkata',\n",
       "       'New Delhi'],\n",
       "      dtype='object')"
      ]
     },
     "execution_count": 63,
     "metadata": {},
     "output_type": "execute_result"
    }
   ],
   "source": [
    "train.columns"
   ]
  },
  {
   "cell_type": "markdown",
   "metadata": {},
   "source": [
    "### Splitting the data into input and output variable"
   ]
  },
  {
   "cell_type": "code",
   "execution_count": 64,
   "metadata": {},
   "outputs": [
    {
     "data": {
      "text/html": [
       "<div>\n",
       "<style scoped>\n",
       "    .dataframe tbody tr th:only-of-type {\n",
       "        vertical-align: middle;\n",
       "    }\n",
       "\n",
       "    .dataframe tbody tr th {\n",
       "        vertical-align: top;\n",
       "    }\n",
       "\n",
       "    .dataframe thead th {\n",
       "        text-align: right;\n",
       "    }\n",
       "</style>\n",
       "<table border=\"1\" class=\"dataframe\">\n",
       "  <thead>\n",
       "    <tr style=\"text-align: right;\">\n",
       "      <th></th>\n",
       "      <th>Total_Stops</th>\n",
       "      <th>Journey_date</th>\n",
       "      <th>Journey_month</th>\n",
       "      <th>Dep_hour</th>\n",
       "      <th>Dep_min</th>\n",
       "      <th>Arr_hour</th>\n",
       "      <th>Arr_min</th>\n",
       "      <th>Duration_hours</th>\n",
       "      <th>Duration_mins</th>\n",
       "      <th>Air India</th>\n",
       "      <th>...</th>\n",
       "      <th>Vistara Premium economy</th>\n",
       "      <th>Chennai</th>\n",
       "      <th>Delhi</th>\n",
       "      <th>Kolkata</th>\n",
       "      <th>Mumbai</th>\n",
       "      <th>Cochin</th>\n",
       "      <th>Delhi</th>\n",
       "      <th>Hyderabad</th>\n",
       "      <th>Kolkata</th>\n",
       "      <th>New Delhi</th>\n",
       "    </tr>\n",
       "  </thead>\n",
       "  <tbody>\n",
       "    <tr>\n",
       "      <th>1</th>\n",
       "      <td>2</td>\n",
       "      <td>5</td>\n",
       "      <td>1</td>\n",
       "      <td>5</td>\n",
       "      <td>50</td>\n",
       "      <td>13</td>\n",
       "      <td>15</td>\n",
       "      <td>7</td>\n",
       "      <td>25</td>\n",
       "      <td>1</td>\n",
       "      <td>...</td>\n",
       "      <td>0</td>\n",
       "      <td>0</td>\n",
       "      <td>0</td>\n",
       "      <td>1</td>\n",
       "      <td>0</td>\n",
       "      <td>0</td>\n",
       "      <td>0</td>\n",
       "      <td>0</td>\n",
       "      <td>0</td>\n",
       "      <td>0</td>\n",
       "    </tr>\n",
       "    <tr>\n",
       "      <th>2</th>\n",
       "      <td>2</td>\n",
       "      <td>6</td>\n",
       "      <td>9</td>\n",
       "      <td>9</td>\n",
       "      <td>25</td>\n",
       "      <td>4</td>\n",
       "      <td>25</td>\n",
       "      <td>19</td>\n",
       "      <td>0</td>\n",
       "      <td>0</td>\n",
       "      <td>...</td>\n",
       "      <td>0</td>\n",
       "      <td>0</td>\n",
       "      <td>1</td>\n",
       "      <td>0</td>\n",
       "      <td>0</td>\n",
       "      <td>1</td>\n",
       "      <td>0</td>\n",
       "      <td>0</td>\n",
       "      <td>0</td>\n",
       "      <td>0</td>\n",
       "    </tr>\n",
       "    <tr>\n",
       "      <th>3</th>\n",
       "      <td>1</td>\n",
       "      <td>5</td>\n",
       "      <td>12</td>\n",
       "      <td>18</td>\n",
       "      <td>5</td>\n",
       "      <td>23</td>\n",
       "      <td>30</td>\n",
       "      <td>5</td>\n",
       "      <td>25</td>\n",
       "      <td>0</td>\n",
       "      <td>...</td>\n",
       "      <td>0</td>\n",
       "      <td>0</td>\n",
       "      <td>0</td>\n",
       "      <td>1</td>\n",
       "      <td>0</td>\n",
       "      <td>0</td>\n",
       "      <td>0</td>\n",
       "      <td>0</td>\n",
       "      <td>0</td>\n",
       "      <td>0</td>\n",
       "    </tr>\n",
       "    <tr>\n",
       "      <th>9</th>\n",
       "      <td>1</td>\n",
       "      <td>27</td>\n",
       "      <td>5</td>\n",
       "      <td>11</td>\n",
       "      <td>25</td>\n",
       "      <td>19</td>\n",
       "      <td>15</td>\n",
       "      <td>7</td>\n",
       "      <td>50</td>\n",
       "      <td>0</td>\n",
       "      <td>...</td>\n",
       "      <td>0</td>\n",
       "      <td>0</td>\n",
       "      <td>1</td>\n",
       "      <td>0</td>\n",
       "      <td>0</td>\n",
       "      <td>1</td>\n",
       "      <td>0</td>\n",
       "      <td>0</td>\n",
       "      <td>0</td>\n",
       "      <td>0</td>\n",
       "    </tr>\n",
       "    <tr>\n",
       "      <th>10</th>\n",
       "      <td>1</td>\n",
       "      <td>6</td>\n",
       "      <td>1</td>\n",
       "      <td>9</td>\n",
       "      <td>45</td>\n",
       "      <td>23</td>\n",
       "      <td>0</td>\n",
       "      <td>13</td>\n",
       "      <td>15</td>\n",
       "      <td>1</td>\n",
       "      <td>...</td>\n",
       "      <td>0</td>\n",
       "      <td>0</td>\n",
       "      <td>1</td>\n",
       "      <td>0</td>\n",
       "      <td>0</td>\n",
       "      <td>1</td>\n",
       "      <td>0</td>\n",
       "      <td>0</td>\n",
       "      <td>0</td>\n",
       "      <td>0</td>\n",
       "    </tr>\n",
       "  </tbody>\n",
       "</table>\n",
       "<p>5 rows × 29 columns</p>\n",
       "</div>"
      ],
      "text/plain": [
       "    Total_Stops  Journey_date  Journey_month  Dep_hour  Dep_min  Arr_hour  \\\n",
       "1             2             5              1         5       50        13   \n",
       "2             2             6              9         9       25         4   \n",
       "3             1             5             12        18        5        23   \n",
       "9             1            27              5        11       25        19   \n",
       "10            1             6              1         9       45        23   \n",
       "\n",
       "    Arr_min  Duration_hours  Duration_mins  Air India  ...  \\\n",
       "1        15               7             25          1  ...   \n",
       "2        25              19              0          0  ...   \n",
       "3        30               5             25          0  ...   \n",
       "9        15               7             50          0  ...   \n",
       "10        0              13             15          1  ...   \n",
       "\n",
       "    Vistara Premium economy  Chennai  Delhi  Kolkata  Mumbai  Cochin  Delhi  \\\n",
       "1                         0        0      0        1       0       0      0   \n",
       "2                         0        0      1        0       0       1      0   \n",
       "3                         0        0      0        1       0       0      0   \n",
       "9                         0        0      1        0       0       1      0   \n",
       "10                        0        0      1        0       0       1      0   \n",
       "\n",
       "    Hyderabad  Kolkata  New Delhi  \n",
       "1           0        0          0  \n",
       "2           0        0          0  \n",
       "3           0        0          0  \n",
       "9           0        0          0  \n",
       "10          0        0          0  \n",
       "\n",
       "[5 rows x 29 columns]"
      ]
     },
     "execution_count": 64,
     "metadata": {},
     "output_type": "execute_result"
    }
   ],
   "source": [
    "x=train.drop(columns=['Price'],axis=1)\n",
    "x.head()"
   ]
  },
  {
   "cell_type": "code",
   "execution_count": 65,
   "metadata": {},
   "outputs": [
    {
     "data": {
      "text/plain": [
       "1      7662\n",
       "2     13882\n",
       "3      6218\n",
       "9      8625\n",
       "10     8907\n",
       "Name: Price, dtype: int64"
      ]
     },
     "execution_count": 65,
     "metadata": {},
     "output_type": "execute_result"
    }
   ],
   "source": [
    "y=train['Price']\n",
    "y.head()"
   ]
  },
  {
   "cell_type": "markdown",
   "metadata": {},
   "source": [
    "### Checking the shape of the input and output variable"
   ]
  },
  {
   "cell_type": "code",
   "execution_count": 66,
   "metadata": {},
   "outputs": [
    {
     "name": "stdout",
     "output_type": "stream",
     "text": [
      "(7506, 29) \t\t (7506,)\n"
     ]
    }
   ],
   "source": [
    "print(x.shape,'\\t\\t', y.shape)"
   ]
  },
  {
   "cell_type": "markdown",
   "metadata": {},
   "source": [
    "### Scaling in input variables"
   ]
  },
  {
   "cell_type": "code",
   "execution_count": 67,
   "metadata": {},
   "outputs": [],
   "source": [
    "from sklearn.preprocessing import StandardScaler\n",
    "ss=StandardScaler()\n",
    "x=ss.fit_transform(x)"
   ]
  },
  {
   "cell_type": "markdown",
   "metadata": {},
   "source": [
    "### spliting the data into training and testing data"
   ]
  },
  {
   "cell_type": "code",
   "execution_count": 68,
   "metadata": {},
   "outputs": [],
   "source": [
    "from sklearn.model_selection import train_test_split\n",
    "x_train,x_test,y_train,y_test=train_test_split(x,y,test_size=.20,random_state=42)"
   ]
  },
  {
   "cell_type": "markdown",
   "metadata": {},
   "source": [
    "### Checking the shape"
   ]
  },
  {
   "cell_type": "code",
   "execution_count": 69,
   "metadata": {},
   "outputs": [
    {
     "name": "stdout",
     "output_type": "stream",
     "text": [
      "(6004, 29) \t\t (1502, 29)\n"
     ]
    }
   ],
   "source": [
    "print(x_train.shape,'\\t\\t',x_test.shape)"
   ]
  },
  {
   "cell_type": "code",
   "execution_count": 70,
   "metadata": {},
   "outputs": [
    {
     "name": "stdout",
     "output_type": "stream",
     "text": [
      "(6004,) \t\t (1502,)\n"
     ]
    }
   ],
   "source": [
    "print(y_train.shape,'\\t\\t',y_test.shape)"
   ]
  },
  {
   "cell_type": "markdown",
   "metadata": {},
   "source": [
    "# Importing all the model Library"
   ]
  },
  {
   "cell_type": "code",
   "execution_count": 71,
   "metadata": {},
   "outputs": [],
   "source": [
    "# Libraries for data modelling\n",
    "from sklearn.linear_model import LogisticRegression,Ridge,Lasso,LinearRegression,ElasticNet\n",
    "from sklearn.tree import DecisionTreeRegressor\n",
    "from sklearn.neighbors import KNeighborsRegressor\n",
    "from sklearn.naive_bayes import GaussianNB\n",
    "from sklearn.svm import SVR,SVC\n",
    "\n",
    "#Importinf boosting models\n",
    "from sklearn.ensemble import RandomForestRegressor,AdaBoostRegressor,GradientBoostingRegressor,BaggingRegressor,ExtraTreesRegressor\n",
    "\n",
    "#Importing error metrics\n",
    "from sklearn.metrics import mean_absolute_error,mean_squared_error,r2_score\n",
    "from sklearn.model_selection import GridSearchCV,cross_val_score"
   ]
  },
  {
   "cell_type": "markdown",
   "metadata": {},
   "source": [
    "### All algorithms by using for loop"
   ]
  },
  {
   "cell_type": "code",
   "execution_count": 72,
   "metadata": {},
   "outputs": [
    {
     "name": "stdout",
     "output_type": "stream",
     "text": [
      "\u001b[1mR2 score of Lasso() is : \u001b[0m\n",
      "0.5653877908875724\n",
      "Training r2_score is : 58.265685988107776\n",
      "Testing r2_score is : 56.53877908875724\n",
      "Mean Absolute Eror :  1935.8783414015043\n",
      "Mean Squared Eror :  6043430.673218965\n",
      "Root Mean Squared Eror :  2458.339006975841\n",
      "*******************************************************************\n",
      "\n",
      "\n",
      "\u001b[1mR2 score of Ridge() is : \u001b[0m\n",
      "0.5652767634946925\n",
      "Training r2_score is : 58.26630556101187\n",
      "Testing r2_score is : 56.527676349469246\n",
      "Mean Absolute Eror :  1935.9632315014323\n",
      "Mean Squared Eror :  6044974.546901365\n",
      "Root Mean Squared Eror :  2458.6529944059544\n",
      "*******************************************************************\n",
      "\n",
      "\n",
      "\u001b[1mR2 score of DecisionTreeRegressor() is : \u001b[0m\n",
      "0.6584036428036668\n",
      "Training r2_score is : 94.01370943283062\n",
      "Testing r2_score is : 65.84036428036669\n",
      "Mean Absolute Eror :  1383.532656458056\n",
      "Mean Squared Eror :  4750013.597538283\n",
      "Root Mean Squared Eror :  2179.4525912573285\n",
      "*******************************************************************\n",
      "\n",
      "\n",
      "\u001b[1mR2 score of KNeighborsRegressor() is : \u001b[0m\n",
      "0.6630792133651089\n",
      "Training r2_score is : 79.00419677950094\n",
      "Testing r2_score is : 66.30792133651089\n",
      "Mean Absolute Eror :  1590.1600532623172\n",
      "Mean Squared Eror :  4684998.197709721\n",
      "Root Mean Squared Eror :  2164.4856658591484\n",
      "*******************************************************************\n",
      "\n",
      "\n",
      "\u001b[1mR2 score of RandomForestRegressor() is : \u001b[0m\n",
      "0.7617772496793173\n",
      "Training r2_score is : 92.65522160129862\n",
      "Testing r2_score is : 76.17772496793172\n",
      "Mean Absolute Eror :  1236.6408746422244\n",
      "Mean Squared Eror :  3312568.4142347067\n",
      "Root Mean Squared Eror :  1820.0462670588092\n",
      "*******************************************************************\n",
      "\n",
      "\n",
      "\u001b[1mR2 score of AdaBoostRegressor() is : \u001b[0m\n",
      "0.5987649950956877\n",
      "Training r2_score is : 62.22540865706614\n",
      "Testing r2_score is : 59.876499509568774\n",
      "Mean Absolute Eror :  1961.560587658726\n",
      "Mean Squared Eror :  5579309.289906797\n",
      "Root Mean Squared Eror :  2362.0561572297124\n",
      "*******************************************************************\n",
      "\n",
      "\n",
      "\u001b[1mR2 score of GradientBoostingRegressor() is : \u001b[0m\n",
      "0.7301094329960635\n",
      "Training r2_score is : 75.65069208624293\n",
      "Testing r2_score is : 73.01094329960634\n",
      "Mean Absolute Eror :  1501.3107079536999\n",
      "Mean Squared Eror :  3752920.182281664\n",
      "Root Mean Squared Eror :  1937.245514198359\n",
      "*******************************************************************\n",
      "\n",
      "\n",
      "\u001b[1mR2 score of BaggingRegressor() is : \u001b[0m\n",
      "0.7478401559279343\n",
      "Training r2_score is : 91.85484278018392\n",
      "Testing r2_score is : 74.78401559279342\n",
      "Mean Absolute Eror :  1255.4540418090935\n",
      "Mean Squared Eror :  3506368.445864393\n",
      "Root Mean Squared Eror :  1872.529958602637\n",
      "*******************************************************************\n",
      "\n",
      "\n",
      "\u001b[1mR2 score of ExtraTreesRegressor() is : \u001b[0m\n",
      "0.6843529147303474\n",
      "Training r2_score is : 94.01366904462657\n",
      "Testing r2_score is : 68.43529147303474\n",
      "Mean Absolute Eror :  1366.1174834981928\n",
      "Mean Squared Eror :  4389180.140444043\n",
      "Root Mean Squared Eror :  2095.03702603177\n",
      "*******************************************************************\n",
      "\n",
      "\n",
      "\u001b[1mR2 score of LinearRegression() is : \u001b[0m\n",
      "0.5652227025756018\n",
      "Training r2_score is : 58.26005787728785\n",
      "Testing r2_score is : 56.52227025756018\n",
      "Mean Absolute Eror :  1937.2650898606848\n",
      "Mean Squared Eror :  6045726.28237912\n",
      "Root Mean Squared Eror :  2458.805865126224\n",
      "*******************************************************************\n",
      "\n",
      "\n",
      "\u001b[1mR2 score of SVR() is : \u001b[0m\n",
      "0.07465191797766746\n",
      "Training r2_score is : 7.5255475372649645\n",
      "Testing r2_score is : 7.465191797766746\n",
      "Mean Absolute Eror :  3086.4348982649244\n",
      "Mean Squared Eror :  12867279.991325477\n",
      "Root Mean Squared Eror :  3587.0991053113485\n",
      "*******************************************************************\n",
      "\n",
      "\n",
      "\u001b[1mR2 score of ElasticNet() is : \u001b[0m\n",
      "0.5295581789749113\n",
      "Training r2_score is : 53.995845499681636\n",
      "Testing r2_score is : 52.95581789749113\n",
      "Mean Absolute Eror :  2053.583638381686\n",
      "Mean Squared Eror :  6541653.620256549\n",
      "Root Mean Squared Eror :  2557.6656584191273\n",
      "*******************************************************************\n",
      "\n",
      "\n",
      "\u001b[1mR2 score of RandomForestRegressor() is : \u001b[0m\n",
      "0.763615739224005\n",
      "Training r2_score is : 92.68081682038516\n",
      "Testing r2_score is : 76.36157392240051\n",
      "Mean Absolute Eror :  1232.2864086696147\n",
      "Mean Squared Eror :  3287003.591448323\n",
      "Root Mean Squared Eror :  1813.009539811725\n",
      "*******************************************************************\n",
      "\n",
      "\n"
     ]
    }
   ],
   "source": [
    "model=[Lasso(),Ridge(),DecisionTreeRegressor(),KNeighborsRegressor(),RandomForestRegressor(),AdaBoostRegressor(),GradientBoostingRegressor(),BaggingRegressor(),ExtraTreesRegressor(),LinearRegression(),SVR(),ElasticNet(),RandomForestRegressor()]\n",
    "\n",
    "for m in model:\n",
    "    m.fit(x_train,y_train)\n",
    "    m.score(x_train,y_train)\n",
    "    predm=m.predict(x_test)\n",
    "    pred_train=m.predict(x_train)\n",
    "    pred_test=m.predict(x_test)\n",
    "    print(\"\\033[1m\"+ 'R2 score of',m,'is : ' + \"\\033[0m\" )  # Make the line bold\n",
    "    print(r2_score(y_test,predm))\n",
    "    print(\"Training r2_score is :\",r2_score(y_train,pred_train)*100)\n",
    "    print(\"Testing r2_score is :\",r2_score(y_test,pred_test)*100)\n",
    "    print(\"Mean Absolute Eror : \",mean_absolute_error(y_test,predm))\n",
    "    print(\"Mean Squared Eror : \",mean_squared_error(y_test,predm))\n",
    "    print(\"Root Mean Squared Eror : \",np.sqrt(mean_squared_error(y_test,predm)))\n",
    "    print('*******************************************************************')\n",
    "    print('\\n')"
   ]
  },
  {
   "cell_type": "markdown",
   "metadata": {},
   "source": [
    "# Cross validate all algorithm by using loop"
   ]
  },
  {
   "cell_type": "code",
   "execution_count": 73,
   "metadata": {},
   "outputs": [
    {
     "name": "stdout",
     "output_type": "stream",
     "text": [
      "Model :  Lasso()\n",
      "Mean Score :  0.5770998459948516\n",
      "Standard deviation :  0.009360142075445875\n",
      "*******************************************************************\n",
      "\n",
      "\n",
      "Model :  Ridge()\n",
      "Mean Score :  0.5770966900424926\n",
      "Standard deviation :  0.009376824486771553\n",
      "*******************************************************************\n",
      "\n",
      "\n",
      "Model :  DecisionTreeRegressor()\n",
      "Mean Score :  0.6316362788923406\n",
      "Standard deviation :  0.021067750000689164\n",
      "*******************************************************************\n",
      "\n",
      "\n",
      "Model :  KNeighborsRegressor()\n",
      "Mean Score :  0.681240846139681\n",
      "Standard deviation :  0.01311307901095709\n",
      "*******************************************************************\n",
      "\n",
      "\n",
      "Model :  RandomForestRegressor()\n",
      "Mean Score :  0.7529914767907269\n",
      "Standard deviation :  0.016563509457477997\n",
      "*******************************************************************\n",
      "\n",
      "\n",
      "Model :  AdaBoostRegressor()\n",
      "Mean Score :  0.5712262139401311\n",
      "Standard deviation :  0.025622009887578963\n",
      "*******************************************************************\n",
      "\n",
      "\n",
      "Model :  GradientBoostingRegressor()\n",
      "Mean Score :  0.739507828399844\n",
      "Standard deviation :  0.012646544754607993\n",
      "*******************************************************************\n",
      "\n",
      "\n",
      "Model :  BaggingRegressor()\n",
      "Mean Score :  0.7400588264712259\n",
      "Standard deviation :  0.019961707488500943\n",
      "*******************************************************************\n",
      "\n",
      "\n",
      "Model :  ExtraTreesRegressor()\n",
      "Mean Score :  0.66915854637726\n",
      "Standard deviation :  0.02287153670716675\n",
      "*******************************************************************\n",
      "\n",
      "\n",
      "Model :  LinearRegression()\n",
      "Mean Score :  0.5769939553524552\n",
      "Standard deviation :  0.009274915457729094\n",
      "*******************************************************************\n",
      "\n",
      "\n",
      "Model :  SVR()\n",
      "Mean Score :  0.08120629078724666\n",
      "Standard deviation :  0.0036899368801865126\n",
      "*******************************************************************\n",
      "\n",
      "\n",
      "Model :  ElasticNet()\n",
      "Mean Score :  0.5359283397566933\n",
      "Standard deviation :  0.01059810645019751\n",
      "*******************************************************************\n",
      "\n",
      "\n",
      "Model :  RandomForestRegressor()\n",
      "Mean Score :  0.7528478180664202\n",
      "Standard deviation :  0.01739626805799382\n",
      "*******************************************************************\n",
      "\n",
      "\n"
     ]
    }
   ],
   "source": [
    "model=[Lasso(),Ridge(),DecisionTreeRegressor(),KNeighborsRegressor(),RandomForestRegressor(),AdaBoostRegressor(),GradientBoostingRegressor(),BaggingRegressor(),ExtraTreesRegressor(),LinearRegression(),SVR(),ElasticNet(),RandomForestRegressor()]\n",
    "for m in model:\n",
    "    score=cross_val_score(m,x,y,cv=10,scoring='r2')\n",
    "    print(\"Model : \",m)\n",
    "    print(\"Mean Score : \",score.mean())\n",
    "    print(\"Standard deviation : \",score.std())\n",
    "    print('*******************************************************************')\n",
    "    print('\\n')"
   ]
  },
  {
   "cell_type": "markdown",
   "metadata": {},
   "source": [
    "### Random Forest Regressor giving best score and r2 score so I choose it as my final model"
   ]
  },
  {
   "cell_type": "markdown",
   "metadata": {},
   "source": [
    "### Using GridSearchCV to find the best parameter"
   ]
  },
  {
   "cell_type": "code",
   "execution_count": 74,
   "metadata": {},
   "outputs": [
    {
     "name": "stdout",
     "output_type": "stream",
     "text": [
      "{'max_depth': 15, 'n_estimators': 500}\n"
     ]
    }
   ],
   "source": [
    "parameters={'n_estimators':[400,500,600,700],'max_depth':[4,5,6,15,20]}\n",
    "RFC=RandomForestRegressor()\n",
    "\n",
    "clf=GridSearchCV(RFC,parameters)\n",
    "clf.fit(x,y)\n",
    "print(clf.best_params_)"
   ]
  },
  {
   "cell_type": "markdown",
   "metadata": {},
   "source": [
    "### Using Random forest regressor with its best parameter"
   ]
  },
  {
   "cell_type": "code",
   "execution_count": 75,
   "metadata": {},
   "outputs": [
    {
     "name": "stdout",
     "output_type": "stream",
     "text": [
      "\n",
      "\n",
      "Mean Absolute Eror :  1186.7918911670768\n",
      "Mean Squared Eror :  2620155.5126018696\n",
      "Root Mean Squared Eror :  1618.6894429141958\n",
      "\n",
      "\n",
      "0.8115719965819579\n"
     ]
    }
   ],
   "source": [
    "rf=RandomForestRegressor(n_estimators=700,criterion='mse', max_depth=15, min_samples_split=15, min_samples_leaf=1, min_weight_fraction_leaf=0.0, max_features='auto', max_leaf_nodes=None, min_impurity_decrease=0.0, min_impurity_split=None, bootstrap=True, oob_score=False, n_jobs=None, random_state=25, verbose=0, warm_start=False, ccp_alpha=0.0, max_samples=None)\n",
    "rf.fit(x_train,y_train)\n",
    "rf.score(x_train,y_train)\n",
    "predrf=rf.predict(x_test)\n",
    "print('\\n')\n",
    "\n",
    "print(\"Mean Absolute Eror : \",mean_absolute_error(y_test,predrf))\n",
    "print(\"Mean Squared Eror : \",mean_squared_error(y_test,predrf))\n",
    "print(\"Root Mean Squared Eror : \",np.sqrt(mean_squared_error(y_test,predrf)))\n",
    "\n",
    "print('\\n')\n",
    "print(r2_score(y_test,predrf))"
   ]
  },
  {
   "cell_type": "markdown",
   "metadata": {},
   "source": [
    "### Now our r2 score is increased\n",
    "\n"
   ]
  },
  {
   "cell_type": "markdown",
   "metadata": {},
   "source": [
    "### Before Hyperparameter tuning ------ r2_score is : 0.7526892819726914\n",
    "    \n"
   ]
  },
  {
   "cell_type": "markdown",
   "metadata": {},
   "source": [
    "### After Hyperparameter tuning ------ r2_score is : 0.8115719965819579"
   ]
  },
  {
   "cell_type": "markdown",
   "metadata": {},
   "source": [
    "### Plotting the distribution plot and we find the Gaussian plot"
   ]
  },
  {
   "cell_type": "code",
   "execution_count": 76,
   "metadata": {},
   "outputs": [
    {
     "data": {
      "image/png": "[encoded data removed]",
      "text/plain": [
       "<Figure size 432x288 with 1 Axes>"
      ]
     },
     "metadata": {
      "needs_background": "light"
     },
     "output_type": "display_data"
    }
   ],
   "source": [
    "sns.distplot(y_test-predrf)\n",
    "plt.show()"
   ]
  },
  {
   "cell_type": "code",
   "execution_count": null,
   "metadata": {},
   "outputs": [],
   "source": []
  },
  {
   "cell_type": "code",
   "execution_count": null,
   "metadata": {},
   "outputs": [],
   "source": []
  },
  {
   "cell_type": "code",
   "execution_count": null,
   "metadata": {},
   "outputs": [],
   "source": []
  },
  {
   "cell_type": "code",
   "execution_count": null,
   "metadata": {},
   "outputs": [],
   "source": []
  },
  {
   "cell_type": "markdown",
   "metadata": {},
   "source": [
    "# Saving the model"
   ]
  },
  {
   "cell_type": "markdown",
   "metadata": {},
   "source": [
    "### Importinf joblib"
   ]
  },
  {
   "cell_type": "code",
   "execution_count": 77,
   "metadata": {},
   "outputs": [],
   "source": [
    "import joblib"
   ]
  },
  {
   "cell_type": "markdown",
   "metadata": {},
   "source": [
    "### Save the model as a pickle in a file"
   ]
  },
  {
   "cell_type": "code",
   "execution_count": 78,
   "metadata": {},
   "outputs": [
    {
     "data": {
      "text/plain": [
       "['Flight_Fare_Prediction.pkl']"
      ]
     },
     "execution_count": 78,
     "metadata": {},
     "output_type": "execute_result"
    }
   ],
   "source": [
    "joblib.dump(rf,'Flight_Fare_Prediction.pkl')"
   ]
  },
  {
   "cell_type": "code",
   "execution_count": null,
   "metadata": {},
   "outputs": [],
   "source": []
  }
 ],
 "metadata": {
  "kernelspec": {
   "display_name": "Python 3",
   "language": "python",
   "name": "python3"
  },
  "language_info": {
   "codemirror_mode": {
    "name": "ipython",
    "version": 3
   },
   "file_extension": ".py",
   "mimetype": "text/x-python",
   "name": "python",
   "nbconvert_exporter": "python",
   "pygments_lexer": "ipython3",
   "version": "3.8.5"
  }
 },
 "nbformat": 4,
 "nbformat_minor": 4
}
