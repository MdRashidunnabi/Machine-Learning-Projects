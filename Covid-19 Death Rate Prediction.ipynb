{
 "cells": [
  {
   "cell_type": "markdown",
   "metadata": {},
   "source": [
    "# Importing All necessary Libraries"
   ]
  },
  {
   "cell_type": "code",
   "execution_count": 3,
   "metadata": {},
   "outputs": [],
   "source": [
    "import pandas as pd\n",
    "import numpy as np\n",
    "import matplotlib.pyplot as plt\n",
    "import seaborn as sns\n",
    "%matplotlib inline"
   ]
  },
  {
   "cell_type": "markdown",
   "metadata": {},
   "source": [
    "# Importing Warnings"
   ]
  },
  {
   "cell_type": "code",
   "execution_count": 4,
   "metadata": {},
   "outputs": [],
   "source": [
    "import warnings\n",
    "warnings.filterwarnings('ignore')"
   ]
  },
  {
   "cell_type": "markdown",
   "metadata": {},
   "source": [
    "# Loading the Dataset"
   ]
  },
  {
   "cell_type": "code",
   "execution_count": 5,
   "metadata": {},
   "outputs": [
    {
     "data": {
      "text/html": [
       "<div>\n",
       "<style scoped>\n",
       "    .dataframe tbody tr th:only-of-type {\n",
       "        vertical-align: middle;\n",
       "    }\n",
       "\n",
       "    .dataframe tbody tr th {\n",
       "        vertical-align: top;\n",
       "    }\n",
       "\n",
       "    .dataframe thead th {\n",
       "        text-align: right;\n",
       "    }\n",
       "</style>\n",
       "<table border=\"1\" class=\"dataframe\">\n",
       "  <thead>\n",
       "    <tr style=\"text-align: right;\">\n",
       "      <th></th>\n",
       "      <th>Province_State</th>\n",
       "      <th>Country_Region</th>\n",
       "      <th>Last_Update</th>\n",
       "      <th>Lat</th>\n",
       "      <th>Long_</th>\n",
       "      <th>Confirmed</th>\n",
       "      <th>Deaths</th>\n",
       "      <th>Recovered</th>\n",
       "      <th>Active</th>\n",
       "      <th>FIPS</th>\n",
       "      <th>Incident_Rate</th>\n",
       "      <th>People_Tested</th>\n",
       "      <th>People_Hospitalized</th>\n",
       "      <th>Mortality_Rate</th>\n",
       "      <th>UID</th>\n",
       "      <th>ISO3</th>\n",
       "      <th>Testing_Rate</th>\n",
       "      <th>Hospitalization_Rate</th>\n",
       "    </tr>\n",
       "  </thead>\n",
       "  <tbody>\n",
       "    <tr>\n",
       "      <th>0</th>\n",
       "      <td>Alabama</td>\n",
       "      <td>US</td>\n",
       "      <td>2020-05-21 02:32:54</td>\n",
       "      <td>32.3182</td>\n",
       "      <td>-86.9023</td>\n",
       "      <td>13052</td>\n",
       "      <td>522</td>\n",
       "      <td>NaN</td>\n",
       "      <td>12530.0</td>\n",
       "      <td>1</td>\n",
       "      <td>266.194321</td>\n",
       "      <td>164450.0</td>\n",
       "      <td>1493.0</td>\n",
       "      <td>3.999387</td>\n",
       "      <td>84000001</td>\n",
       "      <td>USA</td>\n",
       "      <td>3353.942386</td>\n",
       "      <td>11.438860</td>\n",
       "    </tr>\n",
       "    <tr>\n",
       "      <th>1</th>\n",
       "      <td>Alaska</td>\n",
       "      <td>US</td>\n",
       "      <td>2020-05-21 02:32:54</td>\n",
       "      <td>61.3707</td>\n",
       "      <td>-152.4044</td>\n",
       "      <td>401</td>\n",
       "      <td>10</td>\n",
       "      <td>352.0</td>\n",
       "      <td>39.0</td>\n",
       "      <td>2</td>\n",
       "      <td>54.815493</td>\n",
       "      <td>37045.0</td>\n",
       "      <td>NaN</td>\n",
       "      <td>2.493766</td>\n",
       "      <td>84000002</td>\n",
       "      <td>USA</td>\n",
       "      <td>5063.940017</td>\n",
       "      <td>NaN</td>\n",
       "    </tr>\n",
       "    <tr>\n",
       "      <th>2</th>\n",
       "      <td>American Samoa</td>\n",
       "      <td>US</td>\n",
       "      <td>2020-05-21 02:32:54</td>\n",
       "      <td>-14.2710</td>\n",
       "      <td>-170.1320</td>\n",
       "      <td>0</td>\n",
       "      <td>0</td>\n",
       "      <td>NaN</td>\n",
       "      <td>0.0</td>\n",
       "      <td>60</td>\n",
       "      <td>0.000000</td>\n",
       "      <td>124.0</td>\n",
       "      <td>NaN</td>\n",
       "      <td>NaN</td>\n",
       "      <td>16</td>\n",
       "      <td>ASM</td>\n",
       "      <td>222.857246</td>\n",
       "      <td>NaN</td>\n",
       "    </tr>\n",
       "    <tr>\n",
       "      <th>3</th>\n",
       "      <td>Arizona</td>\n",
       "      <td>US</td>\n",
       "      <td>2020-05-21 02:32:54</td>\n",
       "      <td>33.7298</td>\n",
       "      <td>-111.4312</td>\n",
       "      <td>14906</td>\n",
       "      <td>747</td>\n",
       "      <td>3773.0</td>\n",
       "      <td>10386.0</td>\n",
       "      <td>4</td>\n",
       "      <td>204.788838</td>\n",
       "      <td>165435.0</td>\n",
       "      <td>1792.0</td>\n",
       "      <td>5.011405</td>\n",
       "      <td>84000004</td>\n",
       "      <td>USA</td>\n",
       "      <td>2272.859351</td>\n",
       "      <td>12.022005</td>\n",
       "    </tr>\n",
       "    <tr>\n",
       "      <th>4</th>\n",
       "      <td>Arkansas</td>\n",
       "      <td>US</td>\n",
       "      <td>2020-05-21 02:32:54</td>\n",
       "      <td>34.9697</td>\n",
       "      <td>-92.3731</td>\n",
       "      <td>5003</td>\n",
       "      <td>107</td>\n",
       "      <td>3852.0</td>\n",
       "      <td>1044.0</td>\n",
       "      <td>5</td>\n",
       "      <td>165.782801</td>\n",
       "      <td>96258.0</td>\n",
       "      <td>535.0</td>\n",
       "      <td>2.138717</td>\n",
       "      <td>84000005</td>\n",
       "      <td>USA</td>\n",
       "      <td>3189.670370</td>\n",
       "      <td>10.693584</td>\n",
       "    </tr>\n",
       "    <tr>\n",
       "      <th>5</th>\n",
       "      <td>California</td>\n",
       "      <td>US</td>\n",
       "      <td>2020-05-21 02:32:54</td>\n",
       "      <td>36.1162</td>\n",
       "      <td>-119.6816</td>\n",
       "      <td>85997</td>\n",
       "      <td>3497</td>\n",
       "      <td>NaN</td>\n",
       "      <td>82500.0</td>\n",
       "      <td>6</td>\n",
       "      <td>217.646575</td>\n",
       "      <td>1380120.0</td>\n",
       "      <td>NaN</td>\n",
       "      <td>4.066421</td>\n",
       "      <td>84000006</td>\n",
       "      <td>USA</td>\n",
       "      <td>3492.893832</td>\n",
       "      <td>NaN</td>\n",
       "    </tr>\n",
       "    <tr>\n",
       "      <th>6</th>\n",
       "      <td>Colorado</td>\n",
       "      <td>US</td>\n",
       "      <td>2020-05-21 02:32:54</td>\n",
       "      <td>39.0598</td>\n",
       "      <td>-105.3111</td>\n",
       "      <td>22797</td>\n",
       "      <td>1299</td>\n",
       "      <td>3478.0</td>\n",
       "      <td>18020.0</td>\n",
       "      <td>8</td>\n",
       "      <td>395.868121</td>\n",
       "      <td>131837.0</td>\n",
       "      <td>3955.0</td>\n",
       "      <td>5.698118</td>\n",
       "      <td>84000008</td>\n",
       "      <td>USA</td>\n",
       "      <td>2289.339188</td>\n",
       "      <td>17.348774</td>\n",
       "    </tr>\n",
       "    <tr>\n",
       "      <th>7</th>\n",
       "      <td>Connecticut</td>\n",
       "      <td>US</td>\n",
       "      <td>2020-05-21 02:32:54</td>\n",
       "      <td>41.5978</td>\n",
       "      <td>-72.7554</td>\n",
       "      <td>39017</td>\n",
       "      <td>3529</td>\n",
       "      <td>6264.0</td>\n",
       "      <td>29224.0</td>\n",
       "      <td>9</td>\n",
       "      <td>1094.357902</td>\n",
       "      <td>190718.0</td>\n",
       "      <td>10946.0</td>\n",
       "      <td>9.044775</td>\n",
       "      <td>84000009</td>\n",
       "      <td>USA</td>\n",
       "      <td>5349.302875</td>\n",
       "      <td>28.054438</td>\n",
       "    </tr>\n",
       "    <tr>\n",
       "      <th>8</th>\n",
       "      <td>Delaware</td>\n",
       "      <td>US</td>\n",
       "      <td>2020-05-21 02:32:54</td>\n",
       "      <td>39.3185</td>\n",
       "      <td>-75.5071</td>\n",
       "      <td>8194</td>\n",
       "      <td>310</td>\n",
       "      <td>3965.0</td>\n",
       "      <td>3919.0</td>\n",
       "      <td>10</td>\n",
       "      <td>841.476990</td>\n",
       "      <td>45412.0</td>\n",
       "      <td>NaN</td>\n",
       "      <td>3.783256</td>\n",
       "      <td>84000010</td>\n",
       "      <td>USA</td>\n",
       "      <td>4663.552976</td>\n",
       "      <td>NaN</td>\n",
       "    </tr>\n",
       "    <tr>\n",
       "      <th>9</th>\n",
       "      <td>Diamond Princess</td>\n",
       "      <td>US</td>\n",
       "      <td>2020-05-21 02:32:54</td>\n",
       "      <td>NaN</td>\n",
       "      <td>NaN</td>\n",
       "      <td>49</td>\n",
       "      <td>0</td>\n",
       "      <td>NaN</td>\n",
       "      <td>49.0</td>\n",
       "      <td>88888</td>\n",
       "      <td>NaN</td>\n",
       "      <td>NaN</td>\n",
       "      <td>NaN</td>\n",
       "      <td>0.000000</td>\n",
       "      <td>84088888</td>\n",
       "      <td>USA</td>\n",
       "      <td>NaN</td>\n",
       "      <td>NaN</td>\n",
       "    </tr>\n",
       "    <tr>\n",
       "      <th>10</th>\n",
       "      <td>District of Columbia</td>\n",
       "      <td>US</td>\n",
       "      <td>2020-05-21 02:32:54</td>\n",
       "      <td>38.8974</td>\n",
       "      <td>-77.0268</td>\n",
       "      <td>7551</td>\n",
       "      <td>407</td>\n",
       "      <td>1059.0</td>\n",
       "      <td>6085.0</td>\n",
       "      <td>11</td>\n",
       "      <td>1069.927127</td>\n",
       "      <td>40419.0</td>\n",
       "      <td>NaN</td>\n",
       "      <td>5.390015</td>\n",
       "      <td>84000011</td>\n",
       "      <td>USA</td>\n",
       "      <td>5727.106946</td>\n",
       "      <td>NaN</td>\n",
       "    </tr>\n",
       "    <tr>\n",
       "      <th>11</th>\n",
       "      <td>Florida</td>\n",
       "      <td>US</td>\n",
       "      <td>2020-05-21 02:32:54</td>\n",
       "      <td>27.7663</td>\n",
       "      <td>-81.6868</td>\n",
       "      <td>47471</td>\n",
       "      <td>2096</td>\n",
       "      <td>NaN</td>\n",
       "      <td>45375.0</td>\n",
       "      <td>12</td>\n",
       "      <td>221.024217</td>\n",
       "      <td>771348.0</td>\n",
       "      <td>8934.0</td>\n",
       "      <td>4.415327</td>\n",
       "      <td>84000012</td>\n",
       "      <td>USA</td>\n",
       "      <td>3591.383953</td>\n",
       "      <td>18.819911</td>\n",
       "    </tr>\n",
       "    <tr>\n",
       "      <th>12</th>\n",
       "      <td>Georgia</td>\n",
       "      <td>US</td>\n",
       "      <td>2020-05-21 02:32:54</td>\n",
       "      <td>33.0406</td>\n",
       "      <td>-83.6431</td>\n",
       "      <td>39801</td>\n",
       "      <td>1697</td>\n",
       "      <td>NaN</td>\n",
       "      <td>38104.0</td>\n",
       "      <td>13</td>\n",
       "      <td>374.864974</td>\n",
       "      <td>402940.0</td>\n",
       "      <td>7107.0</td>\n",
       "      <td>4.263712</td>\n",
       "      <td>84000013</td>\n",
       "      <td>USA</td>\n",
       "      <td>3795.082856</td>\n",
       "      <td>17.856335</td>\n",
       "    </tr>\n",
       "    <tr>\n",
       "      <th>13</th>\n",
       "      <td>Grand Princess</td>\n",
       "      <td>US</td>\n",
       "      <td>2020-05-21 02:32:54</td>\n",
       "      <td>NaN</td>\n",
       "      <td>NaN</td>\n",
       "      <td>103</td>\n",
       "      <td>3</td>\n",
       "      <td>NaN</td>\n",
       "      <td>100.0</td>\n",
       "      <td>99999</td>\n",
       "      <td>NaN</td>\n",
       "      <td>NaN</td>\n",
       "      <td>NaN</td>\n",
       "      <td>2.912621</td>\n",
       "      <td>84099999</td>\n",
       "      <td>USA</td>\n",
       "      <td>NaN</td>\n",
       "      <td>NaN</td>\n",
       "    </tr>\n",
       "    <tr>\n",
       "      <th>14</th>\n",
       "      <td>Guam</td>\n",
       "      <td>US</td>\n",
       "      <td>2020-05-21 02:32:54</td>\n",
       "      <td>13.4443</td>\n",
       "      <td>144.7937</td>\n",
       "      <td>154</td>\n",
       "      <td>5</td>\n",
       "      <td>125.0</td>\n",
       "      <td>24.0</td>\n",
       "      <td>66</td>\n",
       "      <td>93.771502</td>\n",
       "      <td>4972.0</td>\n",
       "      <td>NaN</td>\n",
       "      <td>3.246753</td>\n",
       "      <td>316</td>\n",
       "      <td>GUM</td>\n",
       "      <td>3027.479921</td>\n",
       "      <td>NaN</td>\n",
       "    </tr>\n",
       "    <tr>\n",
       "      <th>15</th>\n",
       "      <td>Hawaii</td>\n",
       "      <td>US</td>\n",
       "      <td>2020-05-21 02:32:54</td>\n",
       "      <td>21.0943</td>\n",
       "      <td>-157.4983</td>\n",
       "      <td>643</td>\n",
       "      <td>17</td>\n",
       "      <td>578.0</td>\n",
       "      <td>48.0</td>\n",
       "      <td>15</td>\n",
       "      <td>45.413710</td>\n",
       "      <td>46304.0</td>\n",
       "      <td>82.0</td>\n",
       "      <td>2.643857</td>\n",
       "      <td>84000015</td>\n",
       "      <td>USA</td>\n",
       "      <td>3270.352122</td>\n",
       "      <td>12.752722</td>\n",
       "    </tr>\n",
       "    <tr>\n",
       "      <th>16</th>\n",
       "      <td>Idaho</td>\n",
       "      <td>US</td>\n",
       "      <td>2020-05-21 02:32:54</td>\n",
       "      <td>44.2405</td>\n",
       "      <td>-114.4788</td>\n",
       "      <td>2506</td>\n",
       "      <td>77</td>\n",
       "      <td>1668.0</td>\n",
       "      <td>761.0</td>\n",
       "      <td>16</td>\n",
       "      <td>140.229930</td>\n",
       "      <td>38567.0</td>\n",
       "      <td>215.0</td>\n",
       "      <td>3.072626</td>\n",
       "      <td>84000016</td>\n",
       "      <td>USA</td>\n",
       "      <td>2158.119598</td>\n",
       "      <td>8.579409</td>\n",
       "    </tr>\n",
       "    <tr>\n",
       "      <th>17</th>\n",
       "      <td>Illinois</td>\n",
       "      <td>US</td>\n",
       "      <td>2020-05-21 02:32:54</td>\n",
       "      <td>40.3495</td>\n",
       "      <td>-88.9861</td>\n",
       "      <td>100418</td>\n",
       "      <td>4525</td>\n",
       "      <td>NaN</td>\n",
       "      <td>95893.0</td>\n",
       "      <td>17</td>\n",
       "      <td>792.451219</td>\n",
       "      <td>642713.0</td>\n",
       "      <td>NaN</td>\n",
       "      <td>4.506164</td>\n",
       "      <td>84000017</td>\n",
       "      <td>USA</td>\n",
       "      <td>5071.986102</td>\n",
       "      <td>NaN</td>\n",
       "    </tr>\n",
       "    <tr>\n",
       "      <th>18</th>\n",
       "      <td>Indiana</td>\n",
       "      <td>US</td>\n",
       "      <td>2020-05-21 02:32:54</td>\n",
       "      <td>39.8494</td>\n",
       "      <td>-86.2583</td>\n",
       "      <td>29274</td>\n",
       "      <td>1864</td>\n",
       "      <td>NaN</td>\n",
       "      <td>27410.0</td>\n",
       "      <td>18</td>\n",
       "      <td>434.834339</td>\n",
       "      <td>195738.0</td>\n",
       "      <td>4389.0</td>\n",
       "      <td>6.367425</td>\n",
       "      <td>84000018</td>\n",
       "      <td>USA</td>\n",
       "      <td>2907.481174</td>\n",
       "      <td>14.992826</td>\n",
       "    </tr>\n",
       "    <tr>\n",
       "      <th>19</th>\n",
       "      <td>Iowa</td>\n",
       "      <td>US</td>\n",
       "      <td>2020-05-21 02:32:54</td>\n",
       "      <td>42.0115</td>\n",
       "      <td>-93.2105</td>\n",
       "      <td>15620</td>\n",
       "      <td>393</td>\n",
       "      <td>8362.0</td>\n",
       "      <td>6865.0</td>\n",
       "      <td>19</td>\n",
       "      <td>495.076179</td>\n",
       "      <td>110748.0</td>\n",
       "      <td>NaN</td>\n",
       "      <td>2.516005</td>\n",
       "      <td>84000019</td>\n",
       "      <td>USA</td>\n",
       "      <td>3510.159838</td>\n",
       "      <td>NaN</td>\n",
       "    </tr>\n",
       "    <tr>\n",
       "      <th>20</th>\n",
       "      <td>Kansas</td>\n",
       "      <td>US</td>\n",
       "      <td>2020-05-21 02:32:54</td>\n",
       "      <td>38.5266</td>\n",
       "      <td>-96.7265</td>\n",
       "      <td>8507</td>\n",
       "      <td>202</td>\n",
       "      <td>473.0</td>\n",
       "      <td>7832.0</td>\n",
       "      <td>20</td>\n",
       "      <td>292.004226</td>\n",
       "      <td>71203.0</td>\n",
       "      <td>760.0</td>\n",
       "      <td>2.374515</td>\n",
       "      <td>84000020</td>\n",
       "      <td>USA</td>\n",
       "      <td>2444.055121</td>\n",
       "      <td>8.933819</td>\n",
       "    </tr>\n",
       "    <tr>\n",
       "      <th>21</th>\n",
       "      <td>Kentucky</td>\n",
       "      <td>US</td>\n",
       "      <td>2020-05-21 02:32:54</td>\n",
       "      <td>37.6681</td>\n",
       "      <td>-84.6701</td>\n",
       "      <td>8167</td>\n",
       "      <td>376</td>\n",
       "      <td>2826.0</td>\n",
       "      <td>4965.0</td>\n",
       "      <td>21</td>\n",
       "      <td>182.802099</td>\n",
       "      <td>153986.0</td>\n",
       "      <td>2010.0</td>\n",
       "      <td>4.603894</td>\n",
       "      <td>84000021</td>\n",
       "      <td>USA</td>\n",
       "      <td>3446.671231</td>\n",
       "      <td>24.611240</td>\n",
       "    </tr>\n",
       "    <tr>\n",
       "      <th>22</th>\n",
       "      <td>Louisiana</td>\n",
       "      <td>US</td>\n",
       "      <td>2020-05-21 02:32:54</td>\n",
       "      <td>31.1695</td>\n",
       "      <td>-91.8678</td>\n",
       "      <td>35316</td>\n",
       "      <td>2608</td>\n",
       "      <td>26249.0</td>\n",
       "      <td>6459.0</td>\n",
       "      <td>22</td>\n",
       "      <td>759.680898</td>\n",
       "      <td>285970.0</td>\n",
       "      <td>NaN</td>\n",
       "      <td>7.384755</td>\n",
       "      <td>84000022</td>\n",
       "      <td>USA</td>\n",
       "      <td>6151.487891</td>\n",
       "      <td>NaN</td>\n",
       "    </tr>\n",
       "    <tr>\n",
       "      <th>23</th>\n",
       "      <td>Maine</td>\n",
       "      <td>US</td>\n",
       "      <td>2020-05-21 02:32:54</td>\n",
       "      <td>44.6939</td>\n",
       "      <td>-69.3819</td>\n",
       "      <td>1819</td>\n",
       "      <td>73</td>\n",
       "      <td>1100.0</td>\n",
       "      <td>646.0</td>\n",
       "      <td>23</td>\n",
       "      <td>135.320917</td>\n",
       "      <td>37269.0</td>\n",
       "      <td>231.0</td>\n",
       "      <td>4.013194</td>\n",
       "      <td>84000023</td>\n",
       "      <td>USA</td>\n",
       "      <td>2772.553734</td>\n",
       "      <td>12.699285</td>\n",
       "    </tr>\n",
       "    <tr>\n",
       "      <th>24</th>\n",
       "      <td>Maryland</td>\n",
       "      <td>US</td>\n",
       "      <td>2020-05-21 02:32:54</td>\n",
       "      <td>39.0639</td>\n",
       "      <td>-76.8021</td>\n",
       "      <td>42323</td>\n",
       "      <td>2123</td>\n",
       "      <td>2993.0</td>\n",
       "      <td>37207.0</td>\n",
       "      <td>24</td>\n",
       "      <td>700.053592</td>\n",
       "      <td>215330.0</td>\n",
       "      <td>7393.0</td>\n",
       "      <td>5.016185</td>\n",
       "      <td>84000024</td>\n",
       "      <td>USA</td>\n",
       "      <td>3561.716796</td>\n",
       "      <td>17.468043</td>\n",
       "    </tr>\n",
       "    <tr>\n",
       "      <th>25</th>\n",
       "      <td>Massachusetts</td>\n",
       "      <td>US</td>\n",
       "      <td>2020-05-21 02:32:54</td>\n",
       "      <td>42.2302</td>\n",
       "      <td>-71.5301</td>\n",
       "      <td>88970</td>\n",
       "      <td>6066</td>\n",
       "      <td>NaN</td>\n",
       "      <td>82904.0</td>\n",
       "      <td>25</td>\n",
       "      <td>1290.822797</td>\n",
       "      <td>489953.0</td>\n",
       "      <td>8897.0</td>\n",
       "      <td>6.818029</td>\n",
       "      <td>84000025</td>\n",
       "      <td>USA</td>\n",
       "      <td>7108.491647</td>\n",
       "      <td>10.000000</td>\n",
       "    </tr>\n",
       "    <tr>\n",
       "      <th>26</th>\n",
       "      <td>Michigan</td>\n",
       "      <td>US</td>\n",
       "      <td>2020-05-21 02:32:54</td>\n",
       "      <td>43.3266</td>\n",
       "      <td>-84.5361</td>\n",
       "      <td>53009</td>\n",
       "      <td>5060</td>\n",
       "      <td>28234.0</td>\n",
       "      <td>19715.0</td>\n",
       "      <td>26</td>\n",
       "      <td>530.787614</td>\n",
       "      <td>437072.0</td>\n",
       "      <td>NaN</td>\n",
       "      <td>9.545549</td>\n",
       "      <td>84000026</td>\n",
       "      <td>USA</td>\n",
       "      <td>4376.471997</td>\n",
       "      <td>NaN</td>\n",
       "    </tr>\n",
       "    <tr>\n",
       "      <th>27</th>\n",
       "      <td>Minnesota</td>\n",
       "      <td>US</td>\n",
       "      <td>2020-05-21 02:32:54</td>\n",
       "      <td>45.6945</td>\n",
       "      <td>-93.9002</td>\n",
       "      <td>17670</td>\n",
       "      <td>786</td>\n",
       "      <td>12227.0</td>\n",
       "      <td>4657.0</td>\n",
       "      <td>27</td>\n",
       "      <td>313.318316</td>\n",
       "      <td>167338.0</td>\n",
       "      <td>2308.0</td>\n",
       "      <td>4.448217</td>\n",
       "      <td>84000027</td>\n",
       "      <td>USA</td>\n",
       "      <td>2967.179419</td>\n",
       "      <td>13.061686</td>\n",
       "    </tr>\n",
       "    <tr>\n",
       "      <th>28</th>\n",
       "      <td>Mississippi</td>\n",
       "      <td>US</td>\n",
       "      <td>2020-05-21 02:32:54</td>\n",
       "      <td>32.7416</td>\n",
       "      <td>-89.6787</td>\n",
       "      <td>11967</td>\n",
       "      <td>570</td>\n",
       "      <td>7681.0</td>\n",
       "      <td>3716.0</td>\n",
       "      <td>28</td>\n",
       "      <td>402.096804</td>\n",
       "      <td>120680.0</td>\n",
       "      <td>1901.0</td>\n",
       "      <td>4.763099</td>\n",
       "      <td>84000028</td>\n",
       "      <td>USA</td>\n",
       "      <td>4054.904509</td>\n",
       "      <td>15.885351</td>\n",
       "    </tr>\n",
       "    <tr>\n",
       "      <th>29</th>\n",
       "      <td>Missouri</td>\n",
       "      <td>US</td>\n",
       "      <td>2020-05-21 02:32:54</td>\n",
       "      <td>38.4561</td>\n",
       "      <td>-92.2884</td>\n",
       "      <td>11528</td>\n",
       "      <td>640</td>\n",
       "      <td>NaN</td>\n",
       "      <td>10888.0</td>\n",
       "      <td>29</td>\n",
       "      <td>187.831124</td>\n",
       "      <td>161984.0</td>\n",
       "      <td>NaN</td>\n",
       "      <td>5.551700</td>\n",
       "      <td>84000029</td>\n",
       "      <td>USA</td>\n",
       "      <td>2639.281471</td>\n",
       "      <td>NaN</td>\n",
       "    </tr>\n",
       "    <tr>\n",
       "      <th>30</th>\n",
       "      <td>Montana</td>\n",
       "      <td>US</td>\n",
       "      <td>2020-05-21 02:32:54</td>\n",
       "      <td>46.9219</td>\n",
       "      <td>-110.4544</td>\n",
       "      <td>478</td>\n",
       "      <td>16</td>\n",
       "      <td>440.0</td>\n",
       "      <td>22.0</td>\n",
       "      <td>30</td>\n",
       "      <td>44.723974</td>\n",
       "      <td>29726.0</td>\n",
       "      <td>65.0</td>\n",
       "      <td>3.347280</td>\n",
       "      <td>84000030</td>\n",
       "      <td>USA</td>\n",
       "      <td>2781.307250</td>\n",
       "      <td>13.598326</td>\n",
       "    </tr>\n",
       "    <tr>\n",
       "      <th>31</th>\n",
       "      <td>Nebraska</td>\n",
       "      <td>US</td>\n",
       "      <td>2020-05-21 02:32:54</td>\n",
       "      <td>41.1254</td>\n",
       "      <td>-98.2681</td>\n",
       "      <td>11122</td>\n",
       "      <td>138</td>\n",
       "      <td>NaN</td>\n",
       "      <td>10984.0</td>\n",
       "      <td>31</td>\n",
       "      <td>574.956266</td>\n",
       "      <td>72135.0</td>\n",
       "      <td>NaN</td>\n",
       "      <td>1.240784</td>\n",
       "      <td>84000031</td>\n",
       "      <td>USA</td>\n",
       "      <td>3729.047853</td>\n",
       "      <td>NaN</td>\n",
       "    </tr>\n",
       "    <tr>\n",
       "      <th>32</th>\n",
       "      <td>Nevada</td>\n",
       "      <td>US</td>\n",
       "      <td>2020-05-21 02:32:54</td>\n",
       "      <td>38.3135</td>\n",
       "      <td>-117.0554</td>\n",
       "      <td>7388</td>\n",
       "      <td>377</td>\n",
       "      <td>336.0</td>\n",
       "      <td>6675.0</td>\n",
       "      <td>32</td>\n",
       "      <td>239.857981</td>\n",
       "      <td>91171.0</td>\n",
       "      <td>NaN</td>\n",
       "      <td>5.102870</td>\n",
       "      <td>84000032</td>\n",
       "      <td>USA</td>\n",
       "      <td>2959.947483</td>\n",
       "      <td>NaN</td>\n",
       "    </tr>\n",
       "    <tr>\n",
       "      <th>33</th>\n",
       "      <td>New Hampshire</td>\n",
       "      <td>US</td>\n",
       "      <td>2020-05-21 02:32:54</td>\n",
       "      <td>43.4525</td>\n",
       "      <td>-71.5639</td>\n",
       "      <td>3868</td>\n",
       "      <td>190</td>\n",
       "      <td>1275.0</td>\n",
       "      <td>2403.0</td>\n",
       "      <td>33</td>\n",
       "      <td>284.472215</td>\n",
       "      <td>50888.0</td>\n",
       "      <td>383.0</td>\n",
       "      <td>4.912099</td>\n",
       "      <td>84000033</td>\n",
       "      <td>USA</td>\n",
       "      <td>3742.560000</td>\n",
       "      <td>9.901758</td>\n",
       "    </tr>\n",
       "    <tr>\n",
       "      <th>34</th>\n",
       "      <td>New Jersey</td>\n",
       "      <td>US</td>\n",
       "      <td>2020-05-21 02:32:54</td>\n",
       "      <td>40.2989</td>\n",
       "      <td>-74.5210</td>\n",
       "      <td>150776</td>\n",
       "      <td>10749</td>\n",
       "      <td>23945.0</td>\n",
       "      <td>116082.0</td>\n",
       "      <td>34</td>\n",
       "      <td>1697.509285</td>\n",
       "      <td>531343.0</td>\n",
       "      <td>NaN</td>\n",
       "      <td>7.129119</td>\n",
       "      <td>84000034</td>\n",
       "      <td>USA</td>\n",
       "      <td>5982.117023</td>\n",
       "      <td>NaN</td>\n",
       "    </tr>\n",
       "    <tr>\n",
       "      <th>35</th>\n",
       "      <td>New Mexico</td>\n",
       "      <td>US</td>\n",
       "      <td>2020-05-21 02:32:54</td>\n",
       "      <td>34.8405</td>\n",
       "      <td>-106.2485</td>\n",
       "      <td>6317</td>\n",
       "      <td>283</td>\n",
       "      <td>1882.0</td>\n",
       "      <td>4152.0</td>\n",
       "      <td>35</td>\n",
       "      <td>301.264433</td>\n",
       "      <td>142246.0</td>\n",
       "      <td>1139.0</td>\n",
       "      <td>4.479975</td>\n",
       "      <td>84000035</td>\n",
       "      <td>USA</td>\n",
       "      <td>6783.862680</td>\n",
       "      <td>18.030711</td>\n",
       "    </tr>\n",
       "    <tr>\n",
       "      <th>36</th>\n",
       "      <td>New York</td>\n",
       "      <td>US</td>\n",
       "      <td>2020-05-21 02:32:54</td>\n",
       "      <td>42.1657</td>\n",
       "      <td>-74.9481</td>\n",
       "      <td>354370</td>\n",
       "      <td>28636</td>\n",
       "      <td>61886.0</td>\n",
       "      <td>263848.0</td>\n",
       "      <td>36</td>\n",
       "      <td>1821.620216</td>\n",
       "      <td>1505836.0</td>\n",
       "      <td>76410.0</td>\n",
       "      <td>8.080819</td>\n",
       "      <td>84000036</td>\n",
       "      <td>USA</td>\n",
       "      <td>7740.670204</td>\n",
       "      <td>21.562209</td>\n",
       "    </tr>\n",
       "    <tr>\n",
       "      <th>37</th>\n",
       "      <td>North Carolina</td>\n",
       "      <td>US</td>\n",
       "      <td>2020-05-21 02:32:54</td>\n",
       "      <td>35.6301</td>\n",
       "      <td>-79.8064</td>\n",
       "      <td>20262</td>\n",
       "      <td>726</td>\n",
       "      <td>11637.0</td>\n",
       "      <td>7899.0</td>\n",
       "      <td>37</td>\n",
       "      <td>193.190672</td>\n",
       "      <td>277603.0</td>\n",
       "      <td>NaN</td>\n",
       "      <td>3.583062</td>\n",
       "      <td>84000037</td>\n",
       "      <td>USA</td>\n",
       "      <td>2646.841883</td>\n",
       "      <td>NaN</td>\n",
       "    </tr>\n",
       "    <tr>\n",
       "      <th>38</th>\n",
       "      <td>North Dakota</td>\n",
       "      <td>US</td>\n",
       "      <td>2020-05-21 02:32:54</td>\n",
       "      <td>47.5289</td>\n",
       "      <td>-99.7840</td>\n",
       "      <td>2095</td>\n",
       "      <td>49</td>\n",
       "      <td>1302.0</td>\n",
       "      <td>744.0</td>\n",
       "      <td>38</td>\n",
       "      <td>274.912015</td>\n",
       "      <td>59200.0</td>\n",
       "      <td>142.0</td>\n",
       "      <td>2.338902</td>\n",
       "      <td>84000038</td>\n",
       "      <td>USA</td>\n",
       "      <td>7768.396797</td>\n",
       "      <td>6.778043</td>\n",
       "    </tr>\n",
       "    <tr>\n",
       "      <th>39</th>\n",
       "      <td>Northern Mariana Islands</td>\n",
       "      <td>US</td>\n",
       "      <td>2020-05-21 02:32:54</td>\n",
       "      <td>15.0979</td>\n",
       "      <td>145.6739</td>\n",
       "      <td>21</td>\n",
       "      <td>2</td>\n",
       "      <td>13.0</td>\n",
       "      <td>6.0</td>\n",
       "      <td>69</td>\n",
       "      <td>38.082112</td>\n",
       "      <td>3817.0</td>\n",
       "      <td>NaN</td>\n",
       "      <td>9.523810</td>\n",
       "      <td>580</td>\n",
       "      <td>MNP</td>\n",
       "      <td>6921.877267</td>\n",
       "      <td>NaN</td>\n",
       "    </tr>\n",
       "    <tr>\n",
       "      <th>40</th>\n",
       "      <td>Ohio</td>\n",
       "      <td>US</td>\n",
       "      <td>2020-05-21 02:32:54</td>\n",
       "      <td>40.3888</td>\n",
       "      <td>-82.7649</td>\n",
       "      <td>29436</td>\n",
       "      <td>1781</td>\n",
       "      <td>NaN</td>\n",
       "      <td>27655.0</td>\n",
       "      <td>39</td>\n",
       "      <td>251.824349</td>\n",
       "      <td>289528.0</td>\n",
       "      <td>5198.0</td>\n",
       "      <td>6.050414</td>\n",
       "      <td>84000039</td>\n",
       "      <td>USA</td>\n",
       "      <td>2476.905835</td>\n",
       "      <td>17.658649</td>\n",
       "    </tr>\n",
       "    <tr>\n",
       "      <th>41</th>\n",
       "      <td>Oklahoma</td>\n",
       "      <td>US</td>\n",
       "      <td>2020-05-21 02:32:54</td>\n",
       "      <td>35.5653</td>\n",
       "      <td>-96.9289</td>\n",
       "      <td>5532</td>\n",
       "      <td>299</td>\n",
       "      <td>4266.0</td>\n",
       "      <td>967.0</td>\n",
       "      <td>40</td>\n",
       "      <td>139.803906</td>\n",
       "      <td>144371.0</td>\n",
       "      <td>905.0</td>\n",
       "      <td>5.404917</td>\n",
       "      <td>84000040</td>\n",
       "      <td>USA</td>\n",
       "      <td>3648.523075</td>\n",
       "      <td>16.359364</td>\n",
       "    </tr>\n",
       "    <tr>\n",
       "      <th>42</th>\n",
       "      <td>Oregon</td>\n",
       "      <td>US</td>\n",
       "      <td>2020-05-21 02:32:54</td>\n",
       "      <td>44.5720</td>\n",
       "      <td>-122.0709</td>\n",
       "      <td>3801</td>\n",
       "      <td>144</td>\n",
       "      <td>1406.0</td>\n",
       "      <td>2251.0</td>\n",
       "      <td>41</td>\n",
       "      <td>90.119417</td>\n",
       "      <td>102149.0</td>\n",
       "      <td>723.0</td>\n",
       "      <td>3.788477</td>\n",
       "      <td>84000041</td>\n",
       "      <td>USA</td>\n",
       "      <td>2421.891171</td>\n",
       "      <td>19.021310</td>\n",
       "    </tr>\n",
       "    <tr>\n",
       "      <th>43</th>\n",
       "      <td>Pennsylvania</td>\n",
       "      <td>US</td>\n",
       "      <td>2020-05-21 02:32:54</td>\n",
       "      <td>40.5908</td>\n",
       "      <td>-77.2098</td>\n",
       "      <td>68126</td>\n",
       "      <td>4770</td>\n",
       "      <td>NaN</td>\n",
       "      <td>63356.0</td>\n",
       "      <td>42</td>\n",
       "      <td>532.151684</td>\n",
       "      <td>349700.0</td>\n",
       "      <td>NaN</td>\n",
       "      <td>7.001732</td>\n",
       "      <td>84000042</td>\n",
       "      <td>USA</td>\n",
       "      <td>2731.606784</td>\n",
       "      <td>NaN</td>\n",
       "    </tr>\n",
       "    <tr>\n",
       "      <th>44</th>\n",
       "      <td>Puerto Rico</td>\n",
       "      <td>US</td>\n",
       "      <td>2020-05-21 02:32:54</td>\n",
       "      <td>18.2208</td>\n",
       "      <td>-66.5901</td>\n",
       "      <td>2866</td>\n",
       "      <td>125</td>\n",
       "      <td>NaN</td>\n",
       "      <td>2741.0</td>\n",
       "      <td>72</td>\n",
       "      <td>97.702058</td>\n",
       "      <td>2866.0</td>\n",
       "      <td>NaN</td>\n",
       "      <td>4.361479</td>\n",
       "      <td>630</td>\n",
       "      <td>PRI</td>\n",
       "      <td>97.702058</td>\n",
       "      <td>NaN</td>\n",
       "    </tr>\n",
       "    <tr>\n",
       "      <th>45</th>\n",
       "      <td>Rhode Island</td>\n",
       "      <td>US</td>\n",
       "      <td>2020-05-21 02:32:54</td>\n",
       "      <td>41.6809</td>\n",
       "      <td>-71.5118</td>\n",
       "      <td>13356</td>\n",
       "      <td>538</td>\n",
       "      <td>1030.0</td>\n",
       "      <td>11788.0</td>\n",
       "      <td>44</td>\n",
       "      <td>1260.760024</td>\n",
       "      <td>120528.0</td>\n",
       "      <td>1486.0</td>\n",
       "      <td>4.028152</td>\n",
       "      <td>84000044</td>\n",
       "      <td>USA</td>\n",
       "      <td>11377.424693</td>\n",
       "      <td>11.126086</td>\n",
       "    </tr>\n",
       "    <tr>\n",
       "      <th>46</th>\n",
       "      <td>South Carolina</td>\n",
       "      <td>US</td>\n",
       "      <td>2020-05-21 02:32:54</td>\n",
       "      <td>33.8569</td>\n",
       "      <td>-80.9450</td>\n",
       "      <td>9175</td>\n",
       "      <td>407</td>\n",
       "      <td>5451.0</td>\n",
       "      <td>3317.0</td>\n",
       "      <td>45</td>\n",
       "      <td>178.199838</td>\n",
       "      <td>135063.0</td>\n",
       "      <td>1444.0</td>\n",
       "      <td>4.435967</td>\n",
       "      <td>84000045</td>\n",
       "      <td>USA</td>\n",
       "      <td>2623.237570</td>\n",
       "      <td>15.738420</td>\n",
       "    </tr>\n",
       "    <tr>\n",
       "      <th>47</th>\n",
       "      <td>South Dakota</td>\n",
       "      <td>US</td>\n",
       "      <td>2020-05-21 02:32:54</td>\n",
       "      <td>44.2998</td>\n",
       "      <td>-99.4388</td>\n",
       "      <td>4177</td>\n",
       "      <td>46</td>\n",
       "      <td>3023.0</td>\n",
       "      <td>1108.0</td>\n",
       "      <td>46</td>\n",
       "      <td>472.159329</td>\n",
       "      <td>30389.0</td>\n",
       "      <td>333.0</td>\n",
       "      <td>1.101269</td>\n",
       "      <td>84000046</td>\n",
       "      <td>USA</td>\n",
       "      <td>3435.108895</td>\n",
       "      <td>7.972229</td>\n",
       "    </tr>\n",
       "    <tr>\n",
       "      <th>48</th>\n",
       "      <td>Tennessee</td>\n",
       "      <td>US</td>\n",
       "      <td>2020-05-21 02:32:54</td>\n",
       "      <td>35.7478</td>\n",
       "      <td>-86.6923</td>\n",
       "      <td>18412</td>\n",
       "      <td>305</td>\n",
       "      <td>11783.0</td>\n",
       "      <td>6324.0</td>\n",
       "      <td>47</td>\n",
       "      <td>269.608008</td>\n",
       "      <td>354013.0</td>\n",
       "      <td>1515.0</td>\n",
       "      <td>1.656528</td>\n",
       "      <td>84000047</td>\n",
       "      <td>USA</td>\n",
       "      <td>5183.833360</td>\n",
       "      <td>8.228329</td>\n",
       "    </tr>\n",
       "    <tr>\n",
       "      <th>49</th>\n",
       "      <td>Texas</td>\n",
       "      <td>US</td>\n",
       "      <td>2020-05-21 02:32:54</td>\n",
       "      <td>31.0545</td>\n",
       "      <td>-97.5635</td>\n",
       "      <td>51673</td>\n",
       "      <td>1426</td>\n",
       "      <td>30341.0</td>\n",
       "      <td>19906.0</td>\n",
       "      <td>48</td>\n",
       "      <td>178.208070</td>\n",
       "      <td>770241.0</td>\n",
       "      <td>NaN</td>\n",
       "      <td>2.759662</td>\n",
       "      <td>84000048</td>\n",
       "      <td>USA</td>\n",
       "      <td>2656.380746</td>\n",
       "      <td>NaN</td>\n",
       "    </tr>\n",
       "    <tr>\n",
       "      <th>50</th>\n",
       "      <td>Utah</td>\n",
       "      <td>US</td>\n",
       "      <td>2020-05-21 02:32:54</td>\n",
       "      <td>40.1500</td>\n",
       "      <td>-111.8624</td>\n",
       "      <td>7710</td>\n",
       "      <td>90</td>\n",
       "      <td>4423.0</td>\n",
       "      <td>3197.0</td>\n",
       "      <td>49</td>\n",
       "      <td>240.489738</td>\n",
       "      <td>179664.0</td>\n",
       "      <td>631.0</td>\n",
       "      <td>1.167315</td>\n",
       "      <td>84000049</td>\n",
       "      <td>USA</td>\n",
       "      <td>5604.065930</td>\n",
       "      <td>8.184176</td>\n",
       "    </tr>\n",
       "    <tr>\n",
       "      <th>51</th>\n",
       "      <td>Vermont</td>\n",
       "      <td>US</td>\n",
       "      <td>2020-05-21 02:32:54</td>\n",
       "      <td>44.0459</td>\n",
       "      <td>-72.7107</td>\n",
       "      <td>944</td>\n",
       "      <td>54</td>\n",
       "      <td>824.0</td>\n",
       "      <td>66.0</td>\n",
       "      <td>50</td>\n",
       "      <td>151.284718</td>\n",
       "      <td>25058.0</td>\n",
       "      <td>NaN</td>\n",
       "      <td>5.720339</td>\n",
       "      <td>84000050</td>\n",
       "      <td>USA</td>\n",
       "      <td>4015.775919</td>\n",
       "      <td>NaN</td>\n",
       "    </tr>\n",
       "    <tr>\n",
       "      <th>52</th>\n",
       "      <td>Virgin Islands</td>\n",
       "      <td>US</td>\n",
       "      <td>2020-05-21 02:32:54</td>\n",
       "      <td>18.3358</td>\n",
       "      <td>-64.8963</td>\n",
       "      <td>69</td>\n",
       "      <td>6</td>\n",
       "      <td>61.0</td>\n",
       "      <td>2.0</td>\n",
       "      <td>78</td>\n",
       "      <td>64.324869</td>\n",
       "      <td>1383.0</td>\n",
       "      <td>NaN</td>\n",
       "      <td>8.695652</td>\n",
       "      <td>850</td>\n",
       "      <td>VIR</td>\n",
       "      <td>1289.294104</td>\n",
       "      <td>NaN</td>\n",
       "    </tr>\n",
       "    <tr>\n",
       "      <th>53</th>\n",
       "      <td>Virginia</td>\n",
       "      <td>US</td>\n",
       "      <td>2020-05-21 02:32:54</td>\n",
       "      <td>37.7693</td>\n",
       "      <td>-78.1700</td>\n",
       "      <td>32908</td>\n",
       "      <td>1075</td>\n",
       "      <td>4523.0</td>\n",
       "      <td>27310.0</td>\n",
       "      <td>51</td>\n",
       "      <td>385.541875</td>\n",
       "      <td>212626.0</td>\n",
       "      <td>6059.0</td>\n",
       "      <td>3.266683</td>\n",
       "      <td>84000051</td>\n",
       "      <td>USA</td>\n",
       "      <td>2491.072892</td>\n",
       "      <td>18.411936</td>\n",
       "    </tr>\n",
       "    <tr>\n",
       "      <th>54</th>\n",
       "      <td>Washington</td>\n",
       "      <td>US</td>\n",
       "      <td>2020-05-21 02:32:54</td>\n",
       "      <td>47.4009</td>\n",
       "      <td>-121.4905</td>\n",
       "      <td>18971</td>\n",
       "      <td>1037</td>\n",
       "      <td>NaN</td>\n",
       "      <td>17934.0</td>\n",
       "      <td>53</td>\n",
       "      <td>249.130224</td>\n",
       "      <td>293120.0</td>\n",
       "      <td>NaN</td>\n",
       "      <td>5.466238</td>\n",
       "      <td>84000053</td>\n",
       "      <td>USA</td>\n",
       "      <td>3849.298999</td>\n",
       "      <td>NaN</td>\n",
       "    </tr>\n",
       "    <tr>\n",
       "      <th>55</th>\n",
       "      <td>West Virginia</td>\n",
       "      <td>US</td>\n",
       "      <td>2020-05-21 02:32:54</td>\n",
       "      <td>38.4912</td>\n",
       "      <td>-80.9545</td>\n",
       "      <td>1567</td>\n",
       "      <td>69</td>\n",
       "      <td>950.0</td>\n",
       "      <td>548.0</td>\n",
       "      <td>54</td>\n",
       "      <td>87.437024</td>\n",
       "      <td>80641.0</td>\n",
       "      <td>NaN</td>\n",
       "      <td>4.403318</td>\n",
       "      <td>84000054</td>\n",
       "      <td>USA</td>\n",
       "      <td>4499.686689</td>\n",
       "      <td>NaN</td>\n",
       "    </tr>\n",
       "    <tr>\n",
       "      <th>56</th>\n",
       "      <td>Wisconsin</td>\n",
       "      <td>US</td>\n",
       "      <td>2020-05-21 02:32:54</td>\n",
       "      <td>44.2685</td>\n",
       "      <td>-89.6165</td>\n",
       "      <td>13413</td>\n",
       "      <td>481</td>\n",
       "      <td>7728.0</td>\n",
       "      <td>5204.0</td>\n",
       "      <td>55</td>\n",
       "      <td>230.367575</td>\n",
       "      <td>167713.0</td>\n",
       "      <td>2161.0</td>\n",
       "      <td>3.586073</td>\n",
       "      <td>84000055</td>\n",
       "      <td>USA</td>\n",
       "      <td>2880.462020</td>\n",
       "      <td>16.111235</td>\n",
       "    </tr>\n",
       "    <tr>\n",
       "      <th>57</th>\n",
       "      <td>Wyoming</td>\n",
       "      <td>US</td>\n",
       "      <td>2020-05-21 02:32:54</td>\n",
       "      <td>42.7560</td>\n",
       "      <td>-107.3025</td>\n",
       "      <td>787</td>\n",
       "      <td>11</td>\n",
       "      <td>528.0</td>\n",
       "      <td>248.0</td>\n",
       "      <td>56</td>\n",
       "      <td>135.980607</td>\n",
       "      <td>18840.0</td>\n",
       "      <td>74.0</td>\n",
       "      <td>1.397713</td>\n",
       "      <td>84000056</td>\n",
       "      <td>USA</td>\n",
       "      <td>3255.240955</td>\n",
       "      <td>9.402795</td>\n",
       "    </tr>\n",
       "  </tbody>\n",
       "</table>\n",
       "</div>"
      ],
      "text/plain": [
       "              Province_State Country_Region          Last_Update      Lat  \\\n",
       "0                    Alabama             US  2020-05-21 02:32:54  32.3182   \n",
       "1                     Alaska             US  2020-05-21 02:32:54  61.3707   \n",
       "2             American Samoa             US  2020-05-21 02:32:54 -14.2710   \n",
       "3                    Arizona             US  2020-05-21 02:32:54  33.7298   \n",
       "4                   Arkansas             US  2020-05-21 02:32:54  34.9697   \n",
       "5                 California             US  2020-05-21 02:32:54  36.1162   \n",
       "6                   Colorado             US  2020-05-21 02:32:54  39.0598   \n",
       "7                Connecticut             US  2020-05-21 02:32:54  41.5978   \n",
       "8                   Delaware             US  2020-05-21 02:32:54  39.3185   \n",
       "9           Diamond Princess             US  2020-05-21 02:32:54      NaN   \n",
       "10      District of Columbia             US  2020-05-21 02:32:54  38.8974   \n",
       "11                   Florida             US  2020-05-21 02:32:54  27.7663   \n",
       "12                   Georgia             US  2020-05-21 02:32:54  33.0406   \n",
       "13            Grand Princess             US  2020-05-21 02:32:54      NaN   \n",
       "14                      Guam             US  2020-05-21 02:32:54  13.4443   \n",
       "15                    Hawaii             US  2020-05-21 02:32:54  21.0943   \n",
       "16                     Idaho             US  2020-05-21 02:32:54  44.2405   \n",
       "17                  Illinois             US  2020-05-21 02:32:54  40.3495   \n",
       "18                   Indiana             US  2020-05-21 02:32:54  39.8494   \n",
       "19                      Iowa             US  2020-05-21 02:32:54  42.0115   \n",
       "20                    Kansas             US  2020-05-21 02:32:54  38.5266   \n",
       "21                  Kentucky             US  2020-05-21 02:32:54  37.6681   \n",
       "22                 Louisiana             US  2020-05-21 02:32:54  31.1695   \n",
       "23                     Maine             US  2020-05-21 02:32:54  44.6939   \n",
       "24                  Maryland             US  2020-05-21 02:32:54  39.0639   \n",
       "25             Massachusetts             US  2020-05-21 02:32:54  42.2302   \n",
       "26                  Michigan             US  2020-05-21 02:32:54  43.3266   \n",
       "27                 Minnesota             US  2020-05-21 02:32:54  45.6945   \n",
       "28               Mississippi             US  2020-05-21 02:32:54  32.7416   \n",
       "29                  Missouri             US  2020-05-21 02:32:54  38.4561   \n",
       "30                   Montana             US  2020-05-21 02:32:54  46.9219   \n",
       "31                  Nebraska             US  2020-05-21 02:32:54  41.1254   \n",
       "32                    Nevada             US  2020-05-21 02:32:54  38.3135   \n",
       "33             New Hampshire             US  2020-05-21 02:32:54  43.4525   \n",
       "34                New Jersey             US  2020-05-21 02:32:54  40.2989   \n",
       "35                New Mexico             US  2020-05-21 02:32:54  34.8405   \n",
       "36                  New York             US  2020-05-21 02:32:54  42.1657   \n",
       "37            North Carolina             US  2020-05-21 02:32:54  35.6301   \n",
       "38              North Dakota             US  2020-05-21 02:32:54  47.5289   \n",
       "39  Northern Mariana Islands             US  2020-05-21 02:32:54  15.0979   \n",
       "40                      Ohio             US  2020-05-21 02:32:54  40.3888   \n",
       "41                  Oklahoma             US  2020-05-21 02:32:54  35.5653   \n",
       "42                    Oregon             US  2020-05-21 02:32:54  44.5720   \n",
       "43              Pennsylvania             US  2020-05-21 02:32:54  40.5908   \n",
       "44               Puerto Rico             US  2020-05-21 02:32:54  18.2208   \n",
       "45              Rhode Island             US  2020-05-21 02:32:54  41.6809   \n",
       "46            South Carolina             US  2020-05-21 02:32:54  33.8569   \n",
       "47              South Dakota             US  2020-05-21 02:32:54  44.2998   \n",
       "48                 Tennessee             US  2020-05-21 02:32:54  35.7478   \n",
       "49                     Texas             US  2020-05-21 02:32:54  31.0545   \n",
       "50                      Utah             US  2020-05-21 02:32:54  40.1500   \n",
       "51                   Vermont             US  2020-05-21 02:32:54  44.0459   \n",
       "52            Virgin Islands             US  2020-05-21 02:32:54  18.3358   \n",
       "53                  Virginia             US  2020-05-21 02:32:54  37.7693   \n",
       "54                Washington             US  2020-05-21 02:32:54  47.4009   \n",
       "55             West Virginia             US  2020-05-21 02:32:54  38.4912   \n",
       "56                 Wisconsin             US  2020-05-21 02:32:54  44.2685   \n",
       "57                   Wyoming             US  2020-05-21 02:32:54  42.7560   \n",
       "\n",
       "       Long_  Confirmed  Deaths  Recovered    Active   FIPS  Incident_Rate  \\\n",
       "0   -86.9023      13052     522        NaN   12530.0      1     266.194321   \n",
       "1  -152.4044        401      10      352.0      39.0      2      54.815493   \n",
       "2  -170.1320          0       0        NaN       0.0     60       0.000000   \n",
       "3  -111.4312      14906     747     3773.0   10386.0      4     204.788838   \n",
       "4   -92.3731       5003     107     3852.0    1044.0      5     165.782801   \n",
       "5  -119.6816      85997    3497        NaN   82500.0      6     217.646575   \n",
       "6  -105.3111      22797    1299     3478.0   18020.0      8     395.868121   \n",
       "7   -72.7554      39017    3529     6264.0   29224.0      9    1094.357902   \n",
       "8   -75.5071       8194     310     3965.0    3919.0     10     841.476990   \n",
       "9        NaN         49       0        NaN      49.0  88888            NaN   \n",
       "10  -77.0268       7551     407     1059.0    6085.0     11    1069.927127   \n",
       "11  -81.6868      47471    2096        NaN   45375.0     12     221.024217   \n",
       "12  -83.6431      39801    1697        NaN   38104.0     13     374.864974   \n",
       "13       NaN        103       3        NaN     100.0  99999            NaN   \n",
       "14  144.7937        154       5      125.0      24.0     66      93.771502   \n",
       "15 -157.4983        643      17      578.0      48.0     15      45.413710   \n",
       "16 -114.4788       2506      77     1668.0     761.0     16     140.229930   \n",
       "17  -88.9861     100418    4525        NaN   95893.0     17     792.451219   \n",
       "18  -86.2583      29274    1864        NaN   27410.0     18     434.834339   \n",
       "19  -93.2105      15620     393     8362.0    6865.0     19     495.076179   \n",
       "20  -96.7265       8507     202      473.0    7832.0     20     292.004226   \n",
       "21  -84.6701       8167     376     2826.0    4965.0     21     182.802099   \n",
       "22  -91.8678      35316    2608    26249.0    6459.0     22     759.680898   \n",
       "23  -69.3819       1819      73     1100.0     646.0     23     135.320917   \n",
       "24  -76.8021      42323    2123     2993.0   37207.0     24     700.053592   \n",
       "25  -71.5301      88970    6066        NaN   82904.0     25    1290.822797   \n",
       "26  -84.5361      53009    5060    28234.0   19715.0     26     530.787614   \n",
       "27  -93.9002      17670     786    12227.0    4657.0     27     313.318316   \n",
       "28  -89.6787      11967     570     7681.0    3716.0     28     402.096804   \n",
       "29  -92.2884      11528     640        NaN   10888.0     29     187.831124   \n",
       "30 -110.4544        478      16      440.0      22.0     30      44.723974   \n",
       "31  -98.2681      11122     138        NaN   10984.0     31     574.956266   \n",
       "32 -117.0554       7388     377      336.0    6675.0     32     239.857981   \n",
       "33  -71.5639       3868     190     1275.0    2403.0     33     284.472215   \n",
       "34  -74.5210     150776   10749    23945.0  116082.0     34    1697.509285   \n",
       "35 -106.2485       6317     283     1882.0    4152.0     35     301.264433   \n",
       "36  -74.9481     354370   28636    61886.0  263848.0     36    1821.620216   \n",
       "37  -79.8064      20262     726    11637.0    7899.0     37     193.190672   \n",
       "38  -99.7840       2095      49     1302.0     744.0     38     274.912015   \n",
       "39  145.6739         21       2       13.0       6.0     69      38.082112   \n",
       "40  -82.7649      29436    1781        NaN   27655.0     39     251.824349   \n",
       "41  -96.9289       5532     299     4266.0     967.0     40     139.803906   \n",
       "42 -122.0709       3801     144     1406.0    2251.0     41      90.119417   \n",
       "43  -77.2098      68126    4770        NaN   63356.0     42     532.151684   \n",
       "44  -66.5901       2866     125        NaN    2741.0     72      97.702058   \n",
       "45  -71.5118      13356     538     1030.0   11788.0     44    1260.760024   \n",
       "46  -80.9450       9175     407     5451.0    3317.0     45     178.199838   \n",
       "47  -99.4388       4177      46     3023.0    1108.0     46     472.159329   \n",
       "48  -86.6923      18412     305    11783.0    6324.0     47     269.608008   \n",
       "49  -97.5635      51673    1426    30341.0   19906.0     48     178.208070   \n",
       "50 -111.8624       7710      90     4423.0    3197.0     49     240.489738   \n",
       "51  -72.7107        944      54      824.0      66.0     50     151.284718   \n",
       "52  -64.8963         69       6       61.0       2.0     78      64.324869   \n",
       "53  -78.1700      32908    1075     4523.0   27310.0     51     385.541875   \n",
       "54 -121.4905      18971    1037        NaN   17934.0     53     249.130224   \n",
       "55  -80.9545       1567      69      950.0     548.0     54      87.437024   \n",
       "56  -89.6165      13413     481     7728.0    5204.0     55     230.367575   \n",
       "57 -107.3025        787      11      528.0     248.0     56     135.980607   \n",
       "\n",
       "    People_Tested  People_Hospitalized  Mortality_Rate       UID ISO3  \\\n",
       "0        164450.0               1493.0        3.999387  84000001  USA   \n",
       "1         37045.0                  NaN        2.493766  84000002  USA   \n",
       "2           124.0                  NaN             NaN        16  ASM   \n",
       "3        165435.0               1792.0        5.011405  84000004  USA   \n",
       "4         96258.0                535.0        2.138717  84000005  USA   \n",
       "5       1380120.0                  NaN        4.066421  84000006  USA   \n",
       "6        131837.0               3955.0        5.698118  84000008  USA   \n",
       "7        190718.0              10946.0        9.044775  84000009  USA   \n",
       "8         45412.0                  NaN        3.783256  84000010  USA   \n",
       "9             NaN                  NaN        0.000000  84088888  USA   \n",
       "10        40419.0                  NaN        5.390015  84000011  USA   \n",
       "11       771348.0               8934.0        4.415327  84000012  USA   \n",
       "12       402940.0               7107.0        4.263712  84000013  USA   \n",
       "13            NaN                  NaN        2.912621  84099999  USA   \n",
       "14         4972.0                  NaN        3.246753       316  GUM   \n",
       "15        46304.0                 82.0        2.643857  84000015  USA   \n",
       "16        38567.0                215.0        3.072626  84000016  USA   \n",
       "17       642713.0                  NaN        4.506164  84000017  USA   \n",
       "18       195738.0               4389.0        6.367425  84000018  USA   \n",
       "19       110748.0                  NaN        2.516005  84000019  USA   \n",
       "20        71203.0                760.0        2.374515  84000020  USA   \n",
       "21       153986.0               2010.0        4.603894  84000021  USA   \n",
       "22       285970.0                  NaN        7.384755  84000022  USA   \n",
       "23        37269.0                231.0        4.013194  84000023  USA   \n",
       "24       215330.0               7393.0        5.016185  84000024  USA   \n",
       "25       489953.0               8897.0        6.818029  84000025  USA   \n",
       "26       437072.0                  NaN        9.545549  84000026  USA   \n",
       "27       167338.0               2308.0        4.448217  84000027  USA   \n",
       "28       120680.0               1901.0        4.763099  84000028  USA   \n",
       "29       161984.0                  NaN        5.551700  84000029  USA   \n",
       "30        29726.0                 65.0        3.347280  84000030  USA   \n",
       "31        72135.0                  NaN        1.240784  84000031  USA   \n",
       "32        91171.0                  NaN        5.102870  84000032  USA   \n",
       "33        50888.0                383.0        4.912099  84000033  USA   \n",
       "34       531343.0                  NaN        7.129119  84000034  USA   \n",
       "35       142246.0               1139.0        4.479975  84000035  USA   \n",
       "36      1505836.0              76410.0        8.080819  84000036  USA   \n",
       "37       277603.0                  NaN        3.583062  84000037  USA   \n",
       "38        59200.0                142.0        2.338902  84000038  USA   \n",
       "39         3817.0                  NaN        9.523810       580  MNP   \n",
       "40       289528.0               5198.0        6.050414  84000039  USA   \n",
       "41       144371.0                905.0        5.404917  84000040  USA   \n",
       "42       102149.0                723.0        3.788477  84000041  USA   \n",
       "43       349700.0                  NaN        7.001732  84000042  USA   \n",
       "44         2866.0                  NaN        4.361479       630  PRI   \n",
       "45       120528.0               1486.0        4.028152  84000044  USA   \n",
       "46       135063.0               1444.0        4.435967  84000045  USA   \n",
       "47        30389.0                333.0        1.101269  84000046  USA   \n",
       "48       354013.0               1515.0        1.656528  84000047  USA   \n",
       "49       770241.0                  NaN        2.759662  84000048  USA   \n",
       "50       179664.0                631.0        1.167315  84000049  USA   \n",
       "51        25058.0                  NaN        5.720339  84000050  USA   \n",
       "52         1383.0                  NaN        8.695652       850  VIR   \n",
       "53       212626.0               6059.0        3.266683  84000051  USA   \n",
       "54       293120.0                  NaN        5.466238  84000053  USA   \n",
       "55        80641.0                  NaN        4.403318  84000054  USA   \n",
       "56       167713.0               2161.0        3.586073  84000055  USA   \n",
       "57        18840.0                 74.0        1.397713  84000056  USA   \n",
       "\n",
       "    Testing_Rate  Hospitalization_Rate  \n",
       "0    3353.942386             11.438860  \n",
       "1    5063.940017                   NaN  \n",
       "2     222.857246                   NaN  \n",
       "3    2272.859351             12.022005  \n",
       "4    3189.670370             10.693584  \n",
       "5    3492.893832                   NaN  \n",
       "6    2289.339188             17.348774  \n",
       "7    5349.302875             28.054438  \n",
       "8    4663.552976                   NaN  \n",
       "9            NaN                   NaN  \n",
       "10   5727.106946                   NaN  \n",
       "11   3591.383953             18.819911  \n",
       "12   3795.082856             17.856335  \n",
       "13           NaN                   NaN  \n",
       "14   3027.479921                   NaN  \n",
       "15   3270.352122             12.752722  \n",
       "16   2158.119598              8.579409  \n",
       "17   5071.986102                   NaN  \n",
       "18   2907.481174             14.992826  \n",
       "19   3510.159838                   NaN  \n",
       "20   2444.055121              8.933819  \n",
       "21   3446.671231             24.611240  \n",
       "22   6151.487891                   NaN  \n",
       "23   2772.553734             12.699285  \n",
       "24   3561.716796             17.468043  \n",
       "25   7108.491647             10.000000  \n",
       "26   4376.471997                   NaN  \n",
       "27   2967.179419             13.061686  \n",
       "28   4054.904509             15.885351  \n",
       "29   2639.281471                   NaN  \n",
       "30   2781.307250             13.598326  \n",
       "31   3729.047853                   NaN  \n",
       "32   2959.947483                   NaN  \n",
       "33   3742.560000              9.901758  \n",
       "34   5982.117023                   NaN  \n",
       "35   6783.862680             18.030711  \n",
       "36   7740.670204             21.562209  \n",
       "37   2646.841883                   NaN  \n",
       "38   7768.396797              6.778043  \n",
       "39   6921.877267                   NaN  \n",
       "40   2476.905835             17.658649  \n",
       "41   3648.523075             16.359364  \n",
       "42   2421.891171             19.021310  \n",
       "43   2731.606784                   NaN  \n",
       "44     97.702058                   NaN  \n",
       "45  11377.424693             11.126086  \n",
       "46   2623.237570             15.738420  \n",
       "47   3435.108895              7.972229  \n",
       "48   5183.833360              8.228329  \n",
       "49   2656.380746                   NaN  \n",
       "50   5604.065930              8.184176  \n",
       "51   4015.775919                   NaN  \n",
       "52   1289.294104                   NaN  \n",
       "53   2491.072892             18.411936  \n",
       "54   3849.298999                   NaN  \n",
       "55   4499.686689                   NaN  \n",
       "56   2880.462020             16.111235  \n",
       "57   3255.240955              9.402795  "
      ]
     },
     "execution_count": 5,
     "metadata": {},
     "output_type": "execute_result"
    }
   ],
   "source": [
    "df=pd.read_csv('covid.csv')\n",
    "df"
   ]
  },
  {
   "cell_type": "code",
   "execution_count": 6,
   "metadata": {},
   "outputs": [],
   "source": [
    "df1=pd.read_csv('covid.csv')\n",
    "df1\n",
    "Long_ = df1[\"Long_\"]"
   ]
  },
  {
   "cell_type": "markdown",
   "metadata": {},
   "source": [
    "# Shape"
   ]
  },
  {
   "cell_type": "code",
   "execution_count": 7,
   "metadata": {},
   "outputs": [
    {
     "data": {
      "text/plain": [
       "(58, 18)"
      ]
     },
     "execution_count": 7,
     "metadata": {},
     "output_type": "execute_result"
    }
   ],
   "source": [
    "df.shape"
   ]
  },
  {
   "cell_type": "markdown",
   "metadata": {},
   "source": [
    "# Columns"
   ]
  },
  {
   "cell_type": "code",
   "execution_count": 8,
   "metadata": {},
   "outputs": [
    {
     "data": {
      "text/plain": [
       "Index(['Province_State', 'Country_Region', 'Last_Update', 'Lat', 'Long_',\n",
       "       'Confirmed', 'Deaths', 'Recovered', 'Active', 'FIPS', 'Incident_Rate',\n",
       "       'People_Tested', 'People_Hospitalized', 'Mortality_Rate', 'UID', 'ISO3',\n",
       "       'Testing_Rate', 'Hospitalization_Rate'],\n",
       "      dtype='object')"
      ]
     },
     "execution_count": 8,
     "metadata": {},
     "output_type": "execute_result"
    }
   ],
   "source": [
    "df.columns"
   ]
  },
  {
   "cell_type": "markdown",
   "metadata": {},
   "source": [
    "# Datatypes"
   ]
  },
  {
   "cell_type": "code",
   "execution_count": 9,
   "metadata": {},
   "outputs": [
    {
     "data": {
      "text/plain": [
       "Province_State           object\n",
       "Country_Region           object\n",
       "Last_Update              object\n",
       "Lat                     float64\n",
       "Long_                   float64\n",
       "Confirmed                 int64\n",
       "Deaths                    int64\n",
       "Recovered               float64\n",
       "Active                  float64\n",
       "FIPS                      int64\n",
       "Incident_Rate           float64\n",
       "People_Tested           float64\n",
       "People_Hospitalized     float64\n",
       "Mortality_Rate          float64\n",
       "UID                       int64\n",
       "ISO3                     object\n",
       "Testing_Rate            float64\n",
       "Hospitalization_Rate    float64\n",
       "dtype: object"
      ]
     },
     "execution_count": 9,
     "metadata": {},
     "output_type": "execute_result"
    }
   ],
   "source": [
    "df.dtypes"
   ]
  },
  {
   "cell_type": "markdown",
   "metadata": {},
   "source": [
    "Observations:\n",
    "\n",
    "     There are mixed datatypes. class is Object type and some are float types and some are int types."
   ]
  },
  {
   "cell_type": "code",
   "execution_count": 10,
   "metadata": {
    "scrolled": true
   },
   "outputs": [
    {
     "name": "stdout",
     "output_type": "stream",
     "text": [
      "<class 'pandas.core.frame.DataFrame'>\n",
      "RangeIndex: 58 entries, 0 to 57\n",
      "Data columns (total 18 columns):\n",
      " #   Column                Non-Null Count  Dtype  \n",
      "---  ------                --------------  -----  \n",
      " 0   Province_State        58 non-null     object \n",
      " 1   Country_Region        58 non-null     object \n",
      " 2   Last_Update           58 non-null     object \n",
      " 3   Lat                   56 non-null     float64\n",
      " 4   Long_                 56 non-null     float64\n",
      " 5   Confirmed             58 non-null     int64  \n",
      " 6   Deaths                58 non-null     int64  \n",
      " 7   Recovered             42 non-null     float64\n",
      " 8   Active                58 non-null     float64\n",
      " 9   FIPS                  58 non-null     int64  \n",
      " 10  Incident_Rate         56 non-null     float64\n",
      " 11  People_Tested         56 non-null     float64\n",
      " 12  People_Hospitalized   33 non-null     float64\n",
      " 13  Mortality_Rate        57 non-null     float64\n",
      " 14  UID                   58 non-null     int64  \n",
      " 15  ISO3                  58 non-null     object \n",
      " 16  Testing_Rate          56 non-null     float64\n",
      " 17  Hospitalization_Rate  33 non-null     float64\n",
      "dtypes: float64(10), int64(4), object(4)\n",
      "memory usage: 8.3+ KB\n"
     ]
    }
   ],
   "source": [
    "df.info()"
   ]
  },
  {
   "cell_type": "markdown",
   "metadata": {},
   "source": [
    "### Discover different types of columns using groupby"
   ]
  },
  {
   "cell_type": "code",
   "execution_count": 11,
   "metadata": {},
   "outputs": [
    {
     "data": {
      "text/plain": [
       "{int64: ['Confirmed', 'Deaths', 'FIPS', 'UID'], float64: ['Lat', 'Long_', 'Recovered', 'Active', 'Incident_Rate', 'People_Tested', 'People_Hospitalized', 'Mortality_Rate', 'Testing_Rate', 'Hospitalization_Rate'], object: ['Province_State', 'Country_Region', 'Last_Update', 'ISO3']}"
      ]
     },
     "execution_count": 11,
     "metadata": {},
     "output_type": "execute_result"
    }
   ],
   "source": [
    "df.columns.to_series().groupby(df.dtypes).groups"
   ]
  },
  {
   "cell_type": "markdown",
   "metadata": {},
   "source": [
    "Observations:\n",
    "\n",
    "    Numeric features\n",
    "\n",
    "        Numeric features = ['Confirmed', 'Deaths', 'FIPS', 'UID','Lat', 'Long_', 'Recovered', 'Active', 'Incident_Rate', 'People_Tested', 'People_Hospitalized', 'Mortality_Rate', 'Testing_Rate', 'Hospitalization_Rate']\n",
    "\n",
    "    Catagorical features\n",
    "\n",
    "        Catagorical features =['Province_State', 'Country_Region', 'Last_Update', 'ISO3']"
   ]
  },
  {
   "cell_type": "markdown",
   "metadata": {},
   "source": [
    "# Missing Values"
   ]
  },
  {
   "cell_type": "code",
   "execution_count": 12,
   "metadata": {
    "scrolled": true
   },
   "outputs": [
    {
     "data": {
      "text/plain": [
       "True"
      ]
     },
     "execution_count": 12,
     "metadata": {},
     "output_type": "execute_result"
    }
   ],
   "source": [
    "df.isnull().values.any()"
   ]
  },
  {
   "cell_type": "markdown",
   "metadata": {},
   "source": [
    "Observations:\n",
    "\n",
    "     It's showing that there are missing values"
   ]
  },
  {
   "cell_type": "markdown",
   "metadata": {},
   "source": [
    "### Missing values column wise"
   ]
  },
  {
   "cell_type": "code",
   "execution_count": 13,
   "metadata": {},
   "outputs": [
    {
     "data": {
      "text/plain": [
       "Province_State           0\n",
       "Country_Region           0\n",
       "Last_Update              0\n",
       "Lat                      2\n",
       "Long_                    2\n",
       "Confirmed                0\n",
       "Deaths                   0\n",
       "Recovered               16\n",
       "Active                   0\n",
       "FIPS                     0\n",
       "Incident_Rate            2\n",
       "People_Tested            2\n",
       "People_Hospitalized     25\n",
       "Mortality_Rate           1\n",
       "UID                      0\n",
       "ISO3                     0\n",
       "Testing_Rate             2\n",
       "Hospitalization_Rate    25\n",
       "dtype: int64"
      ]
     },
     "execution_count": 13,
     "metadata": {},
     "output_type": "execute_result"
    }
   ],
   "source": [
    "df.isnull().sum()"
   ]
  },
  {
   "cell_type": "markdown",
   "metadata": {},
   "source": [
    "### Missing values via visualization"
   ]
  },
  {
   "cell_type": "code",
   "execution_count": 14,
   "metadata": {},
   "outputs": [
    {
     "data": {
      "text/plain": [
       "<AxesSubplot:>"
      ]
     },
     "execution_count": 14,
     "metadata": {},
     "output_type": "execute_result"
    },
    {
     "data": {
      "image/png": "[encoded data removed]",
      "text/plain": [
       "<Figure size 576x432 with 1 Axes>"
      ]
     },
     "metadata": {
      "needs_background": "light"
     },
     "output_type": "display_data"
    }
   ],
   "source": [
    "plt.figure(figsize=(8,6))\n",
    "sns.heatmap(df.isnull(),yticklabels=False,cbar=False)"
   ]
  },
  {
   "cell_type": "markdown",
   "metadata": {},
   "source": [
    "Observations: \n",
    "    \n",
    "    Missing values are present in Lat,Long_,Recovered,Incident_Rate,People_Tested,People_Hospitalized,Mortality_Rate,Hospitalization_Rate,Testing_Rate  these columns\n",
    "\n",
    "    2. Also the variable Lat,Long_,Recovered,Incident_Rate,People_Tested,People_Hospitalized,Mortality_Rate,Hospitalization_Rate,Testing_Rate contains missing values. These variables are numeric data types. So, I will impute the missing values with mean. "
   ]
  },
  {
   "cell_type": "markdown",
   "metadata": {},
   "source": [
    "### Convert IS03 column to numeric column"
   ]
  },
  {
   "cell_type": "code",
   "execution_count": 15,
   "metadata": {},
   "outputs": [
    {
     "data": {
      "text/plain": [
       "['USA', 'ASM', 'GUM', 'MNP', 'PRI', 'VIR']"
      ]
     },
     "execution_count": 15,
     "metadata": {},
     "output_type": "execute_result"
    }
   ],
   "source": [
    "df['ISO3'].unique().tolist()"
   ]
  },
  {
   "cell_type": "code",
   "execution_count": 16,
   "metadata": {},
   "outputs": [
    {
     "data": {
      "text/plain": [
       "dtype('int64')"
      ]
     },
     "execution_count": 16,
     "metadata": {},
     "output_type": "execute_result"
    }
   ],
   "source": [
    "df['ISO3']=df['ISO3'].map({'USA':0, 'ASM':1, 'GUM':2, 'MNP':3, 'PRI':4, 'VIR':5})\n",
    "df['ISO3'].dtypes"
   ]
  },
  {
   "cell_type": "markdown",
   "metadata": {},
   "source": [
    "### See the relationship of the columns where missing values are present with the column 'IS03'"
   ]
  },
  {
   "cell_type": "code",
   "execution_count": 17,
   "metadata": {},
   "outputs": [
    {
     "data": {
      "text/plain": [
       "Text(0.5, 1.0, 'Correlation with Target Variable')"
      ]
     },
     "execution_count": 17,
     "metadata": {},
     "output_type": "execute_result"
    },
    {
     "data": {
      "image/png": "[encoded data removed]",
      "text/plain": [
       "<Figure size 576x432 with 1 Axes>"
      ]
     },
     "metadata": {
      "needs_background": "light"
     },
     "output_type": "display_data"
    }
   ],
   "source": [
    "plt.figure(figsize=(8,6))\n",
    "df.drop('ISO3',axis=1).corrwith(df['ISO3']).plot(kind='bar',grid=True)\n",
    "plt.xticks(rotation=20)\n",
    "plt.title(\"Correlation with Target Variable\")"
   ]
  },
  {
   "cell_type": "markdown",
   "metadata": {},
   "source": [
    "# Imputing values in numeric columns"
   ]
  },
  {
   "cell_type": "markdown",
   "metadata": {},
   "source": [
    "### Imputing the missing values with mean"
   ]
  },
  {
   "cell_type": "code",
   "execution_count": 18,
   "metadata": {
    "scrolled": true
   },
   "outputs": [
    {
     "data": {
      "text/plain": [
       "Province_State          0\n",
       "Country_Region          0\n",
       "Last_Update             0\n",
       "Lat                     0\n",
       "Long_                   0\n",
       "Confirmed               0\n",
       "Deaths                  0\n",
       "Recovered               0\n",
       "Active                  0\n",
       "FIPS                    0\n",
       "Incident_Rate           0\n",
       "People_Tested           0\n",
       "People_Hospitalized     0\n",
       "Mortality_Rate          0\n",
       "UID                     0\n",
       "ISO3                    0\n",
       "Testing_Rate            0\n",
       "Hospitalization_Rate    0\n",
       "dtype: int64"
      ]
     },
     "execution_count": 18,
     "metadata": {},
     "output_type": "execute_result"
    }
   ],
   "source": [
    "for col in ['Lat','Long_','Recovered','Incident_Rate','People_Tested','People_Hospitalized','Mortality_Rate','Testing_Rate','Hospitalization_Rate']:\n",
    "    df[col].fillna(df[col].mean(),inplace=True)\n",
    "    \n",
    "#Now check the null values\n",
    "df.isnull().sum() "
   ]
  },
  {
   "cell_type": "markdown",
   "metadata": {},
   "source": [
    "Observations:\n",
    "\n",
    "       Now all the missing values are imputed. We can also see this with heatmap."
   ]
  },
  {
   "cell_type": "code",
   "execution_count": 19,
   "metadata": {},
   "outputs": [
    {
     "data": {
      "text/plain": [
       "<AxesSubplot:>"
      ]
     },
     "execution_count": 19,
     "metadata": {},
     "output_type": "execute_result"
    },
    {
     "data": {
      "image/png": "[encoded data removed]",
      "text/plain": [
       "<Figure size 576x432 with 1 Axes>"
      ]
     },
     "metadata": {
      "needs_background": "light"
     },
     "output_type": "display_data"
    }
   ],
   "source": [
    "plt.figure(figsize=(8,6))\n",
    "sns.heatmap(df.isnull(),yticklabels=False,cbar=False)"
   ]
  },
  {
   "cell_type": "code",
   "execution_count": 20,
   "metadata": {},
   "outputs": [
    {
     "data": {
      "text/plain": [
       "False"
      ]
     },
     "execution_count": 20,
     "metadata": {},
     "output_type": "execute_result"
    }
   ],
   "source": [
    "df.isnull().values.any()"
   ]
  },
  {
   "cell_type": "markdown",
   "metadata": {},
   "source": [
    "# Exploratory the catagorical columns"
   ]
  },
  {
   "cell_type": "markdown",
   "metadata": {},
   "source": [
    "### Printing the object data types and their unique values"
   ]
  },
  {
   "cell_type": "code",
   "execution_count": 21,
   "metadata": {},
   "outputs": [
    {
     "name": "stdout",
     "output_type": "stream",
     "text": [
      "Province_State:['Alabama' 'Alaska' 'American Samoa' 'Arizona' 'Arkansas' 'California'\n",
      " 'Colorado' 'Connecticut' 'Delaware' 'Diamond Princess'\n",
      " 'District of Columbia' 'Florida' 'Georgia' 'Grand Princess' 'Guam'\n",
      " 'Hawaii' 'Idaho' 'Illinois' 'Indiana' 'Iowa' 'Kansas' 'Kentucky'\n",
      " 'Louisiana' 'Maine' 'Maryland' 'Massachusetts' 'Michigan' 'Minnesota'\n",
      " 'Mississippi' 'Missouri' 'Montana' 'Nebraska' 'Nevada' 'New Hampshire'\n",
      " 'New Jersey' 'New Mexico' 'New York' 'North Carolina' 'North Dakota'\n",
      " 'Northern Mariana Islands' 'Ohio' 'Oklahoma' 'Oregon' 'Pennsylvania'\n",
      " 'Puerto Rico' 'Rhode Island' 'South Carolina' 'South Dakota' 'Tennessee'\n",
      " 'Texas' 'Utah' 'Vermont' 'Virgin Islands' 'Virginia' 'Washington'\n",
      " 'West Virginia' 'Wisconsin' 'Wyoming']\n",
      "Diamond Princess            1\n",
      "Delaware                    1\n",
      "Arkansas                    1\n",
      "Ohio                        1\n",
      "North Carolina              1\n",
      "South Carolina              1\n",
      "Idaho                       1\n",
      "Guam                        1\n",
      "American Samoa              1\n",
      "Pennsylvania                1\n",
      "Minnesota                   1\n",
      "New Hampshire               1\n",
      "Hawaii                      1\n",
      "Maryland                    1\n",
      "Florida                     1\n",
      "Alabama                     1\n",
      "California                  1\n",
      "Oklahoma                    1\n",
      "Connecticut                 1\n",
      "Virgin Islands              1\n",
      "Wisconsin                   1\n",
      "Colorado                    1\n",
      "Missouri                    1\n",
      "Indiana                     1\n",
      "Michigan                    1\n",
      "Nebraska                    1\n",
      "Oregon                      1\n",
      "Iowa                        1\n",
      "North Dakota                1\n",
      "West Virginia               1\n",
      "Arizona                     1\n",
      "South Dakota                1\n",
      "Virginia                    1\n",
      "Texas                       1\n",
      "Utah                        1\n",
      "Montana                     1\n",
      "New Mexico                  1\n",
      "Georgia                     1\n",
      "Grand Princess              1\n",
      "Kentucky                    1\n",
      "Mississippi                 1\n",
      "Wyoming                     1\n",
      "Vermont                     1\n",
      "Washington                  1\n",
      "Alaska                      1\n",
      "Rhode Island                1\n",
      "Tennessee                   1\n",
      "District of Columbia        1\n",
      "Illinois                    1\n",
      "New Jersey                  1\n",
      "Nevada                      1\n",
      "Louisiana                   1\n",
      "New York                    1\n",
      "Kansas                      1\n",
      "Massachusetts               1\n",
      "Northern Mariana Islands    1\n",
      "Puerto Rico                 1\n",
      "Maine                       1\n",
      "Name: Province_State, dtype: int64\n",
      "**********************************************************************************\n",
      "\n",
      "\n",
      "Country_Region:['US']\n",
      "US    58\n",
      "Name: Country_Region, dtype: int64\n",
      "**********************************************************************************\n",
      "\n",
      "\n",
      "Last_Update:['2020-05-21 02:32:54']\n",
      "2020-05-21 02:32:54    58\n",
      "Name: Last_Update, dtype: int64\n",
      "**********************************************************************************\n",
      "\n",
      "\n"
     ]
    }
   ],
   "source": [
    "for column in df.columns:\n",
    "    if df[column].dtype==object:\n",
    "        print(str(column) + ':' + str(df[column].unique()))\n",
    "        print(df[column].value_counts())\n",
    "        print('**********************************************************************************')\n",
    "        print(\"\\n\")"
   ]
  },
  {
   "cell_type": "markdown",
   "metadata": {},
   "source": [
    "Observations:\n",
    "\n",
    "   This is the summary of catagorical columns.\n",
    "\n",
    "   1. All the values of Province_State column are unique.\n",
    "    \n",
    "   2. Country_Region has only one value.\n",
    "\n",
    "   3. Last_Update has only one value."
   ]
  },
  {
   "cell_type": "code",
   "execution_count": 22,
   "metadata": {},
   "outputs": [
    {
     "data": {
      "text/plain": [
       "Province_State          58\n",
       "Country_Region           1\n",
       "Last_Update              1\n",
       "Lat                     57\n",
       "Long_                   57\n",
       "Confirmed               58\n",
       "Deaths                  56\n",
       "Recovered               43\n",
       "Active                  58\n",
       "FIPS                    58\n",
       "Incident_Rate           57\n",
       "People_Tested           57\n",
       "People_Hospitalized     34\n",
       "Mortality_Rate          58\n",
       "UID                     58\n",
       "ISO3                     6\n",
       "Testing_Rate            57\n",
       "Hospitalization_Rate    34\n",
       "dtype: int64"
      ]
     },
     "execution_count": 22,
     "metadata": {},
     "output_type": "execute_result"
    }
   ],
   "source": [
    "df.nunique()"
   ]
  },
  {
   "cell_type": "markdown",
   "metadata": {},
   "source": [
    "Observations : \n",
    "    \n",
    "     1.Country_Region and Last_Update has only one constant values. So, these two columns will be deleted. Because it will not effect our dataset.\n",
    "        \n",
    "     2. Province_State,Confirmed,Active,FIPS,Mortality_Rate,UID  having all the unique values. So, These columns will not effect our dataset. These columns will also be deleted.\n",
    "    \n",
    "     3. Finally considered dropping columns : \n",
    "            \n",
    "           Country_Region,Last_Update,Province_State,Confirmed,Active,FIPS,Mortality_Rate,UID"
   ]
  },
  {
   "cell_type": "code",
   "execution_count": 23,
   "metadata": {},
   "outputs": [
    {
     "data": {
      "text/plain": [
       "(58, 18)"
      ]
     },
     "execution_count": 23,
     "metadata": {},
     "output_type": "execute_result"
    }
   ],
   "source": [
    "df.shape"
   ]
  },
  {
   "cell_type": "markdown",
   "metadata": {},
   "source": [
    "# Dropping columns"
   ]
  },
  {
   "cell_type": "code",
   "execution_count": 24,
   "metadata": {},
   "outputs": [],
   "source": [
    "df.drop(['Country_Region','Last_Update','Province_State','Confirmed','Active','FIPS','Mortality_Rate','UID'], axis = 1,inplace=True)"
   ]
  },
  {
   "cell_type": "code",
   "execution_count": 25,
   "metadata": {},
   "outputs": [
    {
     "data": {
      "text/html": [
       "<div>\n",
       "<style scoped>\n",
       "    .dataframe tbody tr th:only-of-type {\n",
       "        vertical-align: middle;\n",
       "    }\n",
       "\n",
       "    .dataframe tbody tr th {\n",
       "        vertical-align: top;\n",
       "    }\n",
       "\n",
       "    .dataframe thead th {\n",
       "        text-align: right;\n",
       "    }\n",
       "</style>\n",
       "<table border=\"1\" class=\"dataframe\">\n",
       "  <thead>\n",
       "    <tr style=\"text-align: right;\">\n",
       "      <th></th>\n",
       "      <th>Lat</th>\n",
       "      <th>Long_</th>\n",
       "      <th>Deaths</th>\n",
       "      <th>Recovered</th>\n",
       "      <th>Incident_Rate</th>\n",
       "      <th>People_Tested</th>\n",
       "      <th>People_Hospitalized</th>\n",
       "      <th>ISO3</th>\n",
       "      <th>Testing_Rate</th>\n",
       "      <th>Hospitalization_Rate</th>\n",
       "    </tr>\n",
       "  </thead>\n",
       "  <tbody>\n",
       "    <tr>\n",
       "      <th>0</th>\n",
       "      <td>32.3182</td>\n",
       "      <td>-86.9023</td>\n",
       "      <td>522</td>\n",
       "      <td>7007.428571</td>\n",
       "      <td>266.194321</td>\n",
       "      <td>164450.0</td>\n",
       "      <td>1493.000000</td>\n",
       "      <td>0</td>\n",
       "      <td>3353.942386</td>\n",
       "      <td>11.438860</td>\n",
       "    </tr>\n",
       "    <tr>\n",
       "      <th>1</th>\n",
       "      <td>61.3707</td>\n",
       "      <td>-152.4044</td>\n",
       "      <td>10</td>\n",
       "      <td>352.000000</td>\n",
       "      <td>54.815493</td>\n",
       "      <td>37045.0</td>\n",
       "      <td>4897.454545</td>\n",
       "      <td>0</td>\n",
       "      <td>5063.940017</td>\n",
       "      <td>14.342541</td>\n",
       "    </tr>\n",
       "    <tr>\n",
       "      <th>2</th>\n",
       "      <td>-14.2710</td>\n",
       "      <td>-170.1320</td>\n",
       "      <td>0</td>\n",
       "      <td>7007.428571</td>\n",
       "      <td>0.000000</td>\n",
       "      <td>124.0</td>\n",
       "      <td>4897.454545</td>\n",
       "      <td>1</td>\n",
       "      <td>222.857246</td>\n",
       "      <td>14.342541</td>\n",
       "    </tr>\n",
       "    <tr>\n",
       "      <th>3</th>\n",
       "      <td>33.7298</td>\n",
       "      <td>-111.4312</td>\n",
       "      <td>747</td>\n",
       "      <td>3773.000000</td>\n",
       "      <td>204.788838</td>\n",
       "      <td>165435.0</td>\n",
       "      <td>1792.000000</td>\n",
       "      <td>0</td>\n",
       "      <td>2272.859351</td>\n",
       "      <td>12.022005</td>\n",
       "    </tr>\n",
       "    <tr>\n",
       "      <th>4</th>\n",
       "      <td>34.9697</td>\n",
       "      <td>-92.3731</td>\n",
       "      <td>107</td>\n",
       "      <td>3852.000000</td>\n",
       "      <td>165.782801</td>\n",
       "      <td>96258.0</td>\n",
       "      <td>535.000000</td>\n",
       "      <td>0</td>\n",
       "      <td>3189.670370</td>\n",
       "      <td>10.693584</td>\n",
       "    </tr>\n",
       "  </tbody>\n",
       "</table>\n",
       "</div>"
      ],
      "text/plain": [
       "       Lat     Long_  Deaths    Recovered  Incident_Rate  People_Tested  \\\n",
       "0  32.3182  -86.9023     522  7007.428571     266.194321       164450.0   \n",
       "1  61.3707 -152.4044      10   352.000000      54.815493        37045.0   \n",
       "2 -14.2710 -170.1320       0  7007.428571       0.000000          124.0   \n",
       "3  33.7298 -111.4312     747  3773.000000     204.788838       165435.0   \n",
       "4  34.9697  -92.3731     107  3852.000000     165.782801        96258.0   \n",
       "\n",
       "   People_Hospitalized  ISO3  Testing_Rate  Hospitalization_Rate  \n",
       "0          1493.000000     0   3353.942386             11.438860  \n",
       "1          4897.454545     0   5063.940017             14.342541  \n",
       "2          4897.454545     1    222.857246             14.342541  \n",
       "3          1792.000000     0   2272.859351             12.022005  \n",
       "4           535.000000     0   3189.670370             10.693584  "
      ]
     },
     "execution_count": 25,
     "metadata": {},
     "output_type": "execute_result"
    }
   ],
   "source": [
    "df.head()"
   ]
  },
  {
   "cell_type": "markdown",
   "metadata": {},
   "source": [
    "# Summary Statistics"
   ]
  },
  {
   "cell_type": "code",
   "execution_count": 26,
   "metadata": {},
   "outputs": [
    {
     "data": {
      "text/plain": [
       "Index(['Lat', 'Long_', 'Deaths', 'Recovered', 'Incident_Rate', 'People_Tested',\n",
       "       'People_Hospitalized', 'ISO3', 'Testing_Rate', 'Hospitalization_Rate'],\n",
       "      dtype='object')"
      ]
     },
     "execution_count": 26,
     "metadata": {},
     "output_type": "execute_result"
    }
   ],
   "source": [
    "df.columns"
   ]
  },
  {
   "cell_type": "code",
   "execution_count": 27,
   "metadata": {},
   "outputs": [
    {
     "data": {
      "text/html": [
       "<div>\n",
       "<style scoped>\n",
       "    .dataframe tbody tr th:only-of-type {\n",
       "        vertical-align: middle;\n",
       "    }\n",
       "\n",
       "    .dataframe tbody tr th {\n",
       "        vertical-align: top;\n",
       "    }\n",
       "\n",
       "    .dataframe thead th {\n",
       "        text-align: right;\n",
       "    }\n",
       "</style>\n",
       "<table border=\"1\" class=\"dataframe\">\n",
       "  <thead>\n",
       "    <tr style=\"text-align: right;\">\n",
       "      <th></th>\n",
       "      <th>Lat</th>\n",
       "      <th>Long_</th>\n",
       "      <th>Deaths</th>\n",
       "      <th>Recovered</th>\n",
       "      <th>Incident_Rate</th>\n",
       "      <th>People_Tested</th>\n",
       "      <th>People_Hospitalized</th>\n",
       "      <th>ISO3</th>\n",
       "      <th>Testing_Rate</th>\n",
       "      <th>Hospitalization_Rate</th>\n",
       "    </tr>\n",
       "  </thead>\n",
       "  <tbody>\n",
       "    <tr>\n",
       "      <th>count</th>\n",
       "      <td>58.000000</td>\n",
       "      <td>58.000000</td>\n",
       "      <td>58.000000</td>\n",
       "      <td>58.000000</td>\n",
       "      <td>58.000000</td>\n",
       "      <td>5.800000e+01</td>\n",
       "      <td>58.000000</td>\n",
       "      <td>58.000000</td>\n",
       "      <td>58.000000</td>\n",
       "      <td>58.000000</td>\n",
       "    </tr>\n",
       "    <tr>\n",
       "      <th>mean</th>\n",
       "      <td>36.840089</td>\n",
       "      <td>-85.206614</td>\n",
       "      <td>1611.017241</td>\n",
       "      <td>7007.428571</td>\n",
       "      <td>396.230806</td>\n",
       "      <td>2.258534e+05</td>\n",
       "      <td>4897.454545</td>\n",
       "      <td>0.258621</td>\n",
       "      <td>3894.186870</td>\n",
       "      <td>14.342541</td>\n",
       "    </tr>\n",
       "    <tr>\n",
       "      <th>std</th>\n",
       "      <td>10.694329</td>\n",
       "      <td>48.873770</td>\n",
       "      <td>4084.750891</td>\n",
       "      <td>9901.304545</td>\n",
       "      <td>395.554852</td>\n",
       "      <td>2.934948e+05</td>\n",
       "      <td>9879.577790</td>\n",
       "      <td>0.947024</td>\n",
       "      <td>1898.951207</td>\n",
       "      <td>3.781861</td>\n",
       "    </tr>\n",
       "    <tr>\n",
       "      <th>min</th>\n",
       "      <td>-14.271000</td>\n",
       "      <td>-170.132000</td>\n",
       "      <td>0.000000</td>\n",
       "      <td>13.000000</td>\n",
       "      <td>0.000000</td>\n",
       "      <td>1.240000e+02</td>\n",
       "      <td>65.000000</td>\n",
       "      <td>0.000000</td>\n",
       "      <td>97.702058</td>\n",
       "      <td>6.778043</td>\n",
       "    </tr>\n",
       "    <tr>\n",
       "      <th>25%</th>\n",
       "      <td>34.872800</td>\n",
       "      <td>-99.697700</td>\n",
       "      <td>74.000000</td>\n",
       "      <td>1281.750000</td>\n",
       "      <td>154.909239</td>\n",
       "      <td>4.745000e+04</td>\n",
       "      <td>1454.500000</td>\n",
       "      <td>0.000000</td>\n",
       "      <td>2741.843521</td>\n",
       "      <td>12.829963</td>\n",
       "    </tr>\n",
       "    <tr>\n",
       "      <th>50%</th>\n",
       "      <td>38.978600</td>\n",
       "      <td>-86.797300</td>\n",
       "      <td>385.000000</td>\n",
       "      <td>4987.000000</td>\n",
       "      <td>259.009335</td>\n",
       "      <td>1.433085e+05</td>\n",
       "      <td>4897.454545</td>\n",
       "      <td>0.000000</td>\n",
       "      <td>3501.526835</td>\n",
       "      <td>14.342541</td>\n",
       "    </tr>\n",
       "    <tr>\n",
       "      <th>75%</th>\n",
       "      <td>42.214075</td>\n",
       "      <td>-77.072550</td>\n",
       "      <td>1394.250000</td>\n",
       "      <td>7007.428571</td>\n",
       "      <td>462.828082</td>\n",
       "      <td>2.646656e+05</td>\n",
       "      <td>4897.454545</td>\n",
       "      <td>0.000000</td>\n",
       "      <td>4622.586404</td>\n",
       "      <td>15.552021</td>\n",
       "    </tr>\n",
       "    <tr>\n",
       "      <th>max</th>\n",
       "      <td>61.370700</td>\n",
       "      <td>145.673900</td>\n",
       "      <td>28636.000000</td>\n",
       "      <td>61886.000000</td>\n",
       "      <td>1821.620216</td>\n",
       "      <td>1.505836e+06</td>\n",
       "      <td>76410.000000</td>\n",
       "      <td>5.000000</td>\n",
       "      <td>11377.424693</td>\n",
       "      <td>28.054438</td>\n",
       "    </tr>\n",
       "  </tbody>\n",
       "</table>\n",
       "</div>"
      ],
      "text/plain": [
       "             Lat       Long_        Deaths     Recovered  Incident_Rate  \\\n",
       "count  58.000000   58.000000     58.000000     58.000000      58.000000   \n",
       "mean   36.840089  -85.206614   1611.017241   7007.428571     396.230806   \n",
       "std    10.694329   48.873770   4084.750891   9901.304545     395.554852   \n",
       "min   -14.271000 -170.132000      0.000000     13.000000       0.000000   \n",
       "25%    34.872800  -99.697700     74.000000   1281.750000     154.909239   \n",
       "50%    38.978600  -86.797300    385.000000   4987.000000     259.009335   \n",
       "75%    42.214075  -77.072550   1394.250000   7007.428571     462.828082   \n",
       "max    61.370700  145.673900  28636.000000  61886.000000    1821.620216   \n",
       "\n",
       "       People_Tested  People_Hospitalized       ISO3  Testing_Rate  \\\n",
       "count   5.800000e+01            58.000000  58.000000     58.000000   \n",
       "mean    2.258534e+05          4897.454545   0.258621   3894.186870   \n",
       "std     2.934948e+05          9879.577790   0.947024   1898.951207   \n",
       "min     1.240000e+02            65.000000   0.000000     97.702058   \n",
       "25%     4.745000e+04          1454.500000   0.000000   2741.843521   \n",
       "50%     1.433085e+05          4897.454545   0.000000   3501.526835   \n",
       "75%     2.646656e+05          4897.454545   0.000000   4622.586404   \n",
       "max     1.505836e+06         76410.000000   5.000000  11377.424693   \n",
       "\n",
       "       Hospitalization_Rate  \n",
       "count             58.000000  \n",
       "mean              14.342541  \n",
       "std                3.781861  \n",
       "min                6.778043  \n",
       "25%               12.829963  \n",
       "50%               14.342541  \n",
       "75%               15.552021  \n",
       "max               28.054438  "
      ]
     },
     "execution_count": 27,
     "metadata": {},
     "output_type": "execute_result"
    }
   ],
   "source": [
    "df.describe()"
   ]
  },
  {
   "cell_type": "markdown",
   "metadata": {},
   "source": [
    "Observations:\n",
    "\n",
    "1.Maximum 'Lat', 'Long_', 'Deaths', 'Recovered', 'Incident_Rate', 'People_Tested', 'People_Hospitalized', 'ISO3', 'Testing_Rate', 'Hospitalization_Rate' are : 61.370700,145.673900,28636.000000,61886.000000,1821.620216,1.505836e+06,76410.000000,5.000000,11377.424693,28.054438\n",
    "\n",
    "2. Minimum 'Lat', 'Long_', 'Deaths', 'Recovered', 'Incident_Rate', 'People_Tested', 'People_Hospitalized', 'ISO3', 'Testing_Rate', 'Hospitalization_Rate' are -14.271000,-170.132000,0.000000,13.000000,0.000000,1.240000e+02,65.000000,0.000000,97.702058,6.778043\n",
    "\n",
    "3. Long_,Deaths,Recovered,Incident_Rate,People_Tested,ISO3,Testing_Rate,  mean is greater than median therefore data is right skewed for these attributes. (i,z) columns have very less difference with median.\n",
    "\n",
    "4. In the Lat column median is greater than mean therefre data is left skewed for these attributes.(u,g,r) have very less difference with median.\n",
    "\n",
    "5. The difference between 75% and maximum is higher in Long_,Deaths,Recovered,Incident_Rate,People_Tested,People_Hospitalized,Testing_Rate,Hospitalization_Rate columns therefore outliers are present in these columns."
   ]
  },
  {
   "cell_type": "markdown",
   "metadata": {},
   "source": [
    "# Correlation"
   ]
  },
  {
   "cell_type": "markdown",
   "metadata": {},
   "source": [
    "### Correlation only with target variable"
   ]
  },
  {
   "cell_type": "code",
   "execution_count": 28,
   "metadata": {},
   "outputs": [
    {
     "data": {
      "text/plain": [
       "Text(0.5, 1.0, 'Correlation with Target Variable')"
      ]
     },
     "execution_count": 28,
     "metadata": {},
     "output_type": "execute_result"
    },
    {
     "data": {
      "image/png": "[encoded data removed]",
      "text/plain": [
       "<Figure size 1152x432 with 1 Axes>"
      ]
     },
     "metadata": {
      "needs_background": "light"
     },
     "output_type": "display_data"
    }
   ],
   "source": [
    "plt.figure(figsize=(16,6))\n",
    "df.drop('Recovered',axis=1).corrwith(df['Recovered']).plot(kind='bar',grid=True)\n",
    "plt.xticks(rotation=30)\n",
    "plt.title(\"Correlation with Target Variable\")"
   ]
  },
  {
   "cell_type": "code",
   "execution_count": 29,
   "metadata": {},
   "outputs": [
    {
     "data": {
      "text/plain": [
       "Lat                     0.030196\n",
       "Long_                  -0.041588\n",
       "Deaths                  0.830223\n",
       "Recovered               1.000000\n",
       "Incident_Rate           0.542795\n",
       "People_Tested           0.711255\n",
       "People_Hospitalized     0.761829\n",
       "ISO3                   -0.129997\n",
       "Testing_Rate            0.220597\n",
       "Hospitalization_Rate    0.231692\n",
       "Name: Recovered, dtype: float64"
      ]
     },
     "execution_count": 29,
     "metadata": {},
     "output_type": "execute_result"
    }
   ],
   "source": [
    "df[df.columns[0:]].corr()['Recovered'][:]"
   ]
  },
  {
   "cell_type": "markdown",
   "metadata": {},
   "source": [
    "Findings:\n",
    "\n",
    "    Status of correlation with target variable Recovered : \n",
    "    \n",
    "    1. Negative correlation : 'Long_','ISO3' \n",
    "\n",
    "    2. Positive correlation : 'Lat', 'Deaths', 'Recovered', 'Incident_Rate', 'People_Tested','People_Hospitalized','Testing_Rate', 'Hospitalization_Rate'\n",
    "\n",
    "    4. Strong Correlationship : Deaths,Incident_Rate,People_Tested,People_Hospitalized,Testing_Rate,Hospitalization_Rate    \n",
    "\n",
    "    5. Weak Correlation : Lat,ISO3"
   ]
  },
  {
   "cell_type": "markdown",
   "metadata": {},
   "source": [
    "# Heatmap"
   ]
  },
  {
   "cell_type": "code",
   "execution_count": 30,
   "metadata": {},
   "outputs": [
    {
     "data": {
      "text/plain": [
       "Index(['Lat', 'Long_', 'Deaths', 'Recovered', 'Incident_Rate', 'People_Tested',\n",
       "       'People_Hospitalized', 'ISO3', 'Testing_Rate', 'Hospitalization_Rate'],\n",
       "      dtype='object')"
      ]
     },
     "execution_count": 30,
     "metadata": {},
     "output_type": "execute_result"
    }
   ],
   "source": [
    "df.columns"
   ]
  },
  {
   "cell_type": "code",
   "execution_count": 31,
   "metadata": {},
   "outputs": [
    {
     "data": {
      "image/png": "[encoded data removed]",
      "text/plain": [
       "<Figure size 1440x576 with 2 Axes>"
      ]
     },
     "metadata": {
      "needs_background": "light"
     },
     "output_type": "display_data"
    }
   ],
   "source": [
    "plt.figure(figsize=(20,8))\n",
    "sns.heatmap(df.corr(),annot=True,fmt='.0%',cmap='cool')\n",
    "plt.show()"
   ]
  },
  {
   "cell_type": "markdown",
   "metadata": {},
   "source": [
    "Observations :\n",
    "\n",
    "1. From the previous line we have already known about the correlation with target variable. Now, Let me check the other observations.\n",
    "\n",
    "2. Good Correlationship with other variables except target variable : \n",
    "\n",
    "    1. ('Recovered', 'Incident_Rate', 'People_Tested','People_Hospitalized') with Deaths. The correlations are more than 50%.\n",
    "\n",
    "    2. ('Incident_Rate', 'People_Tested','People_Hospitalized') with Recovered. The correlations are more than 50%\n",
    "\n",
    "    3. ('People_Tested','People_Hospitalized','Testing_Rate') with Incident_Rate. The correlations are more than 50%\n",
    "\n",
    "    4. ('People_Hospitalized') with People_Tested. The correlations are more than 50%\n",
    "\n",
    "    5. ('People_Tested') with People_Hospitalized. The correlations are more than 50%\n"
   ]
  },
  {
   "cell_type": "markdown",
   "metadata": {},
   "source": [
    "# Data Visualizations"
   ]
  },
  {
   "cell_type": "markdown",
   "metadata": {},
   "source": [
    "Our feature variable is Deaths"
   ]
  },
  {
   "cell_type": "markdown",
   "metadata": {},
   "source": [
    "# Univariate Analysis\n"
   ]
  },
  {
   "cell_type": "code",
   "execution_count": null,
   "metadata": {},
   "outputs": [],
   "source": [
    "# x= Lat\tRecovered\tIncident_Rate\tPeople_Tested\tPeople_Hospitalized\tISO3\tTesting_Rate\tHospitalization_Rate\tLong_\n",
    "# y= Deaths "
   ]
  },
  {
   "cell_type": "code",
   "execution_count": 89,
   "metadata": {},
   "outputs": [
    {
     "data": {
      "text/plain": [
       "Lat                     57\n",
       "Deaths                  56\n",
       "Recovered               43\n",
       "Incident_Rate           57\n",
       "People_Tested           57\n",
       "People_Hospitalized     34\n",
       "ISO3                     6\n",
       "Testing_Rate            57\n",
       "Hospitalization_Rate    34\n",
       "dtype: int64"
      ]
     },
     "execution_count": 89,
     "metadata": {},
     "output_type": "execute_result"
    }
   ],
   "source": [
    "df.nunique()"
   ]
  },
  {
   "cell_type": "markdown",
   "metadata": {},
   "source": [
    "# ISO3"
   ]
  },
  {
   "cell_type": "code",
   "execution_count": 90,
   "metadata": {},
   "outputs": [
    {
     "data": {
      "image/png": "[encoded data removed]",
      "text/plain": [
       "<Figure size 1080x432 with 1 Axes>"
      ]
     },
     "metadata": {
      "needs_background": "light"
     },
     "output_type": "display_data"
    },
    {
     "name": "stdout",
     "output_type": "stream",
     "text": [
      "0.000000    53\n",
      "1.732051     1\n",
      "2.236068     1\n",
      "2.000000     1\n",
      "1.414214     1\n",
      "1.000000     1\n",
      "Name: ISO3, dtype: int64\n"
     ]
    }
   ],
   "source": [
    "plt.subplots(figsize=(15,6))\n",
    "sns.countplot(x=\"ISO3\",data=df)\n",
    "plt.title(\"ISO3\")\n",
    "plt.xticks(rotation=20)\n",
    "plt.show()\n",
    "\n",
    "print(df.ISO3.value_counts())"
   ]
  },
  {
   "cell_type": "markdown",
   "metadata": {},
   "source": [
    "# Lat"
   ]
  },
  {
   "cell_type": "code",
   "execution_count": 91,
   "metadata": {},
   "outputs": [
    {
     "data": {
      "text/plain": [
       "<AxesSubplot:>"
      ]
     },
     "execution_count": 91,
     "metadata": {},
     "output_type": "execute_result"
    },
    {
     "data": {
      "image/png": "[encoded data removed]",
      "text/plain": [
       "<Figure size 432x288 with 1 Axes>"
      ]
     },
     "metadata": {
      "needs_background": "light"
     },
     "output_type": "display_data"
    }
   ],
   "source": [
    "df['Lat'].hist()"
   ]
  },
  {
   "cell_type": "markdown",
   "metadata": {},
   "source": [
    "# Recovered"
   ]
  },
  {
   "cell_type": "code",
   "execution_count": 92,
   "metadata": {},
   "outputs": [
    {
     "data": {
      "text/plain": [
       "<AxesSubplot:>"
      ]
     },
     "execution_count": 92,
     "metadata": {},
     "output_type": "execute_result"
    },
    {
     "data": {
      "image/png": "[encoded data removed]",
      "text/plain": [
       "<Figure size 432x288 with 1 Axes>"
      ]
     },
     "metadata": {
      "needs_background": "light"
     },
     "output_type": "display_data"
    }
   ],
   "source": [
    "df['Recovered'].hist()"
   ]
  },
  {
   "cell_type": "markdown",
   "metadata": {},
   "source": [
    "# Incident_Rate"
   ]
  },
  {
   "cell_type": "code",
   "execution_count": 93,
   "metadata": {},
   "outputs": [
    {
     "data": {
      "text/plain": [
       "<AxesSubplot:>"
      ]
     },
     "execution_count": 93,
     "metadata": {},
     "output_type": "execute_result"
    },
    {
     "data": {
      "image/png": "[encoded data removed]",
      "text/plain": [
       "<Figure size 432x288 with 1 Axes>"
      ]
     },
     "metadata": {
      "needs_background": "light"
     },
     "output_type": "display_data"
    }
   ],
   "source": [
    "df['Incident_Rate'].hist()"
   ]
  },
  {
   "cell_type": "markdown",
   "metadata": {},
   "source": [
    "# People_Tested"
   ]
  },
  {
   "cell_type": "code",
   "execution_count": 94,
   "metadata": {},
   "outputs": [
    {
     "data": {
      "text/plain": [
       "<AxesSubplot:>"
      ]
     },
     "execution_count": 94,
     "metadata": {},
     "output_type": "execute_result"
    },
    {
     "data": {
      "image/png": "[encoded data removed]",
      "text/plain": [
       "<Figure size 432x288 with 1 Axes>"
      ]
     },
     "metadata": {
      "needs_background": "light"
     },
     "output_type": "display_data"
    }
   ],
   "source": [
    "df['People_Tested'].hist()"
   ]
  },
  {
   "cell_type": "markdown",
   "metadata": {},
   "source": [
    "# People_Hospitalized"
   ]
  },
  {
   "cell_type": "code",
   "execution_count": 95,
   "metadata": {},
   "outputs": [
    {
     "data": {
      "text/plain": [
       "<AxesSubplot:>"
      ]
     },
     "execution_count": 95,
     "metadata": {},
     "output_type": "execute_result"
    },
    {
     "data": {
      "image/png": "[encoded data removed]",
      "text/plain": [
       "<Figure size 432x288 with 1 Axes>"
      ]
     },
     "metadata": {
      "needs_background": "light"
     },
     "output_type": "display_data"
    }
   ],
   "source": [
    "df['People_Hospitalized'].hist()"
   ]
  },
  {
   "cell_type": "markdown",
   "metadata": {},
   "source": [
    "# Testing_Rate"
   ]
  },
  {
   "cell_type": "code",
   "execution_count": 96,
   "metadata": {},
   "outputs": [
    {
     "data": {
      "text/plain": [
       "<AxesSubplot:>"
      ]
     },
     "execution_count": 96,
     "metadata": {},
     "output_type": "execute_result"
    },
    {
     "data": {
      "image/png": "[encoded data removed]",
      "text/plain": [
       "<Figure size 432x288 with 1 Axes>"
      ]
     },
     "metadata": {
      "needs_background": "light"
     },
     "output_type": "display_data"
    }
   ],
   "source": [
    "df['Testing_Rate'].hist()"
   ]
  },
  {
   "cell_type": "markdown",
   "metadata": {},
   "source": [
    "# Hospitalization_Rate"
   ]
  },
  {
   "cell_type": "code",
   "execution_count": 97,
   "metadata": {},
   "outputs": [
    {
     "data": {
      "text/plain": [
       "<AxesSubplot:>"
      ]
     },
     "execution_count": 97,
     "metadata": {},
     "output_type": "execute_result"
    },
    {
     "data": {
      "image/png": "[encoded data removed]",
      "text/plain": [
       "<Figure size 432x288 with 1 Axes>"
      ]
     },
     "metadata": {
      "needs_background": "light"
     },
     "output_type": "display_data"
    }
   ],
   "source": [
    "df['Hospitalization_Rate'].hist()"
   ]
  },
  {
   "cell_type": "markdown",
   "metadata": {},
   "source": [
    "# Bivariate Analysis"
   ]
  },
  {
   "cell_type": "markdown",
   "metadata": {},
   "source": [
    "# ISO3 vs Deaths"
   ]
  },
  {
   "cell_type": "code",
   "execution_count": 100,
   "metadata": {},
   "outputs": [
    {
     "data": {
      "text/plain": [
       "<Figure size 576x288 with 0 Axes>"
      ]
     },
     "metadata": {},
     "output_type": "display_data"
    },
    {
     "data": {
      "image/png": "[encoded data removed]",
      "text/plain": [
       "<Figure size 360x360 with 1 Axes>"
      ]
     },
     "metadata": {
      "needs_background": "light"
     },
     "output_type": "display_data"
    }
   ],
   "source": [
    "plt.figure(figsize=(8,4))\n",
    "sns.lmplot(x='Deaths',y='ISO3',fit_reg=False,data=df)\n",
    "plt.show()"
   ]
  },
  {
   "cell_type": "markdown",
   "metadata": {},
   "source": [
    "# Lat vs Deaths"
   ]
  },
  {
   "cell_type": "code",
   "execution_count": 101,
   "metadata": {},
   "outputs": [
    {
     "data": {
      "text/plain": [
       "<Figure size 576x288 with 0 Axes>"
      ]
     },
     "metadata": {},
     "output_type": "display_data"
    },
    {
     "data": {
      "image/png": "[encoded data removed]",
      "text/plain": [
       "<Figure size 360x360 with 1 Axes>"
      ]
     },
     "metadata": {
      "needs_background": "light"
     },
     "output_type": "display_data"
    }
   ],
   "source": [
    "plt.figure(figsize=(8,4))\n",
    "sns.lmplot(x='Lat',y='Deaths',fit_reg=False,data=df)\n",
    "plt.show()"
   ]
  },
  {
   "cell_type": "markdown",
   "metadata": {},
   "source": [
    "# Recovered vs Deaths"
   ]
  },
  {
   "cell_type": "code",
   "execution_count": 102,
   "metadata": {},
   "outputs": [
    {
     "data": {
      "text/plain": [
       "<Figure size 576x288 with 0 Axes>"
      ]
     },
     "metadata": {},
     "output_type": "display_data"
    },
    {
     "data": {
      "image/png": "[encoded data removed]",
      "text/plain": [
       "<Figure size 360x360 with 1 Axes>"
      ]
     },
     "metadata": {
      "needs_background": "light"
     },
     "output_type": "display_data"
    }
   ],
   "source": [
    "plt.figure(figsize=(8,4))\n",
    "sns.lmplot(x='Recovered',y='Deaths',fit_reg=False,data=df)\n",
    "plt.show()"
   ]
  },
  {
   "cell_type": "markdown",
   "metadata": {},
   "source": [
    "# Incident_Rate vs Deaths"
   ]
  },
  {
   "cell_type": "code",
   "execution_count": 103,
   "metadata": {},
   "outputs": [
    {
     "data": {
      "text/plain": [
       "<Figure size 576x288 with 0 Axes>"
      ]
     },
     "metadata": {},
     "output_type": "display_data"
    },
    {
     "data": {
      "image/png": "[encoded data removed]",
      "text/plain": [
       "<Figure size 360x360 with 1 Axes>"
      ]
     },
     "metadata": {
      "needs_background": "light"
     },
     "output_type": "display_data"
    }
   ],
   "source": [
    "plt.figure(figsize=(8,4))\n",
    "sns.lmplot(x='Incident_Rate',y='Deaths',fit_reg=False,data=df)\n",
    "plt.show()"
   ]
  },
  {
   "cell_type": "markdown",
   "metadata": {},
   "source": [
    "# People_Tested vs Deaths"
   ]
  },
  {
   "cell_type": "code",
   "execution_count": 104,
   "metadata": {},
   "outputs": [
    {
     "data": {
      "text/plain": [
       "<Figure size 576x288 with 0 Axes>"
      ]
     },
     "metadata": {},
     "output_type": "display_data"
    },
    {
     "data": {
      "image/png": "[encoded data removed]",
      "text/plain": [
       "<Figure size 360x360 with 1 Axes>"
      ]
     },
     "metadata": {
      "needs_background": "light"
     },
     "output_type": "display_data"
    }
   ],
   "source": [
    "plt.figure(figsize=(8,4))\n",
    "sns.lmplot(x='People_Tested',y='Deaths',fit_reg=False,data=df)\n",
    "plt.show()"
   ]
  },
  {
   "cell_type": "markdown",
   "metadata": {},
   "source": [
    "# People_Hospitalized vs Deaths"
   ]
  },
  {
   "cell_type": "code",
   "execution_count": 105,
   "metadata": {},
   "outputs": [
    {
     "data": {
      "text/plain": [
       "<Figure size 576x288 with 0 Axes>"
      ]
     },
     "metadata": {},
     "output_type": "display_data"
    },
    {
     "data": {
      "image/png": "[encoded data removed]",
      "text/plain": [
       "<Figure size 360x360 with 1 Axes>"
      ]
     },
     "metadata": {
      "needs_background": "light"
     },
     "output_type": "display_data"
    }
   ],
   "source": [
    "plt.figure(figsize=(8,4))\n",
    "sns.lmplot(x='People_Hospitalized',y='Deaths',fit_reg=False,data=df)\n",
    "plt.show()"
   ]
  },
  {
   "cell_type": "markdown",
   "metadata": {},
   "source": [
    "# Testing_Rate vs Deaths"
   ]
  },
  {
   "cell_type": "code",
   "execution_count": 106,
   "metadata": {},
   "outputs": [
    {
     "data": {
      "text/plain": [
       "<Figure size 576x288 with 0 Axes>"
      ]
     },
     "metadata": {},
     "output_type": "display_data"
    },
    {
     "data": {
      "image/png": "[encoded data removed]",
      "text/plain": [
       "<Figure size 360x360 with 1 Axes>"
      ]
     },
     "metadata": {
      "needs_background": "light"
     },
     "output_type": "display_data"
    }
   ],
   "source": [
    "plt.figure(figsize=(8,4))\n",
    "sns.lmplot(x='Testing_Rate',y='Deaths',fit_reg=False,data=df)\n",
    "plt.show()"
   ]
  },
  {
   "cell_type": "markdown",
   "metadata": {},
   "source": [
    "# Hospitalization_Rate vs Deaths"
   ]
  },
  {
   "cell_type": "code",
   "execution_count": 107,
   "metadata": {},
   "outputs": [
    {
     "data": {
      "text/plain": [
       "<Figure size 576x288 with 0 Axes>"
      ]
     },
     "metadata": {},
     "output_type": "display_data"
    },
    {
     "data": {
      "image/png": "[encoded data removed]",
      "text/plain": [
       "<Figure size 360x360 with 1 Axes>"
      ]
     },
     "metadata": {
      "needs_background": "light"
     },
     "output_type": "display_data"
    }
   ],
   "source": [
    "plt.figure(figsize=(8,4))\n",
    "sns.lmplot(x='Hospitalization_Rate',y='Deaths',fit_reg=False,data=df)\n",
    "plt.show()"
   ]
  },
  {
   "cell_type": "markdown",
   "metadata": {},
   "source": [
    "# Incident_Rate vs Recovered"
   ]
  },
  {
   "cell_type": "code",
   "execution_count": 108,
   "metadata": {},
   "outputs": [
    {
     "data": {
      "text/plain": [
       "<Figure size 576x288 with 0 Axes>"
      ]
     },
     "metadata": {},
     "output_type": "display_data"
    },
    {
     "data": {
      "image/png": "[encoded data removed]",
      "text/plain": [
       "<Figure size 360x360 with 1 Axes>"
      ]
     },
     "metadata": {
      "needs_background": "light"
     },
     "output_type": "display_data"
    }
   ],
   "source": [
    "plt.figure(figsize=(8,4))\n",
    "sns.lmplot(x='Incident_Rate',y='Recovered',fit_reg=False,data=df)\n",
    "plt.show()"
   ]
  },
  {
   "cell_type": "markdown",
   "metadata": {},
   "source": [
    "# People_Tested vs Recovered"
   ]
  },
  {
   "cell_type": "code",
   "execution_count": 109,
   "metadata": {},
   "outputs": [
    {
     "data": {
      "text/plain": [
       "<Figure size 576x288 with 0 Axes>"
      ]
     },
     "metadata": {},
     "output_type": "display_data"
    },
    {
     "data": {
      "image/png": "[encoded data removed]",
      "text/plain": [
       "<Figure size 360x360 with 1 Axes>"
      ]
     },
     "metadata": {
      "needs_background": "light"
     },
     "output_type": "display_data"
    }
   ],
   "source": [
    "plt.figure(figsize=(8,4))\n",
    "sns.lmplot(x='People_Tested',y='Recovered',fit_reg=False,data=df)\n",
    "plt.show()"
   ]
  },
  {
   "cell_type": "markdown",
   "metadata": {},
   "source": [
    "# People_Hospitalized vs Recovered"
   ]
  },
  {
   "cell_type": "code",
   "execution_count": 110,
   "metadata": {},
   "outputs": [
    {
     "data": {
      "text/plain": [
       "<Figure size 576x288 with 0 Axes>"
      ]
     },
     "metadata": {},
     "output_type": "display_data"
    },
    {
     "data": {
      "image/png": "[encoded data removed]",
      "text/plain": [
       "<Figure size 360x360 with 1 Axes>"
      ]
     },
     "metadata": {
      "needs_background": "light"
     },
     "output_type": "display_data"
    }
   ],
   "source": [
    "plt.figure(figsize=(8,4))\n",
    "sns.lmplot(x='People_Hospitalized',y='Recovered',fit_reg=False,data=df)\n",
    "plt.show()"
   ]
  },
  {
   "cell_type": "markdown",
   "metadata": {},
   "source": [
    "# People_Tested vs Incident_Rate"
   ]
  },
  {
   "cell_type": "code",
   "execution_count": 111,
   "metadata": {},
   "outputs": [
    {
     "data": {
      "text/plain": [
       "<Figure size 576x288 with 0 Axes>"
      ]
     },
     "metadata": {},
     "output_type": "display_data"
    },
    {
     "data": {
      "image/png": "[encoded data removed]",
      "text/plain": [
       "<Figure size 360x360 with 1 Axes>"
      ]
     },
     "metadata": {
      "needs_background": "light"
     },
     "output_type": "display_data"
    }
   ],
   "source": [
    "plt.figure(figsize=(8,4))\n",
    "sns.lmplot(x='People_Tested',y='Incident_Rate',fit_reg=False,data=df)\n",
    "plt.show()"
   ]
  },
  {
   "cell_type": "markdown",
   "metadata": {},
   "source": [
    "# People_Hospitalized vs Incident_Rate"
   ]
  },
  {
   "cell_type": "code",
   "execution_count": 112,
   "metadata": {},
   "outputs": [
    {
     "data": {
      "text/plain": [
       "<Figure size 576x288 with 0 Axes>"
      ]
     },
     "metadata": {},
     "output_type": "display_data"
    },
    {
     "data": {
      "image/png": "[encoded data removed]",
      "text/plain": [
       "<Figure size 360x360 with 1 Axes>"
      ]
     },
     "metadata": {
      "needs_background": "light"
     },
     "output_type": "display_data"
    }
   ],
   "source": [
    "plt.figure(figsize=(8,4))\n",
    "sns.lmplot(x='People_Hospitalized',y='Incident_Rate',fit_reg=False,data=df)\n",
    "plt.show()"
   ]
  },
  {
   "cell_type": "markdown",
   "metadata": {},
   "source": [
    "# Testing_Rate vs Incident_Rate"
   ]
  },
  {
   "cell_type": "code",
   "execution_count": 113,
   "metadata": {},
   "outputs": [
    {
     "data": {
      "text/plain": [
       "<Figure size 576x288 with 0 Axes>"
      ]
     },
     "metadata": {},
     "output_type": "display_data"
    },
    {
     "data": {
      "image/png": "[encoded data removed]",
      "text/plain": [
       "<Figure size 360x360 with 1 Axes>"
      ]
     },
     "metadata": {
      "needs_background": "light"
     },
     "output_type": "display_data"
    }
   ],
   "source": [
    "plt.figure(figsize=(8,4))\n",
    "sns.lmplot(x='Testing_Rate',y='Incident_Rate',fit_reg=False,data=df)\n",
    "plt.show()"
   ]
  },
  {
   "cell_type": "markdown",
   "metadata": {},
   "source": [
    "# People_Hospitalized vs People_Tested"
   ]
  },
  {
   "cell_type": "code",
   "execution_count": 114,
   "metadata": {},
   "outputs": [
    {
     "data": {
      "text/plain": [
       "<Figure size 576x288 with 0 Axes>"
      ]
     },
     "metadata": {},
     "output_type": "display_data"
    },
    {
     "data": {
      "image/png": "[encoded data removed]",
      "text/plain": [
       "<Figure size 360x360 with 1 Axes>"
      ]
     },
     "metadata": {
      "needs_background": "light"
     },
     "output_type": "display_data"
    }
   ],
   "source": [
    "plt.figure(figsize=(8,4))\n",
    "sns.lmplot(x='People_Hospitalized',y='People_Tested',fit_reg=False,data=df)\n",
    "plt.show()"
   ]
  },
  {
   "cell_type": "markdown",
   "metadata": {},
   "source": [
    "# Check Outliers"
   ]
  },
  {
   "cell_type": "code",
   "execution_count": 32,
   "metadata": {},
   "outputs": [
    {
     "data": {
      "image/png": "[encoded data removed]",
      "text/plain": [
       "<Figure size 936x936 with 20 Axes>"
      ]
     },
     "metadata": {
      "needs_background": "light"
     },
     "output_type": "display_data"
    }
   ],
   "source": [
    "df.plot(kind='box',subplots=True,layout=(4,5),color='green',figsize=(13,13))\n",
    "plt.tight_layout()"
   ]
  },
  {
   "cell_type": "markdown",
   "metadata": {},
   "source": [
    "Observations : \n",
    "    \n",
    "    Outliers are present in all the columns"
   ]
  },
  {
   "cell_type": "code",
   "execution_count": 33,
   "metadata": {},
   "outputs": [],
   "source": [
    "#df.drop([\"Lat\"], axis = 1,inplace=True)"
   ]
  },
  {
   "cell_type": "markdown",
   "metadata": {},
   "source": [
    "# Skewness"
   ]
  },
  {
   "cell_type": "markdown",
   "metadata": {},
   "source": [
    "### Check the distribution of Skewness"
   ]
  },
  {
   "cell_type": "code",
   "execution_count": 34,
   "metadata": {},
   "outputs": [
    {
     "data": {
      "image/png": "[encoded data removed]",
      "text/plain": [
       "<Figure size 432x288 with 1 Axes>"
      ]
     },
     "metadata": {
      "needs_background": "light"
     },
     "output_type": "display_data"
    },
    {
     "data": {
      "image/png": "[encoded data removed]",
      "text/plain": [
       "<Figure size 432x288 with 1 Axes>"
      ]
     },
     "metadata": {
      "needs_background": "light"
     },
     "output_type": "display_data"
    },
    {
     "data": {
      "image/png": "[encoded data removed]",
      "text/plain": [
       "<Figure size 432x288 with 1 Axes>"
      ]
     },
     "metadata": {
      "needs_background": "light"
     },
     "output_type": "display_data"
    },
    {
     "data": {
      "image/png": "[encoded data removed]",
      "text/plain": [
       "<Figure size 432x288 with 1 Axes>"
      ]
     },
     "metadata": {
      "needs_background": "light"
     },
     "output_type": "display_data"
    },
    {
     "data": {
      "image/png": "[encoded data removed]",
      "text/plain": [
       "<Figure size 432x288 with 1 Axes>"
      ]
     },
     "metadata": {
      "needs_background": "light"
     },
     "output_type": "display_data"
    },
    {
     "data": {
      "image/png": "[encoded data removed]",
      "text/plain": [
       "<Figure size 432x288 with 1 Axes>"
      ]
     },
     "metadata": {
      "needs_background": "light"
     },
     "output_type": "display_data"
    },
    {
     "data": {
      "image/png": "[encoded data removed]",
      "text/plain": [
       "<Figure size 432x288 with 1 Axes>"
      ]
     },
     "metadata": {
      "needs_background": "light"
     },
     "output_type": "display_data"
    },
    {
     "data": {
      "image/png": "[encoded data removed]",
      "text/plain": [
       "<Figure size 432x288 with 1 Axes>"
      ]
     },
     "metadata": {
      "needs_background": "light"
     },
     "output_type": "display_data"
    },
    {
     "data": {
      "image/png": "[encoded data removed]",
      "text/plain": [
       "<Figure size 432x288 with 1 Axes>"
      ]
     },
     "metadata": {
      "needs_background": "light"
     },
     "output_type": "display_data"
    },
    {
     "data": {
      "image/png": "[encoded data removed]",
      "text/plain": [
       "<Figure size 432x288 with 1 Axes>"
      ]
     },
     "metadata": {
      "needs_background": "light"
     },
     "output_type": "display_data"
    }
   ],
   "source": [
    "for col in df.describe().columns:           #We have used df.describe() because we want the skewness only for numeric\n",
    "    sns.distplot(df[col],color='r')\n",
    "    plt.show()"
   ]
  },
  {
   "cell_type": "code",
   "execution_count": 35,
   "metadata": {
    "scrolled": true
   },
   "outputs": [
    {
     "data": {
      "text/plain": [
       "Lat                    -2.250097\n",
       "Long_                   3.567919\n",
       "Deaths                  5.489201\n",
       "Recovered               3.647693\n",
       "Incident_Rate           1.988351\n",
       "People_Tested           2.829700\n",
       "People_Hospitalized     6.869437\n",
       "ISO3                    3.943557\n",
       "Testing_Rate            1.313407\n",
       "Hospitalization_Rate    0.867341\n",
       "dtype: float64"
      ]
     },
     "execution_count": 35,
     "metadata": {},
     "output_type": "execute_result"
    }
   ],
   "source": [
    "df.skew()"
   ]
  },
  {
   "cell_type": "code",
   "execution_count": null,
   "metadata": {},
   "outputs": [],
   "source": []
  },
  {
   "cell_type": "markdown",
   "metadata": {},
   "source": [
    "### Treating Skewness via root method and cube root method"
   ]
  },
  {
   "cell_type": "code",
   "execution_count": 36,
   "metadata": {},
   "outputs": [],
   "source": [
    "df.skew()\n",
    "for col in df.skew().index:\n",
    "    if col in df.describe().columns:\n",
    "        if df[col].skew()>0.55:\n",
    "            df[col]=np.sqrt(df[col])\n",
    "        if df[col].skew()<-0.55:\n",
    "            df[col]=np.cbrt(df[col])"
   ]
  },
  {
   "cell_type": "code",
   "execution_count": 37,
   "metadata": {},
   "outputs": [
    {
     "data": {
      "text/plain": [
       "Lat                    -6.316456\n",
       "Long_                        NaN\n",
       "Deaths                  2.496421\n",
       "Recovered               1.431056\n",
       "Incident_Rate           0.924150\n",
       "People_Tested           1.182962\n",
       "People_Hospitalized     3.148527\n",
       "ISO3                    3.367736\n",
       "Testing_Rate           -0.261124\n",
       "Hospitalization_Rate    0.211792\n",
       "dtype: float64"
      ]
     },
     "execution_count": 37,
     "metadata": {},
     "output_type": "execute_result"
    }
   ],
   "source": [
    "df.skew()"
   ]
  },
  {
   "cell_type": "code",
   "execution_count": 38,
   "metadata": {},
   "outputs": [
    {
     "data": {
      "text/plain": [
       "Lat                     False\n",
       "Long_                    True\n",
       "Deaths                  False\n",
       "Recovered               False\n",
       "Incident_Rate           False\n",
       "People_Tested           False\n",
       "People_Hospitalized     False\n",
       "ISO3                    False\n",
       "Testing_Rate            False\n",
       "Hospitalization_Rate    False\n",
       "dtype: bool"
      ]
     },
     "execution_count": 38,
     "metadata": {},
     "output_type": "execute_result"
    }
   ],
   "source": [
    "df.isnull().any()"
   ]
  },
  {
   "cell_type": "code",
   "execution_count": 39,
   "metadata": {},
   "outputs": [
    {
     "data": {
      "text/html": [
       "<div>\n",
       "<style scoped>\n",
       "    .dataframe tbody tr th:only-of-type {\n",
       "        vertical-align: middle;\n",
       "    }\n",
       "\n",
       "    .dataframe tbody tr th {\n",
       "        vertical-align: top;\n",
       "    }\n",
       "\n",
       "    .dataframe thead th {\n",
       "        text-align: right;\n",
       "    }\n",
       "</style>\n",
       "<table border=\"1\" class=\"dataframe\">\n",
       "  <thead>\n",
       "    <tr style=\"text-align: right;\">\n",
       "      <th></th>\n",
       "      <th>Lat</th>\n",
       "      <th>Long_</th>\n",
       "      <th>Deaths</th>\n",
       "      <th>Recovered</th>\n",
       "      <th>Incident_Rate</th>\n",
       "      <th>People_Tested</th>\n",
       "      <th>People_Hospitalized</th>\n",
       "      <th>ISO3</th>\n",
       "      <th>Testing_Rate</th>\n",
       "      <th>Hospitalization_Rate</th>\n",
       "    </tr>\n",
       "  </thead>\n",
       "  <tbody>\n",
       "    <tr>\n",
       "      <th>0</th>\n",
       "      <td>3.185291</td>\n",
       "      <td>NaN</td>\n",
       "      <td>22.847319</td>\n",
       "      <td>83.710385</td>\n",
       "      <td>16.315463</td>\n",
       "      <td>405.524352</td>\n",
       "      <td>38.639358</td>\n",
       "      <td>0.0</td>\n",
       "      <td>57.913232</td>\n",
       "      <td>3.382138</td>\n",
       "    </tr>\n",
       "    <tr>\n",
       "      <th>1</th>\n",
       "      <td>3.944455</td>\n",
       "      <td>NaN</td>\n",
       "      <td>3.162278</td>\n",
       "      <td>18.761663</td>\n",
       "      <td>7.403749</td>\n",
       "      <td>192.470777</td>\n",
       "      <td>69.981816</td>\n",
       "      <td>0.0</td>\n",
       "      <td>71.161366</td>\n",
       "      <td>3.787155</td>\n",
       "    </tr>\n",
       "    <tr>\n",
       "      <th>2</th>\n",
       "      <td>-2.425594</td>\n",
       "      <td>NaN</td>\n",
       "      <td>0.000000</td>\n",
       "      <td>83.710385</td>\n",
       "      <td>0.000000</td>\n",
       "      <td>11.135529</td>\n",
       "      <td>69.981816</td>\n",
       "      <td>1.0</td>\n",
       "      <td>14.928404</td>\n",
       "      <td>3.787155</td>\n",
       "    </tr>\n",
       "    <tr>\n",
       "      <th>3</th>\n",
       "      <td>3.231007</td>\n",
       "      <td>NaN</td>\n",
       "      <td>27.331301</td>\n",
       "      <td>61.424751</td>\n",
       "      <td>14.310445</td>\n",
       "      <td>406.737016</td>\n",
       "      <td>42.332021</td>\n",
       "      <td>0.0</td>\n",
       "      <td>47.674515</td>\n",
       "      <td>3.467276</td>\n",
       "    </tr>\n",
       "    <tr>\n",
       "      <th>4</th>\n",
       "      <td>3.270122</td>\n",
       "      <td>NaN</td>\n",
       "      <td>10.344080</td>\n",
       "      <td>62.064483</td>\n",
       "      <td>12.875667</td>\n",
       "      <td>310.254734</td>\n",
       "      <td>23.130067</td>\n",
       "      <td>0.0</td>\n",
       "      <td>56.477167</td>\n",
       "      <td>3.270105</td>\n",
       "    </tr>\n",
       "  </tbody>\n",
       "</table>\n",
       "</div>"
      ],
      "text/plain": [
       "        Lat  Long_     Deaths  Recovered  Incident_Rate  People_Tested  \\\n",
       "0  3.185291    NaN  22.847319  83.710385      16.315463     405.524352   \n",
       "1  3.944455    NaN   3.162278  18.761663       7.403749     192.470777   \n",
       "2 -2.425594    NaN   0.000000  83.710385       0.000000      11.135529   \n",
       "3  3.231007    NaN  27.331301  61.424751      14.310445     406.737016   \n",
       "4  3.270122    NaN  10.344080  62.064483      12.875667     310.254734   \n",
       "\n",
       "   People_Hospitalized  ISO3  Testing_Rate  Hospitalization_Rate  \n",
       "0            38.639358   0.0     57.913232              3.382138  \n",
       "1            69.981816   0.0     71.161366              3.787155  \n",
       "2            69.981816   1.0     14.928404              3.787155  \n",
       "3            42.332021   0.0     47.674515              3.467276  \n",
       "4            23.130067   0.0     56.477167              3.270105  "
      ]
     },
     "execution_count": 39,
     "metadata": {},
     "output_type": "execute_result"
    }
   ],
   "source": [
    "df.head()"
   ]
  },
  {
   "cell_type": "code",
   "execution_count": 40,
   "metadata": {},
   "outputs": [
    {
     "data": {
      "text/plain": [
       "Lat                     57\n",
       "Long_                    2\n",
       "Deaths                  56\n",
       "Recovered               43\n",
       "Incident_Rate           57\n",
       "People_Tested           57\n",
       "People_Hospitalized     34\n",
       "ISO3                     6\n",
       "Testing_Rate            57\n",
       "Hospitalization_Rate    34\n",
       "dtype: int64"
      ]
     },
     "execution_count": 40,
     "metadata": {},
     "output_type": "execute_result"
    }
   ],
   "source": [
    "df.nunique()"
   ]
  },
  {
   "cell_type": "code",
   "execution_count": 41,
   "metadata": {
    "scrolled": true
   },
   "outputs": [
    {
     "data": {
      "text/plain": [
       "<AxesSubplot:>"
      ]
     },
     "execution_count": 41,
     "metadata": {},
     "output_type": "execute_result"
    },
    {
     "data": {
      "image/png": "[encoded data removed]",
      "text/plain": [
       "<Figure size 576x432 with 1 Axes>"
      ]
     },
     "metadata": {
      "needs_background": "light"
     },
     "output_type": "display_data"
    }
   ],
   "source": [
    "plt.figure(figsize=(8,6))\n",
    "sns.heatmap(df.isnull(),yticklabels=False,cbar=False)"
   ]
  },
  {
   "cell_type": "markdown",
   "metadata": {},
   "source": [
    "### Drop Long_ column"
   ]
  },
  {
   "cell_type": "code",
   "execution_count": 42,
   "metadata": {},
   "outputs": [
    {
     "data": {
      "text/plain": [
       "Index(['Lat', 'Long_', 'Deaths', 'Recovered', 'Incident_Rate', 'People_Tested',\n",
       "       'People_Hospitalized', 'ISO3', 'Testing_Rate', 'Hospitalization_Rate'],\n",
       "      dtype='object')"
      ]
     },
     "execution_count": 42,
     "metadata": {},
     "output_type": "execute_result"
    }
   ],
   "source": [
    "df.columns"
   ]
  },
  {
   "cell_type": "code",
   "execution_count": 43,
   "metadata": {},
   "outputs": [],
   "source": [
    "df.drop(['Long_'], axis = 1,inplace=True)"
   ]
  },
  {
   "cell_type": "markdown",
   "metadata": {},
   "source": [
    "# Removing Outliers"
   ]
  },
  {
   "cell_type": "markdown",
   "metadata": {},
   "source": [
    "### z-score"
   ]
  },
  {
   "cell_type": "code",
   "execution_count": 44,
   "metadata": {},
   "outputs": [],
   "source": [
    "from scipy.stats import zscore\n",
    "import numpy as np\n",
    "z=np.abs(zscore(df))\n",
    "threshold=3\n",
    "df_new=df[(z<3).all(axis=1)]"
   ]
  },
  {
   "cell_type": "markdown",
   "metadata": {},
   "source": [
    "### Checking shape"
   ]
  },
  {
   "cell_type": "code",
   "execution_count": 45,
   "metadata": {
    "scrolled": true
   },
   "outputs": [
    {
     "name": "stdout",
     "output_type": "stream",
     "text": [
      "(58, 9) \t\t (51, 9)\n"
     ]
    }
   ],
   "source": [
    "print(df.shape,\"\\t\\t\",df_new.shape)"
   ]
  },
  {
   "cell_type": "markdown",
   "metadata": {},
   "source": [
    "### Percentage Loss"
   ]
  },
  {
   "cell_type": "code",
   "execution_count": 46,
   "metadata": {},
   "outputs": [
    {
     "name": "stdout",
     "output_type": "stream",
     "text": [
      "12.068965517241379\n"
     ]
    }
   ],
   "source": [
    "data_loose=(7/58)*100\n",
    "print(data_loose)"
   ]
  },
  {
   "cell_type": "markdown",
   "metadata": {},
   "source": [
    "It's big loose of data. So, We will continue our model with outliers"
   ]
  },
  {
   "cell_type": "markdown",
   "metadata": {},
   "source": [
    "### IQR"
   ]
  },
  {
   "cell_type": "code",
   "execution_count": 47,
   "metadata": {},
   "outputs": [
    {
     "name": "stdout",
     "output_type": "stream",
     "text": [
      "Lat                       0.214824\n",
      "Deaths                   28.730478\n",
      "Recovered                47.909219\n",
      "Incident_Rate             9.066335\n",
      "People_Tested           296.186771\n",
      "People_Hospitalized      31.844648\n",
      "ISO3                      0.000000\n",
      "Testing_Rate             15.625242\n",
      "Hospitalization_Rate      0.361545\n",
      "dtype: float64\n",
      "(35, 9)\n"
     ]
    }
   ],
   "source": [
    "q1=df.quantile(0.25)\n",
    "q3=df.quantile(0.75)\n",
    "IQR=q3-q1\n",
    "print(IQR)\n",
    "df_new1=df[~((df<(q1-1.5*IQR))|(df>(q3+1.5*IQR))).any(axis=1)]\n",
    "print(df_new1.shape)"
   ]
  },
  {
   "cell_type": "markdown",
   "metadata": {},
   "source": [
    "### Percentage Loss"
   ]
  },
  {
   "cell_type": "code",
   "execution_count": 48,
   "metadata": {},
   "outputs": [
    {
     "name": "stdout",
     "output_type": "stream",
     "text": [
      "39.6551724137931\n"
     ]
    }
   ],
   "source": [
    "data_loose=(23/58)*100\n",
    "print(data_loose)"
   ]
  },
  {
   "cell_type": "markdown",
   "metadata": {},
   "source": [
    "It's big loose of data. So, We will continue our model with outliers"
   ]
  },
  {
   "cell_type": "markdown",
   "metadata": {},
   "source": [
    "# Model Training"
   ]
  },
  {
   "cell_type": "code",
   "execution_count": 49,
   "metadata": {},
   "outputs": [
    {
     "data": {
      "text/html": [
       "<div>\n",
       "<style scoped>\n",
       "    .dataframe tbody tr th:only-of-type {\n",
       "        vertical-align: middle;\n",
       "    }\n",
       "\n",
       "    .dataframe tbody tr th {\n",
       "        vertical-align: top;\n",
       "    }\n",
       "\n",
       "    .dataframe thead th {\n",
       "        text-align: right;\n",
       "    }\n",
       "</style>\n",
       "<table border=\"1\" class=\"dataframe\">\n",
       "  <thead>\n",
       "    <tr style=\"text-align: right;\">\n",
       "      <th></th>\n",
       "      <th>Lat</th>\n",
       "      <th>Deaths</th>\n",
       "      <th>Recovered</th>\n",
       "      <th>Incident_Rate</th>\n",
       "      <th>People_Tested</th>\n",
       "      <th>People_Hospitalized</th>\n",
       "      <th>ISO3</th>\n",
       "      <th>Testing_Rate</th>\n",
       "      <th>Hospitalization_Rate</th>\n",
       "    </tr>\n",
       "  </thead>\n",
       "  <tbody>\n",
       "    <tr>\n",
       "      <th>0</th>\n",
       "      <td>3.185291</td>\n",
       "      <td>22.847319</td>\n",
       "      <td>83.710385</td>\n",
       "      <td>16.315463</td>\n",
       "      <td>405.524352</td>\n",
       "      <td>38.639358</td>\n",
       "      <td>0.0</td>\n",
       "      <td>57.913232</td>\n",
       "      <td>3.382138</td>\n",
       "    </tr>\n",
       "    <tr>\n",
       "      <th>1</th>\n",
       "      <td>3.944455</td>\n",
       "      <td>3.162278</td>\n",
       "      <td>18.761663</td>\n",
       "      <td>7.403749</td>\n",
       "      <td>192.470777</td>\n",
       "      <td>69.981816</td>\n",
       "      <td>0.0</td>\n",
       "      <td>71.161366</td>\n",
       "      <td>3.787155</td>\n",
       "    </tr>\n",
       "    <tr>\n",
       "      <th>2</th>\n",
       "      <td>-2.425594</td>\n",
       "      <td>0.000000</td>\n",
       "      <td>83.710385</td>\n",
       "      <td>0.000000</td>\n",
       "      <td>11.135529</td>\n",
       "      <td>69.981816</td>\n",
       "      <td>1.0</td>\n",
       "      <td>14.928404</td>\n",
       "      <td>3.787155</td>\n",
       "    </tr>\n",
       "    <tr>\n",
       "      <th>3</th>\n",
       "      <td>3.231007</td>\n",
       "      <td>27.331301</td>\n",
       "      <td>61.424751</td>\n",
       "      <td>14.310445</td>\n",
       "      <td>406.737016</td>\n",
       "      <td>42.332021</td>\n",
       "      <td>0.0</td>\n",
       "      <td>47.674515</td>\n",
       "      <td>3.467276</td>\n",
       "    </tr>\n",
       "    <tr>\n",
       "      <th>4</th>\n",
       "      <td>3.270122</td>\n",
       "      <td>10.344080</td>\n",
       "      <td>62.064483</td>\n",
       "      <td>12.875667</td>\n",
       "      <td>310.254734</td>\n",
       "      <td>23.130067</td>\n",
       "      <td>0.0</td>\n",
       "      <td>56.477167</td>\n",
       "      <td>3.270105</td>\n",
       "    </tr>\n",
       "  </tbody>\n",
       "</table>\n",
       "</div>"
      ],
      "text/plain": [
       "        Lat     Deaths  Recovered  Incident_Rate  People_Tested  \\\n",
       "0  3.185291  22.847319  83.710385      16.315463     405.524352   \n",
       "1  3.944455   3.162278  18.761663       7.403749     192.470777   \n",
       "2 -2.425594   0.000000  83.710385       0.000000      11.135529   \n",
       "3  3.231007  27.331301  61.424751      14.310445     406.737016   \n",
       "4  3.270122  10.344080  62.064483      12.875667     310.254734   \n",
       "\n",
       "   People_Hospitalized  ISO3  Testing_Rate  Hospitalization_Rate  \n",
       "0            38.639358   0.0     57.913232              3.382138  \n",
       "1            69.981816   0.0     71.161366              3.787155  \n",
       "2            69.981816   1.0     14.928404              3.787155  \n",
       "3            42.332021   0.0     47.674515              3.467276  \n",
       "4            23.130067   0.0     56.477167              3.270105  "
      ]
     },
     "execution_count": 49,
     "metadata": {},
     "output_type": "execute_result"
    }
   ],
   "source": [
    "df.head()"
   ]
  },
  {
   "cell_type": "markdown",
   "metadata": {},
   "source": [
    "### Spilitting the data into input and output variable"
   ]
  },
  {
   "cell_type": "code",
   "execution_count": 50,
   "metadata": {},
   "outputs": [
    {
     "data": {
      "text/html": [
       "<div>\n",
       "<style scoped>\n",
       "    .dataframe tbody tr th:only-of-type {\n",
       "        vertical-align: middle;\n",
       "    }\n",
       "\n",
       "    .dataframe tbody tr th {\n",
       "        vertical-align: top;\n",
       "    }\n",
       "\n",
       "    .dataframe thead th {\n",
       "        text-align: right;\n",
       "    }\n",
       "</style>\n",
       "<table border=\"1\" class=\"dataframe\">\n",
       "  <thead>\n",
       "    <tr style=\"text-align: right;\">\n",
       "      <th></th>\n",
       "      <th>Lat</th>\n",
       "      <th>Recovered</th>\n",
       "      <th>Incident_Rate</th>\n",
       "      <th>People_Tested</th>\n",
       "      <th>People_Hospitalized</th>\n",
       "      <th>ISO3</th>\n",
       "      <th>Testing_Rate</th>\n",
       "      <th>Hospitalization_Rate</th>\n",
       "    </tr>\n",
       "  </thead>\n",
       "  <tbody>\n",
       "    <tr>\n",
       "      <th>0</th>\n",
       "      <td>3.185291</td>\n",
       "      <td>83.710385</td>\n",
       "      <td>16.315463</td>\n",
       "      <td>405.524352</td>\n",
       "      <td>38.639358</td>\n",
       "      <td>0.0</td>\n",
       "      <td>57.913232</td>\n",
       "      <td>3.382138</td>\n",
       "    </tr>\n",
       "    <tr>\n",
       "      <th>1</th>\n",
       "      <td>3.944455</td>\n",
       "      <td>18.761663</td>\n",
       "      <td>7.403749</td>\n",
       "      <td>192.470777</td>\n",
       "      <td>69.981816</td>\n",
       "      <td>0.0</td>\n",
       "      <td>71.161366</td>\n",
       "      <td>3.787155</td>\n",
       "    </tr>\n",
       "    <tr>\n",
       "      <th>2</th>\n",
       "      <td>-2.425594</td>\n",
       "      <td>83.710385</td>\n",
       "      <td>0.000000</td>\n",
       "      <td>11.135529</td>\n",
       "      <td>69.981816</td>\n",
       "      <td>1.0</td>\n",
       "      <td>14.928404</td>\n",
       "      <td>3.787155</td>\n",
       "    </tr>\n",
       "    <tr>\n",
       "      <th>3</th>\n",
       "      <td>3.231007</td>\n",
       "      <td>61.424751</td>\n",
       "      <td>14.310445</td>\n",
       "      <td>406.737016</td>\n",
       "      <td>42.332021</td>\n",
       "      <td>0.0</td>\n",
       "      <td>47.674515</td>\n",
       "      <td>3.467276</td>\n",
       "    </tr>\n",
       "    <tr>\n",
       "      <th>4</th>\n",
       "      <td>3.270122</td>\n",
       "      <td>62.064483</td>\n",
       "      <td>12.875667</td>\n",
       "      <td>310.254734</td>\n",
       "      <td>23.130067</td>\n",
       "      <td>0.0</td>\n",
       "      <td>56.477167</td>\n",
       "      <td>3.270105</td>\n",
       "    </tr>\n",
       "  </tbody>\n",
       "</table>\n",
       "</div>"
      ],
      "text/plain": [
       "        Lat  Recovered  Incident_Rate  People_Tested  People_Hospitalized  \\\n",
       "0  3.185291  83.710385      16.315463     405.524352            38.639358   \n",
       "1  3.944455  18.761663       7.403749     192.470777            69.981816   \n",
       "2 -2.425594  83.710385       0.000000      11.135529            69.981816   \n",
       "3  3.231007  61.424751      14.310445     406.737016            42.332021   \n",
       "4  3.270122  62.064483      12.875667     310.254734            23.130067   \n",
       "\n",
       "   ISO3  Testing_Rate  Hospitalization_Rate  \n",
       "0   0.0     57.913232              3.382138  \n",
       "1   0.0     71.161366              3.787155  \n",
       "2   1.0     14.928404              3.787155  \n",
       "3   0.0     47.674515              3.467276  \n",
       "4   0.0     56.477167              3.270105  "
      ]
     },
     "execution_count": 50,
     "metadata": {},
     "output_type": "execute_result"
    }
   ],
   "source": [
    "x=df.drop(columns=['Deaths'],axis=1)\n",
    "x.head()"
   ]
  },
  {
   "cell_type": "code",
   "execution_count": 51,
   "metadata": {},
   "outputs": [
    {
     "data": {
      "text/plain": [
       "0    22.847319\n",
       "1     3.162278\n",
       "2     0.000000\n",
       "3    27.331301\n",
       "4    10.344080\n",
       "Name: Deaths, dtype: float64"
      ]
     },
     "execution_count": 51,
     "metadata": {},
     "output_type": "execute_result"
    }
   ],
   "source": [
    "y=df['Deaths']\n",
    "y.head()"
   ]
  },
  {
   "cell_type": "markdown",
   "metadata": {},
   "source": [
    "### Checking the shape of the input and output variable"
   ]
  },
  {
   "cell_type": "code",
   "execution_count": 52,
   "metadata": {},
   "outputs": [
    {
     "name": "stdout",
     "output_type": "stream",
     "text": [
      "(58, 8) \t\t (58,)\n"
     ]
    }
   ],
   "source": [
    "print(x.shape,'\\t\\t', y.shape)"
   ]
  },
  {
   "cell_type": "markdown",
   "metadata": {},
   "source": [
    "# Scaling in input variables"
   ]
  },
  {
   "cell_type": "markdown",
   "metadata": {},
   "source": [
    "#### As after using the skewness treatment null values have been appeared in the Long_ column that's why I have added the new redshit column from the default dataset"
   ]
  },
  {
   "cell_type": "code",
   "execution_count": 53,
   "metadata": {},
   "outputs": [
    {
     "data": {
      "text/html": [
       "<div>\n",
       "<style scoped>\n",
       "    .dataframe tbody tr th:only-of-type {\n",
       "        vertical-align: middle;\n",
       "    }\n",
       "\n",
       "    .dataframe tbody tr th {\n",
       "        vertical-align: top;\n",
       "    }\n",
       "\n",
       "    .dataframe thead th {\n",
       "        text-align: right;\n",
       "    }\n",
       "</style>\n",
       "<table border=\"1\" class=\"dataframe\">\n",
       "  <thead>\n",
       "    <tr style=\"text-align: right;\">\n",
       "      <th></th>\n",
       "      <th>Lat</th>\n",
       "      <th>Recovered</th>\n",
       "      <th>Incident_Rate</th>\n",
       "      <th>People_Tested</th>\n",
       "      <th>People_Hospitalized</th>\n",
       "      <th>ISO3</th>\n",
       "      <th>Testing_Rate</th>\n",
       "      <th>Hospitalization_Rate</th>\n",
       "      <th>Long_</th>\n",
       "    </tr>\n",
       "  </thead>\n",
       "  <tbody>\n",
       "    <tr>\n",
       "      <th>0</th>\n",
       "      <td>3.185291</td>\n",
       "      <td>83.710385</td>\n",
       "      <td>16.315463</td>\n",
       "      <td>405.524352</td>\n",
       "      <td>38.639358</td>\n",
       "      <td>0.000000</td>\n",
       "      <td>57.913232</td>\n",
       "      <td>3.382138</td>\n",
       "      <td>-86.9023</td>\n",
       "    </tr>\n",
       "    <tr>\n",
       "      <th>1</th>\n",
       "      <td>3.944455</td>\n",
       "      <td>18.761663</td>\n",
       "      <td>7.403749</td>\n",
       "      <td>192.470777</td>\n",
       "      <td>69.981816</td>\n",
       "      <td>0.000000</td>\n",
       "      <td>71.161366</td>\n",
       "      <td>3.787155</td>\n",
       "      <td>-152.4044</td>\n",
       "    </tr>\n",
       "    <tr>\n",
       "      <th>2</th>\n",
       "      <td>-2.425594</td>\n",
       "      <td>83.710385</td>\n",
       "      <td>0.000000</td>\n",
       "      <td>11.135529</td>\n",
       "      <td>69.981816</td>\n",
       "      <td>1.000000</td>\n",
       "      <td>14.928404</td>\n",
       "      <td>3.787155</td>\n",
       "      <td>-170.1320</td>\n",
       "    </tr>\n",
       "    <tr>\n",
       "      <th>3</th>\n",
       "      <td>3.231007</td>\n",
       "      <td>61.424751</td>\n",
       "      <td>14.310445</td>\n",
       "      <td>406.737016</td>\n",
       "      <td>42.332021</td>\n",
       "      <td>0.000000</td>\n",
       "      <td>47.674515</td>\n",
       "      <td>3.467276</td>\n",
       "      <td>-111.4312</td>\n",
       "    </tr>\n",
       "    <tr>\n",
       "      <th>4</th>\n",
       "      <td>3.270122</td>\n",
       "      <td>62.064483</td>\n",
       "      <td>12.875667</td>\n",
       "      <td>310.254734</td>\n",
       "      <td>23.130067</td>\n",
       "      <td>0.000000</td>\n",
       "      <td>56.477167</td>\n",
       "      <td>3.270105</td>\n",
       "      <td>-92.3731</td>\n",
       "    </tr>\n",
       "    <tr>\n",
       "      <th>5</th>\n",
       "      <td>3.305476</td>\n",
       "      <td>83.710385</td>\n",
       "      <td>14.752850</td>\n",
       "      <td>1174.785087</td>\n",
       "      <td>69.981816</td>\n",
       "      <td>0.000000</td>\n",
       "      <td>59.100709</td>\n",
       "      <td>3.787155</td>\n",
       "      <td>-119.6816</td>\n",
       "    </tr>\n",
       "    <tr>\n",
       "      <th>6</th>\n",
       "      <td>3.392944</td>\n",
       "      <td>58.974571</td>\n",
       "      <td>19.896435</td>\n",
       "      <td>363.093652</td>\n",
       "      <td>62.888791</td>\n",
       "      <td>0.000000</td>\n",
       "      <td>47.847039</td>\n",
       "      <td>4.165186</td>\n",
       "      <td>-105.3111</td>\n",
       "    </tr>\n",
       "    <tr>\n",
       "      <th>7</th>\n",
       "      <td>3.464895</td>\n",
       "      <td>79.145436</td>\n",
       "      <td>33.081081</td>\n",
       "      <td>436.712720</td>\n",
       "      <td>104.623133</td>\n",
       "      <td>0.000000</td>\n",
       "      <td>73.138929</td>\n",
       "      <td>5.296644</td>\n",
       "      <td>-72.7554</td>\n",
       "    </tr>\n",
       "    <tr>\n",
       "      <th>8</th>\n",
       "      <td>3.400418</td>\n",
       "      <td>62.968246</td>\n",
       "      <td>29.008223</td>\n",
       "      <td>213.100915</td>\n",
       "      <td>69.981816</td>\n",
       "      <td>0.000000</td>\n",
       "      <td>68.290211</td>\n",
       "      <td>3.787155</td>\n",
       "      <td>-75.5071</td>\n",
       "    </tr>\n",
       "    <tr>\n",
       "      <th>9</th>\n",
       "      <td>3.327414</td>\n",
       "      <td>83.710385</td>\n",
       "      <td>19.905547</td>\n",
       "      <td>475.240372</td>\n",
       "      <td>69.981816</td>\n",
       "      <td>0.000000</td>\n",
       "      <td>62.403420</td>\n",
       "      <td>3.787155</td>\n",
       "      <td>NaN</td>\n",
       "    </tr>\n",
       "    <tr>\n",
       "      <th>10</th>\n",
       "      <td>3.388235</td>\n",
       "      <td>32.542280</td>\n",
       "      <td>32.709741</td>\n",
       "      <td>201.044771</td>\n",
       "      <td>69.981816</td>\n",
       "      <td>0.000000</td>\n",
       "      <td>75.677652</td>\n",
       "      <td>3.787155</td>\n",
       "      <td>-77.0268</td>\n",
       "    </tr>\n",
       "    <tr>\n",
       "      <th>11</th>\n",
       "      <td>3.028117</td>\n",
       "      <td>83.710385</td>\n",
       "      <td>14.866883</td>\n",
       "      <td>878.264197</td>\n",
       "      <td>94.519839</td>\n",
       "      <td>0.000000</td>\n",
       "      <td>59.928157</td>\n",
       "      <td>4.338192</td>\n",
       "      <td>-81.6868</td>\n",
       "    </tr>\n",
       "    <tr>\n",
       "      <th>12</th>\n",
       "      <td>3.208849</td>\n",
       "      <td>83.710385</td>\n",
       "      <td>19.361430</td>\n",
       "      <td>634.775551</td>\n",
       "      <td>84.303025</td>\n",
       "      <td>0.000000</td>\n",
       "      <td>61.604244</td>\n",
       "      <td>4.225676</td>\n",
       "      <td>-83.6431</td>\n",
       "    </tr>\n",
       "    <tr>\n",
       "      <th>13</th>\n",
       "      <td>3.327414</td>\n",
       "      <td>83.710385</td>\n",
       "      <td>19.905547</td>\n",
       "      <td>475.240372</td>\n",
       "      <td>69.981816</td>\n",
       "      <td>0.000000</td>\n",
       "      <td>62.403420</td>\n",
       "      <td>3.787155</td>\n",
       "      <td>NaN</td>\n",
       "    </tr>\n",
       "    <tr>\n",
       "      <th>14</th>\n",
       "      <td>2.377822</td>\n",
       "      <td>11.180340</td>\n",
       "      <td>9.683569</td>\n",
       "      <td>70.512410</td>\n",
       "      <td>69.981816</td>\n",
       "      <td>1.414214</td>\n",
       "      <td>55.022540</td>\n",
       "      <td>3.787155</td>\n",
       "      <td>144.7937</td>\n",
       "    </tr>\n",
       "    <tr>\n",
       "      <th>15</th>\n",
       "      <td>2.763048</td>\n",
       "      <td>24.041631</td>\n",
       "      <td>6.738969</td>\n",
       "      <td>215.183643</td>\n",
       "      <td>9.055385</td>\n",
       "      <td>0.000000</td>\n",
       "      <td>57.186993</td>\n",
       "      <td>3.571095</td>\n",
       "      <td>-157.4983</td>\n",
       "    </tr>\n",
       "    <tr>\n",
       "      <th>16</th>\n",
       "      <td>3.536769</td>\n",
       "      <td>40.841156</td>\n",
       "      <td>11.841872</td>\n",
       "      <td>196.384826</td>\n",
       "      <td>14.662878</td>\n",
       "      <td>0.000000</td>\n",
       "      <td>46.455566</td>\n",
       "      <td>2.929063</td>\n",
       "      <td>-114.4788</td>\n",
       "    </tr>\n",
       "    <tr>\n",
       "      <th>17</th>\n",
       "      <td>3.429884</td>\n",
       "      <td>83.710385</td>\n",
       "      <td>28.150510</td>\n",
       "      <td>801.693832</td>\n",
       "      <td>69.981816</td>\n",
       "      <td>0.000000</td>\n",
       "      <td>71.217878</td>\n",
       "      <td>3.787155</td>\n",
       "      <td>-88.9861</td>\n",
       "    </tr>\n",
       "    <tr>\n",
       "      <th>18</th>\n",
       "      <td>3.415654</td>\n",
       "      <td>83.710385</td>\n",
       "      <td>20.852682</td>\n",
       "      <td>442.422875</td>\n",
       "      <td>66.249528</td>\n",
       "      <td>0.000000</td>\n",
       "      <td>53.921064</td>\n",
       "      <td>3.872057</td>\n",
       "      <td>-86.2583</td>\n",
       "    </tr>\n",
       "    <tr>\n",
       "      <th>19</th>\n",
       "      <td>3.476344</td>\n",
       "      <td>91.443972</td>\n",
       "      <td>22.250307</td>\n",
       "      <td>332.788221</td>\n",
       "      <td>69.981816</td>\n",
       "      <td>0.000000</td>\n",
       "      <td>59.246602</td>\n",
       "      <td>3.787155</td>\n",
       "      <td>-93.2105</td>\n",
       "    </tr>\n",
       "    <tr>\n",
       "      <th>20</th>\n",
       "      <td>3.377434</td>\n",
       "      <td>21.748563</td>\n",
       "      <td>17.088131</td>\n",
       "      <td>266.838903</td>\n",
       "      <td>27.568098</td>\n",
       "      <td>0.000000</td>\n",
       "      <td>49.437386</td>\n",
       "      <td>2.988950</td>\n",
       "      <td>-96.7265</td>\n",
       "    </tr>\n",
       "    <tr>\n",
       "      <th>21</th>\n",
       "      <td>3.352159</td>\n",
       "      <td>53.160135</td>\n",
       "      <td>13.520433</td>\n",
       "      <td>392.410499</td>\n",
       "      <td>44.833024</td>\n",
       "      <td>0.000000</td>\n",
       "      <td>58.708357</td>\n",
       "      <td>4.960972</td>\n",
       "      <td>-84.6701</td>\n",
       "    </tr>\n",
       "    <tr>\n",
       "      <th>22</th>\n",
       "      <td>3.147096</td>\n",
       "      <td>162.015431</td>\n",
       "      <td>27.562309</td>\n",
       "      <td>534.761629</td>\n",
       "      <td>69.981816</td>\n",
       "      <td>0.000000</td>\n",
       "      <td>78.431422</td>\n",
       "      <td>3.787155</td>\n",
       "      <td>-91.8678</td>\n",
       "    </tr>\n",
       "    <tr>\n",
       "      <th>23</th>\n",
       "      <td>3.548810</td>\n",
       "      <td>33.166248</td>\n",
       "      <td>11.632752</td>\n",
       "      <td>193.051807</td>\n",
       "      <td>15.198684</td>\n",
       "      <td>0.000000</td>\n",
       "      <td>52.655045</td>\n",
       "      <td>3.563606</td>\n",
       "      <td>-69.3819</td>\n",
       "    </tr>\n",
       "    <tr>\n",
       "      <th>24</th>\n",
       "      <td>3.393063</td>\n",
       "      <td>54.708317</td>\n",
       "      <td>26.458526</td>\n",
       "      <td>464.036636</td>\n",
       "      <td>85.982556</td>\n",
       "      <td>0.000000</td>\n",
       "      <td>59.680121</td>\n",
       "      <td>4.179479</td>\n",
       "      <td>-76.8021</td>\n",
       "    </tr>\n",
       "    <tr>\n",
       "      <th>25</th>\n",
       "      <td>3.482366</td>\n",
       "      <td>83.710385</td>\n",
       "      <td>35.928022</td>\n",
       "      <td>699.966428</td>\n",
       "      <td>94.323910</td>\n",
       "      <td>0.000000</td>\n",
       "      <td>84.311871</td>\n",
       "      <td>3.162278</td>\n",
       "      <td>-71.5301</td>\n",
       "    </tr>\n",
       "    <tr>\n",
       "      <th>26</th>\n",
       "      <td>3.512246</td>\n",
       "      <td>168.029759</td>\n",
       "      <td>23.038828</td>\n",
       "      <td>661.114211</td>\n",
       "      <td>69.981816</td>\n",
       "      <td>0.000000</td>\n",
       "      <td>66.154909</td>\n",
       "      <td>3.787155</td>\n",
       "      <td>-84.5361</td>\n",
       "    </tr>\n",
       "    <tr>\n",
       "      <th>27</th>\n",
       "      <td>3.575098</td>\n",
       "      <td>110.575766</td>\n",
       "      <td>17.700800</td>\n",
       "      <td>409.069676</td>\n",
       "      <td>48.041649</td>\n",
       "      <td>0.000000</td>\n",
       "      <td>54.471822</td>\n",
       "      <td>3.614096</td>\n",
       "      <td>-93.9002</td>\n",
       "    </tr>\n",
       "    <tr>\n",
       "      <th>28</th>\n",
       "      <td>3.199140</td>\n",
       "      <td>87.641314</td>\n",
       "      <td>20.052352</td>\n",
       "      <td>347.390270</td>\n",
       "      <td>43.600459</td>\n",
       "      <td>0.000000</td>\n",
       "      <td>63.678132</td>\n",
       "      <td>3.985643</td>\n",
       "      <td>-89.6787</td>\n",
       "    </tr>\n",
       "    <tr>\n",
       "      <th>29</th>\n",
       "      <td>3.375373</td>\n",
       "      <td>83.710385</td>\n",
       "      <td>13.705150</td>\n",
       "      <td>402.472359</td>\n",
       "      <td>69.981816</td>\n",
       "      <td>0.000000</td>\n",
       "      <td>51.373938</td>\n",
       "      <td>3.787155</td>\n",
       "      <td>-92.2884</td>\n",
       "    </tr>\n",
       "    <tr>\n",
       "      <th>30</th>\n",
       "      <td>3.606826</td>\n",
       "      <td>20.976177</td>\n",
       "      <td>6.687599</td>\n",
       "      <td>172.412297</td>\n",
       "      <td>8.062258</td>\n",
       "      <td>0.000000</td>\n",
       "      <td>52.738101</td>\n",
       "      <td>3.687591</td>\n",
       "      <td>-110.4544</td>\n",
       "    </tr>\n",
       "    <tr>\n",
       "      <th>31</th>\n",
       "      <td>3.451729</td>\n",
       "      <td>83.710385</td>\n",
       "      <td>23.978246</td>\n",
       "      <td>268.579597</td>\n",
       "      <td>69.981816</td>\n",
       "      <td>0.000000</td>\n",
       "      <td>61.065930</td>\n",
       "      <td>3.787155</td>\n",
       "      <td>-98.2681</td>\n",
       "    </tr>\n",
       "    <tr>\n",
       "      <th>32</th>\n",
       "      <td>3.371196</td>\n",
       "      <td>18.330303</td>\n",
       "      <td>15.487349</td>\n",
       "      <td>301.945359</td>\n",
       "      <td>69.981816</td>\n",
       "      <td>0.000000</td>\n",
       "      <td>54.405399</td>\n",
       "      <td>3.787155</td>\n",
       "      <td>-117.0554</td>\n",
       "    </tr>\n",
       "    <tr>\n",
       "      <th>33</th>\n",
       "      <td>3.515644</td>\n",
       "      <td>35.707142</td>\n",
       "      <td>16.866304</td>\n",
       "      <td>225.583687</td>\n",
       "      <td>19.570386</td>\n",
       "      <td>0.000000</td>\n",
       "      <td>61.176466</td>\n",
       "      <td>3.146706</td>\n",
       "      <td>-71.5639</td>\n",
       "    </tr>\n",
       "    <tr>\n",
       "      <th>34</th>\n",
       "      <td>3.428449</td>\n",
       "      <td>154.741720</td>\n",
       "      <td>41.200841</td>\n",
       "      <td>728.932782</td>\n",
       "      <td>69.981816</td>\n",
       "      <td>0.000000</td>\n",
       "      <td>77.344147</td>\n",
       "      <td>3.787155</td>\n",
       "      <td>-74.5210</td>\n",
       "    </tr>\n",
       "    <tr>\n",
       "      <th>35</th>\n",
       "      <td>3.266090</td>\n",
       "      <td>43.382024</td>\n",
       "      <td>17.356971</td>\n",
       "      <td>377.155140</td>\n",
       "      <td>33.749074</td>\n",
       "      <td>0.000000</td>\n",
       "      <td>82.364208</td>\n",
       "      <td>4.246258</td>\n",
       "      <td>-106.2485</td>\n",
       "    </tr>\n",
       "    <tr>\n",
       "      <th>36</th>\n",
       "      <td>3.480592</td>\n",
       "      <td>248.768969</td>\n",
       "      <td>42.680443</td>\n",
       "      <td>1227.125095</td>\n",
       "      <td>276.423588</td>\n",
       "      <td>0.000000</td>\n",
       "      <td>87.981079</td>\n",
       "      <td>4.643513</td>\n",
       "      <td>-74.9481</td>\n",
       "    </tr>\n",
       "    <tr>\n",
       "      <th>37</th>\n",
       "      <td>3.290579</td>\n",
       "      <td>107.874928</td>\n",
       "      <td>13.899305</td>\n",
       "      <td>526.880442</td>\n",
       "      <td>69.981816</td>\n",
       "      <td>0.000000</td>\n",
       "      <td>51.447467</td>\n",
       "      <td>3.787155</td>\n",
       "      <td>-79.8064</td>\n",
       "    </tr>\n",
       "    <tr>\n",
       "      <th>38</th>\n",
       "      <td>3.622313</td>\n",
       "      <td>36.083237</td>\n",
       "      <td>16.580471</td>\n",
       "      <td>243.310501</td>\n",
       "      <td>11.916375</td>\n",
       "      <td>0.000000</td>\n",
       "      <td>88.138509</td>\n",
       "      <td>2.603467</td>\n",
       "      <td>-99.7840</td>\n",
       "    </tr>\n",
       "    <tr>\n",
       "      <th>39</th>\n",
       "      <td>2.471566</td>\n",
       "      <td>3.605551</td>\n",
       "      <td>6.171071</td>\n",
       "      <td>61.781874</td>\n",
       "      <td>69.981816</td>\n",
       "      <td>1.732051</td>\n",
       "      <td>83.197820</td>\n",
       "      <td>3.787155</td>\n",
       "      <td>145.6739</td>\n",
       "    </tr>\n",
       "    <tr>\n",
       "      <th>40</th>\n",
       "      <td>3.430997</td>\n",
       "      <td>83.710385</td>\n",
       "      <td>15.868974</td>\n",
       "      <td>538.078061</td>\n",
       "      <td>72.097157</td>\n",
       "      <td>0.000000</td>\n",
       "      <td>49.768523</td>\n",
       "      <td>4.202220</td>\n",
       "      <td>-82.7649</td>\n",
       "    </tr>\n",
       "    <tr>\n",
       "      <th>41</th>\n",
       "      <td>3.288583</td>\n",
       "      <td>65.314623</td>\n",
       "      <td>11.823870</td>\n",
       "      <td>379.961840</td>\n",
       "      <td>30.083218</td>\n",
       "      <td>0.000000</td>\n",
       "      <td>60.403006</td>\n",
       "      <td>4.044671</td>\n",
       "      <td>-96.9289</td>\n",
       "    </tr>\n",
       "    <tr>\n",
       "      <th>42</th>\n",
       "      <td>3.545581</td>\n",
       "      <td>37.496667</td>\n",
       "      <td>9.493125</td>\n",
       "      <td>319.607572</td>\n",
       "      <td>26.888659</td>\n",
       "      <td>0.000000</td>\n",
       "      <td>49.212714</td>\n",
       "      <td>4.361343</td>\n",
       "      <td>-122.0709</td>\n",
       "    </tr>\n",
       "    <tr>\n",
       "      <th>43</th>\n",
       "      <td>3.436707</td>\n",
       "      <td>83.710385</td>\n",
       "      <td>23.068413</td>\n",
       "      <td>591.354378</td>\n",
       "      <td>69.981816</td>\n",
       "      <td>0.000000</td>\n",
       "      <td>52.264776</td>\n",
       "      <td>3.787155</td>\n",
       "      <td>-77.2098</td>\n",
       "    </tr>\n",
       "    <tr>\n",
       "      <th>44</th>\n",
       "      <td>2.631414</td>\n",
       "      <td>83.710385</td>\n",
       "      <td>9.884435</td>\n",
       "      <td>53.535035</td>\n",
       "      <td>69.981816</td>\n",
       "      <td>2.000000</td>\n",
       "      <td>9.884435</td>\n",
       "      <td>3.787155</td>\n",
       "      <td>-66.5901</td>\n",
       "    </tr>\n",
       "    <tr>\n",
       "      <th>45</th>\n",
       "      <td>3.467201</td>\n",
       "      <td>32.093613</td>\n",
       "      <td>35.507183</td>\n",
       "      <td>347.171427</td>\n",
       "      <td>38.548671</td>\n",
       "      <td>0.000000</td>\n",
       "      <td>106.665012</td>\n",
       "      <td>3.335579</td>\n",
       "      <td>-71.5118</td>\n",
       "    </tr>\n",
       "    <tr>\n",
       "      <th>46</th>\n",
       "      <td>3.235060</td>\n",
       "      <td>73.830888</td>\n",
       "      <td>13.349151</td>\n",
       "      <td>367.509184</td>\n",
       "      <td>38.000000</td>\n",
       "      <td>0.000000</td>\n",
       "      <td>51.217551</td>\n",
       "      <td>3.967168</td>\n",
       "      <td>-80.9450</td>\n",
       "    </tr>\n",
       "    <tr>\n",
       "      <th>47</th>\n",
       "      <td>3.538348</td>\n",
       "      <td>54.981815</td>\n",
       "      <td>21.729228</td>\n",
       "      <td>174.324410</td>\n",
       "      <td>18.248288</td>\n",
       "      <td>0.000000</td>\n",
       "      <td>58.609802</td>\n",
       "      <td>2.823514</td>\n",
       "      <td>-99.4388</td>\n",
       "    </tr>\n",
       "    <tr>\n",
       "      <th>48</th>\n",
       "      <td>3.294199</td>\n",
       "      <td>108.549528</td>\n",
       "      <td>16.419744</td>\n",
       "      <td>594.989916</td>\n",
       "      <td>38.923001</td>\n",
       "      <td>0.000000</td>\n",
       "      <td>71.998843</td>\n",
       "      <td>2.868506</td>\n",
       "      <td>-86.6923</td>\n",
       "    </tr>\n",
       "    <tr>\n",
       "      <th>49</th>\n",
       "      <td>3.143220</td>\n",
       "      <td>174.186681</td>\n",
       "      <td>13.349460</td>\n",
       "      <td>877.633750</td>\n",
       "      <td>69.981816</td>\n",
       "      <td>0.000000</td>\n",
       "      <td>51.540089</td>\n",
       "      <td>3.787155</td>\n",
       "      <td>-97.5635</td>\n",
       "    </tr>\n",
       "    <tr>\n",
       "      <th>50</th>\n",
       "      <td>3.424222</td>\n",
       "      <td>66.505639</td>\n",
       "      <td>15.507732</td>\n",
       "      <td>423.867904</td>\n",
       "      <td>25.119713</td>\n",
       "      <td>0.000000</td>\n",
       "      <td>74.860309</td>\n",
       "      <td>2.860800</td>\n",
       "      <td>-111.8624</td>\n",
       "    </tr>\n",
       "    <tr>\n",
       "      <th>51</th>\n",
       "      <td>3.531576</td>\n",
       "      <td>28.705400</td>\n",
       "      <td>12.299785</td>\n",
       "      <td>158.297189</td>\n",
       "      <td>69.981816</td>\n",
       "      <td>0.000000</td>\n",
       "      <td>63.370150</td>\n",
       "      <td>3.787155</td>\n",
       "      <td>-72.7107</td>\n",
       "    </tr>\n",
       "    <tr>\n",
       "      <th>52</th>\n",
       "      <td>2.636938</td>\n",
       "      <td>7.810250</td>\n",
       "      <td>8.020279</td>\n",
       "      <td>37.188708</td>\n",
       "      <td>69.981816</td>\n",
       "      <td>2.236068</td>\n",
       "      <td>35.906742</td>\n",
       "      <td>3.787155</td>\n",
       "      <td>-64.8963</td>\n",
       "    </tr>\n",
       "    <tr>\n",
       "      <th>53</th>\n",
       "      <td>3.355158</td>\n",
       "      <td>67.253253</td>\n",
       "      <td>19.635220</td>\n",
       "      <td>461.113869</td>\n",
       "      <td>77.839579</td>\n",
       "      <td>0.000000</td>\n",
       "      <td>49.910649</td>\n",
       "      <td>4.290913</td>\n",
       "      <td>-78.1700</td>\n",
       "    </tr>\n",
       "    <tr>\n",
       "      <th>54</th>\n",
       "      <td>3.619058</td>\n",
       "      <td>83.710385</td>\n",
       "      <td>15.783860</td>\n",
       "      <td>541.405578</td>\n",
       "      <td>69.981816</td>\n",
       "      <td>0.000000</td>\n",
       "      <td>62.042719</td>\n",
       "      <td>3.787155</td>\n",
       "      <td>-121.4905</td>\n",
       "    </tr>\n",
       "    <tr>\n",
       "      <th>55</th>\n",
       "      <td>3.376399</td>\n",
       "      <td>30.822070</td>\n",
       "      <td>9.350777</td>\n",
       "      <td>283.973590</td>\n",
       "      <td>69.981816</td>\n",
       "      <td>0.000000</td>\n",
       "      <td>67.079704</td>\n",
       "      <td>3.787155</td>\n",
       "      <td>-80.9545</td>\n",
       "    </tr>\n",
       "    <tr>\n",
       "      <th>56</th>\n",
       "      <td>3.537515</td>\n",
       "      <td>87.909044</td>\n",
       "      <td>15.177865</td>\n",
       "      <td>409.527777</td>\n",
       "      <td>46.486557</td>\n",
       "      <td>0.000000</td>\n",
       "      <td>53.669936</td>\n",
       "      <td>4.013880</td>\n",
       "      <td>-89.6165</td>\n",
       "    </tr>\n",
       "    <tr>\n",
       "      <th>57</th>\n",
       "      <td>3.496759</td>\n",
       "      <td>22.978251</td>\n",
       "      <td>11.661072</td>\n",
       "      <td>137.258879</td>\n",
       "      <td>8.602325</td>\n",
       "      <td>0.000000</td>\n",
       "      <td>57.054719</td>\n",
       "      <td>3.066398</td>\n",
       "      <td>-107.3025</td>\n",
       "    </tr>\n",
       "  </tbody>\n",
       "</table>\n",
       "</div>"
      ],
      "text/plain": [
       "         Lat   Recovered  Incident_Rate  People_Tested  People_Hospitalized  \\\n",
       "0   3.185291   83.710385      16.315463     405.524352            38.639358   \n",
       "1   3.944455   18.761663       7.403749     192.470777            69.981816   \n",
       "2  -2.425594   83.710385       0.000000      11.135529            69.981816   \n",
       "3   3.231007   61.424751      14.310445     406.737016            42.332021   \n",
       "4   3.270122   62.064483      12.875667     310.254734            23.130067   \n",
       "5   3.305476   83.710385      14.752850    1174.785087            69.981816   \n",
       "6   3.392944   58.974571      19.896435     363.093652            62.888791   \n",
       "7   3.464895   79.145436      33.081081     436.712720           104.623133   \n",
       "8   3.400418   62.968246      29.008223     213.100915            69.981816   \n",
       "9   3.327414   83.710385      19.905547     475.240372            69.981816   \n",
       "10  3.388235   32.542280      32.709741     201.044771            69.981816   \n",
       "11  3.028117   83.710385      14.866883     878.264197            94.519839   \n",
       "12  3.208849   83.710385      19.361430     634.775551            84.303025   \n",
       "13  3.327414   83.710385      19.905547     475.240372            69.981816   \n",
       "14  2.377822   11.180340       9.683569      70.512410            69.981816   \n",
       "15  2.763048   24.041631       6.738969     215.183643             9.055385   \n",
       "16  3.536769   40.841156      11.841872     196.384826            14.662878   \n",
       "17  3.429884   83.710385      28.150510     801.693832            69.981816   \n",
       "18  3.415654   83.710385      20.852682     442.422875            66.249528   \n",
       "19  3.476344   91.443972      22.250307     332.788221            69.981816   \n",
       "20  3.377434   21.748563      17.088131     266.838903            27.568098   \n",
       "21  3.352159   53.160135      13.520433     392.410499            44.833024   \n",
       "22  3.147096  162.015431      27.562309     534.761629            69.981816   \n",
       "23  3.548810   33.166248      11.632752     193.051807            15.198684   \n",
       "24  3.393063   54.708317      26.458526     464.036636            85.982556   \n",
       "25  3.482366   83.710385      35.928022     699.966428            94.323910   \n",
       "26  3.512246  168.029759      23.038828     661.114211            69.981816   \n",
       "27  3.575098  110.575766      17.700800     409.069676            48.041649   \n",
       "28  3.199140   87.641314      20.052352     347.390270            43.600459   \n",
       "29  3.375373   83.710385      13.705150     402.472359            69.981816   \n",
       "30  3.606826   20.976177       6.687599     172.412297             8.062258   \n",
       "31  3.451729   83.710385      23.978246     268.579597            69.981816   \n",
       "32  3.371196   18.330303      15.487349     301.945359            69.981816   \n",
       "33  3.515644   35.707142      16.866304     225.583687            19.570386   \n",
       "34  3.428449  154.741720      41.200841     728.932782            69.981816   \n",
       "35  3.266090   43.382024      17.356971     377.155140            33.749074   \n",
       "36  3.480592  248.768969      42.680443    1227.125095           276.423588   \n",
       "37  3.290579  107.874928      13.899305     526.880442            69.981816   \n",
       "38  3.622313   36.083237      16.580471     243.310501            11.916375   \n",
       "39  2.471566    3.605551       6.171071      61.781874            69.981816   \n",
       "40  3.430997   83.710385      15.868974     538.078061            72.097157   \n",
       "41  3.288583   65.314623      11.823870     379.961840            30.083218   \n",
       "42  3.545581   37.496667       9.493125     319.607572            26.888659   \n",
       "43  3.436707   83.710385      23.068413     591.354378            69.981816   \n",
       "44  2.631414   83.710385       9.884435      53.535035            69.981816   \n",
       "45  3.467201   32.093613      35.507183     347.171427            38.548671   \n",
       "46  3.235060   73.830888      13.349151     367.509184            38.000000   \n",
       "47  3.538348   54.981815      21.729228     174.324410            18.248288   \n",
       "48  3.294199  108.549528      16.419744     594.989916            38.923001   \n",
       "49  3.143220  174.186681      13.349460     877.633750            69.981816   \n",
       "50  3.424222   66.505639      15.507732     423.867904            25.119713   \n",
       "51  3.531576   28.705400      12.299785     158.297189            69.981816   \n",
       "52  2.636938    7.810250       8.020279      37.188708            69.981816   \n",
       "53  3.355158   67.253253      19.635220     461.113869            77.839579   \n",
       "54  3.619058   83.710385      15.783860     541.405578            69.981816   \n",
       "55  3.376399   30.822070       9.350777     283.973590            69.981816   \n",
       "56  3.537515   87.909044      15.177865     409.527777            46.486557   \n",
       "57  3.496759   22.978251      11.661072     137.258879             8.602325   \n",
       "\n",
       "        ISO3  Testing_Rate  Hospitalization_Rate     Long_  \n",
       "0   0.000000     57.913232              3.382138  -86.9023  \n",
       "1   0.000000     71.161366              3.787155 -152.4044  \n",
       "2   1.000000     14.928404              3.787155 -170.1320  \n",
       "3   0.000000     47.674515              3.467276 -111.4312  \n",
       "4   0.000000     56.477167              3.270105  -92.3731  \n",
       "5   0.000000     59.100709              3.787155 -119.6816  \n",
       "6   0.000000     47.847039              4.165186 -105.3111  \n",
       "7   0.000000     73.138929              5.296644  -72.7554  \n",
       "8   0.000000     68.290211              3.787155  -75.5071  \n",
       "9   0.000000     62.403420              3.787155       NaN  \n",
       "10  0.000000     75.677652              3.787155  -77.0268  \n",
       "11  0.000000     59.928157              4.338192  -81.6868  \n",
       "12  0.000000     61.604244              4.225676  -83.6431  \n",
       "13  0.000000     62.403420              3.787155       NaN  \n",
       "14  1.414214     55.022540              3.787155  144.7937  \n",
       "15  0.000000     57.186993              3.571095 -157.4983  \n",
       "16  0.000000     46.455566              2.929063 -114.4788  \n",
       "17  0.000000     71.217878              3.787155  -88.9861  \n",
       "18  0.000000     53.921064              3.872057  -86.2583  \n",
       "19  0.000000     59.246602              3.787155  -93.2105  \n",
       "20  0.000000     49.437386              2.988950  -96.7265  \n",
       "21  0.000000     58.708357              4.960972  -84.6701  \n",
       "22  0.000000     78.431422              3.787155  -91.8678  \n",
       "23  0.000000     52.655045              3.563606  -69.3819  \n",
       "24  0.000000     59.680121              4.179479  -76.8021  \n",
       "25  0.000000     84.311871              3.162278  -71.5301  \n",
       "26  0.000000     66.154909              3.787155  -84.5361  \n",
       "27  0.000000     54.471822              3.614096  -93.9002  \n",
       "28  0.000000     63.678132              3.985643  -89.6787  \n",
       "29  0.000000     51.373938              3.787155  -92.2884  \n",
       "30  0.000000     52.738101              3.687591 -110.4544  \n",
       "31  0.000000     61.065930              3.787155  -98.2681  \n",
       "32  0.000000     54.405399              3.787155 -117.0554  \n",
       "33  0.000000     61.176466              3.146706  -71.5639  \n",
       "34  0.000000     77.344147              3.787155  -74.5210  \n",
       "35  0.000000     82.364208              4.246258 -106.2485  \n",
       "36  0.000000     87.981079              4.643513  -74.9481  \n",
       "37  0.000000     51.447467              3.787155  -79.8064  \n",
       "38  0.000000     88.138509              2.603467  -99.7840  \n",
       "39  1.732051     83.197820              3.787155  145.6739  \n",
       "40  0.000000     49.768523              4.202220  -82.7649  \n",
       "41  0.000000     60.403006              4.044671  -96.9289  \n",
       "42  0.000000     49.212714              4.361343 -122.0709  \n",
       "43  0.000000     52.264776              3.787155  -77.2098  \n",
       "44  2.000000      9.884435              3.787155  -66.5901  \n",
       "45  0.000000    106.665012              3.335579  -71.5118  \n",
       "46  0.000000     51.217551              3.967168  -80.9450  \n",
       "47  0.000000     58.609802              2.823514  -99.4388  \n",
       "48  0.000000     71.998843              2.868506  -86.6923  \n",
       "49  0.000000     51.540089              3.787155  -97.5635  \n",
       "50  0.000000     74.860309              2.860800 -111.8624  \n",
       "51  0.000000     63.370150              3.787155  -72.7107  \n",
       "52  2.236068     35.906742              3.787155  -64.8963  \n",
       "53  0.000000     49.910649              4.290913  -78.1700  \n",
       "54  0.000000     62.042719              3.787155 -121.4905  \n",
       "55  0.000000     67.079704              3.787155  -80.9545  \n",
       "56  0.000000     53.669936              4.013880  -89.6165  \n",
       "57  0.000000     57.054719              3.066398 -107.3025  "
      ]
     },
     "execution_count": 53,
     "metadata": {},
     "output_type": "execute_result"
    }
   ],
   "source": [
    "x=x.join(Long_)\n",
    "x"
   ]
  },
  {
   "cell_type": "code",
   "execution_count": 54,
   "metadata": {},
   "outputs": [
    {
     "data": {
      "text/plain": [
       "<AxesSubplot:>"
      ]
     },
     "execution_count": 54,
     "metadata": {},
     "output_type": "execute_result"
    },
    {
     "data": {
      "image/png": "[encoded data removed]",
      "text/plain": [
       "<Figure size 576x432 with 1 Axes>"
      ]
     },
     "metadata": {
      "needs_background": "light"
     },
     "output_type": "display_data"
    }
   ],
   "source": [
    "plt.figure(figsize=(8,6))\n",
    "sns.heatmap(x.isnull(),yticklabels=False,cbar=False)"
   ]
  },
  {
   "cell_type": "code",
   "execution_count": 55,
   "metadata": {},
   "outputs": [
    {
     "data": {
      "text/plain": [
       "Lat                     0\n",
       "Recovered               0\n",
       "Incident_Rate           0\n",
       "People_Tested           0\n",
       "People_Hospitalized     0\n",
       "ISO3                    0\n",
       "Testing_Rate            0\n",
       "Hospitalization_Rate    0\n",
       "Long_                   0\n",
       "dtype: int64"
      ]
     },
     "execution_count": 55,
     "metadata": {},
     "output_type": "execute_result"
    }
   ],
   "source": [
    "for col in ['Long_']:\n",
    "    x[col].fillna(x[col].mean(),inplace=True)\n",
    "    \n",
    "#Now check the null values\n",
    "x.isnull().sum() "
   ]
  },
  {
   "cell_type": "markdown",
   "metadata": {},
   "source": [
    "Now, There are no null values present in the testing dataset"
   ]
  },
  {
   "cell_type": "code",
   "execution_count": 56,
   "metadata": {},
   "outputs": [
    {
     "data": {
      "text/plain": [
       "Lat                     float64\n",
       "Recovered               float64\n",
       "Incident_Rate           float64\n",
       "People_Tested           float64\n",
       "People_Hospitalized     float64\n",
       "ISO3                    float64\n",
       "Testing_Rate            float64\n",
       "Hospitalization_Rate    float64\n",
       "Long_                   float64\n",
       "dtype: object"
      ]
     },
     "execution_count": 56,
     "metadata": {},
     "output_type": "execute_result"
    }
   ],
   "source": [
    "x.dtypes"
   ]
  },
  {
   "cell_type": "code",
   "execution_count": 57,
   "metadata": {},
   "outputs": [
    {
     "data": {
      "text/plain": [
       "dtype('float64')"
      ]
     },
     "execution_count": 57,
     "metadata": {},
     "output_type": "execute_result"
    }
   ],
   "source": [
    "y.dtypes"
   ]
  },
  {
   "cell_type": "code",
   "execution_count": 58,
   "metadata": {},
   "outputs": [
    {
     "data": {
      "text/html": [
       "<div>\n",
       "<style scoped>\n",
       "    .dataframe tbody tr th:only-of-type {\n",
       "        vertical-align: middle;\n",
       "    }\n",
       "\n",
       "    .dataframe tbody tr th {\n",
       "        vertical-align: top;\n",
       "    }\n",
       "\n",
       "    .dataframe thead th {\n",
       "        text-align: right;\n",
       "    }\n",
       "</style>\n",
       "<table border=\"1\" class=\"dataframe\">\n",
       "  <thead>\n",
       "    <tr style=\"text-align: right;\">\n",
       "      <th></th>\n",
       "      <th>Lat</th>\n",
       "      <th>Recovered</th>\n",
       "      <th>Incident_Rate</th>\n",
       "      <th>People_Tested</th>\n",
       "      <th>People_Hospitalized</th>\n",
       "      <th>ISO3</th>\n",
       "      <th>Testing_Rate</th>\n",
       "      <th>Hospitalization_Rate</th>\n",
       "      <th>Long_</th>\n",
       "    </tr>\n",
       "  </thead>\n",
       "  <tbody>\n",
       "    <tr>\n",
       "      <th>0</th>\n",
       "      <td>3.185291</td>\n",
       "      <td>83.710385</td>\n",
       "      <td>16.315463</td>\n",
       "      <td>405.524352</td>\n",
       "      <td>38.639358</td>\n",
       "      <td>0.0</td>\n",
       "      <td>57.913232</td>\n",
       "      <td>3.382138</td>\n",
       "      <td>-86.9023</td>\n",
       "    </tr>\n",
       "    <tr>\n",
       "      <th>1</th>\n",
       "      <td>3.944455</td>\n",
       "      <td>18.761663</td>\n",
       "      <td>7.403749</td>\n",
       "      <td>192.470777</td>\n",
       "      <td>69.981816</td>\n",
       "      <td>0.0</td>\n",
       "      <td>71.161366</td>\n",
       "      <td>3.787155</td>\n",
       "      <td>-152.4044</td>\n",
       "    </tr>\n",
       "    <tr>\n",
       "      <th>2</th>\n",
       "      <td>-2.425594</td>\n",
       "      <td>83.710385</td>\n",
       "      <td>0.000000</td>\n",
       "      <td>11.135529</td>\n",
       "      <td>69.981816</td>\n",
       "      <td>1.0</td>\n",
       "      <td>14.928404</td>\n",
       "      <td>3.787155</td>\n",
       "      <td>-170.1320</td>\n",
       "    </tr>\n",
       "    <tr>\n",
       "      <th>3</th>\n",
       "      <td>3.231007</td>\n",
       "      <td>61.424751</td>\n",
       "      <td>14.310445</td>\n",
       "      <td>406.737016</td>\n",
       "      <td>42.332021</td>\n",
       "      <td>0.0</td>\n",
       "      <td>47.674515</td>\n",
       "      <td>3.467276</td>\n",
       "      <td>-111.4312</td>\n",
       "    </tr>\n",
       "    <tr>\n",
       "      <th>4</th>\n",
       "      <td>3.270122</td>\n",
       "      <td>62.064483</td>\n",
       "      <td>12.875667</td>\n",
       "      <td>310.254734</td>\n",
       "      <td>23.130067</td>\n",
       "      <td>0.0</td>\n",
       "      <td>56.477167</td>\n",
       "      <td>3.270105</td>\n",
       "      <td>-92.3731</td>\n",
       "    </tr>\n",
       "  </tbody>\n",
       "</table>\n",
       "</div>"
      ],
      "text/plain": [
       "        Lat  Recovered  Incident_Rate  People_Tested  People_Hospitalized  \\\n",
       "0  3.185291  83.710385      16.315463     405.524352            38.639358   \n",
       "1  3.944455  18.761663       7.403749     192.470777            69.981816   \n",
       "2 -2.425594  83.710385       0.000000      11.135529            69.981816   \n",
       "3  3.231007  61.424751      14.310445     406.737016            42.332021   \n",
       "4  3.270122  62.064483      12.875667     310.254734            23.130067   \n",
       "\n",
       "   ISO3  Testing_Rate  Hospitalization_Rate     Long_  \n",
       "0   0.0     57.913232              3.382138  -86.9023  \n",
       "1   0.0     71.161366              3.787155 -152.4044  \n",
       "2   1.0     14.928404              3.787155 -170.1320  \n",
       "3   0.0     47.674515              3.467276 -111.4312  \n",
       "4   0.0     56.477167              3.270105  -92.3731  "
      ]
     },
     "execution_count": 58,
     "metadata": {},
     "output_type": "execute_result"
    }
   ],
   "source": [
    "x.head()"
   ]
  },
  {
   "cell_type": "markdown",
   "metadata": {},
   "source": [
    "# Scaling"
   ]
  },
  {
   "cell_type": "markdown",
   "metadata": {},
   "source": [
    "### StandardScaler"
   ]
  },
  {
   "cell_type": "code",
   "execution_count": 59,
   "metadata": {},
   "outputs": [],
   "source": [
    "from sklearn.preprocessing import StandardScaler\n",
    "ss=StandardScaler()\n",
    "x=ss.fit_transform(x)"
   ]
  },
  {
   "cell_type": "code",
   "execution_count": 60,
   "metadata": {},
   "outputs": [
    {
     "data": {
      "text/html": [
       "<div>\n",
       "<style scoped>\n",
       "    .dataframe tbody tr th:only-of-type {\n",
       "        vertical-align: middle;\n",
       "    }\n",
       "\n",
       "    .dataframe tbody tr th {\n",
       "        vertical-align: top;\n",
       "    }\n",
       "\n",
       "    .dataframe thead th {\n",
       "        text-align: right;\n",
       "    }\n",
       "</style>\n",
       "<table border=\"1\" class=\"dataframe\">\n",
       "  <thead>\n",
       "    <tr style=\"text-align: right;\">\n",
       "      <th></th>\n",
       "      <th>0</th>\n",
       "      <th>1</th>\n",
       "      <th>2</th>\n",
       "      <th>3</th>\n",
       "      <th>4</th>\n",
       "      <th>5</th>\n",
       "      <th>6</th>\n",
       "      <th>7</th>\n",
       "      <th>8</th>\n",
       "    </tr>\n",
       "  </thead>\n",
       "  <tbody>\n",
       "    <tr>\n",
       "      <th>0</th>\n",
       "      <td>-0.059543</td>\n",
       "      <td>0.290042</td>\n",
       "      <td>-0.185359</td>\n",
       "      <td>0.005614</td>\n",
       "      <td>-0.539349</td>\n",
       "      <td>-0.296409</td>\n",
       "      <td>-0.163245</td>\n",
       "      <td>-0.762850</td>\n",
       "      <td>-0.034998</td>\n",
       "    </tr>\n",
       "    <tr>\n",
       "      <th>1</th>\n",
       "      <td>0.890927</td>\n",
       "      <td>-1.159996</td>\n",
       "      <td>-1.214006</td>\n",
       "      <td>-0.846327</td>\n",
       "      <td>0.292274</td>\n",
       "      <td>-0.296409</td>\n",
       "      <td>0.690912</td>\n",
       "      <td>0.064874</td>\n",
       "      <td>-1.386934</td>\n",
       "    </tr>\n",
       "    <tr>\n",
       "      <th>2</th>\n",
       "      <td>-7.084342</td>\n",
       "      <td>0.290042</td>\n",
       "      <td>-2.068594</td>\n",
       "      <td>-1.571436</td>\n",
       "      <td>0.292274</td>\n",
       "      <td>1.754538</td>\n",
       "      <td>-2.934637</td>\n",
       "      <td>0.064874</td>\n",
       "      <td>-1.752824</td>\n",
       "    </tr>\n",
       "    <tr>\n",
       "      <th>3</th>\n",
       "      <td>-0.002307</td>\n",
       "      <td>-0.207505</td>\n",
       "      <td>-0.416791</td>\n",
       "      <td>0.010463</td>\n",
       "      <td>-0.441370</td>\n",
       "      <td>-0.296409</td>\n",
       "      <td>-0.823373</td>\n",
       "      <td>-0.588855</td>\n",
       "      <td>-0.541264</td>\n",
       "    </tr>\n",
       "    <tr>\n",
       "      <th>4</th>\n",
       "      <td>0.046665</td>\n",
       "      <td>-0.193222</td>\n",
       "      <td>-0.582402</td>\n",
       "      <td>-0.375342</td>\n",
       "      <td>-0.950864</td>\n",
       "      <td>-0.296409</td>\n",
       "      <td>-0.255833</td>\n",
       "      <td>-0.991811</td>\n",
       "      <td>-0.147913</td>\n",
       "    </tr>\n",
       "  </tbody>\n",
       "</table>\n",
       "</div>"
      ],
      "text/plain": [
       "          0         1         2         3         4         5         6  \\\n",
       "0 -0.059543  0.290042 -0.185359  0.005614 -0.539349 -0.296409 -0.163245   \n",
       "1  0.890927 -1.159996 -1.214006 -0.846327  0.292274 -0.296409  0.690912   \n",
       "2 -7.084342  0.290042 -2.068594 -1.571436  0.292274  1.754538 -2.934637   \n",
       "3 -0.002307 -0.207505 -0.416791  0.010463 -0.441370 -0.296409 -0.823373   \n",
       "4  0.046665 -0.193222 -0.582402 -0.375342 -0.950864 -0.296409 -0.255833   \n",
       "\n",
       "          7         8  \n",
       "0 -0.762850 -0.034998  \n",
       "1  0.064874 -1.386934  \n",
       "2  0.064874 -1.752824  \n",
       "3 -0.588855 -0.541264  \n",
       "4 -0.991811 -0.147913  "
      ]
     },
     "execution_count": 60,
     "metadata": {},
     "output_type": "execute_result"
    }
   ],
   "source": [
    "x=pd.DataFrame(x)\n",
    "x.head()"
   ]
  },
  {
   "cell_type": "markdown",
   "metadata": {},
   "source": [
    "### spliting the data into training and testing set"
   ]
  },
  {
   "cell_type": "code",
   "execution_count": 61,
   "metadata": {},
   "outputs": [],
   "source": [
    "from sklearn.model_selection import train_test_split\n",
    "x_train,x_test,y_train,y_test=train_test_split(x,y,test_size=.20,random_state=42)"
   ]
  },
  {
   "cell_type": "markdown",
   "metadata": {},
   "source": [
    "### Checking the shape"
   ]
  },
  {
   "cell_type": "code",
   "execution_count": 62,
   "metadata": {},
   "outputs": [
    {
     "name": "stdout",
     "output_type": "stream",
     "text": [
      "(46, 9) \t\t (12, 9)\n"
     ]
    }
   ],
   "source": [
    "print(x_train.shape,'\\t\\t',x_test.shape)"
   ]
  },
  {
   "cell_type": "code",
   "execution_count": 63,
   "metadata": {},
   "outputs": [
    {
     "name": "stdout",
     "output_type": "stream",
     "text": [
      "(46,) \t\t (12,)\n"
     ]
    }
   ],
   "source": [
    "print(y_train.shape,'\\t\\t',y_test.shape)"
   ]
  },
  {
   "cell_type": "markdown",
   "metadata": {},
   "source": [
    "# Importing all the model Library"
   ]
  },
  {
   "cell_type": "code",
   "execution_count": 64,
   "metadata": {},
   "outputs": [],
   "source": [
    "# Libraries for data modelling\n",
    "from sklearn.linear_model import LogisticRegression\n",
    "from sklearn.linear_model import Ridge\n",
    "from sklearn.linear_model import Lasso\n",
    "from sklearn.tree import DecisionTreeRegressor\n",
    "from sklearn.neighbors import KNeighborsRegressor\n",
    "from sklearn.naive_bayes import GaussianNB\n",
    "from sklearn.svm import SVR\n",
    "from sklearn.svm import SVC\n",
    "from sklearn.neighbors import KNeighborsRegressor\n",
    "\n",
    "#Importinf boosting models\n",
    "from sklearn.ensemble import RandomForestRegressor\n",
    "from sklearn.ensemble import AdaBoostRegressor\n",
    "from sklearn.ensemble import GradientBoostingRegressor\n",
    "from sklearn.ensemble import BaggingRegressor\n",
    "from sklearn.ensemble import ExtraTreesRegressor\n",
    "\n",
    "#Importing error metrics\n",
    "from sklearn.metrics import mean_absolute_error\n",
    "from sklearn.metrics import mean_squared_error\n",
    "from sklearn.metrics import r2_score\n",
    "from sklearn.model_selection import GridSearchCV,cross_val_score"
   ]
  },
  {
   "cell_type": "markdown",
   "metadata": {},
   "source": [
    "# All algorithms are in one Code"
   ]
  },
  {
   "cell_type": "code",
   "execution_count": 65,
   "metadata": {},
   "outputs": [],
   "source": [
    "x = x.astype(float)\n",
    "y=y.astype(int)\n",
    "\n",
    "x=pd.DataFrame(x)\n",
    "y=pd.DataFrame(y)"
   ]
  },
  {
   "cell_type": "code",
   "execution_count": 66,
   "metadata": {},
   "outputs": [
    {
     "name": "stdout",
     "output_type": "stream",
     "text": [
      "\u001b[1mR2 score of Lasso() is : \u001b[0m\n",
      "0.7023382299922662\n",
      "Training r2_score is : 86.86345483852152\n",
      "Testing r2_score is : 70.23382299922662\n",
      "Mean Absolute Eror :  11.42309482245651\n",
      "Mean Squared Eror :  265.50462218814624\n",
      "Root Mean Squared Eror :  16.29431257181923\n",
      "*******************************************************************\n",
      "\n",
      "\n",
      "\u001b[1mR2 score of Ridge() is : \u001b[0m\n",
      "0.6680311684472415\n",
      "Training r2_score is : 87.66882182099766\n",
      "Testing r2_score is : 66.80311684472416\n",
      "Mean Absolute Eror :  13.785016410894718\n",
      "Mean Squared Eror :  296.10540580124047\n",
      "Root Mean Squared Eror :  17.207713555299566\n",
      "*******************************************************************\n",
      "\n",
      "\n",
      "\u001b[1mR2 score of DecisionTreeRegressor() is : \u001b[0m\n",
      "-0.3034979232816688\n",
      "Training r2_score is : 100.0\n",
      "Testing r2_score is : -30.34979232816688\n",
      "Mean Absolute Eror :  17.360882875025858\n",
      "Mean Squared Eror :  1162.677772274689\n",
      "Root Mean Squared Eror :  34.09806112192729\n",
      "*******************************************************************\n",
      "\n",
      "\n",
      "\u001b[1mR2 score of KNeighborsRegressor() is : \u001b[0m\n",
      "0.4375475150107947\n",
      "Training r2_score is : 65.34281582137244\n",
      "Testing r2_score is : 43.75475150107947\n",
      "Mean Absolute Eror :  15.585357360246464\n",
      "Mean Squared Eror :  501.6893318949323\n",
      "Root Mean Squared Eror :  22.39842253139565\n",
      "*******************************************************************\n",
      "\n",
      "\n",
      "\u001b[1mR2 score of RandomForestRegressor() is : \u001b[0m\n",
      "0.8491251903033102\n",
      "Training r2_score is : 93.34464247207312\n",
      "Testing r2_score is : 84.91251903033103\n",
      "Mean Absolute Eror :  8.529251836632962\n",
      "Mean Squared Eror :  134.57542547431368\n",
      "Root Mean Squared Eror :  11.60066487208012\n",
      "*******************************************************************\n",
      "\n",
      "\n",
      "\u001b[1mR2 score of AdaBoostRegressor() is : \u001b[0m\n",
      "0.7033842180285601\n",
      "Training r2_score is : 96.79619207295605\n",
      "Testing r2_score is : 70.338421802856\n",
      "Mean Absolute Eror :  12.398021782923884\n",
      "Mean Squared Eror :  264.5716348636998\n",
      "Root Mean Squared Eror :  16.26565814419139\n",
      "*******************************************************************\n",
      "\n",
      "\n",
      "\u001b[1mR2 score of GradientBoostingRegressor() is : \u001b[0m\n",
      "0.8745930498472269\n",
      "Training r2_score is : 99.99157277550974\n",
      "Testing r2_score is : 87.45930498472269\n",
      "Mean Absolute Eror :  7.650694738577273\n",
      "Mean Squared Eror :  111.85892269341349\n",
      "Root Mean Squared Eror :  10.576337867778879\n",
      "*******************************************************************\n",
      "\n",
      "\n",
      "\u001b[1mR2 score of BaggingRegressor() is : \u001b[0m\n",
      "0.6708322029112812\n",
      "Training r2_score is : 94.1655316261736\n",
      "Testing r2_score is : 67.08322029112811\n",
      "Mean Absolute Eror :  11.59285928640565\n",
      "Mean Squared Eror :  293.60697411788556\n",
      "Root Mean Squared Eror :  17.134963499169924\n",
      "*******************************************************************\n",
      "\n",
      "\n",
      "\u001b[1mR2 score of ExtraTreesRegressor() is : \u001b[0m\n",
      "0.8657004150931407\n",
      "Training r2_score is : 100.0\n",
      "Testing r2_score is : 86.57004150931407\n",
      "Mean Absolute Eror :  7.416588636985193\n",
      "Mean Squared Eror :  119.79086380422358\n",
      "Root Mean Squared Eror :  10.944901269733938\n",
      "*******************************************************************\n",
      "\n",
      "\n"
     ]
    }
   ],
   "source": [
    "# Lasso(),Ridge(),GaussianNB(),DecisionTreeRegressor(),KNeighborsRegressor(),RandomForestRegressor(),AdaBoostRegressor(),GradientBoostingRegressor(),BaggingRegressor(),ExtraTreesRegressor()\n",
    "model=[Lasso(),Ridge(),DecisionTreeRegressor(),KNeighborsRegressor(),RandomForestRegressor(),AdaBoostRegressor(),GradientBoostingRegressor(),BaggingRegressor(),ExtraTreesRegressor()]\n",
    "\n",
    "for m in model:\n",
    "    m.fit(x_train,y_train)\n",
    "    m.score(x_train,y_train)\n",
    "    predm=m.predict(x_test)\n",
    "    pred_train=m.predict(x_train)\n",
    "    pred_test=m.predict(x_test)\n",
    "    print(\"\\033[1m\"+ 'R2 score of',m,'is : ' + \"\\033[0m\" )  # Make the line bold\n",
    "    print(r2_score(y_test,predm))\n",
    "    print(\"Training r2_score is :\",r2_score(y_train,pred_train)*100)\n",
    "    print(\"Testing r2_score is :\",r2_score(y_test,pred_test)*100)\n",
    "    print(\"Mean Absolute Eror : \",mean_absolute_error(y_test,predm))\n",
    "    print(\"Mean Squared Eror : \",mean_squared_error(y_test,predm))\n",
    "    print(\"Root Mean Squared Eror : \",np.sqrt(mean_squared_error(y_test,predm)))\n",
    "    print('*******************************************************************')\n",
    "    print('\\n')"
   ]
  },
  {
   "cell_type": "markdown",
   "metadata": {},
   "source": [
    "Findings : \n",
    "    \n",
    "    \n",
    "1.R2 score of Lasso() is : 0.7023382299922662\n",
    "    \n",
    "2. R2 score of Ridge() is : 0.6680311684472415\n",
    "\n",
    "3. R2 score of DecisionTreeRegressor() is : -0.4016987543297883\n",
    "\n",
    "4. R2 score of KNeighborsRegressor() is : 0.4375475150107947\n",
    "\n",
    "5. R2 score of RandomForestRegressor() is : 0.8478932139267974\n",
    "\n",
    "6. R2 score of AdaBoostRegressor() is : 0.7607172575551588\n",
    "\n",
    "7. R2 score of GradientBoostingRegressor() is : 0.8918402681620402\n",
    "\n",
    "8. R2 score of BaggingRegressor() is : 0.8588728899117627\n",
    "\n",
    "9. R2 score of ExtraTreesRegressor() is : 0.8191809009234235\n"
   ]
  },
  {
   "cell_type": "markdown",
   "metadata": {},
   "source": [
    "We have got good accuracy score using RandomForestRegressor(),GradientBoostingRegressor(),BaggingRegressor(),ExtraTreesRegressor()\n",
    "\n",
    "Let me try to find the best parameter using these algorithms"
   ]
  },
  {
   "cell_type": "markdown",
   "metadata": {},
   "source": [
    "# Finding the best Parameters"
   ]
  },
  {
   "cell_type": "markdown",
   "metadata": {},
   "source": [
    "### Using GridSearchCV to find the best parameter in RandomForestRegressor()"
   ]
  },
  {
   "cell_type": "code",
   "execution_count": 69,
   "metadata": {},
   "outputs": [
    {
     "name": "stdout",
     "output_type": "stream",
     "text": [
      "{'random_state': 25}\n"
     ]
    }
   ],
   "source": [
    "parameters={'random_state':range(1,50)}\n",
    "rf=RandomForestRegressor()\n",
    "\n",
    "clf=GridSearchCV(rf,parameters)\n",
    "clf.fit(x,y)\n",
    "print(clf.best_params_)"
   ]
  },
  {
   "cell_type": "markdown",
   "metadata": {},
   "source": [
    "### Using GridSearchCV to find the best parameter in GradientBoostingRegressor()"
   ]
  },
  {
   "cell_type": "code",
   "execution_count": 70,
   "metadata": {},
   "outputs": [
    {
     "name": "stdout",
     "output_type": "stream",
     "text": [
      "{'random_state': 85}\n"
     ]
    }
   ],
   "source": [
    "parameters={'random_state':range(42,100)}\n",
    "gb=GradientBoostingRegressor()\n",
    "\n",
    "clf=GridSearchCV(gb,parameters)\n",
    "clf.fit(x,y)\n",
    "print(clf.best_params_)"
   ]
  },
  {
   "cell_type": "markdown",
   "metadata": {},
   "source": [
    "### Using GridSearchCV to find the best parameter in BaggingRegressor()"
   ]
  },
  {
   "cell_type": "code",
   "execution_count": 71,
   "metadata": {},
   "outputs": [
    {
     "name": "stdout",
     "output_type": "stream",
     "text": [
      "{'random_state': 70}\n"
     ]
    }
   ],
   "source": [
    "parameters={'random_state':range(42,100)}\n",
    "bg=BaggingRegressor()\n",
    "\n",
    "clf=GridSearchCV(bg,parameters)\n",
    "clf.fit(x,y)\n",
    "print(clf.best_params_)"
   ]
  },
  {
   "cell_type": "markdown",
   "metadata": {},
   "source": [
    "### Using GridSearchCV to find the best parameter in ExtraTreesRegressor()"
   ]
  },
  {
   "cell_type": "code",
   "execution_count": 72,
   "metadata": {},
   "outputs": [
    {
     "name": "stdout",
     "output_type": "stream",
     "text": [
      "{'random_state': 66}\n"
     ]
    }
   ],
   "source": [
    "parameters={'random_state':range(42,100)}\n",
    "et=ExtraTreesRegressor()\n",
    "\n",
    "clf=GridSearchCV(et,parameters)\n",
    "clf.fit(x,y)\n",
    "print(clf.best_params_)"
   ]
  },
  {
   "cell_type": "markdown",
   "metadata": {},
   "source": [
    "# Using Best Parameter"
   ]
  },
  {
   "cell_type": "markdown",
   "metadata": {},
   "source": [
    "### RandomForestRegressor() with best parameter"
   ]
  },
  {
   "cell_type": "code",
   "execution_count": 73,
   "metadata": {},
   "outputs": [
    {
     "name": "stdout",
     "output_type": "stream",
     "text": [
      "0.8344307268500838\n",
      "Mean Absolute Eror :  8.645659542461443\n",
      "Mean Squared Eror :  147.68240917364813\n",
      "Root Mean Squared Eror :  12.152465148012075\n"
     ]
    }
   ],
   "source": [
    "rf=RandomForestRegressor(n_estimators=100,criterion='mse', max_depth=None, min_samples_split=2, min_samples_leaf=1, min_weight_fraction_leaf=0.0, max_features='auto', max_leaf_nodes=None, min_impurity_decrease=0.0, min_impurity_split=None, bootstrap=True, oob_score=False, n_jobs=None, random_state=25, verbose=0, warm_start=False, ccp_alpha=0.0, max_samples=None)\n",
    "rf.fit(x_train,y_train)\n",
    "rf.score(x_train,y_train)\n",
    "predrf=rf.predict(x_test)\n",
    "print(r2_score(y_test,predrf))\n",
    "print(\"Mean Absolute Eror : \",mean_absolute_error(y_test,predrf))\n",
    "print(\"Mean Squared Eror : \",mean_squared_error(y_test,predrf))\n",
    "print(\"Root Mean Squared Eror : \",np.sqrt(mean_squared_error(y_test,predrf)))"
   ]
  },
  {
   "cell_type": "markdown",
   "metadata": {},
   "source": [
    "### GradientBoostingRegressor() with best parameter"
   ]
  },
  {
   "cell_type": "code",
   "execution_count": 74,
   "metadata": {},
   "outputs": [
    {
     "name": "stdout",
     "output_type": "stream",
     "text": [
      "0.8344307268500838\n",
      "Mean Absolute Eror :  8.645659542461443\n",
      "Mean Squared Eror :  147.68240917364813\n",
      "Root Mean Squared Eror :  12.152465148012075\n"
     ]
    }
   ],
   "source": [
    "gb=GradientBoostingRegressor(loss='ls', learning_rate=0.1, n_estimators=100, subsample=1.0, criterion='friedman_mse', min_samples_split=2, min_samples_leaf=1, min_weight_fraction_leaf=0.0, max_depth=3, min_impurity_decrease=0.0, min_impurity_split=None, init=None, random_state=85, max_features=None, alpha=0.9, verbose=0, max_leaf_nodes=None, warm_start=False, validation_fraction=0.1, n_iter_no_change=None, tol=0.0001, ccp_alpha=0.0)\n",
    "gb.fit(x_train,y_train)\n",
    "gb.score(x_train,y_train)\n",
    "predgb=rf.predict(x_test)\n",
    "print(r2_score(y_test,predgb))\n",
    "print(\"Mean Absolute Eror : \",mean_absolute_error(y_test,predgb))\n",
    "print(\"Mean Squared Eror : \",mean_squared_error(y_test,predgb))\n",
    "print(\"Root Mean Squared Eror : \",np.sqrt(mean_squared_error(y_test,predgb)))"
   ]
  },
  {
   "cell_type": "markdown",
   "metadata": {},
   "source": [
    "### BaggingRegressor() with best parameter"
   ]
  },
  {
   "cell_type": "code",
   "execution_count": 75,
   "metadata": {},
   "outputs": [
    {
     "name": "stdout",
     "output_type": "stream",
     "text": [
      "0.6987481674236322\n",
      "Mean Absolute Eror :  11.133121592991587\n",
      "Mean Squared Eror :  268.7068412903582\n",
      "Root Mean Squared Eror :  16.392279929599734\n"
     ]
    }
   ],
   "source": [
    "bg=BaggingRegressor(base_estimator=None, n_estimators=10,max_samples=1.0, max_features=1.0, bootstrap=True, bootstrap_features=False, oob_score=False, warm_start=False, n_jobs=None, random_state=70, verbose=0)\n",
    "bg.fit(x_train,y_train)\n",
    "bg.score(x_train,y_train)\n",
    "predbg=bg.predict(x_test)\n",
    "print(r2_score(y_test,predbg))\n",
    "print(\"Mean Absolute Eror : \",mean_absolute_error(y_test,predbg))\n",
    "print(\"Mean Squared Eror : \",mean_squared_error(y_test,predbg))\n",
    "print(\"Root Mean Squared Eror : \",np.sqrt(mean_squared_error(y_test,predbg)))"
   ]
  },
  {
   "cell_type": "markdown",
   "metadata": {},
   "source": [
    "### ExtraTreesRegressor() with best parameter"
   ]
  },
  {
   "cell_type": "code",
   "execution_count": 76,
   "metadata": {},
   "outputs": [
    {
     "name": "stdout",
     "output_type": "stream",
     "text": [
      "0.8815723261922229\n",
      "Mean Absolute Eror :  6.930240349726126\n",
      "Mean Squared Eror :  105.63363508232158\n",
      "Root Mean Squared Eror :  10.27782248739107\n"
     ]
    }
   ],
   "source": [
    "et=ExtraTreesRegressor(n_estimators=100,criterion='mse', max_depth=None, min_samples_split=2, min_samples_leaf=1, min_weight_fraction_leaf=0.0, max_features='auto', max_leaf_nodes=None, min_impurity_decrease=0.0, min_impurity_split=None, bootstrap=False, oob_score=False, n_jobs=None, random_state=66, verbose=0, warm_start=False, ccp_alpha=0.0, max_samples=None)\n",
    "et.fit(x_train,y_train)\n",
    "et.score(x_train,y_train)\n",
    "predet=et.predict(x_test)\n",
    "print(r2_score(y_test,predet))\n",
    "print(\"Mean Absolute Eror : \",mean_absolute_error(y_test,predet))\n",
    "print(\"Mean Squared Eror : \",mean_squared_error(y_test,predet))\n",
    "print(\"Root Mean Squared Eror : \",np.sqrt(mean_squared_error(y_test,predet)))"
   ]
  },
  {
   "cell_type": "markdown",
   "metadata": {},
   "source": [
    "# Cross Validation Score"
   ]
  },
  {
   "cell_type": "markdown",
   "metadata": {},
   "source": [
    "### Cross validate the RandomForestRegressor()"
   ]
  },
  {
   "cell_type": "code",
   "execution_count": 79,
   "metadata": {},
   "outputs": [
    {
     "name": "stdout",
     "output_type": "stream",
     "text": [
      "model: RandomForestRegressor(random_state=25)\n",
      "Score: [ 0.87069268  0.74078612  0.95360246  0.53769627  0.78546391  0.87008781\n",
      "  0.66308101  0.64130094 -0.54499106  0.91033574]\n",
      "Mean score: 0.6428055885218095\n",
      "Standard deviation: 0.41521447356957136\n"
     ]
    }
   ],
   "source": [
    "score=cross_val_score(rf,x,y,cv=10,scoring='r2')\n",
    "print(\"model:\",rf)\n",
    "print(\"Score:\",score)\n",
    "print(\"Mean score:\",score.mean())\n",
    "print(\"Standard deviation:\",score.std())"
   ]
  },
  {
   "cell_type": "markdown",
   "metadata": {},
   "source": [
    "### Cross validate the GradientBoostingRegressor()"
   ]
  },
  {
   "cell_type": "code",
   "execution_count": 77,
   "metadata": {},
   "outputs": [
    {
     "name": "stdout",
     "output_type": "stream",
     "text": [
      "model: GradientBoostingRegressor(random_state=85)\n",
      "Score: [0.95672568 0.82552985 0.942349   0.56806757 0.62252011 0.86082237\n",
      " 0.67910583 0.46762652 0.69417961 0.86039232]\n",
      "Mean score: 0.7477318866122925\n",
      "Standard deviation: 0.157188497286859\n"
     ]
    }
   ],
   "source": [
    "score=cross_val_score(bg,x,y,cv=10,scoring='r2')\n",
    "print(\"model:\",gb)\n",
    "print(\"Score:\",score)\n",
    "print(\"Mean score:\",score.mean())\n",
    "print(\"Standard deviation:\",score.std())"
   ]
  },
  {
   "cell_type": "markdown",
   "metadata": {},
   "source": [
    "### Cross validate the BaggingRegressor()"
   ]
  },
  {
   "cell_type": "code",
   "execution_count": 75,
   "metadata": {},
   "outputs": [
    {
     "name": "stdout",
     "output_type": "stream",
     "text": [
      "model: BaggingRegressor(random_state=70)\n",
      "Score: [ 0.87069268  0.74078612  0.95360246  0.53769627  0.78546391  0.87008781\n",
      "  0.66308101  0.64130094 -0.54499106  0.91033574]\n",
      "Mean score: 0.6428055885218095\n",
      "Standard deviation: 0.41521447356957136\n"
     ]
    }
   ],
   "source": [
    "score=cross_val_score(rf,x,y,cv=10,scoring='r2')\n",
    "print(\"model:\",bg)\n",
    "print(\"Score:\",score)\n",
    "print(\"Mean score:\",score.mean())\n",
    "print(\"Standard deviation:\",score.std())"
   ]
  },
  {
   "cell_type": "markdown",
   "metadata": {},
   "source": [
    "### Cross validate the ExtraTreesRegressor()"
   ]
  },
  {
   "cell_type": "code",
   "execution_count": 78,
   "metadata": {},
   "outputs": [
    {
     "name": "stdout",
     "output_type": "stream",
     "text": [
      "model: ExtraTreesRegressor(random_state=66)\n",
      "Score: [ 0.87069268  0.74078612  0.95360246  0.53769627  0.78546391  0.87008781\n",
      "  0.66308101  0.64130094 -0.54499106  0.91033574]\n",
      "Mean score: 0.6428055885218095\n",
      "Standard deviation: 0.41521447356957136\n"
     ]
    }
   ],
   "source": [
    "score=cross_val_score(rf,x,y,cv=10,scoring='r2')\n",
    "print(\"model:\",et)\n",
    "print(\"Score:\",score)\n",
    "print(\"Mean score:\",score.mean())\n",
    "print(\"Standard deviation:\",score.std())"
   ]
  },
  {
   "cell_type": "markdown",
   "metadata": {},
   "source": [
    "### Among all three models ExtraTreesRegressor() gives highest score so we adopt ExtraTreesRegressor() as our Final Model"
   ]
  },
  {
   "cell_type": "markdown",
   "metadata": {},
   "source": [
    "# Saving the model"
   ]
  },
  {
   "cell_type": "code",
   "execution_count": 87,
   "metadata": {},
   "outputs": [],
   "source": [
    "import joblib"
   ]
  },
  {
   "cell_type": "markdown",
   "metadata": {},
   "source": [
    "# Save the model as a pickle in a file"
   ]
  },
  {
   "cell_type": "code",
   "execution_count": 88,
   "metadata": {},
   "outputs": [
    {
     "data": {
      "text/plain": [
       "['covid.pkl']"
      ]
     },
     "execution_count": 88,
     "metadata": {},
     "output_type": "execute_result"
    }
   ],
   "source": [
    "joblib.dump(et,'covid.pkl')"
   ]
  }
 ],
 "metadata": {
  "kernelspec": {
   "display_name": "Python 3",
   "language": "python",
   "name": "python3"
  },
  "language_info": {
   "codemirror_mode": {
    "name": "ipython",
    "version": 3
   },
   "file_extension": ".py",
   "mimetype": "text/x-python",
   "name": "python",
   "nbconvert_exporter": "python",
   "pygments_lexer": "ipython3",
   "version": "3.8.5"
  }
 },
 "nbformat": 4,
 "nbformat_minor": 4
}
