{
 "cells": [
  {
   "cell_type": "markdown",
   "metadata": {},
   "source": [
    "# Importing All necessary Libraries"
   ]
  },
  {
   "cell_type": "code",
   "execution_count": 77,
   "metadata": {},
   "outputs": [],
   "source": [
    "import pandas as pd\n",
    "import numpy as np\n",
    "from numpy import nan\n",
    "import matplotlib\n",
    "import matplotlib.pyplot as plt\n",
    "import seaborn as sns\n",
    "import missingno as msno\n",
    "import re\n",
    "%matplotlib inline"
   ]
  },
  {
   "cell_type": "markdown",
   "metadata": {},
   "source": [
    "# Importing Warnings"
   ]
  },
  {
   "cell_type": "code",
   "execution_count": 78,
   "metadata": {},
   "outputs": [],
   "source": [
    "import warnings\n",
    "warnings.filterwarnings('ignore')"
   ]
  },
  {
   "cell_type": "markdown",
   "metadata": {},
   "source": [
    "# Loading the Dataset"
   ]
  },
  {
   "cell_type": "code",
   "execution_count": 79,
   "metadata": {},
   "outputs": [],
   "source": [
    "train=pd.read_excel('Data_Train.xlsx')\n",
    "test=pd.read_excel('Data_Test.xlsx')"
   ]
  },
  {
   "cell_type": "markdown",
   "metadata": {},
   "source": [
    "# Shape"
   ]
  },
  {
   "cell_type": "code",
   "execution_count": 80,
   "metadata": {},
   "outputs": [
    {
     "name": "stdout",
     "output_type": "stream",
     "text": [
      "Train_data:  (12690, 9)\n",
      "\n",
      "\n",
      "Testing_data :  (4231, 8)\n"
     ]
    }
   ],
   "source": [
    "print(\"Train_data: \",train.shape)\n",
    "print('\\n')\n",
    "print(\"Testing_data : \",test.shape)"
   ]
  },
  {
   "cell_type": "markdown",
   "metadata": {},
   "source": [
    "# column"
   ]
  },
  {
   "cell_type": "code",
   "execution_count": 81,
   "metadata": {},
   "outputs": [
    {
     "name": "stdout",
     "output_type": "stream",
     "text": [
      "Train_data:  Index(['TITLE', 'RESTAURANT_ID', 'CUISINES', 'TIME', 'CITY', 'LOCALITY',\n",
      "       'RATING', 'VOTES', 'COST'],\n",
      "      dtype='object')\n",
      "\n",
      "\n",
      "Testing_data :  Index(['TITLE', 'RESTAURANT_ID', 'CUISINES', 'TIME', 'CITY', 'LOCALITY',\n",
      "       'RATING', 'VOTES'],\n",
      "      dtype='object')\n"
     ]
    }
   ],
   "source": [
    "print(\"Train_data: \",train.columns)\n",
    "print('\\n')\n",
    "print(\"Testing_data : \",test.columns)"
   ]
  },
  {
   "cell_type": "markdown",
   "metadata": {},
   "source": [
    "# Null values"
   ]
  },
  {
   "cell_type": "code",
   "execution_count": 82,
   "metadata": {},
   "outputs": [
    {
     "name": "stdout",
     "output_type": "stream",
     "text": [
      "Train_data:  True\n",
      "\n",
      "\n",
      "Testing_data :  True\n"
     ]
    }
   ],
   "source": [
    "print(\"Train_data: \",train.isnull().values.any())\n",
    "print('\\n')\n",
    "print(\"Testing_data : \",test.isnull().values.any())"
   ]
  },
  {
   "cell_type": "markdown",
   "metadata": {},
   "source": [
    "Observations : \n",
    "    \n",
    "    Null values are present here."
   ]
  },
  {
   "cell_type": "markdown",
   "metadata": {},
   "source": [
    "# Null vales in columns"
   ]
  },
  {
   "cell_type": "code",
   "execution_count": 83,
   "metadata": {
    "scrolled": false
   },
   "outputs": [
    {
     "name": "stdout",
     "output_type": "stream",
     "text": [
      "\n",
      "\n",
      " Train_data:  \n",
      "\n",
      " TITLE               0\n",
      "RESTAURANT_ID       0\n",
      "CUISINES            0\n",
      "TIME                0\n",
      "CITY              112\n",
      "LOCALITY           98\n",
      "RATING              2\n",
      "VOTES            1204\n",
      "COST                0\n",
      "dtype: int64 \n",
      "\n",
      "\n",
      "############################################################ \n",
      "\n",
      "\n",
      "Testing_data :  \n",
      "\n",
      " TITLE              0\n",
      "RESTAURANT_ID      0\n",
      "CUISINES           0\n",
      "TIME               0\n",
      "CITY              35\n",
      "LOCALITY          30\n",
      "RATING             2\n",
      "VOTES            402\n",
      "dtype: int64 \n",
      "\n",
      "\n"
     ]
    }
   ],
   "source": [
    "print(\"\\n\\n\",\"Train_data: \",\"\\n\\n\",train.isnull().sum(),\"\\n\\n\")\n",
    "print(\"#\"*60,\"\\n\\n\")\n",
    "print(\"Testing_data : \",\"\\n\\n\",test.isnull().sum(),\"\\n\\n\")"
   ]
  },
  {
   "cell_type": "markdown",
   "metadata": {},
   "source": [
    "Observations : \n",
    "    \n",
    "    Null values are present in City, Locality,Rating and Votes columns in both training and testing dataset."
   ]
  },
  {
   "cell_type": "markdown",
   "metadata": {},
   "source": [
    "# Number of columns"
   ]
  },
  {
   "cell_type": "code",
   "execution_count": 84,
   "metadata": {},
   "outputs": [
    {
     "name": "stdout",
     "output_type": "stream",
     "text": [
      "\n",
      "\n",
      "Number of Features/Columns :  9\n",
      "\n",
      "\n",
      "Number of Features/Columns :  8\n"
     ]
    }
   ],
   "source": [
    "print(\"\\n\\nNumber of Features/Columns : \", len(train.columns))\n",
    "print(\"\\n\\nNumber of Features/Columns : \", len(test.columns))"
   ]
  },
  {
   "cell_type": "markdown",
   "metadata": {},
   "source": [
    "# Number of rows"
   ]
  },
  {
   "cell_type": "code",
   "execution_count": 85,
   "metadata": {},
   "outputs": [
    {
     "name": "stdout",
     "output_type": "stream",
     "text": [
      "\n",
      "Number of Rows :  12690\n",
      "\n",
      "Number of Rows :  4231\n"
     ]
    }
   ],
   "source": [
    "print(\"\\nNumber of Rows : \",len(train))\n",
    "print(\"\\nNumber of Rows : \",len(test))"
   ]
  },
  {
   "cell_type": "markdown",
   "metadata": {},
   "source": [
    "# Data Types"
   ]
  },
  {
   "cell_type": "code",
   "execution_count": 86,
   "metadata": {},
   "outputs": [
    {
     "name": "stdout",
     "output_type": "stream",
     "text": [
      "\n",
      "\n",
      "Data Types :\n",
      " TITLE            object\n",
      "RESTAURANT_ID     int64\n",
      "CUISINES         object\n",
      "TIME             object\n",
      "CITY             object\n",
      "LOCALITY         object\n",
      "RATING           object\n",
      "VOTES            object\n",
      "COST              int64\n",
      "dtype: object\n",
      "\n",
      "\n",
      "Data Types :\n",
      " TITLE            object\n",
      "RESTAURANT_ID     int64\n",
      "CUISINES         object\n",
      "TIME             object\n",
      "CITY             object\n",
      "LOCALITY         object\n",
      "RATING           object\n",
      "VOTES            object\n",
      "dtype: object\n"
     ]
    }
   ],
   "source": [
    "print(\"\\n\\nData Types :\\n\", train.dtypes)\n",
    "print(\"\\n\\nData Types :\\n\", test.dtypes)"
   ]
  },
  {
   "cell_type": "markdown",
   "metadata": {},
   "source": [
    "# Combining trainig set and test sets for analysing data and finding patterns"
   ]
  },
  {
   "cell_type": "code",
   "execution_count": 87,
   "metadata": {},
   "outputs": [],
   "source": [
    "comb_data = [train[['TITLE', 'RESTAURANT_ID', 'CUISINES', 'TIME', 'CITY', 'LOCALITY','RATING', 'VOTES']], test]\n",
    "\n",
    "comb_data = pd.concat(comb_data)"
   ]
  },
  {
   "cell_type": "code",
   "execution_count": 88,
   "metadata": {},
   "outputs": [
    {
     "data": {
      "text/html": [
       "<div>\n",
       "<style scoped>\n",
       "    .dataframe tbody tr th:only-of-type {\n",
       "        vertical-align: middle;\n",
       "    }\n",
       "\n",
       "    .dataframe tbody tr th {\n",
       "        vertical-align: top;\n",
       "    }\n",
       "\n",
       "    .dataframe thead th {\n",
       "        text-align: right;\n",
       "    }\n",
       "</style>\n",
       "<table border=\"1\" class=\"dataframe\">\n",
       "  <thead>\n",
       "    <tr style=\"text-align: right;\">\n",
       "      <th></th>\n",
       "      <th>TITLE</th>\n",
       "      <th>RESTAURANT_ID</th>\n",
       "      <th>CUISINES</th>\n",
       "      <th>TIME</th>\n",
       "      <th>CITY</th>\n",
       "      <th>LOCALITY</th>\n",
       "      <th>RATING</th>\n",
       "      <th>VOTES</th>\n",
       "    </tr>\n",
       "  </thead>\n",
       "  <tbody>\n",
       "    <tr>\n",
       "      <th>0</th>\n",
       "      <td>CASUAL DINING</td>\n",
       "      <td>9438</td>\n",
       "      <td>Malwani, Goan, North Indian</td>\n",
       "      <td>11am – 4pm, 7:30pm – 11:30pm (Mon-Sun)</td>\n",
       "      <td>Thane</td>\n",
       "      <td>Dombivali East</td>\n",
       "      <td>3.6</td>\n",
       "      <td>49 votes</td>\n",
       "    </tr>\n",
       "    <tr>\n",
       "      <th>1</th>\n",
       "      <td>CASUAL DINING,BAR</td>\n",
       "      <td>13198</td>\n",
       "      <td>Asian, Modern Indian, Japanese</td>\n",
       "      <td>6pm – 11pm (Mon-Sun)</td>\n",
       "      <td>Chennai</td>\n",
       "      <td>Ramapuram</td>\n",
       "      <td>4.2</td>\n",
       "      <td>30 votes</td>\n",
       "    </tr>\n",
       "    <tr>\n",
       "      <th>2</th>\n",
       "      <td>CASUAL DINING</td>\n",
       "      <td>10915</td>\n",
       "      <td>North Indian, Chinese, Biryani, Hyderabadi</td>\n",
       "      <td>11am – 3:30pm, 7pm – 11pm (Mon-Sun)</td>\n",
       "      <td>Chennai</td>\n",
       "      <td>Saligramam</td>\n",
       "      <td>3.8</td>\n",
       "      <td>221 votes</td>\n",
       "    </tr>\n",
       "    <tr>\n",
       "      <th>3</th>\n",
       "      <td>QUICK BITES</td>\n",
       "      <td>6346</td>\n",
       "      <td>Tibetan, Chinese</td>\n",
       "      <td>11:30am – 1am (Mon-Sun)</td>\n",
       "      <td>Mumbai</td>\n",
       "      <td>Bandra West</td>\n",
       "      <td>4.1</td>\n",
       "      <td>24 votes</td>\n",
       "    </tr>\n",
       "    <tr>\n",
       "      <th>4</th>\n",
       "      <td>DESSERT PARLOR</td>\n",
       "      <td>15387</td>\n",
       "      <td>Desserts</td>\n",
       "      <td>11am – 1am (Mon-Sun)</td>\n",
       "      <td>Mumbai</td>\n",
       "      <td>Lower Parel</td>\n",
       "      <td>3.8</td>\n",
       "      <td>165 votes</td>\n",
       "    </tr>\n",
       "  </tbody>\n",
       "</table>\n",
       "</div>"
      ],
      "text/plain": [
       "               TITLE  RESTAURANT_ID  \\\n",
       "0      CASUAL DINING           9438   \n",
       "1  CASUAL DINING,BAR          13198   \n",
       "2      CASUAL DINING          10915   \n",
       "3        QUICK BITES           6346   \n",
       "4     DESSERT PARLOR          15387   \n",
       "\n",
       "                                     CUISINES  \\\n",
       "0                 Malwani, Goan, North Indian   \n",
       "1              Asian, Modern Indian, Japanese   \n",
       "2  North Indian, Chinese, Biryani, Hyderabadi   \n",
       "3                            Tibetan, Chinese   \n",
       "4                                    Desserts   \n",
       "\n",
       "                                     TIME     CITY        LOCALITY RATING  \\\n",
       "0  11am – 4pm, 7:30pm – 11:30pm (Mon-Sun)    Thane  Dombivali East    3.6   \n",
       "1                    6pm – 11pm (Mon-Sun)  Chennai       Ramapuram    4.2   \n",
       "2     11am – 3:30pm, 7pm – 11pm (Mon-Sun)  Chennai      Saligramam    3.8   \n",
       "3                 11:30am – 1am (Mon-Sun)   Mumbai     Bandra West    4.1   \n",
       "4                    11am – 1am (Mon-Sun)   Mumbai     Lower Parel    3.8   \n",
       "\n",
       "       VOTES  \n",
       "0   49 votes  \n",
       "1   30 votes  \n",
       "2  221 votes  \n",
       "3   24 votes  \n",
       "4  165 votes  "
      ]
     },
     "execution_count": 88,
     "metadata": {},
     "output_type": "execute_result"
    }
   ],
   "source": [
    "comb_data.head()"
   ]
  },
  {
   "cell_type": "markdown",
   "metadata": {},
   "source": [
    "# Analysing Data Columnwise"
   ]
  },
  {
   "cell_type": "markdown",
   "metadata": {},
   "source": [
    "### 1. TITLE"
   ]
  },
  {
   "cell_type": "markdown",
   "metadata": {},
   "source": [
    "#### Finding Maximum number of titles mentioned in a single cell"
   ]
  },
  {
   "cell_type": "code",
   "execution_count": 89,
   "metadata": {},
   "outputs": [
    {
     "name": "stdout",
     "output_type": "stream",
     "text": [
      "\n",
      "\n",
      "Maximum Titles in a Cell :  2\n",
      "\n",
      "\n",
      "Number of Unique Titles :  25\n",
      "\n",
      "\n",
      "Unique Titles:\n",
      " ['CASUAL DINING' 'BAR' 'QUICK BITES' 'DESSERT PARLOR' 'CAFÉ'\n",
      " 'MICROBREWERY' 'BEVERAGE SHOP' 'IRANI CAFE' 'BAKERY' 'NONE' 'PUB'\n",
      " 'FINE DINING' 'SWEET SHOP' 'LOUNGE' 'FOOD COURT' 'FOOD TRUCK' 'MESS'\n",
      " 'KIOSK' 'CLUB' 'CONFECTIONERY' 'DHABA' 'MEAT SHOP' 'COCKTAIL BAR'\n",
      " 'PAAN SHOP' 'BHOJANALYA']\n"
     ]
    }
   ],
   "source": [
    "\n",
    "titles = list(comb_data['TITLE'])\n",
    "\n",
    "maxim = 1\n",
    "for i in titles :\n",
    "    if len(i.split(',')) > maxim:\n",
    "         maxim = len(i.split(','))\n",
    "         \n",
    "print(\"\\n\\nMaximum Titles in a Cell : \", maxim)    \n",
    "\n",
    "all_titles = []\n",
    "\n",
    "for i in titles :\n",
    "    if len(i.split(',')) == 1:\n",
    "         all_titles.append(i.split(',')[0].strip().upper())\n",
    "    else :\n",
    "        for it in range(len(i.split(','))):\n",
    "            all_titles.append(i.split(',')[it].strip().upper())\n",
    "\n",
    "print(\"\\n\\nNumber of Unique Titles : \", len(pd.Series(all_titles).unique()))\n",
    "print(\"\\n\\nUnique Titles:\\n\", pd.Series(all_titles).unique())\n",
    "\n",
    "all_titles = list(pd.Series(all_titles).unique())"
   ]
  },
  {
   "cell_type": "markdown",
   "metadata": {},
   "source": [
    "### 2. CUISINES"
   ]
  },
  {
   "cell_type": "markdown",
   "metadata": {},
   "source": [
    "#### Finding Maximum number of cuisines mentioned in a single cell"
   ]
  },
  {
   "cell_type": "code",
   "execution_count": 90,
   "metadata": {},
   "outputs": [
    {
     "name": "stdout",
     "output_type": "stream",
     "text": [
      "\n",
      "\n",
      "Maximum cuisines in a Cell :  8\n",
      "\n",
      "\n",
      "Number of Unique cuisines :  25\n",
      "\n",
      "\n",
      "Unique cuisines:\n",
      " ['CASUAL DINING' 'BAR' 'QUICK BITES' 'DESSERT PARLOR' 'CAFÉ'\n",
      " 'MICROBREWERY' 'BEVERAGE SHOP' 'IRANI CAFE' 'BAKERY' 'NONE' 'PUB'\n",
      " 'FINE DINING' 'SWEET SHOP' 'LOUNGE' 'FOOD COURT' 'FOOD TRUCK' 'MESS'\n",
      " 'KIOSK' 'CLUB' 'CONFECTIONERY' 'DHABA' 'MEAT SHOP' 'COCKTAIL BAR'\n",
      " 'PAAN SHOP' 'BHOJANALYA']\n"
     ]
    }
   ],
   "source": [
    "cuisines = list(comb_data['CUISINES'])\n",
    "\n",
    "maxim = 1\n",
    "for i in cuisines :\n",
    "    if len(i.split(',')) > maxim:\n",
    "         maxim = len(i.split(','))\n",
    "         \n",
    "print(\"\\n\\nMaximum cuisines in a Cell : \", maxim)    \n",
    "\n",
    "all_cuisines = []\n",
    "\n",
    "for i in titles :\n",
    "    if len(i.split(',')) == 1:\n",
    "         all_cuisines.append(i.split(',')[0].strip().upper())\n",
    "    else :\n",
    "        for it in range(len(i.split(','))):\n",
    "            all_cuisines.append(i.split(',')[it].strip().upper())\n",
    "\n",
    "print(\"\\n\\nNumber of Unique cuisines : \", len(pd.Series(all_cuisines).unique()))\n",
    "print(\"\\n\\nUnique cuisines:\\n\", pd.Series(all_cuisines).unique())\n",
    "\n",
    "all_cuisines = list(pd.Series(all_cuisines).unique())"
   ]
  },
  {
   "cell_type": "markdown",
   "metadata": {},
   "source": [
    "### 3. CITY"
   ]
  },
  {
   "cell_type": "code",
   "execution_count": 91,
   "metadata": {},
   "outputs": [
    {
     "name": "stdout",
     "output_type": "stream",
     "text": [
      "\n",
      "\n",
      "Number of Unique cities (Including NOT AVAILABLE):  445\n",
      "\n",
      "\n",
      "Unique Cities:\n",
      " ['THANE' 'CHENNAI' 'MUMBAI' 'BANGALORE' 'GURGAON' 'HYDERABAD' 'KOCHI'\n",
      " 'THANE WEST' 'ANDHERI LOKHANDWALA' 'NEW DELHI' 'ANDHERI WEST'\n",
      " 'MALAD EAST' '682036' 'BANGALOR' 'NAVI MUMBAI' 'BANDRA WEST' 'DELHI'\n",
      " 'NOIDA' 'BANGALORE-560066' 'SECUNDERABAD' 'NOT AVAILABLE' 'INDIA'\n",
      " 'MADHURANAGAR' 'CHENNAI TEYNAMPET' 'FARIDABAD' 'CHEMBUR.' 'MAHARASHTRA'\n",
      " 'OPP GURUDWARA SHAKURPUR' 'TELAGANA LAND LINE:040-48507016' 'GHAZIABAD'\n",
      " 'KARNATAKA' 'KERALA' 'EDAPPALLY' 'KADAVANTHRA' 'ERNAKULAM CIRCLE KOCHI'\n",
      " 'BENGALORE' 'NEAR RELIANCE FRESH' 'KILPAUK' 'BENGALURU' 'KOTHAGUDA'\n",
      " 'GOREGAON WEST' 'BANGLORE' 'TAMIL NADU' 'KAKKANAD' 'KOCHI ELAMKULAM'\n",
      " 'OUTER RING ROAD' 'MULUND EAST'\n",
      " 'SECUNDERABAD MAIN ROAD NEAR SIGNAL NMREC COLLEGE' 'TELANGANA'\n",
      " 'PONNURUNI KOCHI' 'GACHIBOWLI' 'SEMMANCHERI'\n",
      " '5TH MAIN TEACHERS COLONY KORAMANGALA BLOCK 1 BANGALORE 560034'\n",
      " 'MUMBAI MAHIM' 'POWAI (NEXT TO POWAI PLAZA)' 'DOMBIVALI EAST'\n",
      " 'KOCHI VYTTILA' 'KANDIVALI' 'KOCHI PALARIVATTOM' 'DEWAN RAMA ROAD'\n",
      " 'GURUGRAM' 'SECTOR 51 NOIDA' 'KALOOR' 'BESANT NAGAR'\n",
      " 'ARUMBAKKAM CHENNAI-600106.' 'ADJACENT TO COMMERCIAL STREET' 'DELHI NCR'\n",
      " 'DWARKA' '682035.' 'KALYAN WEST' 'AVADI' 'KONDAPUR' 'MEHDIPATNAM'\n",
      " 'GANDIPET' 'VELACHERY' 'PALLAVARAM' 'VIJAYA NAGAR' 'BTM LAYOUT'\n",
      " 'CHENNAI 600034.'\n",
      " 'METRO PILLAR NO 21. METTUGUDA MAIN ROAD NEAR RAILWAY DEGREE COLLEGE.'\n",
      " 'CHENNAI - 600040' 'JP NAGAR BANGALORE' 'MADHAPUR' 'ERNAKULAM' 'SARJAPUR'\n",
      " 'WHITEFIELD BANGALORE' 'KOCHI CHULLICKAL' 'KOCHI-683101'\n",
      " 'BANGALORE - 560076' 'ROHINI' 'HYDERABAD BEHIND VACS PASTRIES'\n",
      " 'HYDERABAD NEERUS EMPORIUM.' 'NAVI MUMBAI.' 'KAROL BAGH' 'PERUNGUDI'\n",
      " 'THYKOODAM' 'GREATER NOIDA' 'BANGALORE.' 'KHAIRATABAD' 'CHULLICKAL'\n",
      " 'GRANT ROAD WEST' 'HITECH CITY' 'WEST MAREDPALLY' 'MUMBAI - 400007'\n",
      " 'CHENNAI PADUR' 'CHANDER NAGAR NEW DELHI' 'NEDUMBASSERY' 'MG ROAD'\n",
      " 'NAYA NAGAR MIRA ROAD' 'PITAMPURA' 'LOWER PAREL' 'HBR LAYOUT'\n",
      " 'TELANGANA 500003' 'RAJIV GANDHI NAGAR' 'NEW DELHI.' 'MEDAVAKKAM'\n",
      " 'SATHYA NAGAR' 'P.O KOCHI' 'BEHIND RAMALAYAM TEMPLE' 'PALARIVATTOM'\n",
      " 'BRIGADE ROAD' 'MUMBAI.' 'MUMBAI ANDHERI EAST' 'VIRAR WEST' 'B-1 STAGE'\n",
      " 'CHENNAI KOVALAM' 'HYDERABAD.' 'ALUVA' 'TELANGANA 500034'\n",
      " 'IOB BANK KAMALA NAGAR' 'HSR LAYOUT' 'MARINE DRIVE' 'DLF GALLERIA'\n",
      " 'NALLATHAMBI MAIN ROAD' 'CHENNAI OPP: VASANTH & CO' 'CITYPARK'\n",
      " 'KARNATAKA 560103' 'BHAYANDAR' 'ALUVA CIRCLE' 'THAMMENAHALLI VILLAGE'\n",
      " 'SG PALYA' 'ATTAPUR.' 'NEAR SHANGRILLA BUS STOP' 'KHAR (WEST)' 'ROAD 3'\n",
      " 'KUKATPALLY' 'FARIDABD' 'TELANGANA 500032' 'DILSUKHNAGAR'\n",
      " 'MOGAPPAIR. CHENNAI' 'NEAR MUNRSHWARA TEMPLE' 'OFF BRIGADE ROAD'\n",
      " 'KHAR WEST' 'POTHERI' 'CHENNAI PERUNGUDI' 'CHENNAI THURAIPAKKAM'\n",
      " 'OMR KARAPAKKAM' 'HYDERABAD-500032' 'MUMBAI DOMBIVALI EAST'\n",
      " 'CHENNAI THOUSAND LIGHTS' 'MAHIM' 'LINGAMPALLY' 'POWAI'\n",
      " 'NEW DELHI-110024' 'CHENNAI- 600107' 'KERALA 683104' 'VASAI WEST.'\n",
      " 'THANE (W)' 'NEAR SANTOSH BANJARA HYDERABAD'\n",
      " 'BANASWADI (NEXT TO INDIAN BANK) BANGALORE' 'BTM BANGALORE'\n",
      " 'GREATER KAILASH 2 NEW DELHI' 'SECUNDERABAD ECIL'\n",
      " 'BANGALORE KORAMANGALA 7TH BLOCK' 'BANGALORE : 560085'\n",
      " 'GACHIBOWLI HYDERABAD'\n",
      " 'CPR LAYOUT HARLUR MAIN ROAD OPPOSITE TO OZONE EVER GREEN APARTMENT BANGALORE -'\n",
      " 'ECR NEELANKARAI CHENNAI 600115' 'WARD X11' 'PERUMBAVOOR'\n",
      " 'MIRA RAOD EAST' 'KERALA 682013' 'CHENNAI.' 'POKHRAN ROAD 2'\n",
      " 'UTTAR PRADESH' 'KARNATAKA 560102' 'MUMBAI - 400013' 'NAHARPAR'\n",
      " 'HOSUR ROAD' 'NEAR BHARAT PETROLEUM.'\n",
      " 'CHENNAI (BANG OPPOSITE INDIAN BANK)' 'SRIRAM NAGAR' 'WEST MUMBAI'\n",
      " 'VYTTILA' 'BANJARA HILLS' 'MALAPALLIPURAM P .O THRISSUR'\n",
      " 'ANDHERI WEST MUMBAI' 'KARNATAKA 560043' 'PANAMPILLY NAGAR'\n",
      " 'BORIVALI EAST.' 'ECIL' 'JUBILEE HILLS'\n",
      " 'AMRIT KAUR MARKET OPPOSITE NEW DELHI RAILWAY STATION PAHARGANJ'\n",
      " 'CHENNAI OPPOSITE 5C BUS STAND' 'TELENGANA' 'KOCHI RAVIPURAM' 'RAJANPADA'\n",
      " 'MAHABALIPURAM' 'SECUNDERABAD. WE HAVE NO BRANCHES.' 'TELANGANA 500081'\n",
      " 'GURGOAN' 'ELAMAKKARA' 'SECTOR 1' 'BANDRA W' 'KOLATHUR'\n",
      " 'CHENNAI MAHABALIPURAM' '3RD STREET' 'MUMBAI CHAKALA' 'BORIVALI WEST'\n",
      " 'RODEO DRIVE SECTOR 49' 'PALLIMUKKU' 'DELHI 110085' 'SECTOR 51'\n",
      " 'CHAMPAPET' 'ANDAVAR NAGAR' 'BANGALORE - 560103' 'KERALA 690525'\n",
      " 'OPP MUKTESHWAR ASHRAM POWAI' 'NUNGAMBAKKAM' 'BK GUDA'\n",
      " 'JOGESHWARI (W) MUMBAI' 'KUKATAPALLY' 'NEAR SECTOR 110 NOIDA' 'NAVALLUR'\n",
      " 'BESIDE EXCELLENCY GARDENS' 'MUMBAI - 80' 'BEGUMPET'\n",
      " 'MAHARAJA HOTEL BESIDE GARDANIA BAR' 'ASHOK VIHAR PHASE 1' 'TRIVANDRUM'\n",
      " 'KOCHI-18' 'NARAYANGUDA' 'THEVERA' 'CHENNAI-40' 'PALM BEACH ROAD'\n",
      " 'EAST COAST ROAD (ECR)' 'RAMAPURAM' 'CHENNAI CHROMPET' 'NANDANAM' 'SAKET'\n",
      " 'MG ROAD ERNAKULAM' 'ANDHERI LOKHANDWALA.' 'INDIRANAGAR' 'THIRUVANMIYUR'\n",
      " 'AMBATTUR' 'BANGLAORE' 'CHENNAI - 34 LANDMARK - NEAR LOYOLA COLLEGE'\n",
      " 'ANNA NAGAR WEST' 'OLD RAILWAY ROAD' 'EAST MUMBAI'\n",
      " 'KANAKAPURA ROAD BANGLORE' 'KOCHI KAKKANAD' 'KALYAN'\n",
      " 'NEAR RAMLILA GROUND' 'SERILINGAMPALLY' 'HIMAYATH NAGAR' 'NALLALA STREET'\n",
      " 'ANNA SALAI' 'OLD DELHI' 'WAGLE ESTATE' '1ST STAGE' 'KOCHI-16'\n",
      " 'KOCHI INTERNATIONAL AIRPORT VIP ROAD' 'FIRST STREET' 'CHENN AI'\n",
      " '6 & 7 - 4/64 SUBHASH NAGAR' '1ST TAVAREKERE' 'PERAMBUR'\n",
      " 'VAISHALI GHAZIABAD' 'THANISANDRA' 'BLOCK F' 'SECTOR 7 DWARKA'\n",
      " 'OPPOSITE BARATHI GAS COMPANY' 'VADAPALANI' 'KONDAPUR.' 'BADLAPUR WEST.'\n",
      " 'KALAMASSERY' 'PALAVAKKAM' 'TCS SYNERGY PARK' 'BTM 1ST STAGE'\n",
      " 'MAHADEVPURA' 'NEW BEL ROAD 560054'\n",
      " 'VELIAVEETIL HOUSE VIVEKANANDA NAGAR ELAMAKKARA' 'SHOLINGANALLUR'\n",
      " 'MAHARASHTRA 400102' 'LOWER PAREL WEST' 'TRIPUNITHURA' 'MOGAPPAIR'\n",
      " 'TELANGANA 500070' 'JP NAGAR' 'NAVI-MUMBAI' 'ASHOK NAGAR' 'MARATHAHALLI'\n",
      " 'HARIDWAR APARTMENTS' 'KERALA 682001 INDIA' 'KARNATAKA 560037'\n",
      " 'KERALA 683585' 'CHENNAI. (NEAR HOTEL MATSHYA)' 'INDIRAPURAM'\n",
      " 'BEGUMPET HYDERABAD' 'MANIKONDA'\n",
      " 'BANGALORE LAND MARK ABOVE MAHAVEER HARD WARE' 'KERALA 682304'\n",
      " 'RAJARAJESHWARI NAGAR BANGALORE' 'GST ROAD' 'FORT KOCHI'\n",
      " 'LAHARI APARTMENTS' 'RAMANTHAPUR' 'MULUND WEST' 'GURGAON HARYANA INDIA'\n",
      " 'NEW DELHI..NEAR BY SBI BANK' 'KOCHI ALUVA 102' 'PHASE 1 BANGALORE'\n",
      " 'HYDERABAD MANIKONDA'\n",
      " 'MUMBAI THIS IS A DELIVERY & TAKE-AWAY RESTAURANT ONLY.' '10TH AVENUE'\n",
      " 'UPPAL' 'NEW DELHI 110075' 'NIZAMPET' 'ULSOO' 'BANGALORE 560076'\n",
      " 'PVR PLAZA CINEMA BUILDING CONNAUGHT PLACE' 'GURGAON HARYANA' 'CHROMEPET'\n",
      " 'KERALA 682024' 'JANAKPURI' 'SECUNDERABAD.'\n",
      " 'B.B.M.P EAST (KARNATAKA) - 560049' 'TAMBARAM' 'MALLESHWARAM BANGALORE'\n",
      " 'VADAPALANI.' 'DIST. CENTER NEW DELHI' 'BANGALORE ROAD' 'KOCHI.'\n",
      " 'THANE MUMBAI' 'KADUBESANAHALLI BANGALORE' 'VASAI WEST'\n",
      " 'MIG HOUSING SOCIETY' 'HARYANA' 'BORIVALI WEST.' 'GOLF COURSE ROAD'\n",
      " 'KHAR MUMBAI' 'NEAR JYOTHINIVAS COLLEGE' 'ANNA NAGAR EAST' 'MASAB TANK'\n",
      " 'VASAI MUMBAI' 'PANATHUR MAIN ROAD' 'NEAR ANDHERI WEST STATION'\n",
      " 'OPPOSITE TO WESTERN SIDE OF ITPL SERVICE GATE' 'KALKAJI' 'APR CHAMBERS'\n",
      " 'TAMIL NADU 600102' 'MAHARASHTRA.' 'GANDHINAGAR RD'\n",
      " 'NEAR ANDHERI EAST STATION' 'WHITEFIELD' 'KERALA 682036'\n",
      " 'MIRA ROAD THANE MUMBAI' 'INDIA GATE NEW DELHI' 'BANGALORE - 560095'\n",
      " 'SHOLINGANALLUR. CHENNAI' 'CHENNAI (ABOVE BOMBAY BRASSERIE)' 'CHENNAI 37'\n",
      " '682024' 'GIRGAUM' 'GREATER KAILASH 1 (GK 1) NEW DELHI' 'KURLA (W)'\n",
      " 'MUMBAI 400015' 'THANE WEST THANE WEST' 'KOCHI PANAMPILLY NAGAR' 'MARAD'\n",
      " 'MAHARASHTRA 400092' 'NEAR SECTOR 34' 'MEHDIPATNAM HYDERABAD'\n",
      " 'NALLAGANDLA' 'VANDALUR' 'CHENNAI 40' 'SECUNDERBAD' 'MM NAGAR'\n",
      " 'MUMBAI 400070' 'CHITTETHUKKARA' 'BTM' 'DOMBIVLI' 'SAHAKARA NAGAR'\n",
      " 'MOHAMMAD ALI ROAD MUMBAI' 'CHENNAI 600040' 'TAVAREKERE MAIN ROAD'\n",
      " 'COMMUNITY CENTRE' 'KERALA 682022' 'DELH.' 'SECTOR-6 NOIDA 201301'\n",
      " 'KAARAIKUDI COMPLEX' 'THIRUVANMIYUR (OPP EUROKIDS LB ROAD)'\n",
      " 'VIRAR MUMBAI' 'TOLICHOWKI' 'HYDERABA' 'KERALA 682305' 'ALWARPET'\n",
      " 'KERALA 682015' 'MUMBAI VEERA DESAI AREA' 'KERALA 682018' 'KERALA 682028'\n",
      " 'SURARAM' 'CHENNAI VELACHERY'\n",
      " 'FORUM SUJANA MALL OPPOSITE TO MALAYSIAN TOWNSHIP' 'OLD HAFEEZPET'\n",
      " 'YOUSUFGUDA' 'CHENNAI-600008' 'MUMBAI ULHASNAGAR'\n",
      " 'JOGESHWARI WEST MUMBAI' 'CHEPAUK' 'CHOWPATTY' 'CHURCH STREET'\n",
      " 'BALAVINAYAGAR NAGAR CHENNAI' 'T-NAGAR CHENNAI' 'RA PURAM'\n",
      " 'HYDERABAD.STAR HYPERMARKET OPPOSITE SIDE SERVICE ROAD'\n",
      " 'CHENNAI INJAMBAKKAM' 'MUMBAI MUMBRA' 'HABSIGUDA' 'KURLA MUMBAI'\n",
      " 'TELANGANA 500027' 'CHENNA' 'KERALA 682021' 'KANDIVALI WEST'\n",
      " 'CHENNAI-119' 'NOIDA EXTENTION' 'SHIHAB THANGAL ROAD' 'NEW DELHI 110011'\n",
      " 'MIUMBAI' 'BORIVALI (W) MUMBAI: 400 092.' 'VANASTHALIPURAM' 'KK ROAD'\n",
      " 'CHENNAI - 600018' 'OPPOSITE ELLORA BUILDING']\n"
     ]
    }
   ],
   "source": [
    "cities = list(comb_data['CITY'])\n",
    "\n",
    "for i in range(len(cities)):\n",
    "    if type(cities[i]) == float:\n",
    "        cities[i] = 'NOT AVAILABLE'\n",
    "    cities[i] = cities[i].strip().upper()\n",
    "        \n",
    "print(\"\\n\\nNumber of Unique cities (Including NOT AVAILABLE): \", len(pd.Series(cities).unique()))\n",
    "print(\"\\n\\nUnique Cities:\\n\", pd.Series(cities).unique())\n",
    " \n",
    "cities = list(pd.Series(cities).unique())"
   ]
  },
  {
   "cell_type": "markdown",
   "metadata": {},
   "source": [
    "### 4. LOCALITY"
   ]
  },
  {
   "cell_type": "code",
   "execution_count": 92,
   "metadata": {},
   "outputs": [
    {
     "name": "stdout",
     "output_type": "stream",
     "text": [
      "\n",
      "\n",
      "Number of Unique Localities (Including NOT AVAILABLE) :  1611\n",
      "\n",
      "\n",
      "Unique Localities:\n",
      " ['DOMBIVALI EAST' 'RAMAPURAM' 'SALIGRAMAM' ... 'OFF CARTER ROAD'\n",
      " 'SRM BACK GATE' 'PERRY CROSS ROAD']\n"
     ]
    }
   ],
   "source": [
    "localities = list(comb_data['LOCALITY'])\n",
    "\n",
    "for i in range(len(localities)):\n",
    "    if type(localities[i]) == float:\n",
    "        localities[i] = 'NOT AVAILABLE'\n",
    "    localities[i] = localities[i].strip().upper()\n",
    "        \n",
    "print(\"\\n\\nNumber of Unique Localities (Including NOT AVAILABLE) : \", len(pd.Series(localities).unique()))\n",
    "print(\"\\n\\nUnique Localities:\\n\", pd.Series(localities).unique())\n",
    "\n",
    "localities = list(pd.Series(localities).unique())"
   ]
  },
  {
   "cell_type": "markdown",
   "metadata": {},
   "source": [
    "# Data Cleaning"
   ]
  },
  {
   "cell_type": "markdown",
   "metadata": {},
   "source": [
    "### 1. TITLE"
   ]
  },
  {
   "cell_type": "code",
   "execution_count": 93,
   "metadata": {},
   "outputs": [],
   "source": [
    "#_____________________________\n",
    "\n",
    "          #Train\n",
    "\n",
    "#_____________________________\n",
    "\n",
    "titles = list(train['TITLE'])\n",
    "\n",
    "#Maximum number of titles in a cell is 2 . So, we will split title in to 2 columns\n",
    "T1 = []\n",
    "T2 = []\n",
    "\n",
    "for i in titles:\n",
    "    T1.append(i.split(',')[0].strip().upper())\n",
    "    try :\n",
    "         T2.append(i.split(',')[1].strip().upper())\n",
    "    except :\n",
    "         T2.append('NONE')\n",
    "\n",
    "# appending NONE to Unique titles list\n",
    "all_titles.append('NONE')\n",
    "\n",
    "\n"
   ]
  },
  {
   "cell_type": "markdown",
   "metadata": {},
   "source": [
    "### 2. CUISINE"
   ]
  },
  {
   "cell_type": "code",
   "execution_count": 94,
   "metadata": {},
   "outputs": [],
   "source": [
    "cuisines = list(train['CUISINES'])\n",
    "   \n",
    "# Maximum number of cuisines in a cell is 8. So, we will will split title in to 8 columns.\n",
    "   \n",
    "C1 = []\n",
    "C2 = []\n",
    "C3 = []\n",
    "C4 = []\n",
    "C5 = []\n",
    "C6 = []\n",
    "C7 = []\n",
    "C8 = []\n",
    "\n",
    "\n",
    "for i in cuisines:\n",
    "        try :\n",
    "            C1.append(i.split(',')[0].strip().upper())\n",
    "        except :\n",
    "            C1.append('NONE')\n",
    "        try :\n",
    "            C2.append(i.split(',')[1].strip().upper())\n",
    "        except :\n",
    "            C2.append('NONE')\n",
    "        try :\n",
    "            C3.append(i.split(',')[2].strip().upper())\n",
    "        except :\n",
    "            C3.append('NONE')\n",
    "        try :\n",
    "            C4.append(i.split(',')[3].strip().upper())\n",
    "        except :\n",
    "            C4.append('NONE')\n",
    "        try :\n",
    "            C5.append(i.split(',')[4].strip().upper())\n",
    "        except :\n",
    "            C5.append('NONE')\n",
    "        try :\n",
    "            C6.append(i.split(',')[5].strip().upper())\n",
    "        except :\n",
    "            C6.append('NONE')\n",
    "        try :\n",
    "            C7.append(i.split(',')[6].strip().upper())\n",
    "        except :\n",
    "            C7.append('NONE')\n",
    "        try :\n",
    "            C8.append(i.split(',')[7].strip().upper())\n",
    "        except :\n",
    "            C8.append('NONE')\n",
    "\n",
    "# appending NONE to Unique cuisines list\n",
    "all_cuisines.append('NONE')\n",
    "\n",
    "\n",
    "\n"
   ]
  },
  {
   "cell_type": "markdown",
   "metadata": {},
   "source": [
    "### 3. City"
   ]
  },
  {
   "cell_type": "code",
   "execution_count": 95,
   "metadata": {},
   "outputs": [],
   "source": [
    "cities = list(train['CITY'])\n",
    "\n",
    "for i in range(len(cities)):\n",
    "    if type(cities[i]) == float:\n",
    "        cities[i] = 'NOT AVAILABLE'\n",
    "    cities[i] = cities[i].strip().upper()\n",
    "    \n",
    "\n"
   ]
  },
  {
   "cell_type": "markdown",
   "metadata": {},
   "source": [
    "### 4. LOCALITY"
   ]
  },
  {
   "cell_type": "code",
   "execution_count": 96,
   "metadata": {},
   "outputs": [],
   "source": [
    "localities = list(train['LOCALITY'])\n",
    "\n",
    "for i in range(len(localities)):\n",
    "    if type(localities[i]) == float:\n",
    "        localities[i] = 'NOT AVAILABLE'\n",
    "    localities[i] = localities[i].strip().upper() \n",
    "    \n",
    "    \n",
    "\n"
   ]
  },
  {
   "cell_type": "markdown",
   "metadata": {},
   "source": [
    "### 5. RATING"
   ]
  },
  {
   "cell_type": "code",
   "execution_count": 97,
   "metadata": {},
   "outputs": [],
   "source": [
    "rates = list(train['RATING'])\n",
    "\n",
    "for i in range(len(rates)) :\n",
    "    try:\n",
    "       rates[i] = float(rates[i])\n",
    "    except :\n",
    "       rates[i] = np.nan\n"
   ]
  },
  {
   "cell_type": "markdown",
   "metadata": {},
   "source": [
    "### 6. VOTES"
   ]
  },
  {
   "cell_type": "code",
   "execution_count": 98,
   "metadata": {},
   "outputs": [],
   "source": [
    "votes = list(train['VOTES'])\n",
    "\n",
    "for i in range(len(votes)) :\n",
    "    try:\n",
    "       votes[i] = int(votes[i].split(\" \")[0].strip())\n",
    "    except :\n",
    "       pass   \n",
    "\n",
    "\n"
   ]
  },
  {
   "cell_type": "code",
   "execution_count": 99,
   "metadata": {},
   "outputs": [
    {
     "name": "stdout",
     "output_type": "stream",
     "text": [
      "12690\n"
     ]
    }
   ],
   "source": [
    "idx = len(pd.Index(train))\n",
    "print(idx)"
   ]
  },
  {
   "cell_type": "markdown",
   "metadata": {},
   "source": [
    "# Rename Column"
   ]
  },
  {
   "cell_type": "code",
   "execution_count": 100,
   "metadata": {},
   "outputs": [],
   "source": [
    "#_____________________________\n",
    "\n",
    "          #Train\n",
    "\n",
    "#_____________________________\n",
    "\n",
    "\n",
    "train_new = {}\n",
    "\n",
    "train_new['TITLE1'] = T1\n",
    "train_new['TITLE2'] = T2\n",
    "train_new['RESTAURANT_ID'] = train[\"RESTAURANT_ID\"]\n",
    "train_new['CUISINE1'] = C1\n",
    "train_new['CUISINE2'] = C2\n",
    "train_new['CUISINE3'] = C3\n",
    "train_new['CUISINE4'] = C4\n",
    "train_new['CUISINE5'] = C5\n",
    "train_new['CUISINE6'] = C6\n",
    "train_new['CUISINE7'] = C7\n",
    "train_new['CUISINE8'] = C8\n",
    "train_new['CITY'] = cities\n",
    "train_new['LOCALITY'] = localities\n",
    "train_new['RATING'] = rates\n",
    "train_new['VOTES'] = votes\n",
    "train_new['COST'] = train[\"COST\"]\n",
    "\n",
    "train_new = pd.DataFrame(train_new)\n",
    "\n"
   ]
  },
  {
   "cell_type": "markdown",
   "metadata": {},
   "source": [
    "# TEST"
   ]
  },
  {
   "cell_type": "markdown",
   "metadata": {},
   "source": [
    "### 1. TITLE"
   ]
  },
  {
   "cell_type": "code",
   "execution_count": 101,
   "metadata": {},
   "outputs": [],
   "source": [
    "#_____________________________\n",
    "\n",
    "          #Test\n",
    "\n",
    "#_____________________________\n",
    "\n",
    "\n",
    "titles = list(test['TITLE'])\n",
    "\n",
    "#Maximum number of titles in a cell is 2 . So, we will split title in to 2 columns\n",
    "T1 = []\n",
    "T2 = []\n",
    "\n",
    "for i in titles:\n",
    "    T1.append(i.split(',')[0].strip().upper())\n",
    "    try :\n",
    "         T2.append(i.split(',')[1].strip().upper())\n",
    "    except :\n",
    "         T2.append('NONE')"
   ]
  },
  {
   "cell_type": "markdown",
   "metadata": {},
   "source": [
    "### 2. CUISINES"
   ]
  },
  {
   "cell_type": "code",
   "execution_count": 102,
   "metadata": {},
   "outputs": [],
   "source": [
    "#_____________________________\n",
    "\n",
    "          #Test\n",
    "\n",
    "#_____________________________\n",
    "\n",
    "\n",
    "cuisines = list(test['CUISINES'])\n",
    "   \n",
    "# Maximum number of cuisines in a cell is 8. So, we will will split title in to 8 columns.\n",
    "   \n",
    "C1 = []\n",
    "C2 = []\n",
    "C3 = []\n",
    "C4 = []\n",
    "C5 = []\n",
    "C6 = []\n",
    "C7 = []\n",
    "C8 = []\n",
    "\n",
    "\n",
    "for i in cuisines:\n",
    "        try :\n",
    "            C1.append(i.split(',')[0].strip().upper())\n",
    "        except :\n",
    "            C1.append('NONE')\n",
    "        try :\n",
    "            C2.append(i.split(',')[1].strip().upper())\n",
    "        except :\n",
    "            C2.append('NONE')\n",
    "        try :\n",
    "            C3.append(i.split(',')[2].strip().upper())\n",
    "        except :\n",
    "            C3.append('NONE')\n",
    "        try :\n",
    "            C4.append(i.split(',')[3].strip().upper())\n",
    "        except :\n",
    "            C4.append('NONE')\n",
    "        try :\n",
    "            C5.append(i.split(',')[4].strip().upper())\n",
    "        except :\n",
    "            C5.append('NONE')\n",
    "        try :\n",
    "            C6.append(i.split(',')[5].strip().upper())\n",
    "        except :\n",
    "            C6.append('NONE')\n",
    "        try :\n",
    "            C7.append(i.split(',')[6].strip().upper())\n",
    "        except :\n",
    "            C7.append('NONE')\n",
    "        try :\n",
    "            C8.append(i.split(',')[7].strip().upper())\n",
    "        except :\n",
    "            C8.append('NONE')"
   ]
  },
  {
   "cell_type": "markdown",
   "metadata": {},
   "source": [
    "### 3. CITY"
   ]
  },
  {
   "cell_type": "code",
   "execution_count": 103,
   "metadata": {},
   "outputs": [],
   "source": [
    "#_____________________________\n",
    "\n",
    "          #Test\n",
    "\n",
    "#_____________________________\n",
    "\n",
    "\n",
    "cities = list(test['CITY'])\n",
    "\n",
    "for i in range(len(cities)):\n",
    "    if type(cities[i]) == float:\n",
    "        cities[i] = 'NOT AVAILABLE'\n",
    "    cities[i] = cities[i].strip().upper()"
   ]
  },
  {
   "cell_type": "markdown",
   "metadata": {},
   "source": [
    "### 4. LOCALITY"
   ]
  },
  {
   "cell_type": "code",
   "execution_count": 104,
   "metadata": {},
   "outputs": [],
   "source": [
    "#_____________________________\n",
    "\n",
    "          #Test\n",
    "\n",
    "#_____________________________\n",
    "\n",
    "\n",
    "\n",
    "localities = list(test['LOCALITY'])\n",
    "\n",
    "for i in range(len(localities)):\n",
    "    if type(localities[i]) == float:\n",
    "        localities[i] = 'NOT AVAILABLE'\n",
    "    localities[i] = localities[i].strip().upper() "
   ]
  },
  {
   "cell_type": "markdown",
   "metadata": {},
   "source": [
    "### 5. RATING"
   ]
  },
  {
   "cell_type": "code",
   "execution_count": 105,
   "metadata": {},
   "outputs": [],
   "source": [
    "#_____________________________\n",
    "\n",
    "          #Test\n",
    "\n",
    "#_____________________________\n",
    "\n",
    "\n",
    "\n",
    "rates = list(test['RATING'])\n",
    "\n",
    "for i in range(len(rates)) :\n",
    "    try:\n",
    "       rates[i] = float(rates[i])\n",
    "    except :\n",
    "       rates[i] = np.nan"
   ]
  },
  {
   "cell_type": "markdown",
   "metadata": {},
   "source": [
    "### 6. VOTES"
   ]
  },
  {
   "cell_type": "code",
   "execution_count": 106,
   "metadata": {},
   "outputs": [],
   "source": [
    "#_____________________________\n",
    "\n",
    "          #Test\n",
    "\n",
    "#_____________________________\n",
    "\n",
    "\n",
    "votes = list(test['VOTES'])\n",
    "\n",
    "for i in range(len(votes)) :\n",
    "    try:\n",
    "       votes[i] = int(votes[i].split(\" \")[0].strip())\n",
    "    except :\n",
    "       pass   "
   ]
  },
  {
   "cell_type": "code",
   "execution_count": 107,
   "metadata": {},
   "outputs": [],
   "source": [
    "#_____________________________\n",
    "\n",
    "          #Test\n",
    "\n",
    "#_____________________________\n",
    "\n",
    "\n",
    "test_new = {}\n",
    "\n",
    "test_new['TITLE1'] = T1\n",
    "test_new['TITLE2'] = T2\n",
    "test_new['RESTAURANT_ID'] = test[\"RESTAURANT_ID\"]\n",
    "test_new['CUISINE1'] = C1\n",
    "test_new['CUISINE2'] = C2\n",
    "test_new['CUISINE3'] = C3\n",
    "test_new['CUISINE4'] = C4\n",
    "test_new['CUISINE5'] = C5\n",
    "test_new['CUISINE6'] = C6\n",
    "test_new['CUISINE7'] = C7\n",
    "test_new['CUISINE8'] = C8\n",
    "test_new['CITY'] = cities\n",
    "test_new['LOCALITY'] = localities\n",
    "test_new['RATING'] = rates\n",
    "test_new['VOTES'] = votes\n",
    "\n",
    "test_new = pd.DataFrame(test_new)"
   ]
  },
  {
   "cell_type": "code",
   "execution_count": 108,
   "metadata": {},
   "outputs": [
    {
     "name": "stdout",
     "output_type": "stream",
     "text": [
      "\n",
      "\n",
      " train_new: \n",
      "            TITLE1 TITLE2  RESTAURANT_ID      CUISINE1       CUISINE2  \\\n",
      "0   CASUAL DINING   NONE           9438       MALWANI           GOAN   \n",
      "1   CASUAL DINING    BAR          13198         ASIAN  MODERN INDIAN   \n",
      "2   CASUAL DINING   NONE          10915  NORTH INDIAN        CHINESE   \n",
      "3     QUICK BITES   NONE           6346       TIBETAN        CHINESE   \n",
      "4  DESSERT PARLOR   NONE          15387      DESSERTS           NONE   \n",
      "\n",
      "       CUISINE3    CUISINE4 CUISINE5 CUISINE6 CUISINE7 CUISINE8     CITY  \\\n",
      "0  NORTH INDIAN        NONE     NONE     NONE     NONE     NONE    THANE   \n",
      "1      JAPANESE        NONE     NONE     NONE     NONE     NONE  CHENNAI   \n",
      "2       BIRYANI  HYDERABADI     NONE     NONE     NONE     NONE  CHENNAI   \n",
      "3          NONE        NONE     NONE     NONE     NONE     NONE   MUMBAI   \n",
      "4          NONE        NONE     NONE     NONE     NONE     NONE   MUMBAI   \n",
      "\n",
      "         LOCALITY  RATING  VOTES  COST  \n",
      "0  DOMBIVALI EAST     3.6   49.0  1200  \n",
      "1       RAMAPURAM     4.2   30.0  1500  \n",
      "2      SALIGRAMAM     3.8  221.0   800  \n",
      "3     BANDRA WEST     4.1   24.0   800  \n",
      "4     LOWER PAREL     3.8  165.0   300   \n",
      "\n",
      "\n",
      "\n",
      "############################################################ \n",
      "\n",
      "\n",
      "\n",
      "\n",
      " test_new: \n",
      "           TITLE1 TITLE2  RESTAURANT_ID      CUISINE1   CUISINE2 CUISINE3  \\\n",
      "0  CASUAL DINING   NONE           4085  NORTH INDIAN    CHINESE  MUGHLAI   \n",
      "1    QUICK BITES   NONE          12680  SOUTH INDIAN  FAST FOOD    PIZZA   \n",
      "2  CASUAL DINING   NONE           1411  NORTH INDIAN    SEAFOOD  BIRYANI   \n",
      "3           NONE   NONE            204       BIRYANI       NONE     NONE   \n",
      "4    QUICK BITES   NONE          13453  SOUTH INDIAN     KERALA     NONE   \n",
      "\n",
      "       CUISINE4 CUISINE5 CUISINE6 CUISINE7 CUISINE8       CITY      LOCALITY  \\\n",
      "0         KEBAB     NONE     NONE     NONE     NONE      NOIDA     SECTOR 18   \n",
      "1  NORTH INDIAN     NONE     NONE     NONE     NONE     MUMBAI    GRANT ROAD   \n",
      "2       CHINESE     NONE     NONE     NONE     NONE     MUMBAI  MARINE LINES   \n",
      "3          NONE     NONE     NONE     NONE     NONE  FARIDABAD           NIT   \n",
      "4          NONE     NONE     NONE     NONE     NONE      KOCHI        KALOOR   \n",
      "\n",
      "   RATING   VOTES  \n",
      "0     4.3   564.0  \n",
      "1     4.2    61.0  \n",
      "2     3.8   350.0  \n",
      "3     3.8  1445.0  \n",
      "4     3.6    23.0  \n"
     ]
    }
   ],
   "source": [
    "print(\"\\n\\n train_new: \\n\", train_new.head(),\"\\n\\n\\n\")\n",
    "print(\"#\"*60,\"\\n\\n\")\n",
    "print(\"\\n\\n test_new: \\n\", test_new.head())"
   ]
  },
  {
   "cell_type": "markdown",
   "metadata": {},
   "source": [
    "# Data Preprocessing"
   ]
  },
  {
   "cell_type": "markdown",
   "metadata": {},
   "source": [
    "### Imputing Missing Values"
   ]
  },
  {
   "cell_type": "code",
   "execution_count": 109,
   "metadata": {
    "scrolled": true
   },
   "outputs": [
    {
     "name": "stdout",
     "output_type": "stream",
     "text": [
      "\n",
      "\n",
      "Missing Values in Training Set\n",
      " ############################################################\n",
      "\n",
      "Contains NaN/Empty cells :  True\n",
      "\n",
      "Total empty cells by column\n",
      " ____________________________________________________________ \n",
      " TITLE1              0\n",
      "TITLE2              0\n",
      "RESTAURANT_ID       0\n",
      "CUISINE1            0\n",
      "CUISINE2            0\n",
      "CUISINE3            0\n",
      "CUISINE4            0\n",
      "CUISINE5            0\n",
      "CUISINE6            0\n",
      "CUISINE7            0\n",
      "CUISINE8            0\n",
      "CITY                0\n",
      "LOCALITY            0\n",
      "RATING           1204\n",
      "VOTES            1204\n",
      "COST                0\n",
      "dtype: int64\n",
      "\n",
      "\n",
      "After Filling 0:\n",
      " ____________________________________________________________ \n",
      "\n",
      "\n",
      "Contains NaN/Empty cells :  False\n",
      "\n",
      "\n",
      "Missing Values in Test Set \n",
      " ############################################################\n",
      "\n",
      "Contains NaN/Empty cells :  True\n",
      "\n",
      "Total empty cells by column\n",
      " ____________________________________________________________ \n",
      " TITLE1             0\n",
      "TITLE2             0\n",
      "RESTAURANT_ID      0\n",
      "CUISINE1           0\n",
      "CUISINE2           0\n",
      "CUISINE3           0\n",
      "CUISINE4           0\n",
      "CUISINE5           0\n",
      "CUISINE6           0\n",
      "CUISINE7           0\n",
      "CUISINE8           0\n",
      "CITY               0\n",
      "LOCALITY           0\n",
      "RATING           402\n",
      "VOTES            402\n",
      "dtype: int64\n",
      "\n",
      "\n",
      "After Filling 0 :\n",
      " ____________________________________________________________ \n",
      "\n",
      "\n",
      "Contains NaN/Empty cells :  False\n",
      "\n",
      "\n",
      "\n"
     ]
    }
   ],
   "source": [
    "#_____________________________\n",
    "\n",
    "          #Train\n",
    "\n",
    "#_____________________________\n",
    "\n",
    "\n",
    "print(\"\\n\\nMissing Values in Training Set\\n\",\"#\"*60)\n",
    "print(\"\\nContains NaN/Empty cells : \", train_new.isnull().values.any())\n",
    "print(\"\\nTotal empty cells by column\\n\",\"_\"*60,\"\\n\", train_new.isnull().sum())\n",
    "\n",
    "train_new.fillna(0, inplace = True)\n",
    "\n",
    "print(\"\\n\\nAfter Filling 0:\\n\",\"_\"*60,\"\\n\")\n",
    "print(\"\\nContains NaN/Empty cells : \", train_new.isnull().values.any())\n",
    "\n",
    "#_____________________________\n",
    "\n",
    "          #Test\n",
    "\n",
    "#_____________________________\n",
    "\n",
    "\n",
    "print(\"\\n\\nMissing Values in Test Set \\n\",\"#\"*60)\n",
    "print(\"\\nContains NaN/Empty cells : \", test_new.isnull().values.any())\n",
    "print(\"\\nTotal empty cells by column\\n\",\"_\"*60,\"\\n\", test_new.isnull().sum())\n",
    "\n",
    "\n",
    "test_new.fillna(0, inplace = True)\n",
    "\n",
    "print(\"\\n\\nAfter Filling 0 :\\n\",\"_\"*60,\"\\n\")\n",
    "print(\"\\nContains NaN/Empty cells : \", test_new.isnull().values.any())\n",
    "print(\"\\n\\n\")"
   ]
  },
  {
   "cell_type": "markdown",
   "metadata": {},
   "source": [
    "# Summary Statistics"
   ]
  },
  {
   "cell_type": "code",
   "execution_count": 110,
   "metadata": {},
   "outputs": [
    {
     "data": {
      "text/html": [
       "<div>\n",
       "<style scoped>\n",
       "    .dataframe tbody tr th:only-of-type {\n",
       "        vertical-align: middle;\n",
       "    }\n",
       "\n",
       "    .dataframe tbody tr th {\n",
       "        vertical-align: top;\n",
       "    }\n",
       "\n",
       "    .dataframe thead th {\n",
       "        text-align: right;\n",
       "    }\n",
       "</style>\n",
       "<table border=\"1\" class=\"dataframe\">\n",
       "  <thead>\n",
       "    <tr style=\"text-align: right;\">\n",
       "      <th></th>\n",
       "      <th>RESTAURANT_ID</th>\n",
       "      <th>RATING</th>\n",
       "      <th>VOTES</th>\n",
       "      <th>COST</th>\n",
       "    </tr>\n",
       "  </thead>\n",
       "  <tbody>\n",
       "    <tr>\n",
       "      <th>count</th>\n",
       "      <td>12690.000000</td>\n",
       "      <td>12690.000000</td>\n",
       "      <td>12690.000000</td>\n",
       "      <td>12690.000000</td>\n",
       "    </tr>\n",
       "    <tr>\n",
       "      <th>mean</th>\n",
       "      <td>7759.134121</td>\n",
       "      <td>3.426296</td>\n",
       "      <td>376.231127</td>\n",
       "      <td>655.252246</td>\n",
       "    </tr>\n",
       "    <tr>\n",
       "      <th>std</th>\n",
       "      <td>4504.874150</td>\n",
       "      <td>1.179799</td>\n",
       "      <td>810.946942</td>\n",
       "      <td>627.003540</td>\n",
       "    </tr>\n",
       "    <tr>\n",
       "      <th>min</th>\n",
       "      <td>0.000000</td>\n",
       "      <td>0.000000</td>\n",
       "      <td>0.000000</td>\n",
       "      <td>20.000000</td>\n",
       "    </tr>\n",
       "    <tr>\n",
       "      <th>25%</th>\n",
       "      <td>3863.250000</td>\n",
       "      <td>3.400000</td>\n",
       "      <td>39.250000</td>\n",
       "      <td>300.000000</td>\n",
       "    </tr>\n",
       "    <tr>\n",
       "      <th>50%</th>\n",
       "      <td>7740.000000</td>\n",
       "      <td>3.800000</td>\n",
       "      <td>132.000000</td>\n",
       "      <td>500.000000</td>\n",
       "    </tr>\n",
       "    <tr>\n",
       "      <th>75%</th>\n",
       "      <td>11688.750000</td>\n",
       "      <td>4.000000</td>\n",
       "      <td>405.000000</td>\n",
       "      <td>800.000000</td>\n",
       "    </tr>\n",
       "    <tr>\n",
       "      <th>max</th>\n",
       "      <td>15573.000000</td>\n",
       "      <td>4.900000</td>\n",
       "      <td>41186.000000</td>\n",
       "      <td>14000.000000</td>\n",
       "    </tr>\n",
       "  </tbody>\n",
       "</table>\n",
       "</div>"
      ],
      "text/plain": [
       "       RESTAURANT_ID        RATING         VOTES          COST\n",
       "count   12690.000000  12690.000000  12690.000000  12690.000000\n",
       "mean     7759.134121      3.426296    376.231127    655.252246\n",
       "std      4504.874150      1.179799    810.946942    627.003540\n",
       "min         0.000000      0.000000      0.000000     20.000000\n",
       "25%      3863.250000      3.400000     39.250000    300.000000\n",
       "50%      7740.000000      3.800000    132.000000    500.000000\n",
       "75%     11688.750000      4.000000    405.000000    800.000000\n",
       "max     15573.000000      4.900000  41186.000000  14000.000000"
      ]
     },
     "execution_count": 110,
     "metadata": {},
     "output_type": "execute_result"
    }
   ],
   "source": [
    "train_new.describe()"
   ]
  },
  {
   "cell_type": "markdown",
   "metadata": {},
   "source": [
    "Observations : \n",
    "    \n",
    "    Observations:\n",
    "\n",
    "1. Maximum values of RESTAURANT_ID,RATING,VOTES,COST are 15573.000000,4.900000,41186.000000,14000.000000\n",
    "\n",
    "2. Minimum values of RESTAURANT_ID,RATING,VOTES,COST are 0.000000,0.000000,0.000000,20.000000\n",
    "\n",
    "3. In RESTAURANT_ID,VOTES and COST column mean is greater than median therefore data is right skewed for these attributes.\n",
    "\n",
    "5. In RATING column median is greater than mean therefre data is left skewed for these attributes.\n",
    "\n",
    "6. The difference between 75% and maximum is higher in VOTES and COST columns therefore outliers are present in these columns."
   ]
  },
  {
   "cell_type": "markdown",
   "metadata": {},
   "source": [
    "# Correlation"
   ]
  },
  {
   "cell_type": "code",
   "execution_count": 111,
   "metadata": {},
   "outputs": [
    {
     "data": {
      "image/png": "[encoded data removed]",
      "text/plain": [
       "<Figure size 1440x576 with 2 Axes>"
      ]
     },
     "metadata": {
      "needs_background": "light"
     },
     "output_type": "display_data"
    }
   ],
   "source": [
    "plt.figure(figsize=(20,8))\n",
    "sns.heatmap(train_new.corr(),annot=True,fmt='.0%',cmap='BuPu')\n",
    "plt.show()"
   ]
  },
  {
   "cell_type": "markdown",
   "metadata": {},
   "source": [
    "Observations : \n",
    "    \n",
    "    1. The correlation of VOTES and RATING columns with the target column COST is 26% and 23% .\n",
    "    \n",
    "    2. But there are very few correlation with RESTAURANT_ID column which is only 4%.\n",
    "    \n",
    "    4. Good correlation among other columns : \n",
    "        \n",
    "        1. VOTES vs COST (26%)\n",
    "        \n",
    "        2. VOTES vs RATING (26%)\n",
    "        \n",
    "        3. RATING vs COST (23%)"
   ]
  },
  {
   "cell_type": "markdown",
   "metadata": {},
   "source": [
    "### Correlation with target column"
   ]
  },
  {
   "cell_type": "code",
   "execution_count": 112,
   "metadata": {},
   "outputs": [
    {
     "data": {
      "text/plain": [
       "Text(0.5, 1.0, 'Correlation with Target Variable')"
      ]
     },
     "execution_count": 112,
     "metadata": {},
     "output_type": "execute_result"
    },
    {
     "data": {
      "image/png": "[encoded data removed]",
      "text/plain": [
       "<Figure size 576x432 with 1 Axes>"
      ]
     },
     "metadata": {
      "needs_background": "light"
     },
     "output_type": "display_data"
    }
   ],
   "source": [
    "plt.figure(figsize=(8,6))\n",
    "train_new.drop('COST',axis=1).corrwith(train_new['COST']).plot(kind='bar',grid=True)\n",
    "plt.xticks(rotation='vertical')\n",
    "plt.title(\"Correlation with Target Variable\",fontsize=20)"
   ]
  },
  {
   "cell_type": "markdown",
   "metadata": {},
   "source": [
    "Observations : \n",
    "    \n",
    "    1. There are very good correlation with VOTES and RATING column. There are no negative correlation."
   ]
  },
  {
   "cell_type": "markdown",
   "metadata": {},
   "source": [
    "# Checking Outliers"
   ]
  },
  {
   "cell_type": "code",
   "execution_count": 113,
   "metadata": {},
   "outputs": [
    {
     "data": {
      "text/plain": [
       "(12690, 16)"
      ]
     },
     "execution_count": 113,
     "metadata": {},
     "output_type": "execute_result"
    }
   ],
   "source": [
    "train_new.shape"
   ]
  },
  {
   "cell_type": "code",
   "execution_count": 114,
   "metadata": {
    "scrolled": true
   },
   "outputs": [
    {
     "data": {
      "image/png": "[encoded data removed]",
      "text/plain": [
       "<Figure size 936x432 with 16 Axes>"
      ]
     },
     "metadata": {
      "needs_background": "light"
     },
     "output_type": "display_data"
    }
   ],
   "source": [
    "train_new.plot(kind='box',subplots=True,layout=(4,4),color='green',figsize=(13,6))\n",
    "plt.tight_layout()"
   ]
  },
  {
   "cell_type": "markdown",
   "metadata": {},
   "source": [
    "Observations : \n",
    "    \n",
    "    In the \"RATING\", \"VOTES\" and \"COST\" columns outliers are present"
   ]
  },
  {
   "cell_type": "markdown",
   "metadata": {},
   "source": [
    "# Visualization"
   ]
  },
  {
   "cell_type": "code",
   "execution_count": 115,
   "metadata": {},
   "outputs": [
    {
     "data": {
      "text/html": [
       "<div>\n",
       "<style scoped>\n",
       "    .dataframe tbody tr th:only-of-type {\n",
       "        vertical-align: middle;\n",
       "    }\n",
       "\n",
       "    .dataframe tbody tr th {\n",
       "        vertical-align: top;\n",
       "    }\n",
       "\n",
       "    .dataframe thead th {\n",
       "        text-align: right;\n",
       "    }\n",
       "</style>\n",
       "<table border=\"1\" class=\"dataframe\">\n",
       "  <thead>\n",
       "    <tr style=\"text-align: right;\">\n",
       "      <th></th>\n",
       "      <th>TITLE1</th>\n",
       "      <th>TITLE2</th>\n",
       "      <th>RESTAURANT_ID</th>\n",
       "      <th>CUISINE1</th>\n",
       "      <th>CUISINE2</th>\n",
       "      <th>CUISINE3</th>\n",
       "      <th>CUISINE4</th>\n",
       "      <th>CUISINE5</th>\n",
       "      <th>CUISINE6</th>\n",
       "      <th>CUISINE7</th>\n",
       "      <th>CUISINE8</th>\n",
       "      <th>CITY</th>\n",
       "      <th>LOCALITY</th>\n",
       "      <th>RATING</th>\n",
       "      <th>VOTES</th>\n",
       "      <th>COST</th>\n",
       "    </tr>\n",
       "  </thead>\n",
       "  <tbody>\n",
       "    <tr>\n",
       "      <th>0</th>\n",
       "      <td>CASUAL DINING</td>\n",
       "      <td>NONE</td>\n",
       "      <td>9438</td>\n",
       "      <td>MALWANI</td>\n",
       "      <td>GOAN</td>\n",
       "      <td>NORTH INDIAN</td>\n",
       "      <td>NONE</td>\n",
       "      <td>NONE</td>\n",
       "      <td>NONE</td>\n",
       "      <td>NONE</td>\n",
       "      <td>NONE</td>\n",
       "      <td>THANE</td>\n",
       "      <td>DOMBIVALI EAST</td>\n",
       "      <td>3.6</td>\n",
       "      <td>49.0</td>\n",
       "      <td>1200</td>\n",
       "    </tr>\n",
       "    <tr>\n",
       "      <th>1</th>\n",
       "      <td>CASUAL DINING</td>\n",
       "      <td>BAR</td>\n",
       "      <td>13198</td>\n",
       "      <td>ASIAN</td>\n",
       "      <td>MODERN INDIAN</td>\n",
       "      <td>JAPANESE</td>\n",
       "      <td>NONE</td>\n",
       "      <td>NONE</td>\n",
       "      <td>NONE</td>\n",
       "      <td>NONE</td>\n",
       "      <td>NONE</td>\n",
       "      <td>CHENNAI</td>\n",
       "      <td>RAMAPURAM</td>\n",
       "      <td>4.2</td>\n",
       "      <td>30.0</td>\n",
       "      <td>1500</td>\n",
       "    </tr>\n",
       "    <tr>\n",
       "      <th>2</th>\n",
       "      <td>CASUAL DINING</td>\n",
       "      <td>NONE</td>\n",
       "      <td>10915</td>\n",
       "      <td>NORTH INDIAN</td>\n",
       "      <td>CHINESE</td>\n",
       "      <td>BIRYANI</td>\n",
       "      <td>HYDERABADI</td>\n",
       "      <td>NONE</td>\n",
       "      <td>NONE</td>\n",
       "      <td>NONE</td>\n",
       "      <td>NONE</td>\n",
       "      <td>CHENNAI</td>\n",
       "      <td>SALIGRAMAM</td>\n",
       "      <td>3.8</td>\n",
       "      <td>221.0</td>\n",
       "      <td>800</td>\n",
       "    </tr>\n",
       "    <tr>\n",
       "      <th>3</th>\n",
       "      <td>QUICK BITES</td>\n",
       "      <td>NONE</td>\n",
       "      <td>6346</td>\n",
       "      <td>TIBETAN</td>\n",
       "      <td>CHINESE</td>\n",
       "      <td>NONE</td>\n",
       "      <td>NONE</td>\n",
       "      <td>NONE</td>\n",
       "      <td>NONE</td>\n",
       "      <td>NONE</td>\n",
       "      <td>NONE</td>\n",
       "      <td>MUMBAI</td>\n",
       "      <td>BANDRA WEST</td>\n",
       "      <td>4.1</td>\n",
       "      <td>24.0</td>\n",
       "      <td>800</td>\n",
       "    </tr>\n",
       "    <tr>\n",
       "      <th>4</th>\n",
       "      <td>DESSERT PARLOR</td>\n",
       "      <td>NONE</td>\n",
       "      <td>15387</td>\n",
       "      <td>DESSERTS</td>\n",
       "      <td>NONE</td>\n",
       "      <td>NONE</td>\n",
       "      <td>NONE</td>\n",
       "      <td>NONE</td>\n",
       "      <td>NONE</td>\n",
       "      <td>NONE</td>\n",
       "      <td>NONE</td>\n",
       "      <td>MUMBAI</td>\n",
       "      <td>LOWER PAREL</td>\n",
       "      <td>3.8</td>\n",
       "      <td>165.0</td>\n",
       "      <td>300</td>\n",
       "    </tr>\n",
       "  </tbody>\n",
       "</table>\n",
       "</div>"
      ],
      "text/plain": [
       "           TITLE1 TITLE2  RESTAURANT_ID      CUISINE1       CUISINE2  \\\n",
       "0   CASUAL DINING   NONE           9438       MALWANI           GOAN   \n",
       "1   CASUAL DINING    BAR          13198         ASIAN  MODERN INDIAN   \n",
       "2   CASUAL DINING   NONE          10915  NORTH INDIAN        CHINESE   \n",
       "3     QUICK BITES   NONE           6346       TIBETAN        CHINESE   \n",
       "4  DESSERT PARLOR   NONE          15387      DESSERTS           NONE   \n",
       "\n",
       "       CUISINE3    CUISINE4 CUISINE5 CUISINE6 CUISINE7 CUISINE8     CITY  \\\n",
       "0  NORTH INDIAN        NONE     NONE     NONE     NONE     NONE    THANE   \n",
       "1      JAPANESE        NONE     NONE     NONE     NONE     NONE  CHENNAI   \n",
       "2       BIRYANI  HYDERABADI     NONE     NONE     NONE     NONE  CHENNAI   \n",
       "3          NONE        NONE     NONE     NONE     NONE     NONE   MUMBAI   \n",
       "4          NONE        NONE     NONE     NONE     NONE     NONE   MUMBAI   \n",
       "\n",
       "         LOCALITY  RATING  VOTES  COST  \n",
       "0  DOMBIVALI EAST     3.6   49.0  1200  \n",
       "1       RAMAPURAM     4.2   30.0  1500  \n",
       "2      SALIGRAMAM     3.8  221.0   800  \n",
       "3     BANDRA WEST     4.1   24.0   800  \n",
       "4     LOWER PAREL     3.8  165.0   300  "
      ]
     },
     "execution_count": 115,
     "metadata": {},
     "output_type": "execute_result"
    }
   ],
   "source": [
    "train_new.head()"
   ]
  },
  {
   "cell_type": "code",
   "execution_count": 116,
   "metadata": {},
   "outputs": [
    {
     "data": {
      "text/plain": [
       "TITLE1              23\n",
       "TITLE2              20\n",
       "RESTAURANT_ID    11892\n",
       "CUISINE1           104\n",
       "CUISINE2            99\n",
       "CUISINE3            94\n",
       "CUISINE4            86\n",
       "CUISINE5            79\n",
       "CUISINE6            70\n",
       "CUISINE7            47\n",
       "CUISINE8            20\n",
       "CITY               355\n",
       "LOCALITY          1399\n",
       "RATING              31\n",
       "VOTES             1848\n",
       "COST                86\n",
       "dtype: int64"
      ]
     },
     "execution_count": 116,
     "metadata": {},
     "output_type": "execute_result"
    }
   ],
   "source": [
    "train_new.nunique()"
   ]
  },
  {
   "cell_type": "markdown",
   "metadata": {},
   "source": [
    "# Visualisation "
   ]
  },
  {
   "cell_type": "code",
   "execution_count": 117,
   "metadata": {},
   "outputs": [
    {
     "name": "stdout",
     "output_type": "stream",
     "text": [
      "QUICK BITES       4337\n",
      "CASUAL DINING     4122\n",
      "NONE              1003\n",
      "CAFÉ               749\n",
      "DESSERT PARLOR     478\n",
      "BAKERY             463\n",
      "FINE DINING        350\n",
      "BAR                254\n",
      "BEVERAGE SHOP      215\n",
      "LOUNGE             154\n",
      "PUB                103\n",
      "SWEET SHOP         102\n",
      "FOOD COURT          93\n",
      "KIOSK               56\n",
      "MESS                53\n",
      "DHABA               45\n",
      "MICROBREWERY        44\n",
      "FOOD TRUCK          30\n",
      "CLUB                23\n",
      "COCKTAIL BAR         6\n",
      "PAAN SHOP            4\n",
      "MEAT SHOP            3\n",
      "CONFECTIONERY        3\n",
      "Name: TITLE1, dtype: int64\n",
      "NONE              11208\n",
      "BAR                 428\n",
      "QUICK BITES         261\n",
      "CASUAL DINING       257\n",
      "DESSERT PARLOR      138\n",
      "CAFÉ                 94\n",
      "BAKERY               69\n",
      "SWEET SHOP           53\n",
      "LOUNGE               47\n",
      "PUB                  35\n",
      "BEVERAGE SHOP        34\n",
      "MICROBREWERY         27\n",
      "FOOD COURT           15\n",
      "FINE DINING           8\n",
      "CLUB                  5\n",
      "KIOSK                 4\n",
      "IRANI CAFE            3\n",
      "CONFECTIONERY         2\n",
      "PAAN SHOP             1\n",
      "FOOD TRUCK            1\n",
      "Name: TITLE2, dtype: int64\n",
      "7264     8\n",
      "4634     7\n",
      "9910     6\n",
      "13173    5\n",
      "1571     5\n",
      "        ..\n",
      "461      1\n",
      "2508     1\n",
      "14794    1\n",
      "10696    1\n",
      "0        1\n",
      "Name: RESTAURANT_ID, Length: 11892, dtype: int64\n",
      "NORTH INDIAN        3129\n",
      "SOUTH INDIAN        1241\n",
      "CHINESE              996\n",
      "FAST FOOD            762\n",
      "CAFE                 713\n",
      "                    ... \n",
      "INDONESIAN             1\n",
      "CHARCOAL CHICKEN       1\n",
      "RUSSIAN                1\n",
      "ETHIOPIAN              1\n",
      "ROAST CHICKEN          1\n",
      "Name: CUISINE1, Length: 104, dtype: int64\n",
      "NONE             3062\n",
      "CHINESE          1830\n",
      "NORTH INDIAN     1373\n",
      "FAST FOOD         782\n",
      "SOUTH INDIAN      638\n",
      "                 ... \n",
      "RUSSIAN             1\n",
      "SRI LANKAN          1\n",
      "BELGIAN             1\n",
      "ASSAMESE            1\n",
      "ROAST CHICKEN       1\n",
      "Name: CUISINE2, Length: 99, dtype: int64\n",
      "NONE                 6999\n",
      "CHINESE              1146\n",
      "NORTH INDIAN          593\n",
      "FAST FOOD             387\n",
      "CONTINENTAL           345\n",
      "                     ... \n",
      "PANINI                  1\n",
      "MIDDLE EASTERN          1\n",
      "MODERN AUSTRALIAN       1\n",
      "BELGIAN                 1\n",
      "TURKISH                 1\n",
      "Name: CUISINE3, Length: 94, dtype: int64\n",
      "NONE            9995\n",
      "CHINESE          294\n",
      "NORTH INDIAN     207\n",
      "ITALIAN          156\n",
      "CONTINENTAL      156\n",
      "                ... \n",
      "JEWISH             1\n",
      "BRITISH            1\n",
      "PERUVIAN           1\n",
      "NEPALESE           1\n",
      "MONGOLIAN          1\n",
      "Name: CUISINE4, Length: 86, dtype: int64\n",
      "NONE         11675\n",
      "BEVERAGES       85\n",
      "CHINESE         77\n",
      "DESSERTS        65\n",
      "ITALIAN         54\n",
      "             ...  \n",
      "IRANIAN          1\n",
      "TIBETAN          1\n",
      "KASHMIRI         1\n",
      "GERMAN           1\n",
      "AFGHAN           1\n",
      "Name: CUISINE5, Length: 79, dtype: int64\n",
      "NONE            12276\n",
      "DESSERTS           29\n",
      "PIZZA              27\n",
      "SALAD              26\n",
      "NORTH INDIAN       25\n",
      "                ...  \n",
      "SATAY               1\n",
      "GUJARATI            1\n",
      "BAKERY              1\n",
      "FRENCH              1\n",
      "                    1\n",
      "Name: CUISINE6, Length: 70, dtype: int64\n",
      "NONE              12514\n",
      "                     40\n",
      "DESSERTS             15\n",
      "PIZZA                12\n",
      "SALAD                10\n",
      "BEVERAGES             9\n",
      "CHINESE               7\n",
      "SANDWICH              6\n",
      "MOMOS                 6\n",
      "NORTH INDIAN          5\n",
      "BBQ                   5\n",
      "ITALIAN               5\n",
      "BURGER                5\n",
      "KEBAB                 3\n",
      "HEALTHY FOOD          3\n",
      "TEA                   3\n",
      "BAKERY                3\n",
      "LEBANESE              2\n",
      "CONTINENTAL           2\n",
      "COFFEE                2\n",
      "MODERN INDIAN         2\n",
      "EUROPEAN              2\n",
      "AMERICAN              2\n",
      "SEAFOOD               2\n",
      "BIRYANI               2\n",
      "VIETNAMESE            2\n",
      "INDONESIAN            1\n",
      "PARSI                 1\n",
      "JAPANESE              1\n",
      "MIDDLE EASTERN        1\n",
      "DUMPLINGS             1\n",
      "MANGALOREAN           1\n",
      "THAI                  1\n",
      "MALAYSIAN             1\n",
      "ARABIAN               1\n",
      "SOUTH INDIAN          1\n",
      "JUICES                1\n",
      "FRENCH                1\n",
      "MUGHLAI               1\n",
      "MEDITERRANEAN         1\n",
      "AFGHAN                1\n",
      "BURMESE               1\n",
      "LUCKNOWI              1\n",
      "STEAK                 1\n",
      "ROLLS                 1\n",
      "SPANISH               1\n",
      "TURKISH               1\n",
      "Name: CUISINE7, dtype: int64\n",
      "NONE              12613\n",
      "                     52\n",
      "DESSERTS              3\n",
      "FAST FOOD             3\n",
      "BEVERAGES             2\n",
      "ASIAN                 2\n",
      "ICE CREAM             2\n",
      "MOMOS                 1\n",
      "SALAD                 1\n",
      "EUROPEAN              1\n",
      "PIZZA                 1\n",
      "NORTH INDIAN          1\n",
      "CHINESE               1\n",
      "COFFEE AND TEA        1\n",
      "MEXICAN               1\n",
      "HEALTHY FOOD          1\n",
      "LEBANESE              1\n",
      "ROLLS                 1\n",
      "CAFE FOOD             1\n",
      "BURGER                1\n",
      "Name: CUISINE8, dtype: int64\n",
      "CHENNAI                2175\n",
      "BANGALORE              2149\n",
      "HYDERABAD              1820\n",
      "MUMBAI                 1722\n",
      "NEW DELHI              1321\n",
      "                       ... \n",
      "UTTAR PRADESH             1\n",
      "SARJAPUR                  1\n",
      "MASAB TANK                1\n",
      "HYDERABAD MANIKONDA       1\n",
      "WEST MAREDPALLY           1\n",
      "Name: CITY, Length: 355, dtype: int64\n",
      "GACHIBOWLI                      166\n",
      "INDIRANAGAR                     138\n",
      "EDAPPALLY                       122\n",
      "KAKKANAD                        121\n",
      "HSR                             120\n",
      "                               ... \n",
      "BALAPUR                           1\n",
      "NEAR TARAMANI                     1\n",
      "JEEVAN BHIMA NAGAR MAIN ROAD      1\n",
      "BANDRA RECLAMATION DOCK           1\n",
      "ASMITA UPAHAR 2                   1\n",
      "Name: LOCALITY, Length: 1399, dtype: int64\n",
      "3.9    1238\n",
      "0.0    1204\n",
      "3.8    1190\n",
      "4.0    1099\n",
      "3.7    1086\n",
      "3.6     951\n",
      "4.1     936\n",
      "3.5     771\n",
      "4.2     723\n",
      "3.4     575\n",
      "4.3     556\n",
      "3.3     365\n",
      "4.4     362\n",
      "3.2     266\n",
      "4.5     199\n",
      "2.9     186\n",
      "3.1     186\n",
      "3.0     170\n",
      "2.8     146\n",
      "4.6     141\n",
      "2.7      89\n",
      "4.7      69\n",
      "2.6      61\n",
      "2.5      35\n",
      "4.8      32\n",
      "4.9      22\n",
      "2.4      15\n",
      "2.3      10\n",
      "2.1       3\n",
      "2.2       2\n",
      "2.0       2\n",
      "Name: RATING, dtype: int64\n",
      "0.0       1204\n",
      "44.0        71\n",
      "29.0        66\n",
      "28.0        66\n",
      "38.0        65\n",
      "          ... \n",
      "865.0        1\n",
      "4980.0       1\n",
      "1131.0       1\n",
      "3369.0       1\n",
      "2055.0       1\n",
      "Name: VOTES, Length: 1848, dtype: int64\n",
      "300      1595\n",
      "400      1357\n",
      "500      1300\n",
      "200      1031\n",
      "600       806\n",
      "         ... \n",
      "4100        1\n",
      "70          1\n",
      "14000       1\n",
      "1950        1\n",
      "80          1\n",
      "Name: COST, Length: 86, dtype: int64\n"
     ]
    }
   ],
   "source": [
    "for col in train_new:\n",
    "    print(train_new[col].value_counts())"
   ]
  },
  {
   "cell_type": "markdown",
   "metadata": {},
   "source": [
    "# Bivariate"
   ]
  },
  {
   "cell_type": "markdown",
   "metadata": {},
   "source": [
    "### TITLE1 vs COST"
   ]
  },
  {
   "cell_type": "code",
   "execution_count": 121,
   "metadata": {},
   "outputs": [
    {
     "data": {
      "text/plain": [
       "(array([ 0,  1,  2,  3,  4,  5,  6,  7,  8,  9, 10, 11, 12, 13, 14, 15, 16,\n",
       "        17, 18, 19, 20, 21, 22]),\n",
       " [Text(0, 0, 'CASUAL DINING'),\n",
       "  Text(1, 0, 'QUICK BITES'),\n",
       "  Text(2, 0, 'DESSERT PARLOR'),\n",
       "  Text(3, 0, 'CAFÉ'),\n",
       "  Text(4, 0, 'MICROBREWERY'),\n",
       "  Text(5, 0, 'BAKERY'),\n",
       "  Text(6, 0, 'NONE'),\n",
       "  Text(7, 0, 'BAR'),\n",
       "  Text(8, 0, 'PUB'),\n",
       "  Text(9, 0, 'BEVERAGE SHOP'),\n",
       "  Text(10, 0, 'FINE DINING'),\n",
       "  Text(11, 0, 'SWEET SHOP'),\n",
       "  Text(12, 0, 'FOOD COURT'),\n",
       "  Text(13, 0, 'LOUNGE'),\n",
       "  Text(14, 0, 'FOOD TRUCK'),\n",
       "  Text(15, 0, 'MESS'),\n",
       "  Text(16, 0, 'KIOSK'),\n",
       "  Text(17, 0, 'CLUB'),\n",
       "  Text(18, 0, 'DHABA'),\n",
       "  Text(19, 0, 'MEAT SHOP'),\n",
       "  Text(20, 0, 'COCKTAIL BAR'),\n",
       "  Text(21, 0, 'CONFECTIONERY'),\n",
       "  Text(22, 0, 'PAAN SHOP')])"
      ]
     },
     "execution_count": 121,
     "metadata": {},
     "output_type": "execute_result"
    },
    {
     "data": {
      "image/png": "[encoded data removed]",
      "text/plain": [
       "<Figure size 1080x432 with 1 Axes>"
      ]
     },
     "metadata": {
      "needs_background": "light"
     },
     "output_type": "display_data"
    }
   ],
   "source": [
    "x=sns.catplot(x=\"TITLE1\", y=\"COST\", kind=\"box\", data=train_new)\n",
    "x.fig.set_size_inches(15,6)\n",
    "plt.xticks(rotation='vertical')"
   ]
  },
  {
   "cell_type": "markdown",
   "metadata": {},
   "source": [
    "### TITLE2 vs COST"
   ]
  },
  {
   "cell_type": "code",
   "execution_count": 123,
   "metadata": {},
   "outputs": [
    {
     "data": {
      "text/plain": [
       "(array([ 0,  1,  2,  3,  4,  5,  6,  7,  8,  9, 10, 11, 12, 13, 14, 15, 16,\n",
       "        17, 18, 19]),\n",
       " [Text(0, 0, 'NONE'),\n",
       "  Text(1, 0, 'BAR'),\n",
       "  Text(2, 0, 'BEVERAGE SHOP'),\n",
       "  Text(3, 0, 'IRANI CAFE'),\n",
       "  Text(4, 0, 'QUICK BITES'),\n",
       "  Text(5, 0, 'CASUAL DINING'),\n",
       "  Text(6, 0, 'DESSERT PARLOR'),\n",
       "  Text(7, 0, 'SWEET SHOP'),\n",
       "  Text(8, 0, 'LOUNGE'),\n",
       "  Text(9, 0, 'FOOD COURT'),\n",
       "  Text(10, 0, 'KIOSK'),\n",
       "  Text(11, 0, 'CAFÉ'),\n",
       "  Text(12, 0, 'CONFECTIONERY'),\n",
       "  Text(13, 0, 'MICROBREWERY'),\n",
       "  Text(14, 0, 'PUB'),\n",
       "  Text(15, 0, 'BAKERY'),\n",
       "  Text(16, 0, 'CLUB'),\n",
       "  Text(17, 0, 'FINE DINING'),\n",
       "  Text(18, 0, 'FOOD TRUCK'),\n",
       "  Text(19, 0, 'PAAN SHOP')])"
      ]
     },
     "execution_count": 123,
     "metadata": {},
     "output_type": "execute_result"
    },
    {
     "data": {
      "image/png": "[encoded data removed]",
      "text/plain": [
       "<Figure size 1080x720 with 1 Axes>"
      ]
     },
     "metadata": {
      "needs_background": "light"
     },
     "output_type": "display_data"
    }
   ],
   "source": [
    "x=sns.catplot(x=\"TITLE2\", y=\"COST\", kind=\"box\", data=train_new)\n",
    "x.fig.set_size_inches(15,10)\n",
    "plt.xticks(rotation='vertical')"
   ]
  },
  {
   "cell_type": "markdown",
   "metadata": {},
   "source": [
    "### RATING vs COST"
   ]
  },
  {
   "cell_type": "code",
   "execution_count": 133,
   "metadata": {},
   "outputs": [
    {
     "data": {
      "text/plain": [
       "(array([ 0,  1,  2,  3,  4,  5,  6,  7,  8,  9, 10, 11, 12, 13, 14, 15, 16,\n",
       "        17, 18, 19, 20, 21, 22, 23, 24, 25, 26, 27, 28, 29, 30]),\n",
       " [Text(0, 0, '0.0'),\n",
       "  Text(1, 0, '2.0'),\n",
       "  Text(2, 0, '2.1'),\n",
       "  Text(3, 0, '2.2'),\n",
       "  Text(4, 0, '2.3'),\n",
       "  Text(5, 0, '2.4'),\n",
       "  Text(6, 0, '2.5'),\n",
       "  Text(7, 0, '2.6'),\n",
       "  Text(8, 0, '2.7'),\n",
       "  Text(9, 0, '2.8'),\n",
       "  Text(10, 0, '2.9'),\n",
       "  Text(11, 0, '3.0'),\n",
       "  Text(12, 0, '3.1'),\n",
       "  Text(13, 0, '3.2'),\n",
       "  Text(14, 0, '3.3'),\n",
       "  Text(15, 0, '3.4'),\n",
       "  Text(16, 0, '3.5'),\n",
       "  Text(17, 0, '3.6'),\n",
       "  Text(18, 0, '3.7'),\n",
       "  Text(19, 0, '3.8'),\n",
       "  Text(20, 0, '3.9'),\n",
       "  Text(21, 0, '4.0'),\n",
       "  Text(22, 0, '4.1'),\n",
       "  Text(23, 0, '4.2'),\n",
       "  Text(24, 0, '4.3'),\n",
       "  Text(25, 0, '4.4'),\n",
       "  Text(26, 0, '4.5'),\n",
       "  Text(27, 0, '4.6'),\n",
       "  Text(28, 0, '4.7'),\n",
       "  Text(29, 0, '4.8'),\n",
       "  Text(30, 0, '4.9')])"
      ]
     },
     "execution_count": 133,
     "metadata": {},
     "output_type": "execute_result"
    },
    {
     "data": {
      "image/png": "[encoded data removed]",
      "text/plain": [
       "<Figure size 1080x720 with 1 Axes>"
      ]
     },
     "metadata": {
      "needs_background": "light"
     },
     "output_type": "display_data"
    }
   ],
   "source": [
    "x=sns.catplot(x=\"RATING\", y=\"COST\", kind=\"box\", data=train_new)\n",
    "x.fig.set_size_inches(15,10)\n",
    "plt.xticks(rotation='vertical')"
   ]
  },
  {
   "cell_type": "markdown",
   "metadata": {},
   "source": [
    "### CUISINE7 vs COST"
   ]
  },
  {
   "cell_type": "code",
   "execution_count": 134,
   "metadata": {},
   "outputs": [
    {
     "data": {
      "text/plain": [
       "(array([ 0,  1,  2,  3,  4,  5,  6,  7,  8,  9, 10, 11, 12, 13, 14, 15, 16,\n",
       "        17, 18, 19, 20, 21, 22, 23, 24, 25, 26, 27, 28, 29, 30, 31, 32, 33,\n",
       "        34, 35, 36, 37, 38, 39, 40, 41, 42, 43, 44, 45, 46]),\n",
       " [Text(0, 0, 'NONE'),\n",
       "  Text(1, 0, 'BIRYANI'),\n",
       "  Text(2, 0, 'TEA'),\n",
       "  Text(3, 0, 'BURGER'),\n",
       "  Text(4, 0, 'SANDWICH'),\n",
       "  Text(5, 0, ''),\n",
       "  Text(6, 0, 'EUROPEAN'),\n",
       "  Text(7, 0, 'NORTH INDIAN'),\n",
       "  Text(8, 0, 'ITALIAN'),\n",
       "  Text(9, 0, 'BBQ'),\n",
       "  Text(10, 0, 'VIETNAMESE'),\n",
       "  Text(11, 0, 'PIZZA'),\n",
       "  Text(12, 0, 'SALAD'),\n",
       "  Text(13, 0, 'DUMPLINGS'),\n",
       "  Text(14, 0, 'DESSERTS'),\n",
       "  Text(15, 0, 'BURMESE'),\n",
       "  Text(16, 0, 'SEAFOOD'),\n",
       "  Text(17, 0, 'BEVERAGES'),\n",
       "  Text(18, 0, 'FRENCH'),\n",
       "  Text(19, 0, 'ARABIAN'),\n",
       "  Text(20, 0, 'CHINESE'),\n",
       "  Text(21, 0, 'LUCKNOWI'),\n",
       "  Text(22, 0, 'HEALTHY FOOD'),\n",
       "  Text(23, 0, 'MANGALOREAN'),\n",
       "  Text(24, 0, 'MOMOS'),\n",
       "  Text(25, 0, 'INDONESIAN'),\n",
       "  Text(26, 0, 'MUGHLAI'),\n",
       "  Text(27, 0, 'MEDITERRANEAN'),\n",
       "  Text(28, 0, 'LEBANESE'),\n",
       "  Text(29, 0, 'PARSI'),\n",
       "  Text(30, 0, 'JUICES'),\n",
       "  Text(31, 0, 'MIDDLE EASTERN'),\n",
       "  Text(32, 0, 'CONTINENTAL'),\n",
       "  Text(33, 0, 'BAKERY'),\n",
       "  Text(34, 0, 'KEBAB'),\n",
       "  Text(35, 0, 'AFGHAN'),\n",
       "  Text(36, 0, 'TURKISH'),\n",
       "  Text(37, 0, 'AMERICAN'),\n",
       "  Text(38, 0, 'THAI'),\n",
       "  Text(39, 0, 'SOUTH INDIAN'),\n",
       "  Text(40, 0, 'STEAK'),\n",
       "  Text(41, 0, 'MODERN INDIAN'),\n",
       "  Text(42, 0, 'COFFEE'),\n",
       "  Text(43, 0, 'JAPANESE'),\n",
       "  Text(44, 0, 'MALAYSIAN'),\n",
       "  Text(45, 0, 'ROLLS'),\n",
       "  Text(46, 0, 'SPANISH')])"
      ]
     },
     "execution_count": 134,
     "metadata": {},
     "output_type": "execute_result"
    },
    {
     "data": {
      "image/png": "[encoded data removed]",
      "text/plain": [
       "<Figure size 1080x720 with 1 Axes>"
      ]
     },
     "metadata": {
      "needs_background": "light"
     },
     "output_type": "display_data"
    }
   ],
   "source": [
    "x=sns.catplot(x=\"CUISINE7\", y=\"COST\", kind=\"box\", data=train_new)\n",
    "x.fig.set_size_inches(15,10)\n",
    "plt.xticks(rotation='vertical')"
   ]
  },
  {
   "cell_type": "markdown",
   "metadata": {},
   "source": [
    "### CUISINE8 vs COST"
   ]
  },
  {
   "cell_type": "code",
   "execution_count": 135,
   "metadata": {},
   "outputs": [
    {
     "data": {
      "text/plain": [
       "(array([ 0,  1,  2,  3,  4,  5,  6,  7,  8,  9, 10, 11, 12, 13, 14, 15, 16,\n",
       "        17, 18, 19]),\n",
       " [Text(0, 0, 'NONE'),\n",
       "  Text(1, 0, ''),\n",
       "  Text(2, 0, 'HEALTHY FOOD'),\n",
       "  Text(3, 0, 'PIZZA'),\n",
       "  Text(4, 0, 'ICE CREAM'),\n",
       "  Text(5, 0, 'LEBANESE'),\n",
       "  Text(6, 0, 'DESSERTS'),\n",
       "  Text(7, 0, 'ASIAN'),\n",
       "  Text(8, 0, 'MEXICAN'),\n",
       "  Text(9, 0, 'FAST FOOD'),\n",
       "  Text(10, 0, 'ROLLS'),\n",
       "  Text(11, 0, 'BEVERAGES'),\n",
       "  Text(12, 0, 'CHINESE'),\n",
       "  Text(13, 0, 'MOMOS'),\n",
       "  Text(14, 0, 'NORTH INDIAN'),\n",
       "  Text(15, 0, 'BURGER'),\n",
       "  Text(16, 0, 'COFFEE AND TEA'),\n",
       "  Text(17, 0, 'CAFE FOOD'),\n",
       "  Text(18, 0, 'SALAD'),\n",
       "  Text(19, 0, 'EUROPEAN')])"
      ]
     },
     "execution_count": 135,
     "metadata": {},
     "output_type": "execute_result"
    },
    {
     "data": {
      "image/png": "[encoded data removed]",
      "text/plain": [
       "<Figure size 1080x720 with 1 Axes>"
      ]
     },
     "metadata": {
      "needs_background": "light"
     },
     "output_type": "display_data"
    }
   ],
   "source": [
    "x=sns.catplot(x=\"CUISINE8\", y=\"COST\", kind=\"box\", data=train_new)\n",
    "x.fig.set_size_inches(15,10)\n",
    "plt.xticks(rotation='vertical')"
   ]
  },
  {
   "cell_type": "markdown",
   "metadata": {},
   "source": [
    "Observations : \n",
    "    \n",
    "    Outliers are present in the None column. We need to fix it."
   ]
  },
  {
   "cell_type": "markdown",
   "metadata": {},
   "source": [
    "# Encoding Categorical Variables"
   ]
  },
  {
   "cell_type": "code",
   "execution_count": 41,
   "metadata": {},
   "outputs": [],
   "source": [
    "from sklearn.preprocessing import LabelEncoder\n",
    "\n",
    "le=LabelEncoder()\n",
    "\n",
    "for column in train_new.columns:\n",
    "    if train_new[column].dtype==np.number:\n",
    "        continue\n",
    "    train_new[column]=le.fit_transform(train_new[column]) "
   ]
  },
  {
   "cell_type": "markdown",
   "metadata": {},
   "source": [
    "# Check the numerical Data"
   ]
  },
  {
   "cell_type": "code",
   "execution_count": 42,
   "metadata": {},
   "outputs": [
    {
     "data": {
      "text/html": [
       "<div>\n",
       "<style scoped>\n",
       "    .dataframe tbody tr th:only-of-type {\n",
       "        vertical-align: middle;\n",
       "    }\n",
       "\n",
       "    .dataframe tbody tr th {\n",
       "        vertical-align: top;\n",
       "    }\n",
       "\n",
       "    .dataframe thead th {\n",
       "        text-align: right;\n",
       "    }\n",
       "</style>\n",
       "<table border=\"1\" class=\"dataframe\">\n",
       "  <thead>\n",
       "    <tr style=\"text-align: right;\">\n",
       "      <th></th>\n",
       "      <th>TITLE1</th>\n",
       "      <th>TITLE2</th>\n",
       "      <th>RESTAURANT_ID</th>\n",
       "      <th>CUISINE1</th>\n",
       "      <th>CUISINE2</th>\n",
       "      <th>CUISINE3</th>\n",
       "      <th>CUISINE4</th>\n",
       "      <th>CUISINE5</th>\n",
       "      <th>CUISINE6</th>\n",
       "      <th>CUISINE7</th>\n",
       "      <th>CUISINE8</th>\n",
       "      <th>CITY</th>\n",
       "      <th>LOCALITY</th>\n",
       "      <th>RATING</th>\n",
       "      <th>VOTES</th>\n",
       "      <th>COST</th>\n",
       "    </tr>\n",
       "  </thead>\n",
       "  <tbody>\n",
       "    <tr>\n",
       "      <th>0</th>\n",
       "      <td>4</td>\n",
       "      <td>15</td>\n",
       "      <td>7196</td>\n",
       "      <td>59</td>\n",
       "      <td>32</td>\n",
       "      <td>67</td>\n",
       "      <td>61</td>\n",
       "      <td>58</td>\n",
       "      <td>47</td>\n",
       "      <td>32</td>\n",
       "      <td>15</td>\n",
       "      <td>327</td>\n",
       "      <td>279</td>\n",
       "      <td>3.6</td>\n",
       "      <td>49.0</td>\n",
       "      <td>36</td>\n",
       "    </tr>\n",
       "    <tr>\n",
       "      <th>1</th>\n",
       "      <td>4</td>\n",
       "      <td>1</td>\n",
       "      <td>10075</td>\n",
       "      <td>6</td>\n",
       "      <td>60</td>\n",
       "      <td>41</td>\n",
       "      <td>61</td>\n",
       "      <td>58</td>\n",
       "      <td>47</td>\n",
       "      <td>32</td>\n",
       "      <td>15</td>\n",
       "      <td>67</td>\n",
       "      <td>1038</td>\n",
       "      <td>4.2</td>\n",
       "      <td>30.0</td>\n",
       "      <td>43</td>\n",
       "    </tr>\n",
       "    <tr>\n",
       "      <th>2</th>\n",
       "      <td>4</td>\n",
       "      <td>15</td>\n",
       "      <td>8349</td>\n",
       "      <td>72</td>\n",
       "      <td>23</td>\n",
       "      <td>12</td>\n",
       "      <td>32</td>\n",
       "      <td>58</td>\n",
       "      <td>47</td>\n",
       "      <td>32</td>\n",
       "      <td>15</td>\n",
       "      <td>67</td>\n",
       "      <td>1093</td>\n",
       "      <td>3.8</td>\n",
       "      <td>221.0</td>\n",
       "      <td>28</td>\n",
       "    </tr>\n",
       "    <tr>\n",
       "      <th>3</th>\n",
       "      <td>21</td>\n",
       "      <td>15</td>\n",
       "      <td>4876</td>\n",
       "      <td>100</td>\n",
       "      <td>23</td>\n",
       "      <td>65</td>\n",
       "      <td>61</td>\n",
       "      <td>58</td>\n",
       "      <td>47</td>\n",
       "      <td>32</td>\n",
       "      <td>15</td>\n",
       "      <td>225</td>\n",
       "      <td>127</td>\n",
       "      <td>4.1</td>\n",
       "      <td>24.0</td>\n",
       "      <td>28</td>\n",
       "    </tr>\n",
       "    <tr>\n",
       "      <th>4</th>\n",
       "      <td>8</td>\n",
       "      <td>15</td>\n",
       "      <td>11747</td>\n",
       "      <td>28</td>\n",
       "      <td>65</td>\n",
       "      <td>65</td>\n",
       "      <td>61</td>\n",
       "      <td>58</td>\n",
       "      <td>47</td>\n",
       "      <td>32</td>\n",
       "      <td>15</td>\n",
       "      <td>225</td>\n",
       "      <td>613</td>\n",
       "      <td>3.8</td>\n",
       "      <td>165.0</td>\n",
       "      <td>14</td>\n",
       "    </tr>\n",
       "  </tbody>\n",
       "</table>\n",
       "</div>"
      ],
      "text/plain": [
       "   TITLE1  TITLE2  RESTAURANT_ID  CUISINE1  CUISINE2  CUISINE3  CUISINE4  \\\n",
       "0       4      15           7196        59        32        67        61   \n",
       "1       4       1          10075         6        60        41        61   \n",
       "2       4      15           8349        72        23        12        32   \n",
       "3      21      15           4876       100        23        65        61   \n",
       "4       8      15          11747        28        65        65        61   \n",
       "\n",
       "   CUISINE5  CUISINE6  CUISINE7  CUISINE8  CITY  LOCALITY  RATING  VOTES  COST  \n",
       "0        58        47        32        15   327       279     3.6   49.0    36  \n",
       "1        58        47        32        15    67      1038     4.2   30.0    43  \n",
       "2        58        47        32        15    67      1093     3.8  221.0    28  \n",
       "3        58        47        32        15   225       127     4.1   24.0    28  \n",
       "4        58        47        32        15   225       613     3.8  165.0    14  "
      ]
     },
     "execution_count": 42,
     "metadata": {},
     "output_type": "execute_result"
    }
   ],
   "source": [
    "train_new.head()"
   ]
  },
  {
   "cell_type": "markdown",
   "metadata": {},
   "source": [
    "# Removing Outliers "
   ]
  },
  {
   "cell_type": "code",
   "execution_count": 43,
   "metadata": {
    "scrolled": true
   },
   "outputs": [
    {
     "data": {
      "text/plain": [
       "TITLE1             int32\n",
       "TITLE2             int32\n",
       "RESTAURANT_ID      int64\n",
       "CUISINE1           int32\n",
       "CUISINE2           int32\n",
       "CUISINE3           int32\n",
       "CUISINE4           int32\n",
       "CUISINE5           int32\n",
       "CUISINE6           int32\n",
       "CUISINE7           int32\n",
       "CUISINE8           int32\n",
       "CITY               int32\n",
       "LOCALITY           int32\n",
       "RATING           float64\n",
       "VOTES            float64\n",
       "COST               int64\n",
       "dtype: object"
      ]
     },
     "execution_count": 43,
     "metadata": {},
     "output_type": "execute_result"
    }
   ],
   "source": [
    "train_new.dtypes"
   ]
  },
  {
   "cell_type": "markdown",
   "metadata": {},
   "source": [
    "### Z_score"
   ]
  },
  {
   "cell_type": "code",
   "execution_count": 44,
   "metadata": {},
   "outputs": [],
   "source": [
    "from scipy.stats import zscore\n",
    "import numpy as np\n",
    "z=np.abs(zscore(train_new))\n",
    "threshold=3\n",
    "train_new1=train_new[(z<3).all(axis=1)]"
   ]
  },
  {
   "cell_type": "code",
   "execution_count": 45,
   "metadata": {},
   "outputs": [
    {
     "data": {
      "text/plain": [
       "(10850, 16)"
      ]
     },
     "execution_count": 45,
     "metadata": {},
     "output_type": "execute_result"
    }
   ],
   "source": [
    "train_new1.shape"
   ]
  },
  {
   "cell_type": "code",
   "execution_count": 46,
   "metadata": {},
   "outputs": [
    {
     "data": {
      "text/plain": [
       "(12690, 16)"
      ]
     },
     "execution_count": 46,
     "metadata": {},
     "output_type": "execute_result"
    }
   ],
   "source": [
    "train_new.shape"
   ]
  },
  {
   "cell_type": "markdown",
   "metadata": {},
   "source": [
    "# Percentage Loss"
   ]
  },
  {
   "cell_type": "code",
   "execution_count": 47,
   "metadata": {
    "scrolled": true
   },
   "outputs": [
    {
     "name": "stdout",
     "output_type": "stream",
     "text": [
      "14.49960598896769\n"
     ]
    }
   ],
   "source": [
    "percentage_loss=(1840/12690)*100\n",
    "print(percentage_loss)"
   ]
  },
  {
   "cell_type": "markdown",
   "metadata": {},
   "source": [
    "We are loosing 14% data. So, we can contine our process with outliers"
   ]
  },
  {
   "cell_type": "markdown",
   "metadata": {},
   "source": [
    "# IQR"
   ]
  },
  {
   "cell_type": "code",
   "execution_count": 48,
   "metadata": {},
   "outputs": [
    {
     "name": "stdout",
     "output_type": "stream",
     "text": [
      "TITLE1             17.00\n",
      "TITLE2              0.00\n",
      "RESTAURANT_ID    5954.50\n",
      "CUISINE1           47.00\n",
      "CUISINE2           42.00\n",
      "CUISINE3           28.00\n",
      "CUISINE4            0.00\n",
      "CUISINE5            0.00\n",
      "CUISINE6            0.00\n",
      "CUISINE7            0.00\n",
      "CUISINE8            0.00\n",
      "CITY              158.00\n",
      "LOCALITY          673.00\n",
      "RATING              0.60\n",
      "VOTES             365.75\n",
      "COST               14.00\n",
      "dtype: float64\n"
     ]
    }
   ],
   "source": [
    "q1=train_new.quantile(0.25)\n",
    "q3=train_new.quantile(0.75)\n",
    "IQR=q3-q1\n",
    "print(IQR)"
   ]
  },
  {
   "cell_type": "code",
   "execution_count": 49,
   "metadata": {},
   "outputs": [
    {
     "name": "stdout",
     "output_type": "stream",
     "text": [
      "(7188, 16)\n"
     ]
    }
   ],
   "source": [
    "train_new1=train_new[~((train_new<(q1-1.5*IQR))|(train_new>(q3+1.5*IQR))).any(axis=1)]\n",
    "print(train_new1.shape)"
   ]
  },
  {
   "cell_type": "markdown",
   "metadata": {},
   "source": [
    "We are loosing more data"
   ]
  },
  {
   "cell_type": "markdown",
   "metadata": {},
   "source": [
    "# Skewness"
   ]
  },
  {
   "cell_type": "code",
   "execution_count": 50,
   "metadata": {},
   "outputs": [
    {
     "data": {
      "text/plain": [
       "Index(['TITLE1', 'TITLE2', 'RESTAURANT_ID', 'CUISINE1', 'CUISINE2', 'CUISINE3',\n",
       "       'CUISINE4', 'CUISINE5', 'CUISINE6', 'CUISINE7', 'CUISINE8', 'CITY',\n",
       "       'LOCALITY', 'RATING', 'VOTES', 'COST'],\n",
       "      dtype='object')"
      ]
     },
     "execution_count": 50,
     "metadata": {},
     "output_type": "execute_result"
    }
   ],
   "source": [
    "train_new.columns"
   ]
  },
  {
   "cell_type": "code",
   "execution_count": 51,
   "metadata": {
    "scrolled": true
   },
   "outputs": [
    {
     "data": {
      "image/png": "[encoded data removed]",
      "text/plain": [
       "<Figure size 936x1800 with 16 Axes>"
      ]
     },
     "metadata": {
      "needs_background": "light"
     },
     "output_type": "display_data"
    }
   ],
   "source": [
    "import itertools\n",
    "cols=['TITLE1', 'TITLE2', 'RESTAURANT_ID', 'CUISINE1', 'CUISINE2', 'CUISINE3',\n",
    "       'CUISINE4', 'CUISINE5', 'CUISINE6', 'CUISINE7', 'CUISINE8', 'CITY',\n",
    "       'LOCALITY', 'RATING', 'VOTES', 'COST']\n",
    "length=len(cols)\n",
    "cs=[\"b\",\"r\",\"g\",\"c\",\"m\",\"k\",\"lime\"]\n",
    "fig=plt.figure(figsize=(13,25))\n",
    "\n",
    "for i,j,k in itertools.zip_longest(cols,range(length),cs):\n",
    "    plt.subplot(6,3,j+1)\n",
    "    ax=sns.distplot(train_new[i],color=k,rug=True)\n",
    "    ax.set_facecolor(\"w\")\n",
    "    plt.axvline(train_new[i].mean(),linestyle=\"dashed\",label=\"mean\",color=\"k\")\n",
    "    plt.legend(loc=\"best\")\n",
    "    plt.title(i,color=\"navy\")\n",
    "    plt.xlabel(\"\")"
   ]
  },
  {
   "cell_type": "markdown",
   "metadata": {},
   "source": [
    "Observations : \n",
    "    \n",
    "    1. 'TITLE1', 'TITLE2','CUISINE1', 'CUISINE2',\n",
    "       'CUISINE4', 'CUISINE5', 'CUISINE6', 'CUISINE7', 'CUISINE8','RATING','Density' columns the peak point is too high. Most probably outliers are present here.\n",
    "        \n",
    "    2.In the 'Density','rating' column we can see the skewness    "
   ]
  },
  {
   "cell_type": "markdown",
   "metadata": {},
   "source": [
    "# Checking negative values"
   ]
  },
  {
   "cell_type": "code",
   "execution_count": 52,
   "metadata": {},
   "outputs": [
    {
     "data": {
      "text/plain": [
       "False"
      ]
     },
     "execution_count": 52,
     "metadata": {},
     "output_type": "execute_result"
    }
   ],
   "source": [
    "(train_new < 0).any().any()"
   ]
  },
  {
   "cell_type": "code",
   "execution_count": 53,
   "metadata": {},
   "outputs": [],
   "source": [
    "# Treating Skewness by log transform method"
   ]
  },
  {
   "cell_type": "code",
   "execution_count": 54,
   "metadata": {},
   "outputs": [],
   "source": [
    "#train_new=np.log(train_new)"
   ]
  },
  {
   "cell_type": "code",
   "execution_count": 55,
   "metadata": {},
   "outputs": [
    {
     "data": {
      "text/html": [
       "<div>\n",
       "<style scoped>\n",
       "    .dataframe tbody tr th:only-of-type {\n",
       "        vertical-align: middle;\n",
       "    }\n",
       "\n",
       "    .dataframe tbody tr th {\n",
       "        vertical-align: top;\n",
       "    }\n",
       "\n",
       "    .dataframe thead th {\n",
       "        text-align: right;\n",
       "    }\n",
       "</style>\n",
       "<table border=\"1\" class=\"dataframe\">\n",
       "  <thead>\n",
       "    <tr style=\"text-align: right;\">\n",
       "      <th></th>\n",
       "      <th>TITLE1</th>\n",
       "      <th>TITLE2</th>\n",
       "      <th>RESTAURANT_ID</th>\n",
       "      <th>CUISINE1</th>\n",
       "      <th>CUISINE2</th>\n",
       "      <th>CUISINE3</th>\n",
       "      <th>CUISINE4</th>\n",
       "      <th>CUISINE5</th>\n",
       "      <th>CUISINE6</th>\n",
       "      <th>CUISINE7</th>\n",
       "      <th>CUISINE8</th>\n",
       "      <th>CITY</th>\n",
       "      <th>LOCALITY</th>\n",
       "      <th>RATING</th>\n",
       "      <th>VOTES</th>\n",
       "      <th>COST</th>\n",
       "    </tr>\n",
       "  </thead>\n",
       "  <tbody>\n",
       "    <tr>\n",
       "      <th>0</th>\n",
       "      <td>4</td>\n",
       "      <td>15</td>\n",
       "      <td>7196</td>\n",
       "      <td>59</td>\n",
       "      <td>32</td>\n",
       "      <td>67</td>\n",
       "      <td>61</td>\n",
       "      <td>58</td>\n",
       "      <td>47</td>\n",
       "      <td>32</td>\n",
       "      <td>15</td>\n",
       "      <td>327</td>\n",
       "      <td>279</td>\n",
       "      <td>3.6</td>\n",
       "      <td>49.0</td>\n",
       "      <td>36</td>\n",
       "    </tr>\n",
       "    <tr>\n",
       "      <th>1</th>\n",
       "      <td>4</td>\n",
       "      <td>1</td>\n",
       "      <td>10075</td>\n",
       "      <td>6</td>\n",
       "      <td>60</td>\n",
       "      <td>41</td>\n",
       "      <td>61</td>\n",
       "      <td>58</td>\n",
       "      <td>47</td>\n",
       "      <td>32</td>\n",
       "      <td>15</td>\n",
       "      <td>67</td>\n",
       "      <td>1038</td>\n",
       "      <td>4.2</td>\n",
       "      <td>30.0</td>\n",
       "      <td>43</td>\n",
       "    </tr>\n",
       "    <tr>\n",
       "      <th>2</th>\n",
       "      <td>4</td>\n",
       "      <td>15</td>\n",
       "      <td>8349</td>\n",
       "      <td>72</td>\n",
       "      <td>23</td>\n",
       "      <td>12</td>\n",
       "      <td>32</td>\n",
       "      <td>58</td>\n",
       "      <td>47</td>\n",
       "      <td>32</td>\n",
       "      <td>15</td>\n",
       "      <td>67</td>\n",
       "      <td>1093</td>\n",
       "      <td>3.8</td>\n",
       "      <td>221.0</td>\n",
       "      <td>28</td>\n",
       "    </tr>\n",
       "    <tr>\n",
       "      <th>3</th>\n",
       "      <td>21</td>\n",
       "      <td>15</td>\n",
       "      <td>4876</td>\n",
       "      <td>100</td>\n",
       "      <td>23</td>\n",
       "      <td>65</td>\n",
       "      <td>61</td>\n",
       "      <td>58</td>\n",
       "      <td>47</td>\n",
       "      <td>32</td>\n",
       "      <td>15</td>\n",
       "      <td>225</td>\n",
       "      <td>127</td>\n",
       "      <td>4.1</td>\n",
       "      <td>24.0</td>\n",
       "      <td>28</td>\n",
       "    </tr>\n",
       "    <tr>\n",
       "      <th>4</th>\n",
       "      <td>8</td>\n",
       "      <td>15</td>\n",
       "      <td>11747</td>\n",
       "      <td>28</td>\n",
       "      <td>65</td>\n",
       "      <td>65</td>\n",
       "      <td>61</td>\n",
       "      <td>58</td>\n",
       "      <td>47</td>\n",
       "      <td>32</td>\n",
       "      <td>15</td>\n",
       "      <td>225</td>\n",
       "      <td>613</td>\n",
       "      <td>3.8</td>\n",
       "      <td>165.0</td>\n",
       "      <td>14</td>\n",
       "    </tr>\n",
       "  </tbody>\n",
       "</table>\n",
       "</div>"
      ],
      "text/plain": [
       "   TITLE1  TITLE2  RESTAURANT_ID  CUISINE1  CUISINE2  CUISINE3  CUISINE4  \\\n",
       "0       4      15           7196        59        32        67        61   \n",
       "1       4       1          10075         6        60        41        61   \n",
       "2       4      15           8349        72        23        12        32   \n",
       "3      21      15           4876       100        23        65        61   \n",
       "4       8      15          11747        28        65        65        61   \n",
       "\n",
       "   CUISINE5  CUISINE6  CUISINE7  CUISINE8  CITY  LOCALITY  RATING  VOTES  COST  \n",
       "0        58        47        32        15   327       279     3.6   49.0    36  \n",
       "1        58        47        32        15    67      1038     4.2   30.0    43  \n",
       "2        58        47        32        15    67      1093     3.8  221.0    28  \n",
       "3        58        47        32        15   225       127     4.1   24.0    28  \n",
       "4        58        47        32        15   225       613     3.8  165.0    14  "
      ]
     },
     "execution_count": 55,
     "metadata": {},
     "output_type": "execute_result"
    }
   ],
   "source": [
    "train_new.head()"
   ]
  },
  {
   "cell_type": "code",
   "execution_count": 56,
   "metadata": {},
   "outputs": [
    {
     "data": {
      "text/plain": [
       "TITLE1           0\n",
       "TITLE2           0\n",
       "RESTAURANT_ID    0\n",
       "CUISINE1         0\n",
       "CUISINE2         0\n",
       "CUISINE3         0\n",
       "CUISINE4         0\n",
       "CUISINE5         0\n",
       "CUISINE6         0\n",
       "CUISINE7         0\n",
       "CUISINE8         0\n",
       "CITY             0\n",
       "LOCALITY         0\n",
       "RATING           0\n",
       "VOTES            0\n",
       "COST             0\n",
       "dtype: int64"
      ]
     },
     "execution_count": 56,
     "metadata": {},
     "output_type": "execute_result"
    }
   ],
   "source": [
    "train_new=pd.DataFrame(train_new)\n",
    "train_new.isnull().sum()"
   ]
  },
  {
   "cell_type": "code",
   "execution_count": null,
   "metadata": {},
   "outputs": [],
   "source": []
  },
  {
   "cell_type": "markdown",
   "metadata": {},
   "source": [
    "# Splitting the data into input and output variable"
   ]
  },
  {
   "cell_type": "code",
   "execution_count": 57,
   "metadata": {},
   "outputs": [
    {
     "data": {
      "text/html": [
       "<div>\n",
       "<style scoped>\n",
       "    .dataframe tbody tr th:only-of-type {\n",
       "        vertical-align: middle;\n",
       "    }\n",
       "\n",
       "    .dataframe tbody tr th {\n",
       "        vertical-align: top;\n",
       "    }\n",
       "\n",
       "    .dataframe thead th {\n",
       "        text-align: right;\n",
       "    }\n",
       "</style>\n",
       "<table border=\"1\" class=\"dataframe\">\n",
       "  <thead>\n",
       "    <tr style=\"text-align: right;\">\n",
       "      <th></th>\n",
       "      <th>TITLE1</th>\n",
       "      <th>TITLE2</th>\n",
       "      <th>RESTAURANT_ID</th>\n",
       "      <th>CUISINE1</th>\n",
       "      <th>CUISINE2</th>\n",
       "      <th>CUISINE3</th>\n",
       "      <th>CUISINE4</th>\n",
       "      <th>CUISINE5</th>\n",
       "      <th>CUISINE6</th>\n",
       "      <th>CUISINE7</th>\n",
       "      <th>CUISINE8</th>\n",
       "      <th>CITY</th>\n",
       "      <th>LOCALITY</th>\n",
       "      <th>RATING</th>\n",
       "      <th>VOTES</th>\n",
       "    </tr>\n",
       "  </thead>\n",
       "  <tbody>\n",
       "    <tr>\n",
       "      <th>0</th>\n",
       "      <td>4</td>\n",
       "      <td>15</td>\n",
       "      <td>7196</td>\n",
       "      <td>59</td>\n",
       "      <td>32</td>\n",
       "      <td>67</td>\n",
       "      <td>61</td>\n",
       "      <td>58</td>\n",
       "      <td>47</td>\n",
       "      <td>32</td>\n",
       "      <td>15</td>\n",
       "      <td>327</td>\n",
       "      <td>279</td>\n",
       "      <td>3.6</td>\n",
       "      <td>49.0</td>\n",
       "    </tr>\n",
       "    <tr>\n",
       "      <th>1</th>\n",
       "      <td>4</td>\n",
       "      <td>1</td>\n",
       "      <td>10075</td>\n",
       "      <td>6</td>\n",
       "      <td>60</td>\n",
       "      <td>41</td>\n",
       "      <td>61</td>\n",
       "      <td>58</td>\n",
       "      <td>47</td>\n",
       "      <td>32</td>\n",
       "      <td>15</td>\n",
       "      <td>67</td>\n",
       "      <td>1038</td>\n",
       "      <td>4.2</td>\n",
       "      <td>30.0</td>\n",
       "    </tr>\n",
       "    <tr>\n",
       "      <th>2</th>\n",
       "      <td>4</td>\n",
       "      <td>15</td>\n",
       "      <td>8349</td>\n",
       "      <td>72</td>\n",
       "      <td>23</td>\n",
       "      <td>12</td>\n",
       "      <td>32</td>\n",
       "      <td>58</td>\n",
       "      <td>47</td>\n",
       "      <td>32</td>\n",
       "      <td>15</td>\n",
       "      <td>67</td>\n",
       "      <td>1093</td>\n",
       "      <td>3.8</td>\n",
       "      <td>221.0</td>\n",
       "    </tr>\n",
       "    <tr>\n",
       "      <th>3</th>\n",
       "      <td>21</td>\n",
       "      <td>15</td>\n",
       "      <td>4876</td>\n",
       "      <td>100</td>\n",
       "      <td>23</td>\n",
       "      <td>65</td>\n",
       "      <td>61</td>\n",
       "      <td>58</td>\n",
       "      <td>47</td>\n",
       "      <td>32</td>\n",
       "      <td>15</td>\n",
       "      <td>225</td>\n",
       "      <td>127</td>\n",
       "      <td>4.1</td>\n",
       "      <td>24.0</td>\n",
       "    </tr>\n",
       "    <tr>\n",
       "      <th>4</th>\n",
       "      <td>8</td>\n",
       "      <td>15</td>\n",
       "      <td>11747</td>\n",
       "      <td>28</td>\n",
       "      <td>65</td>\n",
       "      <td>65</td>\n",
       "      <td>61</td>\n",
       "      <td>58</td>\n",
       "      <td>47</td>\n",
       "      <td>32</td>\n",
       "      <td>15</td>\n",
       "      <td>225</td>\n",
       "      <td>613</td>\n",
       "      <td>3.8</td>\n",
       "      <td>165.0</td>\n",
       "    </tr>\n",
       "  </tbody>\n",
       "</table>\n",
       "</div>"
      ],
      "text/plain": [
       "   TITLE1  TITLE2  RESTAURANT_ID  CUISINE1  CUISINE2  CUISINE3  CUISINE4  \\\n",
       "0       4      15           7196        59        32        67        61   \n",
       "1       4       1          10075         6        60        41        61   \n",
       "2       4      15           8349        72        23        12        32   \n",
       "3      21      15           4876       100        23        65        61   \n",
       "4       8      15          11747        28        65        65        61   \n",
       "\n",
       "   CUISINE5  CUISINE6  CUISINE7  CUISINE8  CITY  LOCALITY  RATING  VOTES  \n",
       "0        58        47        32        15   327       279     3.6   49.0  \n",
       "1        58        47        32        15    67      1038     4.2   30.0  \n",
       "2        58        47        32        15    67      1093     3.8  221.0  \n",
       "3        58        47        32        15   225       127     4.1   24.0  \n",
       "4        58        47        32        15   225       613     3.8  165.0  "
      ]
     },
     "execution_count": 57,
     "metadata": {},
     "output_type": "execute_result"
    }
   ],
   "source": [
    "x=train_new.drop(columns=['COST'],axis=1)\n",
    "x.head()"
   ]
  },
  {
   "cell_type": "code",
   "execution_count": 58,
   "metadata": {},
   "outputs": [
    {
     "data": {
      "text/plain": [
       "0    36\n",
       "1    43\n",
       "2    28\n",
       "3    28\n",
       "4    14\n",
       "Name: COST, dtype: int64"
      ]
     },
     "execution_count": 58,
     "metadata": {},
     "output_type": "execute_result"
    }
   ],
   "source": [
    "y=train_new['COST']\n",
    "y.head()"
   ]
  },
  {
   "cell_type": "markdown",
   "metadata": {},
   "source": [
    "# Checking the shape of the input and output variable"
   ]
  },
  {
   "cell_type": "code",
   "execution_count": 59,
   "metadata": {},
   "outputs": [
    {
     "name": "stdout",
     "output_type": "stream",
     "text": [
      "(12690, 15) \t\t (12690,)\n"
     ]
    }
   ],
   "source": [
    "print(x.shape,'\\t\\t', y.shape)"
   ]
  },
  {
   "cell_type": "markdown",
   "metadata": {},
   "source": [
    "# Scaling in input variables"
   ]
  },
  {
   "cell_type": "code",
   "execution_count": 60,
   "metadata": {},
   "outputs": [
    {
     "data": {
      "text/plain": [
       "TITLE1             int32\n",
       "TITLE2             int32\n",
       "RESTAURANT_ID      int64\n",
       "CUISINE1           int32\n",
       "CUISINE2           int32\n",
       "CUISINE3           int32\n",
       "CUISINE4           int32\n",
       "CUISINE5           int32\n",
       "CUISINE6           int32\n",
       "CUISINE7           int32\n",
       "CUISINE8           int32\n",
       "CITY               int32\n",
       "LOCALITY           int32\n",
       "RATING           float64\n",
       "VOTES            float64\n",
       "dtype: object"
      ]
     },
     "execution_count": 60,
     "metadata": {},
     "output_type": "execute_result"
    }
   ],
   "source": [
    "x=pd.DataFrame(x)\n",
    "x.dtypes"
   ]
  },
  {
   "cell_type": "code",
   "execution_count": 61,
   "metadata": {},
   "outputs": [],
   "source": [
    "from sklearn.preprocessing import StandardScaler\n",
    "ss=StandardScaler()\n",
    "x=ss.fit_transform(x)"
   ]
  },
  {
   "cell_type": "markdown",
   "metadata": {},
   "source": [
    "# spliting the data into training and testing data"
   ]
  },
  {
   "cell_type": "code",
   "execution_count": 62,
   "metadata": {},
   "outputs": [],
   "source": [
    "from sklearn.model_selection import train_test_split\n",
    "x_train,x_test,y_train,y_test=train_test_split(x,y,test_size=.20,random_state=42)"
   ]
  },
  {
   "cell_type": "markdown",
   "metadata": {},
   "source": [
    "# Importing all the model Library"
   ]
  },
  {
   "cell_type": "code",
   "execution_count": 63,
   "metadata": {},
   "outputs": [],
   "source": [
    "# Libraries for data modelling\n",
    "from sklearn.linear_model import LogisticRegression,Ridge,Lasso,LinearRegression,ElasticNet\n",
    "from sklearn.tree import DecisionTreeRegressor\n",
    "from sklearn.neighbors import KNeighborsRegressor\n",
    "from sklearn.naive_bayes import GaussianNB\n",
    "from sklearn.svm import SVR,SVC\n",
    "\n",
    "#Importinf boosting models\n",
    "from sklearn.ensemble import RandomForestRegressor,AdaBoostRegressor,GradientBoostingRegressor,BaggingRegressor,ExtraTreesRegressor\n",
    "\n",
    "#Importing error metrics\n",
    "from sklearn.metrics import mean_absolute_error,mean_squared_error,r2_score\n",
    "from sklearn.model_selection import GridSearchCV,cross_val_score"
   ]
  },
  {
   "cell_type": "markdown",
   "metadata": {},
   "source": [
    "# All algorithms by using for loop"
   ]
  },
  {
   "cell_type": "code",
   "execution_count": 64,
   "metadata": {},
   "outputs": [
    {
     "name": "stdout",
     "output_type": "stream",
     "text": [
      "\u001b[1mR2 score of Lasso() is : \u001b[0m\n",
      "0.26124877243368694\n",
      "Training r2_score is : 25.959490015205557\n",
      "Testing r2_score is : 26.124877243368694\n",
      "Mean Absolute Eror :  7.083193222771209\n",
      "Mean Squared Eror :  107.0378951768979\n",
      "Root Mean Squared Eror :  10.345912003148776\n",
      "*******************************************************************\n",
      "\n",
      "\n",
      "\u001b[1mR2 score of Ridge() is : \u001b[0m\n",
      "0.2942959464818592\n",
      "Training r2_score is : 28.745952455764634\n",
      "Testing r2_score is : 29.42959464818592\n",
      "Mean Absolute Eror :  6.923539669266433\n",
      "Mean Squared Eror :  102.24967984856067\n",
      "Root Mean Squared Eror :  10.111858377596112\n",
      "*******************************************************************\n",
      "\n",
      "\n",
      "\u001b[1mR2 score of DecisionTreeRegressor() is : \u001b[0m\n",
      "0.5049269758719523\n",
      "Training r2_score is : 100.0\n",
      "Testing r2_score is : 50.49269758719524\n",
      "Mean Absolute Eror :  6.092198581560283\n",
      "Mean Squared Eror :  71.73128447596532\n",
      "Root Mean Squared Eror :  8.469432358544775\n",
      "*******************************************************************\n",
      "\n",
      "\n",
      "\u001b[1mR2 score of KNeighborsRegressor() is : \u001b[0m\n",
      "0.39687675943764555\n",
      "Training r2_score is : 58.57860501742\n",
      "Testing r2_score is : 39.68767594376455\n",
      "Mean Absolute Eror :  6.394089834515366\n",
      "Mean Squared Eror :  87.38671394799054\n",
      "Root Mean Squared Eror :  9.348086111498468\n",
      "*******************************************************************\n",
      "\n",
      "\n",
      "\u001b[1mR2 score of RandomForestRegressor() is : \u001b[0m\n",
      "0.7519294555196487\n",
      "Training r2_score is : 96.50457847669156\n",
      "Testing r2_score is : 75.19294555196487\n",
      "Mean Absolute Eror :  4.420583136327816\n",
      "Mean Squared Eror :  35.94301836091411\n",
      "Root Mean Squared Eror :  5.995249649590424\n",
      "*******************************************************************\n",
      "\n",
      "\n",
      "\u001b[1mR2 score of AdaBoostRegressor() is : \u001b[0m\n",
      "0.46678437074402823\n",
      "Training r2_score is : 50.547587816981974\n",
      "Testing r2_score is : 46.67843707440282\n",
      "Mean Absolute Eror :  6.824937465519795\n",
      "Mean Squared Eror :  77.25777839856266\n",
      "Root Mean Squared Eror :  8.789640402119\n",
      "*******************************************************************\n",
      "\n",
      "\n",
      "\u001b[1mR2 score of GradientBoostingRegressor() is : \u001b[0m\n",
      "0.7216266124283741\n",
      "Training r2_score is : 73.64405273607647\n",
      "Testing r2_score is : 72.16266124283742\n",
      "Mean Absolute Eror :  4.697594705040963\n",
      "Mean Squared Eror :  40.33360672318479\n",
      "Root Mean Squared Eror :  6.350874484918183\n",
      "*******************************************************************\n",
      "\n",
      "\n",
      "\u001b[1mR2 score of BaggingRegressor() is : \u001b[0m\n",
      "0.7214366746184444\n",
      "Training r2_score is : 94.94512768422905\n",
      "Testing r2_score is : 72.14366746184444\n",
      "Mean Absolute Eror :  4.6642237982663515\n",
      "Mean Squared Eror :  40.36112687155241\n",
      "Root Mean Squared Eror :  6.353040757901086\n",
      "*******************************************************************\n",
      "\n",
      "\n",
      "\u001b[1mR2 score of ExtraTreesRegressor() is : \u001b[0m\n",
      "0.7471438505991879\n",
      "Training r2_score is : 100.0\n",
      "Testing r2_score is : 74.71438505991878\n",
      "Mean Absolute Eror :  4.470874704491725\n",
      "Mean Squared Eror :  36.63640614657211\n",
      "Root Mean Squared Eror :  6.052801512239775\n",
      "*******************************************************************\n",
      "\n",
      "\n",
      "\u001b[1mR2 score of LinearRegression() is : \u001b[0m\n",
      "0.2942968921307354\n",
      "Training r2_score is : 28.74595259471563\n",
      "Testing r2_score is : 29.42968921307354\n",
      "Mean Absolute Eror :  6.923551743295157\n",
      "Mean Squared Eror :  102.24954283320082\n",
      "Root Mean Squared Eror :  10.111851602609724\n",
      "*******************************************************************\n",
      "\n",
      "\n",
      "\u001b[1mR2 score of SVR() is : \u001b[0m\n",
      "0.33914507156695217\n",
      "Training r2_score is : 36.46508878860462\n",
      "Testing r2_score is : 33.914507156695215\n",
      "Mean Absolute Eror :  6.38830729120656\n",
      "Mean Squared Eror :  95.75147616306784\n",
      "Root Mean Squared Eror :  9.785268323508959\n",
      "*******************************************************************\n",
      "\n",
      "\n",
      "\u001b[1mR2 score of ElasticNet() is : \u001b[0m\n",
      "0.2511471292660493\n",
      "Training r2_score is : 24.97760062584825\n",
      "Testing r2_score is : 25.11471292660493\n",
      "Mean Absolute Eror :  7.170604055786186\n",
      "Mean Squared Eror :  108.5015253979319\n",
      "Root Mean Squared Eror :  10.416406549186332\n",
      "*******************************************************************\n",
      "\n",
      "\n"
     ]
    }
   ],
   "source": [
    "model=[Lasso(),Ridge(),DecisionTreeRegressor(),KNeighborsRegressor(),RandomForestRegressor(),AdaBoostRegressor(),GradientBoostingRegressor(),BaggingRegressor(),ExtraTreesRegressor(),LinearRegression(),SVR(),ElasticNet()]\n",
    "\n",
    "for m in model:\n",
    "    m.fit(x_train,y_train)\n",
    "    m.score(x_train,y_train)\n",
    "    predm=m.predict(x_test)\n",
    "    pred_train=m.predict(x_train)\n",
    "    pred_test=m.predict(x_test)\n",
    "    print(\"\\033[1m\"+ 'R2 score of',m,'is : ' + \"\\033[0m\" )  # Make the line bold\n",
    "    print(r2_score(y_test,predm))\n",
    "    print(\"Training r2_score is :\",r2_score(y_train,pred_train)*100)\n",
    "    print(\"Testing r2_score is :\",r2_score(y_test,pred_test)*100)\n",
    "    print(\"Mean Absolute Eror : \",mean_absolute_error(y_test,predm))\n",
    "    print(\"Mean Squared Eror : \",mean_squared_error(y_test,predm))\n",
    "    print(\"Root Mean Squared Eror : \",np.sqrt(mean_squared_error(y_test,predm)))\n",
    "    print('*******************************************************************')\n",
    "    print('\\n')"
   ]
  },
  {
   "cell_type": "markdown",
   "metadata": {},
   "source": [
    "# Cross validate all algorithm by using loop"
   ]
  },
  {
   "cell_type": "code",
   "execution_count": 65,
   "metadata": {},
   "outputs": [
    {
     "name": "stdout",
     "output_type": "stream",
     "text": [
      "Model :  Lasso()\n",
      "Mean Score :  0.25561113389168383\n",
      "Standard deviation :  0.02453926443720442\n",
      "*******************************************************************\n",
      "\n",
      "\n",
      "Model :  Ridge()\n",
      "Mean Score :  0.28126739191775024\n",
      "Standard deviation :  0.03973613315677721\n",
      "*******************************************************************\n",
      "\n",
      "\n",
      "Model :  DecisionTreeRegressor()\n",
      "Mean Score :  0.5146455697967228\n",
      "Standard deviation :  0.02709080905087331\n",
      "*******************************************************************\n",
      "\n",
      "\n",
      "Model :  KNeighborsRegressor()\n",
      "Mean Score :  0.37789547804699797\n",
      "Standard deviation :  0.03217423784143938\n",
      "*******************************************************************\n",
      "\n",
      "\n",
      "Model :  RandomForestRegressor()\n",
      "Mean Score :  0.7536610103457542\n",
      "Standard deviation :  0.016546415614778008\n",
      "*******************************************************************\n",
      "\n",
      "\n",
      "Model :  AdaBoostRegressor()\n",
      "Mean Score :  0.3787906865898749\n",
      "Standard deviation :  0.0708044684382932\n",
      "*******************************************************************\n",
      "\n",
      "\n",
      "Model :  GradientBoostingRegressor()\n",
      "Mean Score :  0.7209309641754508\n",
      "Standard deviation :  0.011846459412336263\n",
      "*******************************************************************\n",
      "\n",
      "\n",
      "Model :  BaggingRegressor()\n",
      "Mean Score :  0.728358969000375\n",
      "Standard deviation :  0.020119164422812252\n",
      "*******************************************************************\n",
      "\n",
      "\n",
      "Model :  ExtraTreesRegressor()\n",
      "Mean Score :  0.7495481413500646\n",
      "Standard deviation :  0.016761742824858844\n",
      "*******************************************************************\n",
      "\n",
      "\n",
      "Model :  LinearRegression()\n",
      "Mean Score :  0.2812656090535889\n",
      "Standard deviation :  0.039741848893264\n",
      "*******************************************************************\n",
      "\n",
      "\n",
      "Model :  SVR()\n",
      "Mean Score :  0.34981969833662846\n",
      "Standard deviation :  0.024971710738199593\n",
      "*******************************************************************\n",
      "\n",
      "\n",
      "Model :  ElasticNet()\n",
      "Mean Score :  0.24797024962679587\n",
      "Standard deviation :  0.01984068424094916\n",
      "*******************************************************************\n",
      "\n",
      "\n",
      "Model :  RandomForestRegressor()\n",
      "Mean Score :  0.7536604486966656\n",
      "Standard deviation :  0.016966396163542927\n",
      "*******************************************************************\n",
      "\n",
      "\n"
     ]
    }
   ],
   "source": [
    "model=[Lasso(),Ridge(),DecisionTreeRegressor(),KNeighborsRegressor(),RandomForestRegressor(),AdaBoostRegressor(),GradientBoostingRegressor(),BaggingRegressor(),ExtraTreesRegressor(),LinearRegression(),SVR(),ElasticNet(),RandomForestRegressor()]\n",
    "for m in model:\n",
    "    score=cross_val_score(m,x,y,cv=10,scoring='r2')\n",
    "    print(\"Model : \",m)\n",
    "    print(\"Mean Score : \",score.mean())\n",
    "    print(\"Standard deviation : \",score.std())\n",
    "    print('*******************************************************************')\n",
    "    print('\\n')"
   ]
  },
  {
   "cell_type": "markdown",
   "metadata": {},
   "source": [
    "### RandomForestRegressor() giving best score and r2 score so I choose it as my final model"
   ]
  },
  {
   "cell_type": "markdown",
   "metadata": {},
   "source": [
    "### Using GridSearchCV to find the best parameter"
   ]
  },
  {
   "cell_type": "code",
   "execution_count": 66,
   "metadata": {},
   "outputs": [
    {
     "name": "stdout",
     "output_type": "stream",
     "text": [
      "{'max_depth': 20, 'n_estimators': 600}\n"
     ]
    }
   ],
   "source": [
    "parameters={'n_estimators':[400,500,600,700],'max_depth':[4,5,6,15,20]}\n",
    "RFC=RandomForestRegressor()\n",
    "\n",
    "clf=GridSearchCV(RFC,parameters)\n",
    "clf.fit(x,y)\n",
    "print(clf.best_params_)"
   ]
  },
  {
   "cell_type": "markdown",
   "metadata": {},
   "source": [
    "# Using Random forest regressor with its best parameter"
   ]
  },
  {
   "cell_type": "code",
   "execution_count": 67,
   "metadata": {},
   "outputs": [
    {
     "name": "stdout",
     "output_type": "stream",
     "text": [
      "\n",
      "\n",
      "Mean Absolute Eror :  4.368690676327869\n",
      "Mean Squared Eror :  35.13847661508707\n",
      "Root Mean Squared Eror :  5.927771639923983\n",
      "\n",
      "\n",
      "0.7574822198128535\n"
     ]
    }
   ],
   "source": [
    "rf=RandomForestRegressor(n_estimators=700,criterion='mse', max_depth=20, min_samples_split=15, min_samples_leaf=1, min_weight_fraction_leaf=0.0, max_features='auto', max_leaf_nodes=None, min_impurity_decrease=0.0, min_impurity_split=None, bootstrap=True, oob_score=False, n_jobs=None, random_state=25, verbose=0, warm_start=False, ccp_alpha=0.0, max_samples=None)\n",
    "rf.fit(x_train,y_train)\n",
    "rf.score(x_train,y_train)\n",
    "predrf=rf.predict(x_test)\n",
    "print('\\n')\n",
    "\n",
    "print(\"Mean Absolute Eror : \",mean_absolute_error(y_test,predrf))\n",
    "print(\"Mean Squared Eror : \",mean_squared_error(y_test,predrf))\n",
    "print(\"Root Mean Squared Eror : \",np.sqrt(mean_squared_error(y_test,predrf)))\n",
    "\n",
    "print('\\n')\n",
    "print(r2_score(y_test,predrf))"
   ]
  },
  {
   "cell_type": "markdown",
   "metadata": {},
   "source": [
    "Now our r2 score is increased\n",
    "\n",
    "\n",
    "Before Hyperparameter tuning ------ r2_score is : 0.7541649228514871\n",
    "    \n",
    "    \n",
    "After Hyperparameter tuning ------ r2_score is : 0.7574822198128535\n",
    "    "
   ]
  },
  {
   "cell_type": "markdown",
   "metadata": {},
   "source": [
    "### Using GridSearchCV to find the best parameter"
   ]
  },
  {
   "cell_type": "code",
   "execution_count": 68,
   "metadata": {},
   "outputs": [
    {
     "name": "stdout",
     "output_type": "stream",
     "text": [
      "{'max_depth': 20, 'n_estimators': 700}\n"
     ]
    }
   ],
   "source": [
    "parameters={'n_estimators':[400,500,600,700],'max_depth':[4,5,6,15,20]}\n",
    "ex=ExtraTreesRegressor()\n",
    "\n",
    "clf=GridSearchCV(ex,parameters)\n",
    "clf.fit(x,y)\n",
    "print(clf.best_params_)"
   ]
  },
  {
   "cell_type": "code",
   "execution_count": 69,
   "metadata": {},
   "outputs": [
    {
     "name": "stdout",
     "output_type": "stream",
     "text": [
      "\n",
      "\n",
      "Mean Absolute Eror :  4.8292868400315205\n",
      "Mean Squared Eror :  47.02539545081429\n",
      "Root Mean Squared Eror :  6.857506503884213\n",
      "\n",
      "\n",
      "0.6754414073757089\n"
     ]
    }
   ],
   "source": [
    "rf=RandomForestRegressor(n_estimators=600,criterion='mae', max_depth=20,max_features='log2')\n",
    "rf.fit(x_train,y_train)\n",
    "rf.score(x_train,y_train)\n",
    "predrf=rf.predict(x_test)\n",
    "print('\\n')\n",
    "\n",
    "print(\"Mean Absolute Eror : \",mean_absolute_error(y_test,predrf))\n",
    "print(\"Mean Squared Eror : \",mean_squared_error(y_test,predrf))\n",
    "print(\"Root Mean Squared Eror : \",np.sqrt(mean_squared_error(y_test,predrf)))\n",
    "\n",
    "print('\\n')\n",
    "print(r2_score(y_test,predrf))"
   ]
  },
  {
   "cell_type": "markdown",
   "metadata": {},
   "source": [
    "### Plotting the distribution plot and we find the Gaussian plot"
   ]
  },
  {
   "cell_type": "code",
   "execution_count": 70,
   "metadata": {},
   "outputs": [
    {
     "data": {
      "image/png": "[encoded data removed]",
      "text/plain": [
       "<Figure size 432x288 with 1 Axes>"
      ]
     },
     "metadata": {
      "needs_background": "light"
     },
     "output_type": "display_data"
    }
   ],
   "source": [
    "sns.distplot(y_test-predrf)\n",
    "plt.show()"
   ]
  },
  {
   "cell_type": "markdown",
   "metadata": {},
   "source": [
    "### Scatter plot between test data and prediction"
   ]
  },
  {
   "cell_type": "code",
   "execution_count": 71,
   "metadata": {},
   "outputs": [
    {
     "data": {
      "image/png": "[encoded data removed]",
      "text/plain": [
       "<Figure size 432x288 with 1 Axes>"
      ]
     },
     "metadata": {
      "needs_background": "light"
     },
     "output_type": "display_data"
    }
   ],
   "source": [
    "plt.scatter(y_test,predrf,alpha=0.5)\n",
    "plt.xlabel(\"Y_test\")\n",
    "plt.ylabel(\"Y_pred\")\n",
    "plt.title(\"Scatter plot between test data and predicted data\",fontsize=15)\n",
    "plt.show()"
   ]
  },
  {
   "cell_type": "markdown",
   "metadata": {},
   "source": [
    "### Saving the model"
   ]
  },
  {
   "cell_type": "markdown",
   "metadata": {},
   "source": [
    "### Importinf joblib"
   ]
  },
  {
   "cell_type": "code",
   "execution_count": 72,
   "metadata": {},
   "outputs": [],
   "source": [
    "import joblib"
   ]
  },
  {
   "cell_type": "markdown",
   "metadata": {},
   "source": [
    "### Save the model as a pickle in a file"
   ]
  },
  {
   "cell_type": "code",
   "execution_count": 73,
   "metadata": {},
   "outputs": [
    {
     "data": {
      "text/plain": [
       "['restaurant_cost_Prediction.pkl']"
      ]
     },
     "execution_count": 73,
     "metadata": {},
     "output_type": "execute_result"
    }
   ],
   "source": [
    "joblib.dump(rf,'restaurant_cost_Prediction.pkl')"
   ]
  }
 ],
 "metadata": {
  "kernelspec": {
   "display_name": "Python 3",
   "language": "python",
   "name": "python3"
  },
  "language_info": {
   "codemirror_mode": {
    "name": "ipython",
    "version": 3
   },
   "file_extension": ".py",
   "mimetype": "text/x-python",
   "name": "python",
   "nbconvert_exporter": "python",
   "pygments_lexer": "ipython3",
   "version": "3.8.5"
  }
 },
 "nbformat": 4,
 "nbformat_minor": 4
}
